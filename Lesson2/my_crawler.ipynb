{
 "cells": [
  {
   "cell_type": "markdown",
   "metadata": {},
   "source": [
    "# Intro\n",
    "Besoin métier: Analyser les performances financières des sociétés cotées pour décider d'une stratégie d'investissement."
   ]
  },
  {
   "cell_type": "code",
   "execution_count": 1,
   "metadata": {},
   "outputs": [],
   "source": [
    "from bs4 import BeautifulSoup\n",
    "import requests\n",
    "import unittest"
   ]
  },
  {
   "cell_type": "code",
   "execution_count": 2,
   "metadata": {},
   "outputs": [],
   "source": [
    "def request(cie):\n",
    "    cie_url_map = {\"Airbus\":\"AIR\", \"Danone\":\"DANO\", \"LVMH\":\"LVMH\"}\n",
    "    try:\n",
    "        request = requests.get(\"https://www.reuters.com/finance/stocks/financial-highlights/\"+cie_url_map[cie]+\".PA\")\n",
    "        if request.status_code == 200:\n",
    "            html_doc = request.text\n",
    "            soup = BeautifulSoup(html_doc, 'html.parser')\n",
    "            return soup\n",
    "        else:\n",
    "            print(\"erreur de requete: \"+request.status.code)\n",
    "    except:\n",
    "        print(cie+\" is not in the company list\")"
   ]
  },
  {
   "cell_type": "code",
   "execution_count": 3,
   "metadata": {},
   "outputs": [],
   "source": [
    "def get_quarter_ending_sales(soup):\n",
    "    quarter_ending_dec = soup.find(class_= \"stripe\")\n",
    "    return quarter_ending_dec.text.split(\"\\n\")[2:-1]"
   ]
  },
  {
   "cell_type": "code",
   "execution_count": 4,
   "metadata": {},
   "outputs": [],
   "source": [
    "def print_quarter_ending_sales(soup):\n",
    "    data = get_quarter_ending_sales(soup)\n",
    "    print(\"Vente dernier trimestre 2018 : \\n# of Estimates: \"+data[0]+\"\\nMean: \"+data[1]+\"\\nHigh: \"+data[2]+\"\\nLow: \"+data[3]+\"\\n1 year ago \"+data[4])"
   ]
  },
  {
   "cell_type": "code",
   "execution_count": 5,
   "metadata": {},
   "outputs": [],
   "source": [
    "def get_share_price(soup):\n",
    "    return [clean_string(x.text) for x in soup.find(\"div\",class_=\"sectionQuote nasdaqChange\").findAll(\"span\")[1:]]"
   ]
  },
  {
   "cell_type": "code",
   "execution_count": 6,
   "metadata": {},
   "outputs": [],
   "source": [
    "def get_price_change(soup):\n",
    "    return soup.find(\"div\", class_=\"sectionQuote priceChange\").find(class_=\"valueContentPercent\").text"
   ]
  },
  {
   "cell_type": "code",
   "execution_count": 7,
   "metadata": {},
   "outputs": [],
   "source": [
    "def print_share_price(soup):\n",
    "    price = get_share_price(soup)\n",
    "    print(\"Valeur de l'action \"+price[0]+price[1]+\" à \"+price[2])"
   ]
  },
  {
   "cell_type": "code",
   "execution_count": 18,
   "metadata": {},
   "outputs": [],
   "source": [
    "def print_price_change(soup):\n",
    "    pct = get_price_change(soup)\n",
    "    print(\"Price change percentage :\"+clean_string(pct)[1:-1])"
   ]
  },
  {
   "cell_type": "code",
   "execution_count": 19,
   "metadata": {},
   "outputs": [],
   "source": [
    "def clean_string(string):\n",
    "    string = string.replace(\"\\t\",\"\")\n",
    "    string = string.replace(\"\\n\",\"\")\n",
    "    string = string.replace(\"\\r\",\"\")\n",
    "    string = string.replace(\" \",\"\")\n",
    "    return string"
   ]
  },
  {
   "cell_type": "code",
   "execution_count": 20,
   "metadata": {},
   "outputs": [],
   "source": [
    "def get_dividend_yield(soup):\n",
    "    return soup.find(\"td\", text=\"Dividend Yield\").parent.text.split(\"\\n\")[1:-1]"
   ]
  },
  {
   "cell_type": "code",
   "execution_count": 21,
   "metadata": {},
   "outputs": [],
   "source": [
    "def print_dividend_yield(soup):\n",
    "    col = [\"company\",\"industry\",\"sector\"]\n",
    "    div_yield = get_dividend_yield(soup)\n",
    "    print(\"Dividend Yield: \")\n",
    "    for i in range(3):\n",
    "        print(col[i]+\" : \"+div_yield[i+1])"
   ]
  },
  {
   "cell_type": "code",
   "execution_count": 22,
   "metadata": {},
   "outputs": [],
   "source": [
    "def get_shares_owned(soup):\n",
    "    return soup.find(\"td\", text=\"% Shares Owned:\").parent.text.split(\"\\n\")[1:-1]"
   ]
  },
  {
   "cell_type": "code",
   "execution_count": 23,
   "metadata": {},
   "outputs": [],
   "source": [
    "def print_shares_owned(soup):\n",
    "    shares_owned = get_shares_owned(soup)\n",
    "    print(\" \".join(shares_owned))"
   ]
  },
  {
   "cell_type": "code",
   "execution_count": 24,
   "metadata": {},
   "outputs": [],
   "source": [
    "def get_cie_info(cie):\n",
    "    cie_url_map = {\"Airbus\":\"AIR\", \"Danone\":\"DANO\", \"LVMH\":\"LVMH\"}\n",
    "    soup = request(cie)\n",
    "    print(cie+\"\\n\")\n",
    "    print_quarter_ending_sales(soup)\n",
    "    print(\" \")\n",
    "    print_share_price(soup)\n",
    "    print_price_change(soup)\n",
    "    print(\" \")\n",
    "    print_shares_owned(soup)\n",
    "    print(\" \")\n",
    "    print_dividend_yield(soup)\n",
    "    "
   ]
  },
  {
   "cell_type": "code",
   "execution_count": 25,
   "metadata": {},
   "outputs": [
    {
     "name": "stdout",
     "output_type": "stream",
     "text": [
      "LVMH\n",
      "\n",
      "Vente dernier trimestre 2018 : \n",
      "# of Estimates: 3\n",
      "Mean: 13,667.70\n",
      "High: 13,769.00\n",
      "Low: 13,575.00\n",
      "1 year ago --\n",
      " \n",
      "Valeur de l'action 261.95EUR à 11:38amEDT\n",
      "Price change percentage :-1.26%\n",
      " \n",
      "% Shares Owned: 20.63%\n",
      " \n",
      "Dividend Yield: \n",
      "company : 1.82\n",
      "industry : 1.67\n",
      "sector : 2.15\n"
     ]
    }
   ],
   "source": [
    "get_cie_info(\"LVMH\")"
   ]
  },
  {
   "cell_type": "code",
   "execution_count": 26,
   "metadata": {},
   "outputs": [
    {
     "name": "stdout",
     "output_type": "stream",
     "text": [
      "Airbus\n",
      "\n",
      "Vente dernier trimestre 2018 : \n",
      "# of Estimates: 5\n",
      "Mean: 23,493.00\n",
      "High: 26,073.40\n",
      "Low: 21,431.00\n",
      "1 year ago --\n",
      " \n",
      "Valeur de l'action 97.33EUR à 11:37amEDT\n",
      "Price change percentage :-1.68%\n",
      " \n",
      "% Shares Owned: 43.53%\n",
      " \n",
      "Dividend Yield: \n",
      "company : 1.45\n",
      "industry : 1.34\n",
      "sector : 1.64\n"
     ]
    }
   ],
   "source": [
    "get_cie_info(\"Airbus\")"
   ]
  },
  {
   "cell_type": "code",
   "execution_count": 27,
   "metadata": {},
   "outputs": [
    {
     "name": "stdout",
     "output_type": "stream",
     "text": [
      "Danone\n",
      "\n",
      "Vente dernier trimestre 2018 : \n",
      "# of Estimates: 5\n",
      "Mean: 6,072.60\n",
      "High: 6,142.00\n",
      "Low: 6,025.00\n",
      "1 year ago --\n",
      " \n",
      "Valeur de l'action 63.93EUR à 11:35amEDT\n",
      "Price change percentage :-2.14%\n",
      " \n",
      "% Shares Owned: 50.60%\n",
      " \n",
      "Dividend Yield: \n",
      "company : 2.90\n",
      "industry : 2.78\n",
      "sector : 2.48\n"
     ]
    }
   ],
   "source": [
    "get_cie_info(\"Danone\")"
   ]
  },
  {
   "cell_type": "code",
   "execution_count": null,
   "metadata": {},
   "outputs": [],
   "source": []
  }
 ],
 "metadata": {
  "kernelspec": {
   "display_name": "Python 3",
   "language": "python",
   "name": "python3"
  },
  "language_info": {
   "codemirror_mode": {
    "name": "ipython",
    "version": 3
   },
   "file_extension": ".py",
   "mimetype": "text/x-python",
   "name": "python",
   "nbconvert_exporter": "python",
   "pygments_lexer": "ipython3",
   "version": "3.7.0"
  }
 },
 "nbformat": 4,
 "nbformat_minor": 2
}
