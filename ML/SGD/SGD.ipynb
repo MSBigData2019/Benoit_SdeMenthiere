{
 "cells": [
  {
   "cell_type": "code",
   "execution_count": 3,
   "metadata": {
    "ExecuteTime": {
     "end_time": "2019-01-30T12:45:53.125791Z",
     "start_time": "2019-01-30T12:45:53.119999Z"
    }
   },
   "outputs": [],
   "source": [
    "import numpy as np\n",
    "import matplotlib.pyplot as plt\n",
    "from sklearn import datasets\n",
    "\n",
    "plt.close('all')"
   ]
  },
  {
   "cell_type": "code",
   "execution_count": 4,
   "metadata": {
    "ExecuteTime": {
     "end_time": "2019-01-30T12:46:01.108532Z",
     "start_time": "2019-01-30T12:46:01.096226Z"
    }
   },
   "outputs": [],
   "source": [
    "###############################################################################\n",
    "#            Toy dataset\n",
    "###############################################################################\n",
    "\n",
    "n_samples = 1000\n",
    "n_features = 100\n",
    "n_iter = 1000  # number of iterations\n",
    "gamma = 0.005  # suggested step size\n",
    "\n",
    "\n",
    "def gamma(t):\n",
    "    return 1. / (100 + t)\n",
    "\n",
    "X_toy = np.random.randn(n_samples, n_features)\n",
    "w_target = np.ones(n_features)\n",
    "y_toy = X_toy.dot(w_target)\n",
    "\n",
    "\n",
    "# Initialize w with just zeros\n",
    "w_ini = np.zeros(X_toy.shape[1] + 1)\n",
    "\n",
    "loss = 'mse'\n",
    "# loss = 'hinge'  # QUESTION 4\n"
   ]
  },
  {
   "cell_type": "code",
   "execution_count": 82,
   "metadata": {
    "ExecuteTime": {
     "end_time": "2019-01-30T14:27:09.673660Z",
     "start_time": "2019-01-30T14:27:09.650064Z"
    }
   },
   "outputs": [],
   "source": [
    "\n",
    "############################################################################\n",
    "#                Stochastic gradient\n",
    "############################################################################\n",
    "\n",
    "\n",
    "def decision_function(X, w):\n",
    "    \"\"\" fonction de prediction a partir d'un vecteur directeur\"\"\"\n",
    "    return np.dot(X, w[1:]) + w[0]\n",
    "\n",
    "\n",
    "def predict(X, w):\n",
    "    \"\"\" fonction de prediction de classe a partir d'un vecteur directeur\"\"\"\n",
    "    return np.sign(decision_function(X, w))\n",
    "\n",
    "\n",
    "def stochastic_gradient(X, y, gamma, n_iter, w_ini, loss=\"mse\",\n",
    "                        alpha=0, average=False):\n",
    "    \"\"\"Stochastic gradient algorithm\n",
    "\n",
    "    Parameters\n",
    "    ----------\n",
    "    X : array, shape (n_samples, n_features)\n",
    "        The data\n",
    "    y : array, shape (n_samples,)\n",
    "        The targets.\n",
    "    gamma : float | callable\n",
    "        The step size. Can be a constant float or a function\n",
    "        that allows to have a variable step size (QUESTION 5).\n",
    "    n_iter : int\n",
    "        The number of iterations\n",
    "    w_ini : array, shape (n_features + 1,)\n",
    "        The initial value of w.\n",
    "    loss : str\n",
    "        The type of loss function to use, e.g. \"hinge\" ou \"mse\".\n",
    "    alpha : float\n",
    "        The regularization coefficient.\n",
    "        QUESTION 3\n",
    "    average : bool\n",
    "        Do an averaged stochastic gradient.\n",
    "        QUESTION 2\n",
    "\n",
    "    Returns\n",
    "    -------\n",
    "    w : array, shape (n_features + 1,)\n",
    "        The final weights.\n",
    "    all_w : array, shape (n_iter, n_features + 1)\n",
    "        The weights across iterations.\n",
    "    pobj : array, shape (n_iter,)\n",
    "        The evolution of the cost function across iterations.\n",
    "    \"\"\"\n",
    "    n_samples = X.shape[0]\n",
    "    X = np.concatenate((np.ones((n_samples, 1)), X), axis=1)\n",
    "    all_w = np.zeros((n_iter, w_ini.size))\n",
    "    all_w[0] = w_ini\n",
    "    w = w_ini.copy()\n",
    "    pobj = np.zeros(n_iter)\n",
    "\n",
    "    if not callable(gamma):\n",
    "        # Turn gamma to a function for QUESTION ???\n",
    "\n",
    "        def gamma_func(t):\n",
    "            return gamma\n",
    "    else:\n",
    "        gamma_func = gamma\n",
    "\n",
    "    for t in range(n_iter):\n",
    "        idx = np.random.randint(n_samples)\n",
    "        if loss == \"mse\":\n",
    "            pobj[t] = 0.5 * np.mean((y - np.dot(X, w)) ** 2) + alpha/2 * np.linalg.norm(w)**2\n",
    "            gradient = X[idx] * (X[idx] @ w - y[idx])\n",
    "        elif loss == \"hinge\":\n",
    "            gradient = 0.0; # QUESTION 11\n",
    "            raise NotImplementedError('QUESTION 11')\n",
    "        \n",
    "        if average is True:\n",
    "            raise NotImplementedError('QUESTION 9')\n",
    "\n",
    "        if alpha > 0:\n",
    "            gradient += alpha*w\n",
    "        \n",
    "        w -= gamma_func(t) * gradient\n",
    "        \n",
    "        all_w[t] = w\n",
    "    return w, all_w, pobj, np.dot(X,w)"
   ]
  },
  {
   "cell_type": "code",
   "execution_count": 84,
   "metadata": {
    "ExecuteTime": {
     "end_time": "2019-01-30T14:28:37.878248Z",
     "start_time": "2019-01-30T14:28:37.873844Z"
    }
   },
   "outputs": [],
   "source": [
    "w_ini_toy = np.zeros(X_toy.shape[1] + 1)"
   ]
  },
  {
   "cell_type": "code",
   "execution_count": 85,
   "metadata": {
    "ExecuteTime": {
     "end_time": "2019-01-30T14:28:38.487102Z",
     "start_time": "2019-01-30T14:28:38.413718Z"
    }
   },
   "outputs": [],
   "source": [
    "w, all_w, pobj, pred = stochastic_gradient(X_toy, y_toy, 0.01, 500, w_ini_toy, alpha=0.005)"
   ]
  },
  {
   "cell_type": "code",
   "execution_count": 59,
   "metadata": {
    "ExecuteTime": {
     "end_time": "2019-01-30T14:06:58.749543Z",
     "start_time": "2019-01-30T14:06:58.406990Z"
    }
   },
   "outputs": [
    {
     "data": {
      "text/plain": [
       "[<matplotlib.lines.Line2D at 0x7f12dd54c780>]"
      ]
     },
     "execution_count": 59,
     "metadata": {},
     "output_type": "execute_result"
    },
    {
     "data": {
      "image/png": "[encoded data removed]",
      "text/plain": [
       "<Figure size 432x288 with 1 Axes>"
      ]
     },
     "metadata": {
      "needs_background": "light"
     },
     "output_type": "display_data"
    }
   ],
   "source": [
    "plt.semilogy(pobj)"
   ]
  },
  {
   "cell_type": "code",
   "execution_count": 60,
   "metadata": {
    "ExecuteTime": {
     "end_time": "2019-01-30T14:07:02.599579Z",
     "start_time": "2019-01-30T14:07:02.592741Z"
    }
   },
   "outputs": [
    {
     "data": {
      "text/plain": [
       "0.5459990519732784"
      ]
     },
     "execution_count": 60,
     "metadata": {},
     "output_type": "execute_result"
    }
   ],
   "source": [
    "pobj[-1]"
   ]
  },
  {
   "cell_type": "code",
   "execution_count": 70,
   "metadata": {
    "ExecuteTime": {
     "end_time": "2019-01-30T14:19:17.749801Z",
     "start_time": "2019-01-30T14:19:17.744979Z"
    }
   },
   "outputs": [],
   "source": [
    "X_iris, y_iris = X, y"
   ]
  },
  {
   "cell_type": "code",
   "execution_count": 73,
   "metadata": {
    "ExecuteTime": {
     "end_time": "2019-01-30T14:21:08.023375Z",
     "start_time": "2019-01-30T14:21:08.015793Z"
    }
   },
   "outputs": [
    {
     "data": {
      "text/plain": [
       "(100,)"
      ]
     },
     "execution_count": 73,
     "metadata": {},
     "output_type": "execute_result"
    }
   ],
   "source": [
    "y_iris.shape"
   ]
  },
  {
   "cell_type": "code",
   "execution_count": 76,
   "metadata": {
    "ExecuteTime": {
     "end_time": "2019-01-30T14:24:22.150667Z",
     "start_time": "2019-01-30T14:24:22.144952Z"
    }
   },
   "outputs": [],
   "source": [
    "w_ini = np.zeros(X_iris.shape[1] + 1)"
   ]
  },
  {
   "cell_type": "code",
   "execution_count": 100,
   "metadata": {
    "ExecuteTime": {
     "end_time": "2019-01-30T15:18:38.222828Z",
     "start_time": "2019-01-30T15:18:38.188340Z"
    }
   },
   "outputs": [],
   "source": [
    "w, all_w, pobj, pred = stochastic_gradient(X_iris, y_iris, 0.01, 500, w_ini, alpha=0)"
   ]
  },
  {
   "cell_type": "code",
   "execution_count": 101,
   "metadata": {
    "ExecuteTime": {
     "end_time": "2019-01-30T15:18:38.423946Z",
     "start_time": "2019-01-30T15:18:38.418837Z"
    }
   },
   "outputs": [],
   "source": [
    "# plt.plot(pred)\n",
    "# plt.plot()"
   ]
  },
  {
   "cell_type": "code",
   "execution_count": 102,
   "metadata": {
    "ExecuteTime": {
     "end_time": "2019-01-30T15:18:38.732110Z",
     "start_time": "2019-01-30T15:18:38.587864Z"
    }
   },
   "outputs": [
    {
     "data": {
      "image/png": "[encoded data removed]",
      "text/plain": [
       "<Figure size 432x288 with 1 Axes>"
      ]
     },
     "metadata": {
      "needs_background": "light"
     },
     "output_type": "display_data"
    }
   ],
   "source": [
    "plot_2d(X_iris, y_iris, w)"
   ]
  },
  {
   "cell_type": "code",
   "execution_count": null,
   "metadata": {},
   "outputs": [],
   "source": []
  }
 ],
 "metadata": {
  "kernelspec": {
   "display_name": "Python 3",
   "language": "python",
   "name": "python3"
  },
  "language_info": {
   "codemirror_mode": {
    "name": "ipython",
    "version": 3
   },
   "file_extension": ".py",
   "mimetype": "text/x-python",
   "name": "python",
   "nbconvert_exporter": "python",
   "pygments_lexer": "ipython3",
   "version": "3.7.1"
  },
  "toc": {
   "base_numbering": 1,
   "nav_menu": {},
   "number_sections": true,
   "sideBar": true,
   "skip_h1_title": false,
   "title_cell": "Table of Contents",
   "title_sidebar": "Contents",
   "toc_cell": false,
   "toc_position": {},
   "toc_section_display": true,
   "toc_window_display": false
  }
 },
 "nbformat": 4,
 "nbformat_minor": 2
}
