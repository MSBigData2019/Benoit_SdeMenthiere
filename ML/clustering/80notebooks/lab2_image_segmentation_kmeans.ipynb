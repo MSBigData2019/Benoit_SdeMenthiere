{
 "cells": [
  {
   "cell_type": "markdown",
   "metadata": {},
   "source": [
    "# Image segmentation by $k$-means"
   ]
  },
  {
   "cell_type": "markdown",
   "metadata": {},
   "source": [
    "The objective of this lab is to show how to use $k$-means to segment images. \n",
    "\n",
    "You will find below the code for segmenting a greyscale image into $k$ images, each with a specific grey level, by $k$-means clustering. We refer to each such image as a **mask**."
   ]
  },
  {
   "cell_type": "markdown",
   "metadata": {},
   "source": [
    "## To do\n",
    "\n",
    "1. Apply $k$-means to each mask so as to identify different parts / objects of the original image. Test on various images.\n",
    "2. Adapt the method to color images.\n"
   ]
  },
  {
   "cell_type": "markdown",
   "metadata": {},
   "source": [
    "## Import packages"
   ]
  },
  {
   "cell_type": "code",
   "execution_count": null,
   "metadata": {
    "collapsed": true
   },
   "outputs": [],
   "source": [
    "%pylab inline"
   ]
  },
  {
   "cell_type": "code",
   "execution_count": null,
   "metadata": {
    "collapsed": true
   },
   "outputs": [],
   "source": [
    "import scipy as sp"
   ]
  },
  {
   "cell_type": "markdown",
   "metadata": {},
   "source": [
    "## Load images"
   ]
  },
  {
   "cell_type": "code",
   "execution_count": null,
   "metadata": {
    "collapsed": true
   },
   "outputs": [],
   "source": [
    "# load the raccoon image as a numpy array\n",
    "try:\n",
    "    face = -sp.face(gray=True)\n",
    "except AttributeError:\n",
    "    from scipy import misc\n",
    "    face = -misc.face(gray=True)"
   ]
  },
  {
   "cell_type": "code",
   "execution_count": null,
   "metadata": {
    "collapsed": true,
    "scrolled": true
   },
   "outputs": [],
   "source": [
    "plt.imshow(face, cmap='binary')\n",
    "plt.show()"
   ]
  },
  {
   "cell_type": "code",
   "execution_count": null,
   "metadata": {
    "collapsed": true
   },
   "outputs": [],
   "source": [
    "img = face[:500,400:900]"
   ]
  },
  {
   "cell_type": "code",
   "execution_count": null,
   "metadata": {
    "collapsed": true
   },
   "outputs": [],
   "source": [
    "plt.imshow(img,cmap = 'binary')\n",
    "plt.axis('off')\n",
    "plt.show()"
   ]
  },
  {
   "cell_type": "markdown",
   "metadata": {},
   "source": [
    "## Clustering"
   ]
  },
  {
   "cell_type": "code",
   "execution_count": null,
   "metadata": {
    "collapsed": true
   },
   "outputs": [],
   "source": [
    "class kmeans:\n",
    "    '''k-means algorithm\n",
    "    \n",
    "    Parameters\n",
    "    ----------\n",
    "    n_clusters: int, default: 8\n",
    "        Number of clusters.\n",
    "    \n",
    "    n_init : int, default: 10\n",
    "        Number of instances of k-means, each with different initial centers. \n",
    "        The output is that of the best instance (in terms of inertia).\n",
    "    \n",
    "    n_iter: int, default: 300\n",
    "        Number of iterations for each instance of k-means.\n",
    "        \n",
    "    algorithm: \"random\" or \"++\", default:\"++\"\n",
    "        Algorithm for initializing the centers; \"++\" corresponds to k-means++.\n",
    "    \n",
    "    seed: int, default: None\n",
    "        Seed for the random generation of initial centers.\n",
    "        \n",
    "    verbose : boolean, optional\n",
    "        Verbose mode.\n",
    "    \n",
    "    Attributes\n",
    "    ----------\n",
    "    clusters_: array, shape(n_samples,)\n",
    "        Cluster index of each sample.\n",
    "        \n",
    "    centers_ : array, shape(n_clusters, n_features)\n",
    "        Cluster centers.\n",
    "        \n",
    "    inertias_: array, shape(n_clusters,)\n",
    "        Cluster inertias (sum of square distances).\n",
    "    '''\n",
    "\n",
    "    def __init__(self, n_clusters=8, n_init=10, n_iter=300, algorithm='++', seed=None, verbose = False):\n",
    "        self.n_clusters = n_clusters\n",
    "        self.n_init = n_init\n",
    "        self.n_iter = n_iter\n",
    "        self.algorithm = algorithm\n",
    "        self.seed = seed\n",
    "        self.verbose = verbose\n",
    "        self.labels_ = None\n",
    "        self.centers_ = None\n",
    "        self.inertias_ = None\n",
    "       \n",
    "    def fit(self, X):\n",
    "        '''Cluster data X using k-means\n",
    "    \n",
    "        Parameters\n",
    "        ----------\n",
    "        X: array, shape(n_samples,n_features)\n",
    "            Data to cluster.\n",
    "        '''        \n",
    "        \n",
    "        def init_centers(self, X):\n",
    "            if self.algorithm == 'random':\n",
    "                # random centers \n",
    "                samples = np.random.choice(X.shape[0], size = self.n_clusters)\n",
    "                centers = X[samples]\n",
    "            else:\n",
    "                # k-means++\n",
    "                centers = np.zeros((self.n_clusters, X.shape[1]))\n",
    "                sample = np.random.choice(X.shape[0])\n",
    "                centers[0] = X[sample]\n",
    "                distance = np.full(X.shape[0], np.inf)\n",
    "                for j in range(1,self.n_clusters):\n",
    "                    distance = np.minimum(np.linalg.norm(X - centers[j], axis=1), distance)\n",
    "                    p = np.square(distance) / np.sum(np.square(distance))\n",
    "                    sample = np.random.choice(X.shape[0], p = p)\n",
    "                    centers[j] = X[sample]\n",
    "            return centers\n",
    "        \n",
    "        def compute_centers(self, X, clusters):\n",
    "            centers = []\n",
    "            for j in range(self.n_clusters):\n",
    "                index = np.where(clusters == j)[0]\n",
    "                if len(index):\n",
    "                    centers.append(np.mean(X[index],axis = 0))\n",
    "                else:\n",
    "                    # reinit center in case of empty cluster\n",
    "                    centers.append(X[np.random.choice(X.shape[0])])\n",
    "            return np.array(centers)\n",
    "\n",
    "        def compute_distances(self, X, centers):\n",
    "            distances = []\n",
    "            for j in range(self.n_clusters):\n",
    "                distances.append(np.linalg.norm(X - centers[j], axis=1))\n",
    "            return np.array(distances)\n",
    "            \n",
    "        def compute_inertias(self, X, centers, clusters):\n",
    "            inertias = []\n",
    "            for j in range(self.n_clusters):\n",
    "                index = np.where(clusters == j)[0]\n",
    "                inertias.append(np.sum(np.square(np.linalg.norm(X[index] - centers[j], axis=1))))\n",
    "            return np.array(inertias)\n",
    "    \n",
    "        def single_run_kmeans(self, X):\n",
    "            centers = init_centers(self, X)\n",
    "            for i in range(self.n_iter):\n",
    "                centers_old = centers.copy()\n",
    "                distances = compute_distances(self, X, centers)\n",
    "                clusters = np.argmin(distances, axis=0)  \n",
    "                centers = compute_centers(self, X, clusters)\n",
    "                if np.array_equal(centers, centers_old):\n",
    "                    break\n",
    "            inertias = compute_inertias(self, X, centers, clusters)\n",
    "            return clusters, centers, inertias\n",
    "            \n",
    "        np.random.seed(self.seed)\n",
    "        best_inertia = None\n",
    "        # select the best instance of k-means\n",
    "        for i in range(self.n_init):\n",
    "            if self.verbose:\n",
    "                print(\"Instance \",i)\n",
    "            clusters, centers, inertias = single_run_kmeans(self, X)\n",
    "            inertia = np.sum(inertias)\n",
    "            if best_inertia is None or inertia < best_inertia:\n",
    "                best_clusters = clusters.copy()\n",
    "                best_centers = centers.copy()\n",
    "                best_inertias = inertias.copy()\n",
    "                best_inertia = inertia\n",
    "\n",
    "        self.clusters_ = best_clusters\n",
    "        self.centers_ = best_centers\n",
    "        self.inertias_ = best_inertias\n",
    "        return self"
   ]
  },
  {
   "cell_type": "markdown",
   "metadata": {},
   "source": [
    "## Application to greyscale image"
   ]
  },
  {
   "cell_type": "code",
   "execution_count": null,
   "metadata": {
    "collapsed": true
   },
   "outputs": [],
   "source": [
    "k = 4"
   ]
  },
  {
   "cell_type": "code",
   "execution_count": null,
   "metadata": {
    "collapsed": true
   },
   "outputs": [],
   "source": [
    "km = kmeans(n_clusters=k, n_init=5, n_iter=100, verbose = True)"
   ]
  },
  {
   "cell_type": "code",
   "execution_count": null,
   "metadata": {
    "collapsed": true
   },
   "outputs": [],
   "source": [
    "# 1D array\n",
    "X = img.reshape((-1,1))"
   ]
  },
  {
   "cell_type": "code",
   "execution_count": null,
   "metadata": {
    "collapsed": true
   },
   "outputs": [],
   "source": [
    "km.fit(X)"
   ]
  },
  {
   "cell_type": "code",
   "execution_count": null,
   "metadata": {
    "collapsed": true
   },
   "outputs": [],
   "source": [
    "km.centers_"
   ]
  },
  {
   "cell_type": "code",
   "execution_count": null,
   "metadata": {
    "collapsed": true
   },
   "outputs": [],
   "source": [
    "X_ = km.centers_[km.clusters_]\n",
    "X_ = np.clip(X_.astype('uint8'), 0, 255)"
   ]
  },
  {
   "cell_type": "code",
   "execution_count": null,
   "metadata": {
    "collapsed": true,
    "scrolled": false
   },
   "outputs": [],
   "source": [
    "img_ = X_.reshape(img.shape)"
   ]
  },
  {
   "cell_type": "code",
   "execution_count": null,
   "metadata": {
    "collapsed": true
   },
   "outputs": [],
   "source": [
    "plt.imshow(img_,cmap = 'binary')\n",
    "plt.axis('off')\n",
    "plt.show()"
   ]
  },
  {
   "cell_type": "code",
   "execution_count": null,
   "metadata": {
    "collapsed": true
   },
   "outputs": [],
   "source": [
    "def get_masks(img, km):\n",
    "    masks = []\n",
    "    for j in range(km.n_clusters):\n",
    "        X_ = (km.clusters_ == j) * km.centers_[j]\n",
    "        X_ = np.clip(X_.astype('uint8'), 0, 255)\n",
    "        masks.append(X_.reshape(img.shape))\n",
    "    return masks"
   ]
  },
  {
   "cell_type": "code",
   "execution_count": null,
   "metadata": {
    "collapsed": true
   },
   "outputs": [],
   "source": [
    "masks = get_masks(img, km)"
   ]
  },
  {
   "cell_type": "code",
   "execution_count": null,
   "metadata": {
    "collapsed": true
   },
   "outputs": [],
   "source": [
    "def show_masks(masks):\n",
    "    for img in masks:\n",
    "        plt.figure()\n",
    "        plt.imshow(img, cmap = 'binary', vmin = 0, vmax = 255)\n",
    "        plt.axis('off')\n",
    "        plt.show()"
   ]
  },
  {
   "cell_type": "code",
   "execution_count": null,
   "metadata": {
    "collapsed": true,
    "scrolled": false
   },
   "outputs": [],
   "source": [
    "show_masks(masks)"
   ]
  },
  {
   "cell_type": "markdown",
   "metadata": {},
   "source": [
    "## Application to color image"
   ]
  },
  {
   "cell_type": "code",
   "execution_count": null,
   "metadata": {
    "collapsed": true
   },
   "outputs": [],
   "source": [
    "import os.path\n",
    "from urllib.request import urlretrieve as download"
   ]
  },
  {
   "cell_type": "code",
   "execution_count": null,
   "metadata": {
    "collapsed": true
   },
   "outputs": [],
   "source": [
    "filename = 'flower.jpg'\n",
    "if not os.path.isfile(filename):\n",
    "    download('http://farm3.static.flickr.com/2024/2527645219_a4931e5a26.jpg', filename)"
   ]
  },
  {
   "cell_type": "code",
   "execution_count": null,
   "metadata": {
    "collapsed": true
   },
   "outputs": [],
   "source": [
    "download('http://farm3.static.flickr.com/2024/2527645219_a4931e5a26.jpg', 'flower.jpg')"
   ]
  },
  {
   "cell_type": "code",
   "execution_count": null,
   "metadata": {
    "collapsed": true
   },
   "outputs": [],
   "source": [
    "img = imread('./flower.jpg')\n",
    "# 2D array\n",
    "X = img.reshape(-1,3)"
   ]
  },
  {
   "cell_type": "code",
   "execution_count": null,
   "metadata": {
    "collapsed": true,
    "scrolled": true
   },
   "outputs": [],
   "source": [
    "plt.imshow(img)\n",
    "plt.axis('off')\n",
    "plt.show()"
   ]
  }
 ],
 "metadata": {
  "hide_input": false,
  "kernelspec": {
   "display_name": "Python 3",
   "language": "python",
   "name": "python3"
  },
  "language_info": {
   "codemirror_mode": {
    "name": "ipython",
    "version": 3
   },
   "file_extension": ".py",
   "mimetype": "text/x-python",
   "name": "python",
   "nbconvert_exporter": "python",
   "pygments_lexer": "ipython3",
   "version": "3.6.1"
  }
 },
 "nbformat": 4,
 "nbformat_minor": 2
}
