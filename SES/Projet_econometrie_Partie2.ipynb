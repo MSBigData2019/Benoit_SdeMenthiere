{
 "cells": [
  {
   "cell_type": "markdown",
   "metadata": {
    "colab_type": "text",
    "id": "55StqZwkhr8H"
   },
   "source": [
    "# Partie 2 : Séries Temporelles"
   ]
  },
  {
   "cell_type": "markdown",
   "metadata": {
    "colab_type": "text",
    "id": "2pM4FfEkhyUs"
   },
   "source": [
    "## Imports des librairies"
   ]
  },
  {
   "cell_type": "code",
   "execution_count": 0,
   "metadata": {
    "colab": {},
    "colab_type": "code",
    "id": "tYn6-qNb5vRS"
   },
   "outputs": [],
   "source": [
    "import numpy as np\n",
    "import pandas as pd\n",
    "from google.colab import drive\n",
    "import matplotlib.pyplot as plt\n",
    "from statsmodels.graphics.tsaplots import plot_acf\n",
    "from statsmodels.graphics.tsaplots import plot_pacf"
   ]
  },
  {
   "cell_type": "code",
   "execution_count": 0,
   "metadata": {
    "colab": {
     "base_uri": "https://localhost:8080/",
     "height": 122
    },
    "colab_type": "code",
    "id": "4yjLktYd9tOJ",
    "outputId": "9e284862-89d5-42d3-d6a8-3a89bd6ccc9d"
   },
   "outputs": [
    {
     "name": "stdout",
     "output_type": "stream",
     "text": [
      "Go to this URL in a browser: https://accounts.google.com/o/oauth2/auth?client_id=947318989803-6bn6qk8qdgf4n4g3pfee6491hc0brc4i.apps.googleusercontent.com&redirect_uri=urn%3Aietf%3Awg%3Aoauth%3A2.0%3Aoob&scope=email%20https%3A%2F%2Fwww.googleapis.com%2Fauth%2Fdocs.test%20https%3A%2F%2Fwww.googleapis.com%2Fauth%2Fdrive%20https%3A%2F%2Fwww.googleapis.com%2Fauth%2Fdrive.photos.readonly%20https%3A%2F%2Fwww.googleapis.com%2Fauth%2Fpeopleapi.readonly&response_type=code\n",
      "\n",
      "Enter your authorization code:\n",
      "··········\n",
      "Mounted at /content/gdrive/\n"
     ]
    }
   ],
   "source": [
    "drive.mount('/content/gdrive/')\n",
    "path = '/content/gdrive/My Drive/Colab Notebooks/Econometrie/'"
   ]
  },
  {
   "cell_type": "markdown",
   "metadata": {
    "colab_type": "text",
    "id": "iZ76Axxzh-F4"
   },
   "source": [
    "## Lecture du fichier quarterly.xls et premières représentations"
   ]
  },
  {
   "cell_type": "code",
   "execution_count": 0,
   "metadata": {
    "colab": {},
    "colab_type": "code",
    "id": "yLKpN-Jb6JUN"
   },
   "outputs": [],
   "source": [
    "quarterly = pd.read_excel(path+'quarterly.xls')"
   ]
  },
  {
   "cell_type": "code",
   "execution_count": 0,
   "metadata": {
    "colab": {
     "base_uri": "https://localhost:8080/",
     "height": 317
    },
    "colab_type": "code",
    "id": "obYUx1eW6vAY",
    "outputId": "b04dc7b8-6586-49cc-8514-9f685b75d261"
   },
   "outputs": [
    {
     "data": {
      "text/html": [
       "<div>\n",
       "<style scoped>\n",
       "    .dataframe tbody tr th:only-of-type {\n",
       "        vertical-align: middle;\n",
       "    }\n",
       "\n",
       "    .dataframe tbody tr th {\n",
       "        vertical-align: top;\n",
       "    }\n",
       "\n",
       "    .dataframe thead th {\n",
       "        text-align: right;\n",
       "    }\n",
       "</style>\n",
       "<table border=\"1\" class=\"dataframe\">\n",
       "  <thead>\n",
       "    <tr style=\"text-align: right;\">\n",
       "      <th></th>\n",
       "      <th>FFR</th>\n",
       "      <th>Tbill</th>\n",
       "      <th>Tb1yr</th>\n",
       "      <th>r5</th>\n",
       "      <th>r10</th>\n",
       "      <th>PPINSA</th>\n",
       "      <th>Finished</th>\n",
       "      <th>CPI</th>\n",
       "      <th>CPICORE</th>\n",
       "      <th>M1NSA</th>\n",
       "      <th>M2SA</th>\n",
       "      <th>M2NSA</th>\n",
       "      <th>Unemp</th>\n",
       "      <th>IndProd</th>\n",
       "      <th>RGDP</th>\n",
       "      <th>Potent</th>\n",
       "      <th>Deflator</th>\n",
       "      <th>Curr</th>\n",
       "    </tr>\n",
       "  </thead>\n",
       "  <tbody>\n",
       "    <tr>\n",
       "      <th>count</th>\n",
       "      <td>212.000000</td>\n",
       "      <td>212.000000</td>\n",
       "      <td>212.000000</td>\n",
       "      <td>212.000000</td>\n",
       "      <td>212.000000</td>\n",
       "      <td>212.000000</td>\n",
       "      <td>212.000000</td>\n",
       "      <td>212.000000</td>\n",
       "      <td>212.000000</td>\n",
       "      <td>212.000000</td>\n",
       "      <td>212.000000</td>\n",
       "      <td>212.000000</td>\n",
       "      <td>212.000000</td>\n",
       "      <td>212.000000</td>\n",
       "      <td>212.000000</td>\n",
       "      <td>212.000000</td>\n",
       "      <td>212.000000</td>\n",
       "      <td>212.000000</td>\n",
       "    </tr>\n",
       "    <tr>\n",
       "      <th>mean</th>\n",
       "      <td>5.545755</td>\n",
       "      <td>5.032547</td>\n",
       "      <td>5.578774</td>\n",
       "      <td>6.245047</td>\n",
       "      <td>6.541321</td>\n",
       "      <td>98.845896</td>\n",
       "      <td>99.974245</td>\n",
       "      <td>113.182028</td>\n",
       "      <td>61.489858</td>\n",
       "      <td>754.642877</td>\n",
       "      <td>9409.788208</td>\n",
       "      <td>3136.539953</td>\n",
       "      <td>6.081981</td>\n",
       "      <td>60.751840</td>\n",
       "      <td>7664.750472</td>\n",
       "      <td>7764.872170</td>\n",
       "      <td>61.529608</td>\n",
       "      <td>327.911844</td>\n",
       "    </tr>\n",
       "    <tr>\n",
       "      <th>std</th>\n",
       "      <td>3.515244</td>\n",
       "      <td>2.993406</td>\n",
       "      <td>3.178313</td>\n",
       "      <td>2.888455</td>\n",
       "      <td>2.690470</td>\n",
       "      <td>50.408646</td>\n",
       "      <td>49.133170</td>\n",
       "      <td>65.310267</td>\n",
       "      <td>31.866973</td>\n",
       "      <td>544.198580</td>\n",
       "      <td>7944.482470</td>\n",
       "      <td>2647.971988</td>\n",
       "      <td>1.614394</td>\n",
       "      <td>23.479552</td>\n",
       "      <td>3390.652274</td>\n",
       "      <td>3511.536714</td>\n",
       "      <td>31.594753</td>\n",
       "      <td>309.019367</td>\n",
       "    </tr>\n",
       "    <tr>\n",
       "      <th>min</th>\n",
       "      <td>0.070000</td>\n",
       "      <td>0.010000</td>\n",
       "      <td>0.110000</td>\n",
       "      <td>0.670000</td>\n",
       "      <td>1.640000</td>\n",
       "      <td>31.470000</td>\n",
       "      <td>33.200000</td>\n",
       "      <td>29.400000</td>\n",
       "      <td>18.920000</td>\n",
       "      <td>138.400000</td>\n",
       "      <td>896.100000</td>\n",
       "      <td>299.400000</td>\n",
       "      <td>3.400000</td>\n",
       "      <td>22.130000</td>\n",
       "      <td>2800.200000</td>\n",
       "      <td>2824.200000</td>\n",
       "      <td>18.521000</td>\n",
       "      <td>31.830000</td>\n",
       "    </tr>\n",
       "    <tr>\n",
       "      <th>25%</th>\n",
       "      <td>3.247500</td>\n",
       "      <td>3.077500</td>\n",
       "      <td>3.530000</td>\n",
       "      <td>4.120000</td>\n",
       "      <td>4.297500</td>\n",
       "      <td>44.015000</td>\n",
       "      <td>44.710000</td>\n",
       "      <td>43.705000</td>\n",
       "      <td>27.227500</td>\n",
       "      <td>253.097500</td>\n",
       "      <td>2469.775000</td>\n",
       "      <td>825.270000</td>\n",
       "      <td>4.970000</td>\n",
       "      <td>41.550000</td>\n",
       "      <td>4818.650000</td>\n",
       "      <td>4706.400000</td>\n",
       "      <td>27.721750</td>\n",
       "      <td>66.345250</td>\n",
       "    </tr>\n",
       "    <tr>\n",
       "      <th>50%</th>\n",
       "      <td>5.250000</td>\n",
       "      <td>4.955000</td>\n",
       "      <td>5.440000</td>\n",
       "      <td>6.020000</td>\n",
       "      <td>6.180000</td>\n",
       "      <td>103.350000</td>\n",
       "      <td>104.330000</td>\n",
       "      <td>109.635000</td>\n",
       "      <td>61.960000</td>\n",
       "      <td>665.300000</td>\n",
       "      <td>7848.100000</td>\n",
       "      <td>2614.835000</td>\n",
       "      <td>5.715000</td>\n",
       "      <td>55.200000</td>\n",
       "      <td>7078.950000</td>\n",
       "      <td>7141.400000</td>\n",
       "      <td>62.964500</td>\n",
       "      <td>198.812500</td>\n",
       "    </tr>\n",
       "    <tr>\n",
       "      <th>75%</th>\n",
       "      <td>7.395000</td>\n",
       "      <td>6.412500</td>\n",
       "      <td>7.302500</td>\n",
       "      <td>7.772500</td>\n",
       "      <td>7.945000</td>\n",
       "      <td>128.447500</td>\n",
       "      <td>133.885000</td>\n",
       "      <td>167.507500</td>\n",
       "      <td>89.822500</td>\n",
       "      <td>1134.432500</td>\n",
       "      <td>13640.550000</td>\n",
       "      <td>4536.955000</td>\n",
       "      <td>7.130000</td>\n",
       "      <td>86.425000</td>\n",
       "      <td>10859.225000</td>\n",
       "      <td>10596.050000</td>\n",
       "      <td>87.074750</td>\n",
       "      <td>544.728750</td>\n",
       "    </tr>\n",
       "    <tr>\n",
       "      <th>max</th>\n",
       "      <td>17.780000</td>\n",
       "      <td>15.050000</td>\n",
       "      <td>16.320000</td>\n",
       "      <td>15.430000</td>\n",
       "      <td>14.850000</td>\n",
       "      <td>203.830000</td>\n",
       "      <td>196.200000</td>\n",
       "      <td>231.280000</td>\n",
       "      <td>114.180000</td>\n",
       "      <td>2436.730000</td>\n",
       "      <td>30938.800000</td>\n",
       "      <td>10319.600000</td>\n",
       "      <td>10.670000</td>\n",
       "      <td>100.510000</td>\n",
       "      <td>13665.400000</td>\n",
       "      <td>14505.400000</td>\n",
       "      <td>116.089000</td>\n",
       "      <td>1147.623000</td>\n",
       "    </tr>\n",
       "  </tbody>\n",
       "</table>\n",
       "</div>"
      ],
      "text/plain": [
       "              FFR       Tbill       Tb1yr          r5         r10      PPINSA  \\\n",
       "count  212.000000  212.000000  212.000000  212.000000  212.000000  212.000000   \n",
       "mean     5.545755    5.032547    5.578774    6.245047    6.541321   98.845896   \n",
       "std      3.515244    2.993406    3.178313    2.888455    2.690470   50.408646   \n",
       "min      0.070000    0.010000    0.110000    0.670000    1.640000   31.470000   \n",
       "25%      3.247500    3.077500    3.530000    4.120000    4.297500   44.015000   \n",
       "50%      5.250000    4.955000    5.440000    6.020000    6.180000  103.350000   \n",
       "75%      7.395000    6.412500    7.302500    7.772500    7.945000  128.447500   \n",
       "max     17.780000   15.050000   16.320000   15.430000   14.850000  203.830000   \n",
       "\n",
       "         Finished         CPI     CPICORE        M1NSA          M2SA  \\\n",
       "count  212.000000  212.000000  212.000000   212.000000    212.000000   \n",
       "mean    99.974245  113.182028   61.489858   754.642877   9409.788208   \n",
       "std     49.133170   65.310267   31.866973   544.198580   7944.482470   \n",
       "min     33.200000   29.400000   18.920000   138.400000    896.100000   \n",
       "25%     44.710000   43.705000   27.227500   253.097500   2469.775000   \n",
       "50%    104.330000  109.635000   61.960000   665.300000   7848.100000   \n",
       "75%    133.885000  167.507500   89.822500  1134.432500  13640.550000   \n",
       "max    196.200000  231.280000  114.180000  2436.730000  30938.800000   \n",
       "\n",
       "              M2NSA       Unemp     IndProd          RGDP        Potent  \\\n",
       "count    212.000000  212.000000  212.000000    212.000000    212.000000   \n",
       "mean    3136.539953    6.081981   60.751840   7664.750472   7764.872170   \n",
       "std     2647.971988    1.614394   23.479552   3390.652274   3511.536714   \n",
       "min      299.400000    3.400000   22.130000   2800.200000   2824.200000   \n",
       "25%      825.270000    4.970000   41.550000   4818.650000   4706.400000   \n",
       "50%     2614.835000    5.715000   55.200000   7078.950000   7141.400000   \n",
       "75%     4536.955000    7.130000   86.425000  10859.225000  10596.050000   \n",
       "max    10319.600000   10.670000  100.510000  13665.400000  14505.400000   \n",
       "\n",
       "         Deflator         Curr  \n",
       "count  212.000000   212.000000  \n",
       "mean    61.529608   327.911844  \n",
       "std     31.594753   309.019367  \n",
       "min     18.521000    31.830000  \n",
       "25%     27.721750    66.345250  \n",
       "50%     62.964500   198.812500  \n",
       "75%     87.074750   544.728750  \n",
       "max    116.089000  1147.623000  "
      ]
     },
     "execution_count": 5,
     "metadata": {
      "tags": []
     },
     "output_type": "execute_result"
    }
   ],
   "source": [
    "quarterly.describe()"
   ]
  },
  {
   "cell_type": "code",
   "execution_count": 0,
   "metadata": {
    "colab": {
     "base_uri": "https://localhost:8080/",
     "height": 224
    },
    "colab_type": "code",
    "id": "AeBHUlFf68bq",
    "outputId": "e64cf615-fe47-4989-8fef-f5956dd01ede"
   },
   "outputs": [
    {
     "data": {
      "text/html": [
       "<div>\n",
       "<style scoped>\n",
       "    .dataframe tbody tr th:only-of-type {\n",
       "        vertical-align: middle;\n",
       "    }\n",
       "\n",
       "    .dataframe tbody tr th {\n",
       "        vertical-align: top;\n",
       "    }\n",
       "\n",
       "    .dataframe thead th {\n",
       "        text-align: right;\n",
       "    }\n",
       "</style>\n",
       "<table border=\"1\" class=\"dataframe\">\n",
       "  <thead>\n",
       "    <tr style=\"text-align: right;\">\n",
       "      <th></th>\n",
       "      <th>DATE</th>\n",
       "      <th>FFR</th>\n",
       "      <th>Tbill</th>\n",
       "      <th>Tb1yr</th>\n",
       "      <th>r5</th>\n",
       "      <th>r10</th>\n",
       "      <th>PPINSA</th>\n",
       "      <th>Finished</th>\n",
       "      <th>CPI</th>\n",
       "      <th>CPICORE</th>\n",
       "      <th>M1NSA</th>\n",
       "      <th>M2SA</th>\n",
       "      <th>M2NSA</th>\n",
       "      <th>Unemp</th>\n",
       "      <th>IndProd</th>\n",
       "      <th>RGDP</th>\n",
       "      <th>Potent</th>\n",
       "      <th>Deflator</th>\n",
       "      <th>Curr</th>\n",
       "    </tr>\n",
       "  </thead>\n",
       "  <tbody>\n",
       "    <tr>\n",
       "      <th>0</th>\n",
       "      <td>1960Q1</td>\n",
       "      <td>3.93</td>\n",
       "      <td>3.87</td>\n",
       "      <td>4.57</td>\n",
       "      <td>4.64</td>\n",
       "      <td>4.49</td>\n",
       "      <td>31.67</td>\n",
       "      <td>33.20</td>\n",
       "      <td>29.40</td>\n",
       "      <td>18.92</td>\n",
       "      <td>140.53</td>\n",
       "      <td>896.1</td>\n",
       "      <td>299.40</td>\n",
       "      <td>5.13</td>\n",
       "      <td>23.93</td>\n",
       "      <td>2845.3</td>\n",
       "      <td>2824.2</td>\n",
       "      <td>18.521</td>\n",
       "      <td>31.830</td>\n",
       "    </tr>\n",
       "    <tr>\n",
       "      <th>1</th>\n",
       "      <td>1960Q2</td>\n",
       "      <td>3.70</td>\n",
       "      <td>2.99</td>\n",
       "      <td>3.87</td>\n",
       "      <td>4.30</td>\n",
       "      <td>4.26</td>\n",
       "      <td>31.73</td>\n",
       "      <td>33.40</td>\n",
       "      <td>29.57</td>\n",
       "      <td>19.00</td>\n",
       "      <td>138.40</td>\n",
       "      <td>903.3</td>\n",
       "      <td>300.03</td>\n",
       "      <td>5.23</td>\n",
       "      <td>23.41</td>\n",
       "      <td>2832.0</td>\n",
       "      <td>2851.2</td>\n",
       "      <td>18.579</td>\n",
       "      <td>31.862</td>\n",
       "    </tr>\n",
       "    <tr>\n",
       "      <th>2</th>\n",
       "      <td>1960Q3</td>\n",
       "      <td>2.94</td>\n",
       "      <td>2.36</td>\n",
       "      <td>3.07</td>\n",
       "      <td>3.67</td>\n",
       "      <td>3.83</td>\n",
       "      <td>31.63</td>\n",
       "      <td>33.43</td>\n",
       "      <td>29.59</td>\n",
       "      <td>19.07</td>\n",
       "      <td>139.60</td>\n",
       "      <td>919.4</td>\n",
       "      <td>305.50</td>\n",
       "      <td>5.53</td>\n",
       "      <td>23.02</td>\n",
       "      <td>2836.6</td>\n",
       "      <td>2878.7</td>\n",
       "      <td>18.648</td>\n",
       "      <td>32.217</td>\n",
       "    </tr>\n",
       "    <tr>\n",
       "      <th>3</th>\n",
       "      <td>1960Q4</td>\n",
       "      <td>2.30</td>\n",
       "      <td>2.31</td>\n",
       "      <td>2.99</td>\n",
       "      <td>3.75</td>\n",
       "      <td>3.89</td>\n",
       "      <td>31.70</td>\n",
       "      <td>33.67</td>\n",
       "      <td>29.78</td>\n",
       "      <td>19.14</td>\n",
       "      <td>142.67</td>\n",
       "      <td>932.8</td>\n",
       "      <td>312.30</td>\n",
       "      <td>6.27</td>\n",
       "      <td>22.47</td>\n",
       "      <td>2800.2</td>\n",
       "      <td>2906.7</td>\n",
       "      <td>18.700</td>\n",
       "      <td>32.624</td>\n",
       "    </tr>\n",
       "    <tr>\n",
       "      <th>4</th>\n",
       "      <td>1961Q1</td>\n",
       "      <td>2.00</td>\n",
       "      <td>2.35</td>\n",
       "      <td>2.87</td>\n",
       "      <td>3.64</td>\n",
       "      <td>3.79</td>\n",
       "      <td>31.80</td>\n",
       "      <td>33.63</td>\n",
       "      <td>29.84</td>\n",
       "      <td>19.17</td>\n",
       "      <td>142.23</td>\n",
       "      <td>948.9</td>\n",
       "      <td>317.10</td>\n",
       "      <td>6.80</td>\n",
       "      <td>22.13</td>\n",
       "      <td>2816.9</td>\n",
       "      <td>2934.8</td>\n",
       "      <td>18.743</td>\n",
       "      <td>32.073</td>\n",
       "    </tr>\n",
       "  </tbody>\n",
       "</table>\n",
       "</div>"
      ],
      "text/plain": [
       "     DATE   FFR  Tbill  Tb1yr    r5   r10  PPINSA  Finished    CPI  CPICORE  \\\n",
       "0  1960Q1  3.93   3.87   4.57  4.64  4.49   31.67     33.20  29.40    18.92   \n",
       "1  1960Q2  3.70   2.99   3.87  4.30  4.26   31.73     33.40  29.57    19.00   \n",
       "2  1960Q3  2.94   2.36   3.07  3.67  3.83   31.63     33.43  29.59    19.07   \n",
       "3  1960Q4  2.30   2.31   2.99  3.75  3.89   31.70     33.67  29.78    19.14   \n",
       "4  1961Q1  2.00   2.35   2.87  3.64  3.79   31.80     33.63  29.84    19.17   \n",
       "\n",
       "    M1NSA   M2SA   M2NSA  Unemp  IndProd    RGDP  Potent  Deflator    Curr  \n",
       "0  140.53  896.1  299.40   5.13    23.93  2845.3  2824.2    18.521  31.830  \n",
       "1  138.40  903.3  300.03   5.23    23.41  2832.0  2851.2    18.579  31.862  \n",
       "2  139.60  919.4  305.50   5.53    23.02  2836.6  2878.7    18.648  32.217  \n",
       "3  142.67  932.8  312.30   6.27    22.47  2800.2  2906.7    18.700  32.624  \n",
       "4  142.23  948.9  317.10   6.80    22.13  2816.9  2934.8    18.743  32.073  "
      ]
     },
     "execution_count": 6,
     "metadata": {
      "tags": []
     },
     "output_type": "execute_result"
    }
   ],
   "source": [
    "quarterly.head()"
   ]
  },
  {
   "cell_type": "markdown",
   "metadata": {
    "colab_type": "text",
    "id": "_7mGR2vgieU-"
   },
   "source": [
    "## Inflation"
   ]
  },
  {
   "cell_type": "code",
   "execution_count": 0,
   "metadata": {
    "colab": {},
    "colab_type": "code",
    "id": "7scX63QM7SMa"
   },
   "outputs": [],
   "source": [
    "infla = pd.Series((quarterly['CPI'].iloc[1:]-list(quarterly['CPI'].iloc[:-1]))/list(quarterly['CPI'].iloc[:-1])*100)"
   ]
  },
  {
   "cell_type": "code",
   "execution_count": 0,
   "metadata": {
    "colab": {},
    "colab_type": "code",
    "id": "PEP618q78day"
   },
   "outputs": [],
   "source": [
    "infla = pd.concat([pd.Series(1),infla])"
   ]
  },
  {
   "cell_type": "code",
   "execution_count": 0,
   "metadata": {
    "colab": {},
    "colab_type": "code",
    "id": "i8nvWQNw8wXm"
   },
   "outputs": [],
   "source": [
    "quarterly = quarterly.assign(infla=infla)"
   ]
  },
  {
   "cell_type": "code",
   "execution_count": 0,
   "metadata": {
    "colab": {
     "base_uri": "https://localhost:8080/",
     "height": 269
    },
    "colab_type": "code",
    "id": "tVrsAJYz8zk-",
    "outputId": "83207d16-ea2c-4e35-bba3-b1e814b099b8"
   },
   "outputs": [
    {
     "data": {
      "image/png": "[encoded data removed]",
      "text/plain": [
       "<Figure size 432x288 with 1 Axes>"
      ]
     },
     "metadata": {
      "tags": []
     },
     "output_type": "display_data"
    }
   ],
   "source": [
    "plt.plot(quarterly['DATE'].iloc[1:],quarterly['infla'].iloc[1:])\n",
    "plt.show()"
   ]
  },
  {
   "cell_type": "code",
   "execution_count": 0,
   "metadata": {
    "colab": {
     "base_uri": "https://localhost:8080/",
     "height": 281
    },
    "colab_type": "code",
    "id": "I7HoxXPC9cWJ",
    "outputId": "8e4a0673-5177-4217-d0ee-302a35e097c4"
   },
   "outputs": [
    {
     "data": {
      "image/png": "[encoded data removed]",
      "text/plain": [
       "<Figure size 432x288 with 1 Axes>"
      ]
     },
     "metadata": {
      "tags": []
     },
     "output_type": "display_data"
    }
   ],
   "source": [
    "plot_acf(quarterly['infla'].iloc[1:])\n",
    "plt.show()"
   ]
  },
  {
   "cell_type": "code",
   "execution_count": 0,
   "metadata": {
    "colab": {
     "base_uri": "https://localhost:8080/",
     "height": 281
    },
    "colab_type": "code",
    "id": "Eapqypu999He",
    "outputId": "0adc0028-1d62-4760-d266-71253eec7fef"
   },
   "outputs": [
    {
     "data": {
      "image/png": "[encoded data removed]",
      "text/plain": [
       "<Figure size 432x288 with 1 Axes>"
      ]
     },
     "metadata": {
      "tags": []
     },
     "output_type": "display_data"
    }
   ],
   "source": [
    "plot_pacf(quarterly['infla'].iloc[1:],method='ywm')\n",
    "plt.show()"
   ]
  },
  {
   "cell_type": "markdown",
   "metadata": {
    "colab_type": "text",
    "id": "Mq_9OSRkvh5F"
   },
   "source": [
    "### AIC"
   ]
  },
  {
   "cell_type": "code",
   "execution_count": 0,
   "metadata": {
    "colab": {
     "base_uri": "https://localhost:8080/",
     "height": 85
    },
    "colab_type": "code",
    "id": "LPhwaJnys00-",
    "outputId": "c0e717be-2e69-4a7b-9247-c4c4a398a3bf"
   },
   "outputs": [
    {
     "name": "stdout",
     "output_type": "stream",
     "text": [
      "-1.3638872941070408\n",
      "-1.378702687381504\n",
      "-1.457680277685082\n",
      "-1.44725221811162\n"
     ]
    }
   ],
   "source": [
    "intersect = pd.Series(np.ones(infla.iloc[4:].reset_index(drop=True).shape[0]))\n",
    "x = infla.iloc[4:].reset_index(drop=True)\n",
    "x_lag1 = infla.iloc[3:-1].reset_index(drop=True)\n",
    "x_lag2 = infla.iloc[2:-2].reset_index(drop=True)\n",
    "x_lag3 = infla.iloc[1:-3].reset_index(drop=True)\n",
    "x_lag4 = infla.iloc[0:-4].reset_index(drop=True)\n",
    "\n",
    "y1 = x\n",
    "X1 = pd.concat([intersect,x_lag1],axis=1,ignore_index=True)\n",
    "k1 = 1\n",
    "theta1 = np.linalg.inv(X1.T@X1)@X1.T@y1\n",
    "u1 = y1 - X1@theta1\n",
    "sig21 = u1.T@u1 / (x.shape[0]- k1 -1)\n",
    "AIC1 = np.log(sig21) + 2*k1 / x.shape[0]\n",
    "\n",
    "y2 = x\n",
    "X2 = pd.concat([intersect,x_lag1,x_lag2],axis=1,ignore_index=True)\n",
    "k2 = 2\n",
    "theta2 = np.linalg.inv(X2.T@X2)@X2.T@y2\n",
    "u2 = y2 - X2@theta2\n",
    "sig22 = u2.T@u2 / (x.shape[0]-k2-1)\n",
    "AIC2 = np.log(sig22) + 2*k2 / x.shape[0]\n",
    "\n",
    "y3 = x\n",
    "X3 = pd.concat([intersect,x_lag1,x_lag2,x_lag3],axis=1,ignore_index=True)\n",
    "k3 = 3\n",
    "theta3 = np.linalg.inv(X3.T@X3)@X3.T@y3\n",
    "u3 = y3 - X3@theta3\n",
    "sig23 = u3.T@u3 / (x.shape[0]-k3-1)\n",
    "AIC3 = np.log(sig23) + 2*k3 / x.shape[0]\n",
    "\n",
    "y4 = x\n",
    "X4 = pd.concat([intersect,x_lag1,x_lag2,x_lag3,x_lag4],axis=1,ignore_index=True)\n",
    "k4 = 4\n",
    "theta4 = np.linalg.inv(X4.T@X4)@X4.T@y4\n",
    "u4 = y4 - X4@theta4\n",
    "sig24 = u4.T@u4 / (x.shape[0]-k4-1)\n",
    "AIC4 = np.log(sig24) + 2*k4 / x.shape[0]\n",
    "\n",
    "print(AIC1)\n",
    "print(AIC2)\n",
    "print(AIC3)\n",
    "print(AIC4)\n"
   ]
  },
  {
   "cell_type": "markdown",
   "metadata": {
    "colab_type": "text",
    "id": "3rgaGtIjitwg"
   },
   "source": [
    "On teste alors une modélisation AR(3)"
   ]
  },
  {
   "cell_type": "code",
   "execution_count": 0,
   "metadata": {
    "colab": {},
    "colab_type": "code",
    "id": "HclgwA5tj7W_"
   },
   "outputs": [],
   "source": [
    "intersect = pd.Series(np.ones(infla.iloc[4:].reset_index(drop=True).shape[0]))\n",
    "x = infla.iloc[4:].reset_index(drop=True)\n",
    "x_lag1 = infla.iloc[3:-1].reset_index(drop=True)\n",
    "x_lag2 = infla.iloc[2:-2].reset_index(drop=True)\n",
    "x_lag3 = infla.iloc[1:-3].reset_index(drop=True)\n",
    "df = pd.concat([intersect,x_lag1,x_lag2,x_lag3],axis=1,ignore_index=True)"
   ]
  },
  {
   "cell_type": "code",
   "execution_count": 0,
   "metadata": {
    "colab": {},
    "colab_type": "code",
    "id": "l7hCOmo5pJej"
   },
   "outputs": [],
   "source": [
    "theta = (np.linalg.inv(df.T@df)@df.T)@x"
   ]
  },
  {
   "cell_type": "code",
   "execution_count": 0,
   "metadata": {
    "colab": {},
    "colab_type": "code",
    "id": "FM8yrNlRpw0F"
   },
   "outputs": [],
   "source": [
    "x_hat = df@theta"
   ]
  },
  {
   "cell_type": "code",
   "execution_count": 0,
   "metadata": {
    "colab": {
     "base_uri": "https://localhost:8080/",
     "height": 269
    },
    "colab_type": "code",
    "id": "q4_9_kETqY6K",
    "outputId": "223964a9-2c34-4c54-c913-b648bd79c289"
   },
   "outputs": [
    {
     "data": {
      "image/png": "[encoded data removed]",
      "text/plain": [
       "<Figure size 432x288 with 1 Axes>"
      ]
     },
     "metadata": {
      "tags": []
     },
     "output_type": "display_data"
    }
   ],
   "source": [
    "plt.plot(x_hat,label='x hat')\n",
    "plt.plot(x,label='x')\n",
    "plt.legend()\n",
    "plt.show()"
   ]
  },
  {
   "cell_type": "markdown",
   "metadata": {
    "colab_type": "text",
    "id": "UmvUkOKLiqn9"
   },
   "source": [
    "## Courbe de Philips"
   ]
  },
  {
   "cell_type": "code",
   "execution_count": 0,
   "metadata": {
    "colab": {
     "base_uri": "https://localhost:8080/",
     "height": 269
    },
    "colab_type": "code",
    "id": "njyg98EjARn-",
    "outputId": "c792ac3f-8daa-471a-d609-a347296a93df"
   },
   "outputs": [
    {
     "data": {
      "image/png": "[encoded data removed]",
      "text/plain": [
       "<Figure size 432x288 with 1 Axes>"
      ]
     },
     "metadata": {
      "tags": []
     },
     "output_type": "display_data"
    }
   ],
   "source": [
    "plt.scatter(quarterly['infla'].iloc[1:],quarterly['Unemp'].iloc[1:])\n",
    "plt.show()"
   ]
  },
  {
   "cell_type": "code",
   "execution_count": 0,
   "metadata": {
    "colab": {},
    "colab_type": "code",
    "id": "NaR4XetSlbl5"
   },
   "outputs": [],
   "source": [
    "x1 = np.ones(quarterly['infla'].iloc[1:].shape[0])\n",
    "x2 = quarterly['infla'].iloc[1:].reset_index().drop('index',axis=1)\n",
    "X = pd.DataFrame(x1)\n",
    "X = X.assign(infla=x2)\n",
    "y = quarterly['Unemp'].iloc[1:].reset_index().drop('index',axis=1)"
   ]
  },
  {
   "cell_type": "code",
   "execution_count": 0,
   "metadata": {
    "colab": {
     "base_uri": "https://localhost:8080/",
     "height": 111
    },
    "colab_type": "code",
    "id": "rH6AaL7rMe-O",
    "outputId": "a2b5ef83-e411-4554-9c25-6b55d25e3e0f"
   },
   "outputs": [
    {
     "data": {
      "text/html": [
       "<div>\n",
       "<style scoped>\n",
       "    .dataframe tbody tr th:only-of-type {\n",
       "        vertical-align: middle;\n",
       "    }\n",
       "\n",
       "    .dataframe tbody tr th {\n",
       "        vertical-align: top;\n",
       "    }\n",
       "\n",
       "    .dataframe thead th {\n",
       "        text-align: right;\n",
       "    }\n",
       "</style>\n",
       "<table border=\"1\" class=\"dataframe\">\n",
       "  <thead>\n",
       "    <tr style=\"text-align: right;\">\n",
       "      <th></th>\n",
       "      <th>Unemp</th>\n",
       "    </tr>\n",
       "  </thead>\n",
       "  <tbody>\n",
       "    <tr>\n",
       "      <th>0</th>\n",
       "      <td>6.070819</td>\n",
       "    </tr>\n",
       "    <tr>\n",
       "      <th>1</th>\n",
       "      <td>0.015908</td>\n",
       "    </tr>\n",
       "  </tbody>\n",
       "</table>\n",
       "</div>"
      ],
      "text/plain": [
       "      Unemp\n",
       "0  6.070819\n",
       "1  0.015908"
      ]
     },
     "execution_count": 22,
     "metadata": {
      "tags": []
     },
     "output_type": "execute_result"
    }
   ],
   "source": [
    "theta = ((np.linalg.inv(X.T@X)@X.T)@y).reset_index(drop=True)\n",
    "theta"
   ]
  },
  {
   "cell_type": "code",
   "execution_count": 0,
   "metadata": {
    "colab": {},
    "colab_type": "code",
    "id": "Ka6oy8YSm-uZ"
   },
   "outputs": [],
   "source": [
    "u = y-np.dot(X,theta)"
   ]
  },
  {
   "cell_type": "code",
   "execution_count": 0,
   "metadata": {
    "colab": {
     "base_uri": "https://localhost:8080/",
     "height": 281
    },
    "colab_type": "code",
    "id": "5AHv4cnveiLS",
    "outputId": "c0f3a60c-950e-4a2b-eaca-a9f31ada08b6"
   },
   "outputs": [
    {
     "data": {
      "image/png": "[encoded data removed]",
      "text/plain": [
       "<Figure size 432x288 with 1 Axes>"
      ]
     },
     "metadata": {
      "tags": []
     },
     "output_type": "display_data"
    }
   ],
   "source": [
    "plot_acf(u)\n",
    "plt.show()"
   ]
  },
  {
   "cell_type": "code",
   "execution_count": 0,
   "metadata": {
    "colab": {
     "base_uri": "https://localhost:8080/",
     "height": 281
    },
    "colab_type": "code",
    "id": "-zMuH-SQenvA",
    "outputId": "6e51b9aa-f4cf-4b99-f0a8-d8eb2fc29be5"
   },
   "outputs": [
    {
     "data": {
      "image/png": "[encoded data removed]",
      "text/plain": [
       "<Figure size 432x288 with 1 Axes>"
      ]
     },
     "metadata": {
      "tags": []
     },
     "output_type": "display_data"
    }
   ],
   "source": [
    "plot_pacf(u,method='ywm',lags=50)\n",
    "plt.show()"
   ]
  },
  {
   "cell_type": "code",
   "execution_count": 0,
   "metadata": {
    "colab": {
     "base_uri": "https://localhost:8080/",
     "height": 68
    },
    "colab_type": "code",
    "id": "h_ttTsN0tcHj",
    "outputId": "36a4b30a-7cdb-43cf-a4f6-dada6361dfd2"
   },
   "outputs": [
    {
     "data": {
      "text/plain": [
       "0    33.495558\n",
       "1     0.109901\n",
       "Name: Unemp, dtype: float64"
      ]
     },
     "execution_count": 26,
     "metadata": {
      "tags": []
     },
     "output_type": "execute_result"
    }
   ],
   "source": [
    "sig2 = u.T@u/(u.shape[0]-3)\n",
    "std = np.sqrt(np.diag(sig2.iloc[0,0]*np.linalg.inv(X.T@X)))\n",
    "t=theta['Unemp']/std\n",
    "t"
   ]
  },
  {
   "cell_type": "code",
   "execution_count": 0,
   "metadata": {
    "colab": {
     "base_uri": "https://localhost:8080/",
     "height": 85
    },
    "colab_type": "code",
    "id": "AaSINELGu2lt",
    "outputId": "7591f973-7e58-4c9e-95de-7c15b9cab449"
   },
   "outputs": [
    {
     "name": "stdout",
     "output_type": "stream",
     "text": [
      "t stat :        Unemp\n",
      "0  67.344869\n",
      "critical value : 0.2474244399811969\n",
      "p value : [[2.]]\n"
     ]
    }
   ],
   "source": [
    "from scipy import stats\n",
    "u_ = u[1:].reset_index(drop=True)\n",
    "u_lag = u[:-1].reset_index(drop=True)\n",
    "y = u_\n",
    "X = u_lag\n",
    "rho = (np.linalg.inv(X.T@X)@X.T@y)\n",
    "e=y-np.matmul(X,rho)\n",
    "sig2 = e.T@e/(e.shape[0]-2)\n",
    "std = np.sqrt(np.diag(sig2.iloc[0,0]*np.linalg.inv(X.T@X)))\n",
    "t = rho/std\n",
    "cv = stats.t.pdf(0.975,e.shape[0]-2)\n",
    "pval = stats.t.cdf(abs(t),e.shape[0]-2)*2\n",
    "print(f't stat : {t}')\n",
    "print(f'critical value : {cv}')\n",
    "print(f'p value : {pval}')"
   ]
  },
  {
   "cell_type": "markdown",
   "metadata": {
    "colab_type": "text",
    "id": "tVzMpFcypbLm"
   },
   "source": [
    "We reject H0, the errors are autocorrelated"
   ]
  },
  {
   "cell_type": "code",
   "execution_count": 0,
   "metadata": {
    "colab": {},
    "colab_type": "code",
    "id": "8pfdGj0Tx8Dl"
   },
   "outputs": [],
   "source": [
    "x1 = np.ones(quarterly['infla'].iloc[1:].shape[0])\n",
    "x2 = quarterly['infla'].iloc[1:].reset_index().drop('index',axis=1)\n",
    "X = pd.DataFrame(x1)\n",
    "X = X.assign(infla=x2)\n",
    "y = quarterly['Unemp'].iloc[1:].reset_index().drop('index',axis=1)\n",
    "\n",
    "y_ = y[1:].reset_index(drop=True)\n",
    "y_lag = y[:-1].reset_index(drop=True)\n",
    "new_y = np.sqrt(1-rho**2)*y.iloc[0,:]\n",
    "new_y = (new_y.append(y_-np.matmul(y_lag,rho))).reset_index(drop=True)\n",
    "\n",
    "X_ = X[1:].reset_index(drop=True)\n",
    "X_lag = X[:-1].reset_index(drop=True)\n",
    "new_X = pd.DataFrame(np.sqrt(1-rho.iloc[0,0]**2)*X.iloc[0,:]).T\n",
    "new_X = (new_X.append(X_-X_lag*rho.iloc[0,0])).reset_index(drop=True)"
   ]
  },
  {
   "cell_type": "code",
   "execution_count": 0,
   "metadata": {
    "colab": {},
    "colab_type": "code",
    "id": "CfTPDvC9y4xo"
   },
   "outputs": [],
   "source": [
    "P = np.eye(y.shape[0])\n",
    "P = P + np.diag(np.ones(y.shape[0]-1)*rho.iloc[0,0],-1)\n",
    "P[0,0] = np.sqrt(1-rho.iloc[0,0]**2)\n",
    "\n",
    "new_y_bis = (P@y).reset_index(drop=True)\n",
    "new_X_bis = (P@X).reset_index(drop=True)"
   ]
  },
  {
   "cell_type": "code",
   "execution_count": 0,
   "metadata": {
    "colab": {},
    "colab_type": "code",
    "id": "-x6pHeNX2Uc_"
   },
   "outputs": [],
   "source": [
    "theta_bis = np.linalg.inv(new_X.T@new_X)@new_X.T@new_y\n",
    "u = new_y - np.dot(new_X,theta_bis)"
   ]
  },
  {
   "cell_type": "code",
   "execution_count": 0,
   "metadata": {
    "colab": {
     "base_uri": "https://localhost:8080/",
     "height": 281
    },
    "colab_type": "code",
    "id": "2vMcgLvG4ka8",
    "outputId": "5c9ebc0d-693f-4e08-aaf6-2e46ef7d5448"
   },
   "outputs": [
    {
     "data": {
      "image/png": "[encoded data removed]",
      "text/plain": [
       "<Figure size 432x288 with 1 Axes>"
      ]
     },
     "metadata": {
      "tags": []
     },
     "output_type": "display_data"
    }
   ],
   "source": [
    "plot_acf(u)\n",
    "plt.show()"
   ]
  },
  {
   "cell_type": "code",
   "execution_count": 0,
   "metadata": {
    "colab": {
     "base_uri": "https://localhost:8080/",
     "height": 281
    },
    "colab_type": "code",
    "id": "aYB59P-j4svC",
    "outputId": "1dce6877-9101-4478-f182-21c9f931ee68"
   },
   "outputs": [
    {
     "data": {
      "image/png": "[encoded data removed]",
      "text/plain": [
       "<Figure size 432x288 with 1 Axes>"
      ]
     },
     "metadata": {
      "tags": []
     },
     "output_type": "display_data"
    }
   ],
   "source": [
    "plot_pacf(u,method='ywm')\n",
    "plt.show()"
   ]
  },
  {
   "cell_type": "code",
   "execution_count": 0,
   "metadata": {
    "colab": {
     "base_uri": "https://localhost:8080/",
     "height": 85
    },
    "colab_type": "code",
    "id": "x5683V-h43ey",
    "outputId": "d7c32b46-1808-4be4-8b6d-b06226547cd6"
   },
   "outputs": [
    {
     "name": "stdout",
     "output_type": "stream",
     "text": [
      "t stat :        Unemp\n",
      "0  11.828392\n",
      "critical value : 0.2474244399811969\n",
      "p value : [[2.]]\n"
     ]
    }
   ],
   "source": [
    "from scipy import stats\n",
    "u_ = u[1:].reset_index(drop=True)\n",
    "u_lag = u[:-1].reset_index(drop=True)\n",
    "y = u_\n",
    "X = u_lag\n",
    "rho = (np.linalg.inv(X.T@X)@X.T@y)\n",
    "e=y-np.matmul(X,rho)\n",
    "sig2 = e.T@e/(e.shape[0]-2)\n",
    "std = np.sqrt(np.diag(sig2.iloc[0,0]*np.linalg.inv(X.T@X)))\n",
    "t = rho/std\n",
    "cv = stats.t.pdf(0.975,e.shape[0]-2)\n",
    "pval = stats.t.cdf(abs(t),e.shape[0]-2)*2\n",
    "print(f't stat : {t}')\n",
    "print(f'critical value : {cv}')\n",
    "print(f'p value : {pval}')"
   ]
  },
  {
   "cell_type": "markdown",
   "metadata": {
    "colab_type": "text",
    "id": "JP4h84Jb7o0W"
   },
   "source": [
    "## Stabilité de la relation chômage inflation\n"
   ]
  },
  {
   "cell_type": "markdown",
   "metadata": {
    "colab_type": "text",
    "id": "K_S7ZdGbsHRk"
   },
   "source": [
    "### Test stationnarité"
   ]
  },
  {
   "cell_type": "code",
   "execution_count": 0,
   "metadata": {
    "colab": {
     "base_uri": "https://localhost:8080/",
     "height": 85
    },
    "colab_type": "code",
    "id": "qfXv3wn9sRIC",
    "outputId": "f7972198-dd0e-4de5-88ee-9e9e7a7b620d"
   },
   "outputs": [
    {
     "name": "stdout",
     "output_type": "stream",
     "text": [
      "mean 1 : 6.125094339622638\n",
      "mean 2 : 6.0388679245283\n",
      "var 1 : 2.8641117835528678\n",
      "var 2 : 2.3201194731221073\n"
     ]
    }
   ],
   "source": [
    "y1 = quarterly['Unemp'].iloc[:int(infla.shape[0]/2)]\n",
    "y2 = quarterly['Unemp'].iloc[int(infla.shape[0]/2):]\n",
    "m1 = np.mean(y1)\n",
    "m2 = np.mean(y2)\n",
    "v1 = np.var(y1)\n",
    "v2 = np.var(y2)\n",
    "\n",
    "print(f'mean 1 : {m1}')\n",
    "print(f'mean 2 : {m2}')\n",
    "print(f'var 1 : {v1}')\n",
    "print(f'var 2 : {v2}')"
   ]
  },
  {
   "cell_type": "code",
   "execution_count": 0,
   "metadata": {
    "colab": {
     "base_uri": "https://localhost:8080/",
     "height": 85
    },
    "colab_type": "code",
    "id": "kDCKViHfzuZ0",
    "outputId": "7abbf61d-5db6-467a-9d58-1199b1a1c9d6"
   },
   "outputs": [
    {
     "name": "stdout",
     "output_type": "stream",
     "text": [
      "mean 1 : 1.2575450160687385\n",
      "mean 2 : 0.7131728660549772\n",
      "var 1 : 0.7981088444367619\n",
      "var 2 : 0.24211620507289106\n"
     ]
    }
   ],
   "source": [
    "y1 = infla.iloc[:int(infla.shape[0]/2)]\n",
    "y2 = infla.iloc[int(infla.shape[0]/2):]\n",
    "m1 = np.mean(y1)\n",
    "m2 = np.mean(y2)\n",
    "v1 = np.var(y1)\n",
    "v2 = np.var(y2)\n",
    "\n",
    "print(f'mean 1 : {m1}')\n",
    "print(f'mean 2 : {m2}')\n",
    "print(f'var 1 : {v1}')\n",
    "print(f'var 2 : {v2}')"
   ]
  },
  {
   "cell_type": "markdown",
   "metadata": {
    "colab_type": "text",
    "id": "A0Leyno7v_uC"
   },
   "source": [
    "### Test Dickey Fuller"
   ]
  },
  {
   "cell_type": "code",
   "execution_count": 0,
   "metadata": {
    "colab": {
     "base_uri": "https://localhost:8080/",
     "height": 68
    },
    "colab_type": "code",
    "id": "Aq_S_mFtyrA9",
    "outputId": "6d0a0e1d-f126-4b0c-9312-898ef7cc29b4"
   },
   "outputs": [
    {
     "data": {
      "text/plain": [
       "0    1.480348\n",
       "1   -1.385513\n",
       "dtype: float64"
      ]
     },
     "execution_count": 48,
     "metadata": {
      "tags": []
     },
     "output_type": "execute_result"
    }
   ],
   "source": [
    "intersect = pd.Series(np.ones(quarterly['Unemp'].iloc[1:].reset_index(drop=True).shape[0]))\n",
    "y = quarterly['Unemp'].iloc[1:].reset_index(drop=True)\n",
    "y_lag = quarterly['Unemp'].iloc[:-1]\n",
    "delta_y = y.reset_index(drop=True)-y_lag.reset_index(drop=True)\n",
    "X = pd.concat([intersect,y_lag],axis=1,ignore_index=True).reset_index(drop=True)\n",
    "theta = np.linalg.inv(X.T@X)@X.T@delta_y\n",
    "u = delta_y - X@theta\n",
    "sig2 = u.T@u / (X.shape[0]-2)\n",
    "std = np.sqrt(np.diag(sig2*np.linalg.inv(X.T@X)))\n",
    "t=theta/std\n",
    "t"
   ]
  },
  {
   "cell_type": "markdown",
   "metadata": {
    "colab_type": "text",
    "id": "hFl2q8hf2efC"
   },
   "source": [
    "### Test Augmented Dickey Fuller"
   ]
  },
  {
   "cell_type": "code",
   "execution_count": 0,
   "metadata": {
    "colab": {},
    "colab_type": "code",
    "id": "YkQGWdYL1rJs"
   },
   "outputs": [],
   "source": [
    "intersect = pd.Series(np.ones(quarterly['Unemp'].iloc[1:].reset_index(drop=True).shape[0]))\n",
    "y = quarterly['Unemp'].iloc[1:].reset_index(drop=True)\n",
    "y_lag = quarterly['Unemp'].iloc[:-1]\n",
    "delta_y = y.reset_index(drop=True)-y_lag.reset_index(drop=True)\n",
    "delta_y_ = delta_y_.iloc[:-4]\n",
    "delta_y_lag1 = delta_y_.iloc[1:-3]\n",
    "delta_y_lag2 = delta_y_.iloc[2:-2]\n",
    "delta_y_lag3 = delta_y_.iloc[3:-1]\n",
    "delta_y_lag4 = delta_y_.iloc[4:]\n",
    "\n",
    "\n",
    "X = pd.concat([intersect,y_lag],axis=1,ignore_index=True).reset_index(drop=True)\n",
    "theta = np.linalg.inv(X.T@X)@X.T@delta_y\n",
    "u = delta_y - X@theta\n",
    "sig2 = u.T@u / (X.shape[0]-2)\n",
    "std = np.sqrt(np.diag(sig2*np.linalg.inv(X.T@X)))\n",
    "t=theta/std\n",
    "t"
   ]
  }
 ],
 "metadata": {
  "colab": {
   "collapsed_sections": [],
   "name": "Projet_econometrie_Partie2.ipynb",
   "provenance": [],
   "toc_visible": true,
   "version": "0.3.2"
  },
  "kernelspec": {
   "display_name": "Python 3",
   "language": "python",
   "name": "python3"
  },
  "language_info": {
   "codemirror_mode": {
    "name": "ipython",
    "version": 3
   },
   "file_extension": ".py",
   "mimetype": "text/x-python",
   "name": "python",
   "nbconvert_exporter": "python",
   "pygments_lexer": "ipython3",
   "version": "3.7.1"
  },
  "toc": {
   "base_numbering": 1,
   "nav_menu": {},
   "number_sections": true,
   "sideBar": true,
   "skip_h1_title": false,
   "title_cell": "Table of Contents",
   "title_sidebar": "Contents",
   "toc_cell": false,
   "toc_position": {},
   "toc_section_display": true,
   "toc_window_display": false
  },
  "varInspector": {
   "cols": {
    "lenName": 16,
    "lenType": 16,
    "lenVar": 40
   },
   "kernels_config": {
    "python": {
     "delete_cmd_postfix": "",
     "delete_cmd_prefix": "del ",
     "library": "var_list.py",
     "varRefreshCmd": "print(var_dic_list())"
    },
    "r": {
     "delete_cmd_postfix": ") ",
     "delete_cmd_prefix": "rm(",
     "library": "var_list.r",
     "varRefreshCmd": "cat(var_dic_list()) "
    }
   },
   "types_to_exclude": [
    "module",
    "function",
    "builtin_function_or_method",
    "instance",
    "_Feature"
   ],
   "window_display": false
  }
 },
 "nbformat": 4,
 "nbformat_minor": 1
}
