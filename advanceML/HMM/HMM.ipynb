{
 "cells": [
  {
   "cell_type": "markdown",
   "metadata": {},
   "source": [
    "# Partie 1"
   ]
  },
  {
   "cell_type": "code",
   "execution_count": 32,
   "metadata": {
    "ExecuteTime": {
     "end_time": "2019-04-03T07:35:11.614871Z",
     "start_time": "2019-04-03T07:35:09.461381Z"
    }
   },
   "outputs": [],
   "source": [
    "import numpy as np\n",
    "import matplotlib.pyplot as plt"
   ]
  },
  {
   "cell_type": "code",
   "execution_count": 149,
   "metadata": {
    "ExecuteTime": {
     "end_time": "2019-04-03T08:47:55.598729Z",
     "start_time": "2019-04-03T08:47:55.591619Z"
    }
   },
   "outputs": [],
   "source": [
    "dic={'1' : '-', '2' : 'a', '3' : 'b', '4': 'c', '5' : 'd', '6' : 'e', '7': 'f', '8' : 'g', '9' : 'h', '10': 'i', '11': 'j',\n",
    "'12' : 'k', '13' : 'l', '14': 'm', '15' : 'n', '16' : 'o', '17': 'p', '18' : 'q', '19' : 'r' , '20': 's', '21' : 't', '22'\n",
    ": 'u', '23': 'v', '24' : 'w', '25' : 'x' , '26': 'y', '27' : 'z', '28' : '+' }"
   ]
  },
  {
   "cell_type": "code",
   "execution_count": 151,
   "metadata": {
    "ExecuteTime": {
     "end_time": "2019-04-03T08:48:02.434359Z",
     "start_time": "2019-04-03T08:48:02.431709Z"
    }
   },
   "outputs": [],
   "source": [
    "dic_inv = {v:k for k,v in dic.items()}"
   ]
  },
  {
   "cell_type": "code",
   "execution_count": 155,
   "metadata": {
    "ExecuteTime": {
     "end_time": "2019-04-03T08:49:25.714051Z",
     "start_time": "2019-04-03T08:49:25.709648Z"
    }
   },
   "outputs": [],
   "source": [
    "eng = np.loadtxt('./bigramenglish.txt')"
   ]
  },
  {
   "cell_type": "code",
   "execution_count": 7,
   "metadata": {
    "ExecuteTime": {
     "end_time": "2019-04-03T07:09:56.928841Z",
     "start_time": "2019-04-03T07:09:56.924794Z"
    }
   },
   "outputs": [
    {
     "data": {
      "text/plain": [
       "(28, 28)"
      ]
     },
     "execution_count": 7,
     "metadata": {},
     "output_type": "execute_result"
    }
   ],
   "source": [
    "eng.shape"
   ]
  },
  {
   "cell_type": "markdown",
   "metadata": {},
   "source": [
    "1e ligne: proba de passer de l'etat initial aux autres états.\n",
    "\n",
    "la derniere colonne correspond aux proba de passer d'un etat quelconque à l'etat final."
   ]
  },
  {
   "cell_type": "code",
   "execution_count": 18,
   "metadata": {
    "ExecuteTime": {
     "end_time": "2019-04-03T07:20:54.190148Z",
     "start_time": "2019-04-03T07:20:54.181840Z"
    }
   },
   "outputs": [
    {
     "data": {
      "text/plain": [
       "[' ',\n",
       " 'z',\n",
       " ' ',\n",
       " 'x',\n",
       " 'n',\n",
       " 'v',\n",
       " 'o',\n",
       " 'n',\n",
       " 't',\n",
       " 'v',\n",
       " 'b',\n",
       " 'c',\n",
       " 'l',\n",
       " 'o',\n",
       " 'i',\n",
       " 'j',\n",
       " 'x',\n",
       " 'e',\n",
       " 'p',\n",
       " 'u',\n",
       " 'x',\n",
       " 'q',\n",
       " 'x',\n",
       " ' ',\n",
       " 'e',\n",
       " 'b',\n",
       " 'z',\n",
       " ' ']"
      ]
     },
     "execution_count": 18,
     "metadata": {},
     "output_type": "execute_result"
    }
   ],
   "source": [
    "[dic[str(x+1)] for x in eng.argmax(axis=0)]"
   ]
  },
  {
   "cell_type": "code",
   "execution_count": 143,
   "metadata": {
    "ExecuteTime": {
     "end_time": "2019-04-03T08:41:58.459920Z",
     "start_time": "2019-04-03T08:41:58.455306Z"
    }
   },
   "outputs": [],
   "source": [
    "def gen_next_state(state_t, mat = eng):\n",
    "    x = np.cumsum(mat[int(state_t)-1])>np.random.random()\n",
    "    return str(list(x).index(True)+1)"
   ]
  },
  {
   "cell_type": "code",
   "execution_count": 35,
   "metadata": {
    "ExecuteTime": {
     "end_time": "2019-04-03T07:36:52.792977Z",
     "start_time": "2019-04-03T07:36:52.686802Z"
    }
   },
   "outputs": [
    {
     "data": {
      "image/png": "[encoded data removed]",
      "text/plain": [
       "<Figure size 432x288 with 1 Axes>"
      ]
     },
     "metadata": {
      "needs_background": "light"
     },
     "output_type": "display_data"
    }
   ],
   "source": [
    "plt.plot(np.cumsum(eng[1]))\n",
    "plt.title('fonction de répartition pour l etat 1:a')\n",
    "plt.show()"
   ]
  },
  {
   "cell_type": "code",
   "execution_count": 144,
   "metadata": {
    "ExecuteTime": {
     "end_time": "2019-04-03T08:43:04.244853Z",
     "start_time": "2019-04-03T08:43:04.240138Z"
    }
   },
   "outputs": [],
   "source": [
    "def genere_state_seq(mat):\n",
    "    state = '1'\n",
    "    seq = [state]\n",
    "    while state != '29':\n",
    "        next_state = gen_next_state(state, mat)\n",
    "        seq.append(next_state)\n",
    "        state = next_state\n",
    "    return seq"
   ]
  },
  {
   "cell_type": "code",
   "execution_count": 61,
   "metadata": {
    "ExecuteTime": {
     "end_time": "2019-04-03T07:49:16.071475Z",
     "start_time": "2019-04-03T07:49:16.068810Z"
    }
   },
   "outputs": [],
   "source": [
    "def display_seq(seq):\n",
    "    seq = [dic[x] for x in seq]\n",
    "    return ''.join(seq)"
   ]
  },
  {
   "cell_type": "code",
   "execution_count": 62,
   "metadata": {
    "ExecuteTime": {
     "end_time": "2019-04-03T07:49:16.293661Z",
     "start_time": "2019-04-03T07:49:16.287807Z"
    }
   },
   "outputs": [
    {
     "data": {
      "text/plain": [
       "'trs '"
      ]
     },
     "execution_count": 62,
     "metadata": {},
     "output_type": "execute_result"
    }
   ],
   "source": [
    "display_seq(genere_state_seq())"
   ]
  },
  {
   "cell_type": "code",
   "execution_count": 156,
   "metadata": {
    "ExecuteTime": {
     "end_time": "2019-04-03T08:49:31.279183Z",
     "start_time": "2019-04-03T08:49:31.271697Z"
    }
   },
   "outputs": [],
   "source": [
    "def modifie_mat_dic():\n",
    "    global dic\n",
    "    global dic_inv\n",
    "    global eng\n",
    "    dic['29'] = '.'\n",
    "    dic_inv['.'] = '29'\n",
    "    eng = np.c_[ eng, np.zeros((28,1)) ]\n",
    "    eng = np.r_[ eng, np.zeros((1,29)) ]\n",
    "    eng[-2,-1] = 0.1\n",
    "    eng[-2,-2] = 0\n",
    "    eng[-2,0] = 0.9"
   ]
  },
  {
   "cell_type": "code",
   "execution_count": 159,
   "metadata": {
    "ExecuteTime": {
     "end_time": "2019-04-03T08:49:57.629859Z",
     "start_time": "2019-04-03T08:49:57.626635Z"
    }
   },
   "outputs": [],
   "source": [
    "modifie_mat_dic()"
   ]
  },
  {
   "cell_type": "code",
   "execution_count": 136,
   "metadata": {
    "ExecuteTime": {
     "end_time": "2019-04-03T08:36:25.155375Z",
     "start_time": "2019-04-03T08:36:25.149993Z"
    }
   },
   "outputs": [
    {
     "data": {
      "text/plain": [
       "'herthe  becekse  wild  htuly  twonthan  suthatis .'"
      ]
     },
     "execution_count": 136,
     "metadata": {},
     "output_type": "execute_result"
    }
   ],
   "source": [
    "display_seq(genere_state_seq())"
   ]
  },
  {
   "cell_type": "code",
   "execution_count": 87,
   "metadata": {
    "ExecuteTime": {
     "end_time": "2019-04-03T08:19:15.413075Z",
     "start_time": "2019-04-03T08:19:15.404797Z"
    }
   },
   "outputs": [
    {
     "data": {
      "text/plain": [
       "(28, 28)"
      ]
     },
     "execution_count": 87,
     "metadata": {},
     "output_type": "execute_result"
    }
   ],
   "source": [
    "eng.shape"
   ]
  },
  {
   "cell_type": "code",
   "execution_count": 145,
   "metadata": {
    "ExecuteTime": {
     "end_time": "2019-04-03T08:43:12.239127Z",
     "start_time": "2019-04-03T08:43:12.228894Z"
    }
   },
   "outputs": [
    {
     "data": {
      "text/plain": [
       "['1',\n",
       " '19',\n",
       " '14',\n",
       " '6',\n",
       " '15',\n",
       " '21',\n",
       " '6',\n",
       " '3',\n",
       " '19',\n",
       " '28',\n",
       " '1',\n",
       " '5',\n",
       " '6',\n",
       " '20',\n",
       " '28',\n",
       " '1',\n",
       " '2',\n",
       " '21',\n",
       " '28',\n",
       " '1',\n",
       " '6',\n",
       " '20',\n",
       " '28',\n",
       " '1',\n",
       " '18',\n",
       " '22',\n",
       " '13',\n",
       " '6',\n",
       " '20',\n",
       " '28',\n",
       " '1',\n",
       " '7',\n",
       " '16',\n",
       " '20',\n",
       " '28',\n",
       " '1',\n",
       " '5',\n",
       " '10',\n",
       " '20',\n",
       " '21',\n",
       " '22',\n",
       " '20',\n",
       " '21',\n",
       " '6',\n",
       " '15',\n",
       " '10',\n",
       " '21',\n",
       " '20',\n",
       " '28',\n",
       " '1',\n",
       " '18',\n",
       " '21',\n",
       " '6',\n",
       " '28',\n",
       " '1',\n",
       " '18',\n",
       " '22',\n",
       " '20',\n",
       " '21',\n",
       " '6',\n",
       " '28',\n",
       " '1',\n",
       " '10',\n",
       " '28',\n",
       " '1',\n",
       " '15',\n",
       " '20',\n",
       " '28',\n",
       " '1',\n",
       " '2',\n",
       " '28',\n",
       " '1',\n",
       " '13',\n",
       " '20',\n",
       " '28',\n",
       " '1',\n",
       " '6',\n",
       " '28',\n",
       " '1',\n",
       " '5',\n",
       " '6',\n",
       " '28',\n",
       " '1',\n",
       " '5',\n",
       " '16',\n",
       " '8',\n",
       " '10',\n",
       " '28',\n",
       " '1',\n",
       " '5',\n",
       " '10',\n",
       " '4',\n",
       " '16',\n",
       " '15',\n",
       " '22',\n",
       " '15',\n",
       " '16',\n",
       " '15',\n",
       " '5',\n",
       " '6',\n",
       " '28',\n",
       " '29']"
      ]
     },
     "execution_count": 145,
     "metadata": {},
     "output_type": "execute_result"
    }
   ],
   "source": [
    "genere_state_seq(fra)"
   ]
  },
  {
   "cell_type": "code",
   "execution_count": 138,
   "metadata": {
    "ExecuteTime": {
     "end_time": "2019-04-03T08:37:11.743925Z",
     "start_time": "2019-04-03T08:37:11.737437Z"
    }
   },
   "outputs": [],
   "source": [
    "fra = np.loadtxt('./bigramfrancais.txt')"
   ]
  },
  {
   "cell_type": "code",
   "execution_count": 139,
   "metadata": {
    "ExecuteTime": {
     "end_time": "2019-04-03T08:38:21.078713Z",
     "start_time": "2019-04-03T08:38:21.071678Z"
    }
   },
   "outputs": [
    {
     "data": {
      "text/plain": [
       "(28, 28)"
      ]
     },
     "execution_count": 139,
     "metadata": {},
     "output_type": "execute_result"
    }
   ],
   "source": [
    "fra.shape"
   ]
  },
  {
   "cell_type": "code",
   "execution_count": 140,
   "metadata": {
    "ExecuteTime": {
     "end_time": "2019-04-03T08:39:03.482149Z",
     "start_time": "2019-04-03T08:39:03.478472Z"
    }
   },
   "outputs": [],
   "source": [
    "fra = np.c_[ fra, np.zeros((28,1)) ]\n",
    "fra = np.r_[ fra, np.zeros((1,29)) ]\n",
    "fra[-2,-1] = 0.1\n",
    "fra[-2,-2] = 0\n",
    "fra[-2,0] = 0.9"
   ]
  },
  {
   "cell_type": "code",
   "execution_count": 167,
   "metadata": {
    "ExecuteTime": {
     "end_time": "2019-04-03T08:56:23.865601Z",
     "start_time": "2019-04-03T08:56:23.859102Z"
    }
   },
   "outputs": [],
   "source": [
    "def calc_vraisemblance(sentence, mat):\n",
    "    sentence = '-'+sentence.replace(' ','+-')+'+.'\n",
    "    seq = [dic_inv[x] for x in sentence]\n",
    "    p = 1\n",
    "    for i,j in zip(seq[:-1], seq[1:]):\n",
    "        p*=mat[int(i)-1,int(j)-1]\n",
    "    return p"
   ]
  },
  {
   "cell_type": "code",
   "execution_count": 168,
   "metadata": {
    "ExecuteTime": {
     "end_time": "2019-04-03T08:56:32.091606Z",
     "start_time": "2019-04-03T08:56:32.085335Z"
    }
   },
   "outputs": [
    {
     "data": {
      "text/plain": [
       "8.112892227809415e-20"
      ]
     },
     "execution_count": 168,
     "metadata": {},
     "output_type": "execute_result"
    }
   ],
   "source": [
    "calc_vraisemblance('to be or not to be', eng)"
   ]
  },
  {
   "cell_type": "code",
   "execution_count": 169,
   "metadata": {
    "ExecuteTime": {
     "end_time": "2019-04-03T08:56:57.672582Z",
     "start_time": "2019-04-03T08:56:57.666604Z"
    }
   },
   "outputs": [
    {
     "data": {
      "text/plain": [
       "5.9602081018686406e-30"
      ]
     },
     "execution_count": 169,
     "metadata": {},
     "output_type": "execute_result"
    }
   ],
   "source": [
    "calc_vraisemblance('to be or not to be', fra)"
   ]
  },
  {
   "cell_type": "code",
   "execution_count": 171,
   "metadata": {
    "ExecuteTime": {
     "end_time": "2019-04-03T08:57:21.728018Z",
     "start_time": "2019-04-03T08:57:21.722359Z"
    }
   },
   "outputs": [
    {
     "data": {
      "text/plain": [
       "4.462288711775253e-24"
      ]
     },
     "execution_count": 171,
     "metadata": {},
     "output_type": "execute_result"
    }
   ],
   "source": [
    "calc_vraisemblance('etre ou ne pas etre', eng)"
   ]
  },
  {
   "cell_type": "code",
   "execution_count": 172,
   "metadata": {
    "ExecuteTime": {
     "end_time": "2019-04-03T08:57:22.336990Z",
     "start_time": "2019-04-03T08:57:22.333214Z"
    }
   },
   "outputs": [
    {
     "data": {
      "text/plain": [
       "1.145706887234789e-19"
      ]
     },
     "execution_count": 172,
     "metadata": {},
     "output_type": "execute_result"
    }
   ],
   "source": [
    "calc_vraisemblance('etre ou ne pas etre', fra)"
   ]
  },
  {
   "cell_type": "code",
   "execution_count": 173,
   "metadata": {
    "ExecuteTime": {
     "end_time": "2019-04-03T09:04:41.270246Z",
     "start_time": "2019-04-03T09:04:41.266230Z"
    }
   },
   "outputs": [],
   "source": [
    "def compare_vraisemblance(seq):\n",
    "    return calc_vraisemblance(seq, eng)/calc_vraisemblance(seq, fra)"
   ]
  },
  {
   "cell_type": "code",
   "execution_count": 174,
   "metadata": {
    "ExecuteTime": {
     "end_time": "2019-04-03T09:04:48.306340Z",
     "start_time": "2019-04-03T09:04:48.300482Z"
    }
   },
   "outputs": [
    {
     "data": {
      "text/plain": [
       "6.351037477604507"
      ]
     },
     "execution_count": 174,
     "metadata": {},
     "output_type": "execute_result"
    }
   ],
   "source": [
    "compare_vraisemblance('bonjour')"
   ]
  },
  {
   "cell_type": "code",
   "execution_count": 177,
   "metadata": {
    "ExecuteTime": {
     "end_time": "2019-04-03T09:05:34.990389Z",
     "start_time": "2019-04-03T09:05:34.983834Z"
    }
   },
   "outputs": [
    {
     "data": {
      "text/plain": [
       "0.18556060142896377"
      ]
     },
     "execution_count": 177,
     "metadata": {},
     "output_type": "execute_result"
    }
   ],
   "source": [
    "compare_vraisemblance('salopette')"
   ]
  },
  {
   "cell_type": "markdown",
   "metadata": {},
   "source": [
    "# HMM"
   ]
  },
  {
   "cell_type": "code",
   "execution_count": 182,
   "metadata": {
    "ExecuteTime": {
     "end_time": "2019-04-03T09:15:10.617878Z",
     "start_time": "2019-04-03T09:15:10.612765Z"
    }
   },
   "outputs": [],
   "source": [
    "v = np.loadtxt('./55datatxtcompact/data_txt_compact/matrice_symboles.txt')"
   ]
  },
  {
   "cell_type": "code",
   "execution_count": 183,
   "metadata": {
    "ExecuteTime": {
     "end_time": "2019-04-03T09:15:13.558391Z",
     "start_time": "2019-04-03T09:15:13.465531Z"
    }
   },
   "outputs": [
    {
     "data": {
      "text/plain": [
       "<matplotlib.image.AxesImage at 0x7f443318cac8>"
      ]
     },
     "execution_count": 183,
     "metadata": {},
     "output_type": "execute_result"
    },
    {
     "data": {
      "image/png": "[encoded data removed]",
      "text/plain": [
       "<Figure size 432x288 with 1 Axes>"
      ]
     },
     "metadata": {
      "needs_background": "light"
     },
     "output_type": "display_data"
    }
   ],
   "source": [
    "plt.imshow(v, cmap='gray')"
   ]
  },
  {
   "cell_type": "code",
   "execution_count": 185,
   "metadata": {
    "ExecuteTime": {
     "end_time": "2019-04-03T09:19:59.046768Z",
     "start_time": "2019-04-03T09:19:59.043338Z"
    }
   },
   "outputs": [],
   "source": [
    "A0 = np.loadtxt('./55datatxtcompact/data_txt_compact/A0.txt')"
   ]
  },
  {
   "cell_type": "code",
   "execution_count": 186,
   "metadata": {
    "ExecuteTime": {
     "end_time": "2019-04-03T09:19:59.270281Z",
     "start_time": "2019-04-03T09:19:59.266254Z"
    }
   },
   "outputs": [],
   "source": [
    "B0 = np.loadtxt('./55datatxtcompact/data_txt_compact/B0.txt')"
   ]
  },
  {
   "cell_type": "code",
   "execution_count": 184,
   "metadata": {
    "ExecuteTime": {
     "end_time": "2019-04-03T09:19:59.270281Z",
     "start_time": "2019-04-03T09:19:59.266254Z"
    }
   },
   "outputs": [],
   "source": [
    "P0 = np.loadtxt('./55datatxtcompact/data_txt_compact/vect_pi0.txt')"
   ]
  },
  {
   "cell_type": "code",
   "execution_count": 201,
   "metadata": {
    "ExecuteTime": {
     "end_time": "2019-04-03T09:34:15.205194Z",
     "start_time": "2019-04-03T09:34:15.113267Z"
    }
   },
   "outputs": [
    {
     "data": {
      "text/plain": [
       "<matplotlib.image.AxesImage at 0x7f4437a850f0>"
      ]
     },
     "execution_count": 201,
     "metadata": {},
     "output_type": "execute_result"
    },
    {
     "data": {
      "image/png": "[encoded data removed]",
      "text/plain": [
       "<Figure size 432x288 with 1 Axes>"
      ]
     },
     "metadata": {
      "needs_background": "light"
     },
     "output_type": "display_data"
    }
   ],
   "source": [
    "plt.imshow(A0, cmap='gray')"
   ]
  },
  {
   "cell_type": "code",
   "execution_count": 197,
   "metadata": {
    "ExecuteTime": {
     "end_time": "2019-04-03T09:25:07.336971Z",
     "start_time": "2019-04-03T09:25:07.255311Z"
    }
   },
   "outputs": [
    {
     "data": {
      "text/plain": [
       "<matplotlib.image.AxesImage at 0x7f4439e070f0>"
      ]
     },
     "execution_count": 197,
     "metadata": {},
     "output_type": "execute_result"
    },
    {
     "data": {
      "image/png": "[encoded data removed]",
      "text/plain": [
       "<Figure size 72x576 with 1 Axes>"
      ]
     },
     "metadata": {
      "needs_background": "light"
     },
     "output_type": "display_data"
    }
   ],
   "source": [
    "plt.figure(figsize=(1,8))\n",
    "plt.imshow(B0, cmap='gray')"
   ]
  },
  {
   "cell_type": "code",
   "execution_count": 233,
   "metadata": {
    "ExecuteTime": {
     "end_time": "2019-04-03T09:54:29.637817Z",
     "start_time": "2019-04-03T09:54:29.633559Z"
    }
   },
   "outputs": [
    {
     "data": {
      "text/plain": [
       "array([1.        , 0.99994644, 0.99937824, 0.99999963, 1.        ])"
      ]
     },
     "execution_count": 233,
     "metadata": {},
     "output_type": "execute_result"
    }
   ],
   "source": [
    "np.sum(B0, axis=0)"
   ]
  },
  {
   "cell_type": "code",
   "execution_count": 200,
   "metadata": {
    "ExecuteTime": {
     "end_time": "2019-04-03T09:30:24.951841Z",
     "start_time": "2019-04-03T09:30:24.855612Z"
    }
   },
   "outputs": [
    {
     "data": {
      "text/plain": [
       "<matplotlib.image.AxesImage at 0x7f443763a748>"
      ]
     },
     "execution_count": 200,
     "metadata": {},
     "output_type": "execute_result"
    },
    {
     "data": {
      "image/png": "[encoded data removed]",
      "text/plain": [
       "<Figure size 432x288 with 1 Axes>"
      ]
     },
     "metadata": {
      "needs_background": "light"
     },
     "output_type": "display_data"
    }
   ],
   "source": [
    "plt.imshow(v@B0)"
   ]
  },
  {
   "cell_type": "code",
   "execution_count": 208,
   "metadata": {
    "ExecuteTime": {
     "end_time": "2019-04-03T09:40:06.814593Z",
     "start_time": "2019-04-03T09:40:06.808320Z"
    }
   },
   "outputs": [],
   "source": [
    "def generate_next_state(state_t, mat=A0):\n",
    "    x = np.cumsum(mat[state_t])>np.random.random()\n",
    "    return list(x).index(True)"
   ]
  },
  {
   "cell_type": "code",
   "execution_count": 231,
   "metadata": {
    "ExecuteTime": {
     "end_time": "2019-04-03T09:45:12.478208Z",
     "start_time": "2019-04-03T09:45:12.472756Z"
    }
   },
   "outputs": [],
   "source": [
    "def generate_seq():\n",
    "    seq = []\n",
    "    state = 0\n",
    "    while state !=4:\n",
    "        n_state = generate_next_state(state)\n",
    "        seq.append(n_state)\n",
    "        state = n_state\n",
    "    return seq"
   ]
  },
  {
   "cell_type": "code",
   "execution_count": 242,
   "metadata": {
    "ExecuteTime": {
     "end_time": "2019-04-03T10:00:32.187995Z",
     "start_time": "2019-04-03T10:00:32.183575Z"
    }
   },
   "outputs": [],
   "source": [
    "def generate_obs(state):\n",
    "    x = np.cumsum(B0[:,state])>np.random.random()\n",
    "    idx = list(x).index(True)\n",
    "    obs = v[:,idx]\n",
    "    return obs"
   ]
  },
  {
   "cell_type": "code",
   "execution_count": 263,
   "metadata": {
    "ExecuteTime": {
     "end_time": "2019-04-03T10:05:54.623698Z",
     "start_time": "2019-04-03T10:05:54.619324Z"
    }
   },
   "outputs": [
    {
     "data": {
      "text/plain": [
       "array([[0.],\n",
       "       [0.],\n",
       "       [0.],\n",
       "       [0.],\n",
       "       [0.]])"
      ]
     },
     "execution_count": 263,
     "metadata": {},
     "output_type": "execute_result"
    }
   ],
   "source": [
    "generate_obs(0).reshape(-1,1)"
   ]
  },
  {
   "cell_type": "code",
   "execution_count": 267,
   "metadata": {
    "ExecuteTime": {
     "end_time": "2019-04-03T10:06:08.215737Z",
     "start_time": "2019-04-03T10:06:08.109240Z"
    }
   },
   "outputs": [
    {
     "data": {
      "text/plain": [
       "<matplotlib.image.AxesImage at 0x7f443513c320>"
      ]
     },
     "execution_count": 267,
     "metadata": {},
     "output_type": "execute_result"
    },
    {
     "data": {
      "image/png": "[encoded data removed]",
      "text/plain": [
       "<Figure size 432x288 with 1 Axes>"
      ]
     },
     "metadata": {
      "needs_background": "light"
     },
     "output_type": "display_data"
    }
   ],
   "source": [
    "seq = generate_seq()\n",
    "plt.imshow(np.hstack([generate_obs(s).reshape(-1,1) for s in generate_seq()]))"
   ]
  },
  {
   "cell_type": "code",
   "execution_count": 276,
   "metadata": {
    "ExecuteTime": {
     "end_time": "2019-04-03T10:06:29.376031Z",
     "start_time": "2019-04-03T10:06:29.282073Z"
    }
   },
   "outputs": [
    {
     "data": {
      "text/plain": [
       "<matplotlib.image.AxesImage at 0x7f4434e7be80>"
      ]
     },
     "execution_count": 276,
     "metadata": {},
     "output_type": "execute_result"
    },
    {
     "data": {
      "image/png": "[encoded data removed]",
      "text/plain": [
       "<Figure size 432x288 with 1 Axes>"
      ]
     },
     "metadata": {
      "needs_background": "light"
     },
     "output_type": "display_data"
    }
   ],
   "source": [
    "seq = generate_seq()\n",
    "plt.imshow(np.hstack([generate_obs(s).reshape(-1,1) for s in generate_seq()]))"
   ]
  },
  {
   "cell_type": "code",
   "execution_count": null,
   "metadata": {},
   "outputs": [],
   "source": []
  }
 ],
 "metadata": {
  "kernelspec": {
   "display_name": "Python 3",
   "language": "python",
   "name": "python3"
  },
  "language_info": {
   "codemirror_mode": {
    "name": "ipython",
    "version": 3
   },
   "file_extension": ".py",
   "mimetype": "text/x-python",
   "name": "python",
   "nbconvert_exporter": "python",
   "pygments_lexer": "ipython3",
   "version": "3.7.1"
  },
  "toc": {
   "base_numbering": 1,
   "nav_menu": {},
   "number_sections": true,
   "sideBar": true,
   "skip_h1_title": false,
   "title_cell": "Table of Contents",
   "title_sidebar": "Contents",
   "toc_cell": false,
   "toc_position": {},
   "toc_section_display": true,
   "toc_window_display": false
  },
  "varInspector": {
   "cols": {
    "lenName": 16,
    "lenType": 16,
    "lenVar": 40
   },
   "kernels_config": {
    "python": {
     "delete_cmd_postfix": "",
     "delete_cmd_prefix": "del ",
     "library": "var_list.py",
     "varRefreshCmd": "print(var_dic_list())"
    },
    "r": {
     "delete_cmd_postfix": ") ",
     "delete_cmd_prefix": "rm(",
     "library": "var_list.r",
     "varRefreshCmd": "cat(var_dic_list()) "
    }
   },
   "types_to_exclude": [
    "module",
    "function",
    "builtin_function_or_method",
    "instance",
    "_Feature"
   ],
   "window_display": false
  }
 },
 "nbformat": 4,
 "nbformat_minor": 2
}
