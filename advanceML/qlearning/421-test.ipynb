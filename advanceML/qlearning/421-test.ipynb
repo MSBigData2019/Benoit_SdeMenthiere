{
 "cells": [
  {
   "cell_type": "markdown",
   "metadata": {},
   "source": [
    "# Tester sa stratégie au 421"
   ]
  },
  {
   "cell_type": "markdown",
   "metadata": {},
   "source": [
    "L'objectif est d'apprendre à jouer au jeu du [421](https://fr.wikipedia.org/wiki/421_(jeu)) contre un adversaire. \n",
    "\n",
    "Il y a 21 pions au départ, répartis aléatoirement : c'est la *charge*. <br>Pour la *décharge*, vous devez établir 2 stratégies *déterministes* : \n",
    "* l'une en tant que meneur (vous avez la main et décidez quand vous arrêter), \n",
    "* l'autre en tant qu'opposant (vous jouez en fonction de la combinaison et du nombre de coups du meneur).\n",
    "\n",
    "Votre stratégie devra être sauvegardée sous la forme de 2 fichiers csv au format précisé ci-dessous. <br>\n",
    "Une fonction donne le résultat (aléatoire) d'une manche entre 2 joueurs, après charge et décharge.\n"
   ]
  },
  {
   "cell_type": "markdown",
   "metadata": {},
   "source": [
    "## Init"
   ]
  },
  {
   "cell_type": "code",
   "execution_count": 34,
   "metadata": {},
   "outputs": [],
   "source": [
    "import numpy as np"
   ]
  },
  {
   "cell_type": "code",
   "execution_count": 35,
   "metadata": {},
   "outputs": [],
   "source": [
    "total_budget = 21"
   ]
  },
  {
   "cell_type": "code",
   "execution_count": 36,
   "metadata": {},
   "outputs": [],
   "source": [
    "dice = np.arange(1,7)\n",
    "throws = np.arange(1,4)"
   ]
  },
  {
   "cell_type": "code",
   "execution_count": 5,
   "metadata": {},
   "outputs": [],
   "source": [
    "def get_scores():\n",
    "    score = {(4,2,1): 11, (1,1,1): 7, (2,2,1): 0}\n",
    "    score.update({(d,1,1): d for d in dice if d > 1})\n",
    "    score.update({(d,d,d): d for d in dice if d > 1})\n",
    "    score.update({(d,d - 1,d - 2): 2 for d in dice if d > 2})\n",
    "    specials = list(score.keys())\n",
    "    score.update({(d,e,f): 1 for d in dice \n",
    "                  for e in dice if e <= d \n",
    "                  for f in dice if f <= e and (d,e,f) not in specials})\n",
    "    return score"
   ]
  },
  {
   "cell_type": "code",
   "execution_count": 6,
   "metadata": {},
   "outputs": [],
   "source": [
    "score = get_scores()"
   ]
  },
  {
   "cell_type": "code",
   "execution_count": 7,
   "metadata": {},
   "outputs": [],
   "source": [
    "reverse_dice = np.arange(6, 0, -1)"
   ]
  },
  {
   "cell_type": "code",
   "execution_count": 8,
   "metadata": {},
   "outputs": [],
   "source": [
    "def get_rank():\n",
    "    rank = {(4,2,1): 0, (1,1,1): 1}\n",
    "    rank.update({(d,1,1): 2 + i for i,d in enumerate(reverse_dice) if d > 1}) \n",
    "    rank.update({(d,d,d): 7 + i for i,d in enumerate(reverse_dice) if d > 1})\n",
    "    rank.update({(d,d - 1,d - 2): 12 + i for i,d in enumerate(reverse_dice) if d > 2})\n",
    "    specials = list(rank.keys())    \n",
    "    i = 16\n",
    "    for d in reverse_dice:\n",
    "        for e in range(d, 0, -1):\n",
    "            for f in range(e, 0, -1):\n",
    "                if (d,e,f) not in specials:\n",
    "                    rank[(d,e,f)] = i\n",
    "                    i += 1\n",
    "    return rank"
   ]
  },
  {
   "cell_type": "code",
   "execution_count": 9,
   "metadata": {},
   "outputs": [],
   "source": [
    "rank = get_rank()"
   ]
  },
  {
   "cell_type": "markdown",
   "metadata": {},
   "source": [
    "## Load policy"
   ]
  },
  {
   "cell_type": "markdown",
   "metadata": {},
   "source": [
    "Les 2 politiques (en tant que meneur et en tant qu'opposant) doivent être enregistrés au format csv comme suit :\n",
    "* lead.csv: **state, throw, action**<br>\n",
    "Exemple: 2,1,1,2,1,0,0 <br>\n",
    "-> dans l'état (2,1,1) avec 2 lancers restants, action (1,0,0) (on relance le premier dé)\n",
    "* opponent.csv: **target state, state, throw, action**<br>\n",
    "Exemple: 4,2,1,4,2,2,2,0,0,1 <br>\n",
    "-> pour l'état cible (4,2,1), dans l'état (4,2,2) avec 2 lancers restants, action (0,0,1) (on relance le dernier dé)\n",
    "\n",
    "Notes :\n",
    "* l'état est en ordre inverse de valeur des dés (par exemple, 4,2,1 et non 4,1,2)\n",
    "* l'action par défaut est (0,0,0) (donc un fichier vide = je m'arrête tout le temps)\n",
    "* le nombre de lancers restants est 1 ou 2"
   ]
  },
  {
   "cell_type": "code",
   "execution_count": 10,
   "metadata": {},
   "outputs": [],
   "source": [
    "import csv"
   ]
  },
  {
   "cell_type": "code",
   "execution_count": 11,
   "metadata": {},
   "outputs": [],
   "source": [
    "lead = {((2,1,1),2): (1,0,1)}"
   ]
  },
  {
   "cell_type": "code",
   "execution_count": 12,
   "metadata": {},
   "outputs": [],
   "source": [
    "def save_lead(lead, filename = 'ex_lead.csv'):\n",
    "    with open(filename, mode='w') as csvfile:\n",
    "        writer = csv.writer(csvfile)\n",
    "        for (state, throw) in lead:\n",
    "            row = [state[i] for i in range(3)]\n",
    "            row += [throw]\n",
    "            action = lead[(state, throw)]\n",
    "            row += [action[i] for i in range(3)]\n",
    "            writer.writerow(row)"
   ]
  },
  {
   "cell_type": "code",
   "execution_count": 13,
   "metadata": {},
   "outputs": [],
   "source": [
    "save_lead(lead)"
   ]
  },
  {
   "cell_type": "code",
   "execution_count": 14,
   "metadata": {},
   "outputs": [],
   "source": [
    "def load_lead(filename = 'ex_lead.csv'):\n",
    "    lead = {}\n",
    "    with open(filename) as csvfile:\n",
    "        reader = csv.reader(csvfile)\n",
    "        for row in reader:\n",
    "            state = tuple(np.array(row[0:3], dtype = int))\n",
    "            throw = int(row[3])\n",
    "            action = tuple(np.array(row[4:], dtype = int))\n",
    "            lead[(state, throw)] = action\n",
    "    return lead"
   ]
  },
  {
   "cell_type": "code",
   "execution_count": 15,
   "metadata": {},
   "outputs": [],
   "source": [
    "lead = load_lead()"
   ]
  },
  {
   "cell_type": "code",
   "execution_count": 38,
   "metadata": {},
   "outputs": [
    {
     "data": {
      "text/plain": [
       "{((2, 1, 1), 2): (1, 0, 1)}"
      ]
     },
     "execution_count": 38,
     "metadata": {},
     "output_type": "execute_result"
    }
   ],
   "source": [
    "lead"
   ]
  },
  {
   "cell_type": "code",
   "execution_count": 16,
   "metadata": {},
   "outputs": [],
   "source": [
    "opponent = {((4,2,1),(4,2,2),2): (0,0,1)}"
   ]
  },
  {
   "cell_type": "code",
   "execution_count": 17,
   "metadata": {},
   "outputs": [],
   "source": [
    "def save_opponent(opponent, filename = 'ex_opponent.csv'):\n",
    "    with open(filename, mode='w') as csvfile:\n",
    "        writer = csv.writer(csvfile)\n",
    "        for (lead_state, state, throw) in opponent:\n",
    "            row = [lead_state[i] for i in range(3)]\n",
    "            row += [state[i] for i in range(3)]\n",
    "            row += [throw]\n",
    "            action = opponent[(lead_state, state, throw)]\n",
    "            row += [action[i] for i in range(3)]\n",
    "            writer.writerow(row)"
   ]
  },
  {
   "cell_type": "code",
   "execution_count": 18,
   "metadata": {},
   "outputs": [],
   "source": [
    "save_opponent(opponent)"
   ]
  },
  {
   "cell_type": "code",
   "execution_count": 19,
   "metadata": {},
   "outputs": [],
   "source": [
    "def load_opponent(filename = 'ex_opponent.csv'):\n",
    "    opponent = {}\n",
    "    with open(filename) as csvfile:\n",
    "        reader = csv.reader(csvfile)\n",
    "        for row in reader:\n",
    "            lead_state = tuple(np.array(row[0:3], dtype = int))\n",
    "            state = tuple(np.array(row[3:6], dtype = int))\n",
    "            throw = int(row[6])                \n",
    "            action = tuple(np.array(row[7:], dtype = int))\n",
    "            opponent[(lead_state, state, throw)] = action\n",
    "    return opponent"
   ]
  },
  {
   "cell_type": "code",
   "execution_count": 20,
   "metadata": {},
   "outputs": [],
   "source": [
    "opponent = load_opponent()"
   ]
  },
  {
   "cell_type": "markdown",
   "metadata": {},
   "source": [
    "## Play the game"
   ]
  },
  {
   "cell_type": "code",
   "execution_count": 21,
   "metadata": {},
   "outputs": [],
   "source": [
    "def random_state():\n",
    "    a = np.random.choice(6) + 1\n",
    "    b = np.random.choice(6) + 1\n",
    "    c = np.random.choice(6) + 1\n",
    "    return tuple(sorted((a,b,c),reverse = True))"
   ]
  },
  {
   "cell_type": "code",
   "execution_count": 22,
   "metadata": {},
   "outputs": [],
   "source": [
    "def transition_prob(state, action):\n",
    "    prob = {}\n",
    "    nb = np.sum(action)\n",
    "    for i in range(6**nb):\n",
    "        new_state = np.array(state)\n",
    "        die = i\n",
    "        for j in range(3):\n",
    "            if action[j]:\n",
    "                new_state[j] = die % 6 + 1\n",
    "                die = die // 6\n",
    "        new_state = tuple(sorted(new_state, reverse = True))\n",
    "        if new_state in prob:\n",
    "            prob[new_state] += 1 / 6**nb\n",
    "        else:\n",
    "            prob[new_state] = 1 / 6**nb\n",
    "    return prob"
   ]
  },
  {
   "cell_type": "code",
   "execution_count": 23,
   "metadata": {},
   "outputs": [],
   "source": [
    "def move(state, action):\n",
    "    prob = transition_prob(state, action)\n",
    "    i = np.random.choice(np.arange(len(prob)), p = list(prob.values()))\n",
    "    return list(prob.keys())[i]"
   ]
  },
  {
   "cell_type": "code",
   "execution_count": 24,
   "metadata": {},
   "outputs": [],
   "source": [
    "def get_score(state1, state2):\n",
    "    if rank[state1] < rank[state2]:\n",
    "        # player 1 wins\n",
    "        return score[state1]\n",
    "    elif rank[state1] > rank[state2]:\n",
    "        # player 2 wins\n",
    "        return -score[state2]\n",
    "    else:\n",
    "        # random tie breaking\n",
    "        return (1 - 2 * np.random.choice(2)) * score[state1]    "
   ]
  },
  {
   "cell_type": "code",
   "execution_count": 25,
   "metadata": {},
   "outputs": [],
   "source": [
    "# Score of the leader (single round)\n",
    "\n",
    "def lead_score(lead, opponent, lead_budget):\n",
    "    # leader\n",
    "    state = random_state()\n",
    "    throw = 2\n",
    "    while throw > 0 and (state, throw) in lead and lead[(state, throw)] != (0,0,0):\n",
    "        action = lead[(state, throw)]\n",
    "        state = move(state, action)\n",
    "        throw -= 1\n",
    "    lead_state = state\n",
    "    # opponent\n",
    "    state = random_state()\n",
    "    throw = 2 - throw\n",
    "    while throw > 0 and (lead_state, state, throw) in opponent and opponent[(lead_state, state, throw)] != (0,0,0):\n",
    "        action = opponent[(lead_state, state, throw)]\n",
    "        state = move(state, action)\n",
    "        throw -= 1\n",
    "    return get_score(lead_state, state)"
   ]
  },
  {
   "cell_type": "code",
   "execution_count": 26,
   "metadata": {},
   "outputs": [],
   "source": [
    "# Winner of a game (player 1 or player 2)\n",
    "\n",
    "def game(lead1, opponent1, lead2, opponent2):\n",
    "    # charge\n",
    "    budget = total_budget\n",
    "    budget1 = 0\n",
    "    budget2 = 0\n",
    "    while budget > 0:\n",
    "        state1 = random_state()\n",
    "        state2 = random_state()\n",
    "        result =  get_score(state1, state2)\n",
    "        cost = min(abs(result), budget)\n",
    "        if result > 0:\n",
    "            budget2 += cost\n",
    "            leader = 2\n",
    "        else:\n",
    "            budget1 += cost\n",
    "            leader = 1\n",
    "        budget -= cost\n",
    "    # decharge\n",
    "    while budget1 > 0 and budget2 > 0:\n",
    "        if leader == 1:\n",
    "            result = lead_score(lead1, opponent2, budget1)\n",
    "            budget1 -= result\n",
    "            budget2 += result\n",
    "            if result > 0:\n",
    "                leader = 2\n",
    "        else:\n",
    "            result = lead_score(lead2, opponent1, budget2)\n",
    "            budget1 += result\n",
    "            budget2 -= result\n",
    "            if result > 0:\n",
    "                leader = 1 \n",
    "    if budget1 > 0:\n",
    "        return 1\n",
    "    else:\n",
    "        return 2"
   ]
  },
  {
   "cell_type": "code",
   "execution_count": 39,
   "metadata": {},
   "outputs": [
    {
     "data": {
      "text/plain": [
       "{((2, 1, 1), 2): (1, 0, 1)}"
      ]
     },
     "execution_count": 39,
     "metadata": {},
     "output_type": "execute_result"
    }
   ],
   "source": [
    "lead"
   ]
  },
  {
   "cell_type": "code",
   "execution_count": 42,
   "metadata": {},
   "outputs": [
    {
     "data": {
      "text/plain": [
       "{((4, 2, 1), (4, 2, 2), 2): (0, 0, 1)}"
      ]
     },
     "execution_count": 42,
     "metadata": {},
     "output_type": "execute_result"
    }
   ],
   "source": [
    "opponent2"
   ]
  },
  {
   "cell_type": "code",
   "execution_count": 27,
   "metadata": {},
   "outputs": [],
   "source": [
    "lead1 = lead\n",
    "opponent1 = opponent\n",
    "lead2 = lead\n",
    "opponent2 = opponent"
   ]
  },
  {
   "cell_type": "code",
   "execution_count": 33,
   "metadata": {},
   "outputs": [
    {
     "data": {
      "text/plain": [
       "1"
      ]
     },
     "execution_count": 33,
     "metadata": {},
     "output_type": "execute_result"
    }
   ],
   "source": [
    "game(lead, opponent, lead, opponent)"
   ]
  },
  {
   "cell_type": "code",
   "execution_count": null,
   "metadata": {},
   "outputs": [],
   "source": []
  }
 ],
 "metadata": {
  "hide_input": false,
  "kernelspec": {
   "display_name": "Python 3",
   "language": "python",
   "name": "python3"
  },
  "language_info": {
   "codemirror_mode": {
    "name": "ipython",
    "version": 3
   },
   "file_extension": ".py",
   "mimetype": "text/x-python",
   "name": "python",
   "nbconvert_exporter": "python",
   "pygments_lexer": "ipython3",
   "version": "3.6.8"
  }
 },
 "nbformat": 4,
 "nbformat_minor": 2
}
