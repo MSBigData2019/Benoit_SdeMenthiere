{
 "cells": [
  {
   "cell_type": "markdown",
   "metadata": {},
   "source": [
    "## Vol d'hélicoptère"
   ]
  },
  {
   "cell_type": "markdown",
   "metadata": {},
   "source": [
    "Ce notebook montre quelques algorithmes d'apprentissage par renforcement appliqués à un vol d'hélicoptère en 2D (distance, altitude) :\n",
    "* Value Iteration\n",
    "* Policy Iteration\n",
    "* SARSA\n",
    "* Q-learning\n",
    "\n",
    "Une pénalisation peut être appliquée pour un vol à basse altitude.\n",
    "\n",
    "Votre mission est de tester les différents algorithmes et leurs paramètres, puis d'implémenter l'algorithme Q($\\lambda$) utilisant la trace des trajectoires, avec un paramètre de trace $\\lambda \\in [0,1]$."
   ]
  },
  {
   "cell_type": "markdown",
   "metadata": {},
   "source": [
    "## Init"
   ]
  },
  {
   "cell_type": "code",
   "execution_count": 1,
   "metadata": {},
   "outputs": [],
   "source": [
    "import numpy as np\n",
    "import matplotlib.pyplot as plt"
   ]
  },
  {
   "cell_type": "code",
   "execution_count": 2,
   "metadata": {},
   "outputs": [],
   "source": [
    "HEIGHT = 10\n",
    "WIDTH = 20"
   ]
  },
  {
   "cell_type": "code",
   "execution_count": 3,
   "metadata": {},
   "outputs": [],
   "source": [
    "BEST_REWARD = 100\n",
    "WORST_REWARD = -100"
   ]
  },
  {
   "cell_type": "code",
   "execution_count": 4,
   "metadata": {},
   "outputs": [],
   "source": [
    "def get_reward(state, high_altitude = 0, high_alt_cost = 1, low_alt_cost = 10):\n",
    "    reward = 0\n",
    "    if state[0] < 0:\n",
    "        if state[1] == WIDTH - 1:\n",
    "            # arrival\n",
    "            reward = BEST_REWARD\n",
    "        else: \n",
    "            # crash\n",
    "            reward = WORST_REWARD\n",
    "    elif state[0] < high_altitude:\n",
    "        # penalize low altitude\n",
    "        reward = -low_alt_cost\n",
    "    else:\n",
    "        reward = -high_alt_cost\n",
    "    return reward"
   ]
  },
  {
   "cell_type": "code",
   "execution_count": 5,
   "metadata": {},
   "outputs": [],
   "source": [
    "actions = [(1,0), (-1,0), (0,1), (0,-1)]"
   ]
  },
  {
   "cell_type": "code",
   "execution_count": 66,
   "metadata": {},
   "outputs": [],
   "source": [
    "states = [(i,j) for i in range(HEIGHT) for j in range(WIDTH)]"
   ]
  },
  {
   "cell_type": "code",
   "execution_count": 7,
   "metadata": {},
   "outputs": [],
   "source": [
    "def valid_state(state):\n",
    "    return (state[0] >=0) and (state[0] < HEIGHT) and (state[1] >=0) and (state[1] < WIDTH) "
   ]
  },
  {
   "cell_type": "code",
   "execution_count": 8,
   "metadata": {},
   "outputs": [],
   "source": [
    "def terminal_state(state):\n",
    "    return (state[0] < 0)"
   ]
  },
  {
   "cell_type": "code",
   "execution_count": 9,
   "metadata": {},
   "outputs": [],
   "source": [
    "def valid_action(state, action):\n",
    "    new_state = move(state, action)\n",
    "    return valid_state(new_state) or terminal_state(new_state)"
   ]
  },
  {
   "cell_type": "code",
   "execution_count": 10,
   "metadata": {},
   "outputs": [],
   "source": [
    "def move(state, action):\n",
    "    return tuple(np.array(state) + np.array(action))"
   ]
  },
  {
   "cell_type": "markdown",
   "metadata": {},
   "source": [
    "## Value iteration"
   ]
  },
  {
   "cell_type": "code",
   "execution_count": 11,
   "metadata": {},
   "outputs": [],
   "source": [
    "def show_value(V, cmap = \"jet\", scale = 20):\n",
    "    max_dimension = max(HEIGHT, WIDTH)\n",
    "    plt.figure(figsize=(scale * HEIGHT / max_dimension,scale * WIDTH / max_dimension))\n",
    "    plt.imshow(np.flip(V, axis = 0), cmap, vmin = WORST_REWARD, vmax = BEST_REWARD)\n",
    "    plt.axis('off')\n",
    "    plt.show()"
   ]
  },
  {
   "cell_type": "code",
   "execution_count": 142,
   "metadata": {},
   "outputs": [],
   "source": [
    "def value_iteration_synchronous(gamma, tol, max_iter):\n",
    "    '''\n",
    "    gamma: float\n",
    "        discount factor\n",
    "    tol: float\n",
    "        tolerance for convergence\n",
    "    max_iter: float\n",
    "        max number of iterations\n",
    "    '''\n",
    "    V = np.zeros((HEIGHT, WIDTH))\n",
    "    error = np.inf\n",
    "    iteration = 0\n",
    "    while error > tol:\n",
    "        error=0\n",
    "        new_V = np.zeros((HEIGHT, WIDTH))\n",
    "        for state in states:\n",
    "            max_value = np.NINF\n",
    "            for action in actions:\n",
    "                new_state = move(state, action)\n",
    "                if valid_state(new_state):\n",
    "                    value = get_reward(new_state) + gamma * V[new_state]\n",
    "                elif terminal_state(new_state):\n",
    "                    value = get_reward(new_state)\n",
    "                else:\n",
    "                    value = np.NINF\n",
    "                if value > max_value:\n",
    "                    max_value = value\n",
    "            new_V[state] = max_value\n",
    "        error = np.max(np.abs(new_V - V))\n",
    "        V = new_V\n",
    "        iteration += 1\n",
    "        if iteration >= max_iter:\n",
    "            break\n",
    "    return V"
   ]
  },
  {
   "cell_type": "code",
   "execution_count": 13,
   "metadata": {},
   "outputs": [],
   "source": [
    "def value_iteration_asynchronous(gamma, tol, max_iter):\n",
    "    '''\n",
    "    gamma: float\n",
    "        discount factor\n",
    "    tol: float\n",
    "        tolerance for convergence\n",
    "    max_iter: float\n",
    "        max number of iterations\n",
    "    '''\n",
    "    V = np.zeros((HEIGHT, WIDTH))\n",
    "    error = np.inf\n",
    "    iteration = 0\n",
    "    while error > tol:\n",
    "        for state in states:\n",
    "            max_value = np.NINF\n",
    "            for action in actions:\n",
    "                new_state = move(state, action)\n",
    "                if valid_state(new_state):\n",
    "                    value = get_reward(new_state) + gamma * V[new_state]\n",
    "                elif terminal_state(new_state):\n",
    "                    value = get_reward(new_state)\n",
    "                else:\n",
    "                    value = np.NINF\n",
    "                if value > max_value:\n",
    "                    max_value = value\n",
    "            error_ = np.abs(max_value - V[state])\n",
    "            if error_ > error:\n",
    "                error = error_\n",
    "            V[state] = max_value\n",
    "        iteration += 1\n",
    "        if iteration >= max_iter:\n",
    "            break\n",
    "    return V"
   ]
  },
  {
   "cell_type": "code",
   "execution_count": 14,
   "metadata": {},
   "outputs": [],
   "source": [
    "def value_iteration(asynchronous = True, gamma = 1, tol = 1e-2, max_iter = 50):\n",
    "    '''\n",
    "    asynchronous: bool\n",
    "        if True, asynchronous updates\n",
    "    gamma: float\n",
    "        discount factor\n",
    "    tol: float\n",
    "        tolerance for convergence\n",
    "    max_iter: float\n",
    "        max number of iterations\n",
    "    '''\n",
    "    if asynchronous:\n",
    "        return value_iteration_asynchronous(gamma, tol, max_iter)\n",
    "    else:\n",
    "        return value_iteration_synchronous(gamma, tol, max_iter)"
   ]
  },
  {
   "cell_type": "code",
   "execution_count": 80,
   "metadata": {},
   "outputs": [],
   "source": [
    "V = np.zeros((HEIGHT, WIDTH))"
   ]
  },
  {
   "cell_type": "code",
   "execution_count": 73,
   "metadata": {},
   "outputs": [
    {
     "data": {
      "image/png": "[encoded data removed]",
      "text/plain": [
       "<Figure size 720x1440 with 1 Axes>"
      ]
     },
     "metadata": {
      "needs_background": "light"
     },
     "output_type": "display_data"
    }
   ],
   "source": [
    "show_value(V)"
   ]
  },
  {
   "cell_type": "code",
   "execution_count": 74,
   "metadata": {
    "scrolled": true
   },
   "outputs": [],
   "source": [
    "V = value_iteration(asynchronous=False, max_iter=1)"
   ]
  },
  {
   "cell_type": "code",
   "execution_count": 86,
   "metadata": {
    "scrolled": true
   },
   "outputs": [],
   "source": [
    "V = value_iteration(asynchronous=True, max_iter=1)"
   ]
  },
  {
   "cell_type": "code",
   "execution_count": 87,
   "metadata": {
    "scrolled": false
   },
   "outputs": [
    {
     "data": {
      "image/png": "[encoded data removed]",
      "text/plain": [
       "<Figure size 720x1440 with 1 Axes>"
      ]
     },
     "metadata": {
      "needs_background": "light"
     },
     "output_type": "display_data"
    }
   ],
   "source": [
    "show_value(V)"
   ]
  },
  {
   "cell_type": "code",
   "execution_count": 83,
   "metadata": {},
   "outputs": [],
   "source": [
    "states = [(i,j) for i in range(HEIGHT) for j in range(WIDTH)]"
   ]
  },
  {
   "cell_type": "code",
   "execution_count": 84,
   "metadata": {},
   "outputs": [],
   "source": [
    "states.sort(key=lambda x:x[0])"
   ]
  },
  {
   "cell_type": "code",
   "execution_count": 85,
   "metadata": {},
   "outputs": [
    {
     "data": {
      "text/plain": [
       "[(0, 0),\n",
       " (0, 1),\n",
       " (0, 2),\n",
       " (0, 3),\n",
       " (0, 4),\n",
       " (0, 5),\n",
       " (0, 6),\n",
       " (0, 7),\n",
       " (0, 8),\n",
       " (0, 9),\n",
       " (0, 10),\n",
       " (0, 11),\n",
       " (0, 12),\n",
       " (0, 13),\n",
       " (0, 14),\n",
       " (0, 15),\n",
       " (0, 16),\n",
       " (0, 17),\n",
       " (0, 18),\n",
       " (0, 19),\n",
       " (1, 0),\n",
       " (1, 1),\n",
       " (1, 2),\n",
       " (1, 3),\n",
       " (1, 4),\n",
       " (1, 5),\n",
       " (1, 6),\n",
       " (1, 7),\n",
       " (1, 8),\n",
       " (1, 9),\n",
       " (1, 10),\n",
       " (1, 11),\n",
       " (1, 12),\n",
       " (1, 13),\n",
       " (1, 14),\n",
       " (1, 15),\n",
       " (1, 16),\n",
       " (1, 17),\n",
       " (1, 18),\n",
       " (1, 19),\n",
       " (2, 0),\n",
       " (2, 1),\n",
       " (2, 2),\n",
       " (2, 3),\n",
       " (2, 4),\n",
       " (2, 5),\n",
       " (2, 6),\n",
       " (2, 7),\n",
       " (2, 8),\n",
       " (2, 9),\n",
       " (2, 10),\n",
       " (2, 11),\n",
       " (2, 12),\n",
       " (2, 13),\n",
       " (2, 14),\n",
       " (2, 15),\n",
       " (2, 16),\n",
       " (2, 17),\n",
       " (2, 18),\n",
       " (2, 19),\n",
       " (3, 0),\n",
       " (3, 1),\n",
       " (3, 2),\n",
       " (3, 3),\n",
       " (3, 4),\n",
       " (3, 5),\n",
       " (3, 6),\n",
       " (3, 7),\n",
       " (3, 8),\n",
       " (3, 9),\n",
       " (3, 10),\n",
       " (3, 11),\n",
       " (3, 12),\n",
       " (3, 13),\n",
       " (3, 14),\n",
       " (3, 15),\n",
       " (3, 16),\n",
       " (3, 17),\n",
       " (3, 18),\n",
       " (3, 19),\n",
       " (4, 0),\n",
       " (4, 1),\n",
       " (4, 2),\n",
       " (4, 3),\n",
       " (4, 4),\n",
       " (4, 5),\n",
       " (4, 6),\n",
       " (4, 7),\n",
       " (4, 8),\n",
       " (4, 9),\n",
       " (4, 10),\n",
       " (4, 11),\n",
       " (4, 12),\n",
       " (4, 13),\n",
       " (4, 14),\n",
       " (4, 15),\n",
       " (4, 16),\n",
       " (4, 17),\n",
       " (4, 18),\n",
       " (4, 19),\n",
       " (5, 0),\n",
       " (5, 1),\n",
       " (5, 2),\n",
       " (5, 3),\n",
       " (5, 4),\n",
       " (5, 5),\n",
       " (5, 6),\n",
       " (5, 7),\n",
       " (5, 8),\n",
       " (5, 9),\n",
       " (5, 10),\n",
       " (5, 11),\n",
       " (5, 12),\n",
       " (5, 13),\n",
       " (5, 14),\n",
       " (5, 15),\n",
       " (5, 16),\n",
       " (5, 17),\n",
       " (5, 18),\n",
       " (5, 19),\n",
       " (6, 0),\n",
       " (6, 1),\n",
       " (6, 2),\n",
       " (6, 3),\n",
       " (6, 4),\n",
       " (6, 5),\n",
       " (6, 6),\n",
       " (6, 7),\n",
       " (6, 8),\n",
       " (6, 9),\n",
       " (6, 10),\n",
       " (6, 11),\n",
       " (6, 12),\n",
       " (6, 13),\n",
       " (6, 14),\n",
       " (6, 15),\n",
       " (6, 16),\n",
       " (6, 17),\n",
       " (6, 18),\n",
       " (6, 19),\n",
       " (7, 0),\n",
       " (7, 1),\n",
       " (7, 2),\n",
       " (7, 3),\n",
       " (7, 4),\n",
       " (7, 5),\n",
       " (7, 6),\n",
       " (7, 7),\n",
       " (7, 8),\n",
       " (7, 9),\n",
       " (7, 10),\n",
       " (7, 11),\n",
       " (7, 12),\n",
       " (7, 13),\n",
       " (7, 14),\n",
       " (7, 15),\n",
       " (7, 16),\n",
       " (7, 17),\n",
       " (7, 18),\n",
       " (7, 19),\n",
       " (8, 0),\n",
       " (8, 1),\n",
       " (8, 2),\n",
       " (8, 3),\n",
       " (8, 4),\n",
       " (8, 5),\n",
       " (8, 6),\n",
       " (8, 7),\n",
       " (8, 8),\n",
       " (8, 9),\n",
       " (8, 10),\n",
       " (8, 11),\n",
       " (8, 12),\n",
       " (8, 13),\n",
       " (8, 14),\n",
       " (8, 15),\n",
       " (8, 16),\n",
       " (8, 17),\n",
       " (8, 18),\n",
       " (8, 19),\n",
       " (9, 0),\n",
       " (9, 1),\n",
       " (9, 2),\n",
       " (9, 3),\n",
       " (9, 4),\n",
       " (9, 5),\n",
       " (9, 6),\n",
       " (9, 7),\n",
       " (9, 8),\n",
       " (9, 9),\n",
       " (9, 10),\n",
       " (9, 11),\n",
       " (9, 12),\n",
       " (9, 13),\n",
       " (9, 14),\n",
       " (9, 15),\n",
       " (9, 16),\n",
       " (9, 17),\n",
       " (9, 18),\n",
       " (9, 19)]"
      ]
     },
     "execution_count": 85,
     "metadata": {},
     "output_type": "execute_result"
    }
   ],
   "source": [
    "states"
   ]
  },
  {
   "cell_type": "code",
   "execution_count": 19,
   "metadata": {},
   "outputs": [],
   "source": [
    "def best_policy(V, gamma = 1):\n",
    "    policy = np.zeros((HEIGHT, WIDTH), dtype=tuple)\n",
    "    for state in states:\n",
    "        max_value = np.NINF\n",
    "        for action in actions:\n",
    "            new_state = move(state, action)\n",
    "            if valid_state(new_state):\n",
    "                value = get_reward(new_state) + gamma * V[new_state]\n",
    "            elif terminal_state(new_state):\n",
    "                value = get_reward(new_state)\n",
    "            else:\n",
    "                value = np.NINF\n",
    "            if value > max_value:\n",
    "                max_value = value\n",
    "                best_action = action\n",
    "        policy[state] = best_action\n",
    "    return policy"
   ]
  },
  {
   "cell_type": "code",
   "execution_count": 20,
   "metadata": {},
   "outputs": [],
   "source": [
    "policy = best_policy(V)"
   ]
  },
  {
   "cell_type": "code",
   "execution_count": 21,
   "metadata": {},
   "outputs": [],
   "source": [
    "def get_path(policy, state = (0, 0)):\n",
    "    path = []\n",
    "    while not(terminal_state(state)) and state not in path:\n",
    "        path.append(state)\n",
    "        action = policy[state]\n",
    "        state = move(state, action)\n",
    "    return path"
   ]
  },
  {
   "cell_type": "code",
   "execution_count": 22,
   "metadata": {},
   "outputs": [],
   "source": [
    "path = get_path(policy)"
   ]
  },
  {
   "cell_type": "code",
   "execution_count": 23,
   "metadata": {},
   "outputs": [],
   "source": [
    "def show_path(path, scale = 20, cmap = \"Greys\"):\n",
    "    max_dimension = max(HEIGHT, WIDTH)\n",
    "    plt.figure(figsize=(scale * HEIGHT / max_dimension,scale * WIDTH / max_dimension))\n",
    "    P = np.zeros((HEIGHT, WIDTH))\n",
    "    for i,j in path:\n",
    "        P[i,j] = 1\n",
    "    plt.imshow(np.flip(P, axis = 0),cmap, vmin = 0, vmax = 1)\n",
    "    plt.xticks([], [])\n",
    "    plt.yticks([], [])\n",
    "    plt.show()"
   ]
  },
  {
   "cell_type": "code",
   "execution_count": 24,
   "metadata": {},
   "outputs": [
    {
     "data": {
      "image/png": "[encoded data removed]",
      "text/plain": [
       "<Figure size 720x1440 with 1 Axes>"
      ]
     },
     "metadata": {},
     "output_type": "display_data"
    }
   ],
   "source": [
    "show_path(path)"
   ]
  },
  {
   "cell_type": "markdown",
   "metadata": {},
   "source": [
    "## Policy iteration"
   ]
  },
  {
   "cell_type": "code",
   "execution_count": 25,
   "metadata": {},
   "outputs": [],
   "source": [
    "def init_random_policy():\n",
    "    policy = np.zeros((HEIGHT, WIDTH), dtype=tuple)\n",
    "    for state in states:\n",
    "        valid_actions = [action for action in actions if valid_action(state, action)]\n",
    "        policy[state] = valid_actions[np.random.choice(len(valid_actions))]\n",
    "    return policy"
   ]
  },
  {
   "cell_type": "code",
   "execution_count": 26,
   "metadata": {},
   "outputs": [],
   "source": [
    "def policy_evaluation_synchronous(policy, gamma, tol, max_iter):\n",
    "    '''\n",
    "    gamma: float\n",
    "        discount factor\n",
    "    tol: float\n",
    "        tolerance for convergence\n",
    "    max_iter: float\n",
    "        max number of iterations\n",
    "    '''\n",
    "    V = np.zeros((HEIGHT, WIDTH))\n",
    "    error = np.inf\n",
    "    iteration = 0\n",
    "    while error > tol:\n",
    "        new_V = np.zeros((HEIGHT, WIDTH))\n",
    "        for state in states:\n",
    "            action = policy[state]\n",
    "            new_state = move(state, action)\n",
    "            if valid_state(new_state):\n",
    "                value = get_reward(new_state) + gamma * V[new_state]\n",
    "            elif terminal_state(new_state):\n",
    "                value = get_reward(new_state)\n",
    "            new_V[state] = value\n",
    "        error = np.max(np.abs(new_V - V))\n",
    "        V = new_V\n",
    "        iteration += 1\n",
    "        if iteration >= max_iter:\n",
    "            break\n",
    "    return V"
   ]
  },
  {
   "cell_type": "code",
   "execution_count": 141,
   "metadata": {},
   "outputs": [],
   "source": [
    "def policy_evaluation_asynchronous(policy, gamma, tol, max_iter):\n",
    "    '''\n",
    "    gamma: float\n",
    "        discount factor\n",
    "    tol: float\n",
    "        tolerance for convergence\n",
    "    max_iter: float\n",
    "        max number of iterations\n",
    "    '''\n",
    "    V = np.zeros((HEIGHT, WIDTH))\n",
    "    error = np.inf\n",
    "    iteration = 0\n",
    "    while error > tol:\n",
    "        error = 0\n",
    "        for state in states:\n",
    "            action = policy[state]\n",
    "            new_state = move(state, action)\n",
    "            if valid_state(new_state):\n",
    "                value = get_reward(new_state) + gamma * V[new_state]\n",
    "            elif terminal_state(new_state):\n",
    "                value = get_reward(new_state)\n",
    "            error_ = np.abs(value - V[state])\n",
    "            if error_ > error:\n",
    "                error = error_\n",
    "            V[state] = value\n",
    "        iteration += 1\n",
    "        if iteration >= max_iter:\n",
    "            break\n",
    "    return V"
   ]
  },
  {
   "cell_type": "code",
   "execution_count": 28,
   "metadata": {},
   "outputs": [],
   "source": [
    "def policy_evaluation(policy, asynchronous = True, gamma = 1, tol = 1e-2, max_iter = 50):\n",
    "    '''\n",
    "    asynchronous: bool\n",
    "        if True, asynchronous updates\n",
    "    gamma: float\n",
    "        discount factor\n",
    "    tol: float\n",
    "        tolerance for convergence\n",
    "    max_iter: float\n",
    "        max number of iterations\n",
    "    '''\n",
    "    if asynchronous:\n",
    "        return policy_evaluation_asynchronous(policy, gamma, tol, max_iter)\n",
    "    else:\n",
    "        return policy_evaluation_synchronous(policy, gamma, tol, max_iter)"
   ]
  },
  {
   "cell_type": "code",
   "execution_count": 120,
   "metadata": {
    "scrolled": true
   },
   "outputs": [],
   "source": [
    "policy = init_random_policy()"
   ]
  },
  {
   "cell_type": "code",
   "execution_count": 121,
   "metadata": {
    "scrolled": true
   },
   "outputs": [
    {
     "data": {
      "image/png": "[encoded data removed]",
      "text/plain": [
       "<Figure size 720x1440 with 1 Axes>"
      ]
     },
     "metadata": {},
     "output_type": "display_data"
    }
   ],
   "source": [
    "show_path(get_path(policy))"
   ]
  },
  {
   "cell_type": "code",
   "execution_count": 122,
   "metadata": {
    "scrolled": false
   },
   "outputs": [
    {
     "data": {
      "image/png": "[encoded data removed]",
      "text/plain": [
       "<Figure size 720x1440 with 1 Axes>"
      ]
     },
     "metadata": {
      "needs_background": "light"
     },
     "output_type": "display_data"
    }
   ],
   "source": [
    "V = policy_evaluation(policy)\n",
    "show_value(V)"
   ]
  },
  {
   "cell_type": "code",
   "execution_count": 127,
   "metadata": {
    "scrolled": true
   },
   "outputs": [],
   "source": [
    "policy = best_policy(V)"
   ]
  },
  {
   "cell_type": "code",
   "execution_count": 128,
   "metadata": {
    "scrolled": true
   },
   "outputs": [
    {
     "data": {
      "image/png": "[encoded data removed]",
      "text/plain": [
       "<Figure size 720x1440 with 1 Axes>"
      ]
     },
     "metadata": {},
     "output_type": "display_data"
    }
   ],
   "source": [
    "show_path(get_path(policy, state = (0,15)))"
   ]
  },
  {
   "cell_type": "code",
   "execution_count": 129,
   "metadata": {},
   "outputs": [
    {
     "data": {
      "image/png": "[encoded data removed]",
      "text/plain": [
       "<Figure size 720x1440 with 1 Axes>"
      ]
     },
     "metadata": {},
     "output_type": "display_data"
    }
   ],
   "source": [
    "# Policy iteration\n",
    "\n",
    "for i in range(20):\n",
    "    V = policy_evaluation(policy)\n",
    "    policy = best_policy(V)\n",
    "    \n",
    "show_path(get_path(policy))"
   ]
  },
  {
   "cell_type": "markdown",
   "metadata": {},
   "source": [
    "## SARSA"
   ]
  },
  {
   "cell_type": "markdown",
   "metadata": {},
   "source": [
    "Online learning. On-policy (behaviour = target)."
   ]
  },
  {
   "cell_type": "code",
   "execution_count": 35,
   "metadata": {},
   "outputs": [],
   "source": [
    "state_actions = [(state, action) for state in states for action in actions\n",
    "                 if valid_action(state, action)]"
   ]
  },
  {
   "cell_type": "code",
   "execution_count": 36,
   "metadata": {},
   "outputs": [],
   "source": [
    "Q = {(state, action): 0 for (state, action) in state_actions}"
   ]
  },
  {
   "cell_type": "code",
   "execution_count": 37,
   "metadata": {},
   "outputs": [],
   "source": [
    "def get_action(state, policy, eps = 0.1):\n",
    "    '''\n",
    "    eps: float\n",
    "        Parameter of the epsilon-greedy policy\n",
    "        Controls the exploration (eps = 0 means no exploration)\n",
    "    '''\n",
    "    if np.random.random() < eps:\n",
    "        valid_actions = [action for action in actions if valid_action(state, action)]\n",
    "        return valid_actions[np.random.choice(len(valid_actions))]\n",
    "    else:\n",
    "        return policy[state]    "
   ]
  },
  {
   "cell_type": "code",
   "execution_count": 38,
   "metadata": {},
   "outputs": [],
   "source": [
    "def sarsa(alpha = 0.9, gamma = 1, max_sequence = 200, steps = 10000, \n",
    "          verbose = True, batch = 10**3):\n",
    "    policy = init_random_policy()\n",
    "    Q = {(state, action): 0 for (state, action) in state_actions}\n",
    "    for t in range(steps):\n",
    "        if verbose:\n",
    "            if t%batch == 0:\n",
    "                print('Batch ',str(t // batch + 1),' over ',str(steps // batch))\n",
    "        # start an episode\n",
    "        state = states[np.random.choice(len(states))]\n",
    "        action = get_action(state, policy)\n",
    "        sequence = []\n",
    "        while not(terminal_state(state)) and len(sequence) < max_sequence:\n",
    "            sequence.append(state)\n",
    "            new_state = move(state, action)\n",
    "            reward = get_reward(new_state)\n",
    "            new_action = get_action(new_state, policy)\n",
    "            if terminal_state(new_state):\n",
    "                Q[(state, action)] += alpha * (reward - Q[(state, action)])\n",
    "            else:\n",
    "                Q[(state, action)] += alpha * (reward + gamma * Q[(new_state, new_action)] \n",
    "                                               - Q[(state, action)])\n",
    "            state = new_state\n",
    "            action = new_action\n",
    "        # update policy\n",
    "        for state in sequence:\n",
    "            qvalues = {a: Q[(state, a)] for a in actions if valid_action(state, a)}\n",
    "            policy[state] = max(qvalues, key = qvalues.get)\n",
    "    return policy"
   ]
  },
  {
   "cell_type": "code",
   "execution_count": 39,
   "metadata": {
    "scrolled": true
   },
   "outputs": [
    {
     "name": "stdout",
     "output_type": "stream",
     "text": [
      "Batch  1  over  10\n",
      "Batch  2  over  10\n",
      "Batch  3  over  10\n",
      "Batch  4  over  10\n",
      "Batch  5  over  10\n",
      "Batch  6  over  10\n",
      "Batch  7  over  10\n",
      "Batch  8  over  10\n",
      "Batch  9  over  10\n",
      "Batch  10  over  10\n"
     ]
    }
   ],
   "source": [
    "sarsa_policy = sarsa(gamma = 0.9)"
   ]
  },
  {
   "cell_type": "code",
   "execution_count": 40,
   "metadata": {},
   "outputs": [
    {
     "data": {
      "image/png": "[encoded data removed]",
      "text/plain": [
       "<Figure size 720x1440 with 1 Axes>"
      ]
     },
     "metadata": {
      "needs_background": "light"
     },
     "output_type": "display_data"
    }
   ],
   "source": [
    "V = policy_evaluation(sarsa_policy, gamma=0.9)\n",
    "show_value(V)"
   ]
  },
  {
   "cell_type": "code",
   "execution_count": 132,
   "metadata": {},
   "outputs": [
    {
     "data": {
      "image/png": "[encoded data removed]",
      "text/plain": [
       "<Figure size 720x1440 with 1 Axes>"
      ]
     },
     "metadata": {},
     "output_type": "display_data"
    }
   ],
   "source": [
    "show_path(get_path(sarsa_policy))"
   ]
  },
  {
   "cell_type": "markdown",
   "metadata": {},
   "source": [
    "## Q-learning"
   ]
  },
  {
   "cell_type": "markdown",
   "metadata": {},
   "source": [
    "Online learning. Off-policy (behaviour $\\ne$ target)."
   ]
  },
  {
   "cell_type": "code",
   "execution_count": 133,
   "metadata": {},
   "outputs": [],
   "source": [
    "def qlearning(alpha = 0.9, gamma = 1, max_sequence = 100, steps = 10**4, \n",
    "              verbose = True, batch = 10**3):\n",
    "    policy = init_random_policy()\n",
    "    Q = {(state, action): 0 for (state, action) in state_actions}\n",
    "    for t in range(steps):\n",
    "        if verbose:\n",
    "            if t%batch == 0:\n",
    "                print('Batch ',str(t // batch + 1),' over ',str(steps // batch))\n",
    "        # start an episode\n",
    "        state = states[np.random.choice(len(states))]\n",
    "        sequence = []\n",
    "        while not(terminal_state(state)) and len(sequence) < max_sequence:\n",
    "            sequence.append(state)\n",
    "            action = get_action(state, policy)\n",
    "            new_state = move(state, action)\n",
    "            reward = get_reward(new_state)\n",
    "            if terminal_state(new_state):\n",
    "                Q[(state, action)] += alpha * (reward - Q[(state, action)])\n",
    "            else:\n",
    "                qvalues = [Q[(new_state, a)] for a in actions if valid_action(new_state, a)]\n",
    "                Q[(state, action)] += alpha * (reward + gamma * np.max(np.array(qvalues))\n",
    "                                               - Q[(state, action)]) \n",
    "            state = new_state\n",
    "        # update policy\n",
    "        for state in sequence:\n",
    "            qvalues = {a: Q[(state, a)] for a in actions if valid_action(state, a)}\n",
    "            policy[state] = max(qvalues, key = qvalues.get)\n",
    "    return policy"
   ]
  },
  {
   "cell_type": "code",
   "execution_count": 138,
   "metadata": {
    "scrolled": false
   },
   "outputs": [
    {
     "name": "stdout",
     "output_type": "stream",
     "text": [
      "Batch  1  over  10\n",
      "Batch  2  over  10\n",
      "Batch  3  over  10\n",
      "Batch  4  over  10\n",
      "Batch  5  over  10\n",
      "Batch  6  over  10\n",
      "Batch  7  over  10\n",
      "Batch  8  over  10\n",
      "Batch  9  over  10\n",
      "Batch  10  over  10\n"
     ]
    }
   ],
   "source": [
    "qlearning_policy = qlearning(gamma = 0.9)"
   ]
  },
  {
   "cell_type": "code",
   "execution_count": 44,
   "metadata": {},
   "outputs": [
    {
     "data": {
      "image/png": "[encoded data removed]",
      "text/plain": [
       "<Figure size 720x1440 with 1 Axes>"
      ]
     },
     "metadata": {
      "needs_background": "light"
     },
     "output_type": "display_data"
    }
   ],
   "source": [
    "V = policy_evaluation(qlearning_policy)\n",
    "show_value(V)"
   ]
  },
  {
   "cell_type": "code",
   "execution_count": 140,
   "metadata": {
    "scrolled": true
   },
   "outputs": [
    {
     "data": {
      "image/png": "[encoded data removed]",
      "text/plain": [
       "<Figure size 720x1440 with 1 Axes>"
      ]
     },
     "metadata": {},
     "output_type": "display_data"
    }
   ],
   "source": [
    "show_path(get_path(qlearning_policy))"
   ]
  },
  {
   "cell_type": "code",
   "execution_count": null,
   "metadata": {},
   "outputs": [],
   "source": []
  }
 ],
 "metadata": {
  "hide_input": false,
  "kernelspec": {
   "display_name": "Python 3",
   "language": "python",
   "name": "python3"
  },
  "language_info": {
   "codemirror_mode": {
    "name": "ipython",
    "version": 3
   },
   "file_extension": ".py",
   "mimetype": "text/x-python",
   "name": "python",
   "nbconvert_exporter": "python",
   "pygments_lexer": "ipython3",
   "version": "3.6.8"
  }
 },
 "nbformat": 4,
 "nbformat_minor": 2
}
