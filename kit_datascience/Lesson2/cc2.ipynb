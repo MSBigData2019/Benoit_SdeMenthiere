{
 "cells": [
  {
   "cell_type": "code",
   "execution_count": 74,
   "metadata": {},
   "outputs": [],
   "source": [
    "from bs4 import BeautifulSoup\n",
    "import requests\n",
    "import re\n",
    "from statistics import mean"
   ]
  },
  {
   "cell_type": "code",
   "execution_count": 15,
   "metadata": {},
   "outputs": [],
   "source": [
    "marque = \"acer\""
   ]
  },
  {
   "cell_type": "code",
   "execution_count": 90,
   "metadata": {},
   "outputs": [],
   "source": [
    "def get_5_1st_page_soup(marque):\n",
    "    req = []\n",
    "    for p in range(1, 6):\n",
    "        if p ==1:\n",
    "            s = \"\"\n",
    "        else:\n",
    "            s = \"_\"+str(p)\n",
    "#             print(p)\n",
    "        r = requests.get(\"https://www.darty.com/nav/achat/informatique/ordinateur_portable/portable/marque\"+s+\"__\"+marque+\"__\"+marque.upper()+\".html\")\n",
    "        if r.status_code != 200:\n",
    "            print(\"bad request\")\n",
    "            return\n",
    "        req.append(r)\n",
    "#     print([r.status_code for r in req])\n",
    "    return req"
   ]
  },
  {
   "cell_type": "code",
   "execution_count": 91,
   "metadata": {},
   "outputs": [],
   "source": [
    "def get_promo(marque):\n",
    "    liste = get_5_1st_page_soup(marque)\n",
    "    promo = []\n",
    "    for p in liste:\n",
    "        soup = BeautifulSoup(p.text , \"html.parser\")\n",
    "        promo += [x.text for x in soup.findAll(\"p\", class_ = \"darty_prix_barre_remise darty_small separator_top\")]\n",
    "    return promo"
   ]
  },
  {
   "cell_type": "code",
   "execution_count": 124,
   "metadata": {},
   "outputs": [],
   "source": [
    "def get_mean_promo(marque):\n",
    "    promos = get_promo(marque)\n",
    "    clean = [int(re.findall(\"\\d+\", promo)[0]) for promo in promos]\n",
    "    try:\n",
    "        return \"The mean promotion is -{:.2f}% for {} computers\".format(mean(clean), marque)\n",
    "    except:\n",
    "        print(\"not promotions found for {} computer\".format(marque))"
   ]
  },
  {
   "cell_type": "code",
   "execution_count": 125,
   "metadata": {},
   "outputs": [
    {
     "data": {
      "text/plain": [
       "'The mean promotion is -22.03% for asus computers'"
      ]
     },
     "execution_count": 125,
     "metadata": {},
     "output_type": "execute_result"
    }
   ],
   "source": [
    "get_mean_promo(\"asus\")"
   ]
  },
  {
   "cell_type": "code",
   "execution_count": null,
   "metadata": {},
   "outputs": [],
   "source": [
    "get_mean_promo(\"dell\")"
   ]
  },
  {
   "cell_type": "code",
   "execution_count": null,
   "metadata": {},
   "outputs": [],
   "source": []
  }
 ],
 "metadata": {
  "kernelspec": {
   "display_name": "Python 3",
   "language": "python",
   "name": "python3"
  },
  "language_info": {
   "codemirror_mode": {
    "name": "ipython",
    "version": 3
   },
   "file_extension": ".py",
   "mimetype": "text/x-python",
   "name": "python",
   "nbconvert_exporter": "python",
   "pygments_lexer": "ipython3",
   "version": "3.7.0"
  }
 },
 "nbformat": 4,
 "nbformat_minor": 2
}
