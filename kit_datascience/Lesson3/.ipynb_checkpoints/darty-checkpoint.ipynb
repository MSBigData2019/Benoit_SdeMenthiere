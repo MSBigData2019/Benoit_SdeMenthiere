{
 "cells": [
  {
   "cell_type": "code",
   "execution_count": 1,
   "metadata": {},
   "outputs": [],
   "source": [
    "from bs4 import BeautifulSoup\n",
    "import requests"
   ]
  },
  {
   "cell_type": "code",
   "execution_count": 38,
   "metadata": {},
   "outputs": [],
   "source": [
    "marque = \"dell\""
   ]
  },
  {
   "cell_type": "code",
   "execution_count": 61,
   "metadata": {},
   "outputs": [],
   "source": [
    "def get_5_1st_page_soup(marque):\n",
    "    req = list(requests.get(\"https://www.darty.com/nav/achat/informatique/ordinateur_portable/portable/marque__\"+marque+\"__\"+marque.upper()+\".html\"))\n",
    "    for p in range(2, 5):\n",
    "        req.append(requests.get(\"https://www.darty.com/nav/achat/informatique/ordinateur_portable/portable/marque__\"+marque+\"_\"+str(p)+\"__\"+marque.upper()+\".html\").text)\n",
    "    return req"
   ]
  },
  {
   "cell_type": "code",
   "execution_count": 39,
   "metadata": {},
   "outputs": [],
   "source": [
    "req = requests.post(\"https://www.darty.com/nav/achat/informatique/ordinateur_portable/portable/marque__\"+marque+\"__\"+marque.upper()+\".html\")"
   ]
  },
  {
   "cell_type": "code",
   "execution_count": 40,
   "metadata": {},
   "outputs": [],
   "source": [
    "if req.status_code == 200:\n",
    "    html_doc = req.text\n",
    "    soup = BeautifulSoup(html_doc, 'html.parser')"
   ]
  },
  {
   "cell_type": "code",
   "execution_count": 41,
   "metadata": {},
   "outputs": [
    {
     "data": {
      "text/plain": [
       "['- 6%', '- 6%', '- 6%', '- 6%', '- 6%', '- 29%']"
      ]
     },
     "execution_count": 41,
     "metadata": {},
     "output_type": "execute_result"
    }
   ],
   "source": [
    "[x.text for x in soup.findAll(\"p\", class_ = \"darty_prix_barre_remise darty_small separator_top\")]"
   ]
  },
  {
   "cell_type": "code",
   "execution_count": 70,
   "metadata": {},
   "outputs": [],
   "source": [
    "def get_promo(liste):\n",
    "    promo = []\n",
    "    for p in liste:\n",
    "        soup = BeautifulSoup(p , \"html.parser\")\n",
    "        promo += [x.text for x in soup.findAll(\"p\", class_ = \"darty_prix_barre_remise darty_small separator_top\")]\n",
    "    return promo"
   ]
  },
  {
   "cell_type": "code",
   "execution_count": 71,
   "metadata": {},
   "outputs": [
    {
     "data": {
      "text/plain": [
       "['- 17%',\n",
       " '- 25%',\n",
       " '- 26%',\n",
       " '- 21%<',\n",
       " '- ',\n",
       " '- 23',\n",
       " '- 25%',\n",
       " '- 25%',\n",
       " '- 26%',\n",
       " '- 26%',\n",
       " '- 26%']"
      ]
     },
     "execution_count": 71,
     "metadata": {},
     "output_type": "execute_result"
    }
   ],
   "source": [
    "get_promo(get_5_1st_page_soup(\"acer\"))"
   ]
  },
  {
   "cell_type": "code",
   "execution_count": null,
   "metadata": {},
   "outputs": [],
   "source": []
  }
 ],
 "metadata": {
  "kernelspec": {
   "display_name": "Python 3",
   "language": "python",
   "name": "python3"
  },
  "language_info": {
   "codemirror_mode": {
    "name": "ipython",
    "version": 3
   },
   "file_extension": ".py",
   "mimetype": "text/x-python",
   "name": "python",
   "nbconvert_exporter": "python",
   "pygments_lexer": "ipython3",
   "version": "3.7.0"
  }
 },
 "nbformat": 4,
 "nbformat_minor": 2
}
