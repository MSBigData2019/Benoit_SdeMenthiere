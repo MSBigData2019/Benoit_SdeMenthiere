{
 "cells": [
  {
   "cell_type": "code",
   "execution_count": 32,
   "metadata": {},
   "outputs": [],
   "source": [
    "from bs4 import BeautifulSoup\n",
    "import requests\n",
    "import re"
   ]
  },
  {
   "cell_type": "code",
   "execution_count": 20,
   "metadata": {},
   "outputs": [],
   "source": [
    "def get_50_cities():\n",
    "    liste = []\n",
    "    r = requests.get(\"https://fr.wikipedia.org/wiki/Liste_des_communes_de_France_les_plus_peupl%C3%A9es\")\n",
    "    soup = BeautifulSoup(r.text, 'html.parser')\n",
    "    table = soup.find(\"tbody\")\n",
    "    villes = table.findAll(\"tr\")[1:51]\n",
    "    for ville in villes:\n",
    "        liste.append(ville.find(\"b\").text)\n",
    "    return liste"
   ]
  },
  {
   "cell_type": "code",
   "execution_count": 21,
   "metadata": {},
   "outputs": [
    {
     "data": {
      "text/plain": [
       "['Paris',\n",
       " 'Marseille',\n",
       " 'Lyon',\n",
       " 'Toulouse',\n",
       " 'Nice',\n",
       " 'Nantes',\n",
       " 'Montpellier',\n",
       " 'Strasbourg',\n",
       " 'Bordeaux',\n",
       " 'Lille',\n",
       " 'Rennes',\n",
       " 'Reims',\n",
       " 'Le Havre',\n",
       " 'Saint-Étienne',\n",
       " 'Toulon',\n",
       " 'Grenoble',\n",
       " 'Dijon',\n",
       " 'Angers',\n",
       " 'Nîmes',\n",
       " 'Villeurbanne',\n",
       " 'Saint-Denis',\n",
       " 'Le Mans',\n",
       " 'Aix-en-Provence',\n",
       " 'Clermont-Ferrand',\n",
       " 'Brest',\n",
       " 'Tours',\n",
       " 'Limoges',\n",
       " 'Amiens',\n",
       " 'Annecy',\n",
       " 'Perpignan',\n",
       " 'Boulogne-Billancourt',\n",
       " 'Metz',\n",
       " 'Besançon',\n",
       " 'Orléans',\n",
       " 'Saint-Denis',\n",
       " 'Argenteuil',\n",
       " 'Mulhouse',\n",
       " 'Rouen',\n",
       " 'Montreuil',\n",
       " 'Caen',\n",
       " 'Saint-Paul',\n",
       " 'Nancy',\n",
       " 'Nouméa',\n",
       " 'Tourcoing',\n",
       " 'Roubaix',\n",
       " 'Nanterre',\n",
       " 'Vitry-sur-Seine',\n",
       " 'Avignon',\n",
       " 'Créteil',\n",
       " 'Dunkerque']"
      ]
     },
     "execution_count": 21,
     "metadata": {},
     "output_type": "execute_result"
    }
   ],
   "source": [
    "get_50_cities()"
   ]
  },
  {
   "cell_type": "code",
   "execution_count": 44,
   "metadata": {},
   "outputs": [],
   "source": [
    "def get_distance_between(city1, city2):\n",
    "    r = requests.get(\"https://fr.distance24.org/\"+city1+\"/\"+city2)\n",
    "    soup = BeautifulSoup(r.text, 'html.parser')\n",
    "    text = soup.find(\"p\")\n",
    "    km = text.find(\"strong\")\n",
    "    return int(re.findall(\"[0-9]+\",km.text)[0])"
   ]
  },
  {
   "cell_type": "code",
   "execution_count": 45,
   "metadata": {},
   "outputs": [
    {
     "data": {
      "text/plain": [
       "661"
      ]
     },
     "execution_count": 45,
     "metadata": {},
     "output_type": "execute_result"
    }
   ],
   "source": [
    "get_distance_between('Paris','marseille')"
   ]
  },
  {
   "cell_type": "code",
   "execution_count": null,
   "metadata": {},
   "outputs": [],
   "source": [
    "for city1 in get_50_cities:\n",
    "    get_50_cities.pop(city1)\n",
    "    for city2 in get_50_cities.pop(city1)"
   ]
  }
 ],
 "metadata": {
  "kernelspec": {
   "display_name": "Python 3",
   "language": "python",
   "name": "python3"
  },
  "language_info": {
   "codemirror_mode": {
    "name": "ipython",
    "version": 3
   },
   "file_extension": ".py",
   "mimetype": "text/x-python",
   "name": "python",
   "nbconvert_exporter": "python",
   "pygments_lexer": "ipython3",
   "version": "3.7.0"
  }
 },
 "nbformat": 4,
 "nbformat_minor": 2
}
