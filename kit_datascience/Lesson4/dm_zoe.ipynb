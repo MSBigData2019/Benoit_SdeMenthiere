{
 "cells": [
  {
   "cell_type": "code",
   "execution_count": 11,
   "metadata": {},
   "outputs": [],
   "source": [
    "import requests\n",
    "from bs4 import BeautifulSoup\n",
    "import re"
   ]
  },
  {
   "cell_type": "code",
   "execution_count": 30,
   "metadata": {},
   "outputs": [],
   "source": [
    "regions = {\"IDF\": \"12\", \"PACA\": \"21\", \"Aquitaine\": \"2\"}"
   ]
  },
  {
   "cell_type": "code",
   "execution_count": 31,
   "metadata": {},
   "outputs": [],
   "source": [
    " def get_regions_cars(region):\n",
    "    url=\"https://www.leboncoin.fr/recherche/?category=2&text=renault%20zoe&regions=\"+regions[region]\n",
    "    req_headers = {\n",
    "           \"Accept-Language\": \"en-US,en;q=0.5\",\n",
    "           \"User-Agent\": \"Mozilla/5.0 (Windows NT 10.0; WOW64; rv:40.0) Gecko/20100101 Firefox/40.0\",\n",
    "           \"Accept\": \"text/html,application/xhtml+xml,application/xml;q=0.9,*/*;q=0.8\",\n",
    "           \"Referer\": \"http://thewebsite.com\",\n",
    "           \"Connection\": \"keep-alive\"\n",
    "       }\n",
    "\n",
    "    result = requests.get(url, headers=req_headers)\n",
    "    soup = BeautifulSoup(result.text, 'html.parser')\n",
    "\n",
    "    suffixes = [ad.attrs['href'] for ad in soup.findAll(\"a\", class_ = \"clearfix trackable\")]\n",
    "    return suffixes"
   ]
  },
  {
   "cell_type": "code",
   "execution_count": 32,
   "metadata": {},
   "outputs": [],
   "source": [
    "import pandas as pd"
   ]
  },
  {
   "cell_type": "code",
   "execution_count": 65,
   "metadata": {},
   "outputs": [],
   "source": [
    "df = pd.DataFrame(columns=[\"version\", \"année\", \"kilométrage\", \"prix\", \"téléphone\", \"vendeur\"])"
   ]
  },
  {
   "cell_type": "code",
   "execution_count": 34,
   "metadata": {},
   "outputs": [],
   "source": [
    "argus = {\"intens\":8277, \"life\": 7855, \"zen\":8131}"
   ]
  },
  {
   "cell_type": "code",
   "execution_count": 35,
   "metadata": {},
   "outputs": [],
   "source": [
    "def add_ads(suff):\n",
    "    res = requests.get(\"https://www.leboncoin.fr\"+ suff, headers = req_headers)\n",
    "    soup = BeautifulSoup(res.text, 'html.parser')\n",
    "    #     info = soup.findAll(\"div\", class_ = \"mainInfos hiddenOverflow\")\n",
    "    #     km = soup.find(\"span\", class_ = \"fieldPrice sizeC\")\n",
    "    #     print(info)\n",
    "    prix = soup.find(\"div\", attrs = {\"data-qa-id\":\"adview_price\"})\n",
    "    km = soup.find(\"div\", attrs = {\"data-qa-id\":\"criteria_item_mileage\"})\n",
    "#     modele = soup.find(\"div\", attrs = {\"data-qa-id\":\"criteria_item_model\"})\n",
    "    annee = soup.find(\"div\", attrs = {\"data-qa-id\":\"criteria_item_regdate\"})\n",
    "    vendeur = soup.find(\"div\", attrs = {\"data-qa-id\":\"adview_contact_container\"})\n",
    "    titre = soup.find(\"div\", attrs = {\"data-qa-id\":\"adview_title\"})\n",
    "    types = [\"zen\", \"life\", \"intens\"]\n",
    "#     print(titre.text.lower())\n",
    "    if \"siret\" in vendeur.text.lower():\n",
    "        vendeur = \"pro\"\n",
    "    else:\n",
    "        vendeur = \"particulier\"\n",
    "    try:\n",
    "        modele = types[[modele in titre.text.lower() for modele in types].index(True)]\n",
    "    except:\n",
    "        modele = None\n",
    "    try:\n",
    "        arg = argus[modele]\n",
    "    except:\n",
    "        arg = None\n",
    "    return pd.DataFrame({\"version\": modele, \"année\": annee.text,\"kilométrage\": km.text, \"prix\": prix.text, \"vendeur\":vendeur, \"argus\":arg}, index=[int(re.findall(r'\\d+', suff)[0])])"
   ]
  },
  {
   "cell_type": "code",
   "execution_count": 56,
   "metadata": {},
   "outputs": [],
   "source": [
    "def get_region_df(region):\n",
    "    suffixes = get_regions_cars(region)\n",
    "    global df\n",
    "    df = {}\n",
    "    df[region] = pd.concat([add_ads(suff) for suff in suffixes])\n",
    "\n",
    "    df[region][\"annee\"] = df[region].année.str.extract('(\\d+)')\n",
    "    df[region][\"km\"] = df[region].kilométrage.str.extract('(\\d+)')\n",
    "\n",
    "    df[region][\"prix_Euro\"] = df[region].prix.str.extract(\"(\\d+ \\d{3})\")\n",
    "\n",
    "    df[region][\"prix_Euro\"] = df[region].prix_Euro.str.replace(\" \",\"\").astype(int)\n",
    "\n",
    "    df[region] = df[region].dropna()\n",
    "\n",
    "    df[region]= df[region].drop(columns=[\"année\", \"kilométrage\",\"prix\"])\n",
    "\n",
    "    df[region][\"compare\"] = \"=\"\n",
    "    df[region][\"compare\"] = df[region][\"compare\"].where(df[region].prix_Euro>df[region].argus,\"-\")\n",
    "    df[region][\"compare\"] = df[region][\"compare\"].where(df[region].prix_Euro<df[region].argus,\"+\")"
   ]
  },
  {
   "cell_type": "code",
   "execution_count": 57,
   "metadata": {},
   "outputs": [
    {
     "name": "stdout",
     "output_type": "stream",
     "text": [
      "CPU times: user 4.96 s, sys: 168 ms, total: 5.13 s\n",
      "Wall time: 33.3 s\n"
     ]
    }
   ],
   "source": [
    "%%time\n",
    "for region in regions.keys():\n",
    "    get_region_df(region)"
   ]
  },
  {
   "cell_type": "code",
   "execution_count": 62,
   "metadata": {},
   "outputs": [],
   "source": [
    "import multiprocessing.dummy as mp "
   ]
  },
  {
   "cell_type": "code",
   "execution_count": 70,
   "metadata": {},
   "outputs": [
    {
     "name": "stdout",
     "output_type": "stream",
     "text": [
      "CPU times: user 4.61 s, sys: 138 ms, total: 4.74 s\n",
      "Wall time: 12.9 s\n"
     ]
    }
   ],
   "source": [
    "%%time\n",
    "p=mp.Pool(3)\n",
    "p.map(get_region_df,regions.keys())\n",
    "p.close()\n",
    "p.join()"
   ]
  },
  {
   "cell_type": "code",
   "execution_count": 76,
   "metadata": {},
   "outputs": [
    {
     "data": {
      "text/html": [
       "<div>\n",
       "<style scoped>\n",
       "    .dataframe tbody tr th:only-of-type {\n",
       "        vertical-align: middle;\n",
       "    }\n",
       "\n",
       "    .dataframe tbody tr th {\n",
       "        vertical-align: top;\n",
       "    }\n",
       "\n",
       "    .dataframe thead th {\n",
       "        text-align: right;\n",
       "    }\n",
       "</style>\n",
       "<table border=\"1\" class=\"dataframe\">\n",
       "  <thead>\n",
       "    <tr style=\"text-align: right;\">\n",
       "      <th></th>\n",
       "      <th>version</th>\n",
       "      <th>vendeur</th>\n",
       "      <th>argus</th>\n",
       "      <th>annee</th>\n",
       "      <th>km</th>\n",
       "      <th>prix_Euro</th>\n",
       "      <th>compare</th>\n",
       "    </tr>\n",
       "  </thead>\n",
       "  <tbody>\n",
       "    <tr>\n",
       "      <th>1513099194</th>\n",
       "      <td>life</td>\n",
       "      <td>particulier</td>\n",
       "      <td>7855</td>\n",
       "      <td>2014</td>\n",
       "      <td>58200</td>\n",
       "      <td>7500</td>\n",
       "      <td>-</td>\n",
       "    </tr>\n",
       "    <tr>\n",
       "      <th>1513182441</th>\n",
       "      <td>intens</td>\n",
       "      <td>pro</td>\n",
       "      <td>8277</td>\n",
       "      <td>2015</td>\n",
       "      <td>3120</td>\n",
       "      <td>10990</td>\n",
       "      <td>+</td>\n",
       "    </tr>\n",
       "    <tr>\n",
       "      <th>1512190101</th>\n",
       "      <td>life</td>\n",
       "      <td>pro</td>\n",
       "      <td>7855</td>\n",
       "      <td>2015</td>\n",
       "      <td>14908</td>\n",
       "      <td>9350</td>\n",
       "      <td>+</td>\n",
       "    </tr>\n",
       "    <tr>\n",
       "      <th>1512192311</th>\n",
       "      <td>life</td>\n",
       "      <td>particulier</td>\n",
       "      <td>7855</td>\n",
       "      <td>2016</td>\n",
       "      <td>3690</td>\n",
       "      <td>9990</td>\n",
       "      <td>+</td>\n",
       "    </tr>\n",
       "    <tr>\n",
       "      <th>1511162920</th>\n",
       "      <td>life</td>\n",
       "      <td>pro</td>\n",
       "      <td>7855</td>\n",
       "      <td>2014</td>\n",
       "      <td>48008</td>\n",
       "      <td>8200</td>\n",
       "      <td>+</td>\n",
       "    </tr>\n",
       "  </tbody>\n",
       "</table>\n",
       "</div>"
      ],
      "text/plain": [
       "           version      vendeur argus annee     km  prix_Euro compare\n",
       "1513099194    life  particulier  7855  2014  58200       7500       -\n",
       "1513182441  intens          pro  8277  2015   3120      10990       +\n",
       "1512190101    life          pro  7855  2015  14908       9350       +\n",
       "1512192311    life  particulier  7855  2016   3690       9990       +\n",
       "1511162920    life          pro  7855  2014  48008       8200       +"
      ]
     },
     "execution_count": 76,
     "metadata": {},
     "output_type": "execute_result"
    }
   ],
   "source": [
    "df['Aquitaine'].head()"
   ]
  },
  {
   "cell_type": "code",
   "execution_count": 75,
   "metadata": {
    "scrolled": true
   },
   "outputs": [
    {
     "data": {
      "text/html": [
       "<div>\n",
       "<style scoped>\n",
       "    .dataframe tbody tr th:only-of-type {\n",
       "        vertical-align: middle;\n",
       "    }\n",
       "\n",
       "    .dataframe tbody tr th {\n",
       "        vertical-align: top;\n",
       "    }\n",
       "\n",
       "    .dataframe thead th {\n",
       "        text-align: right;\n",
       "    }\n",
       "</style>\n",
       "<table border=\"1\" class=\"dataframe\">\n",
       "  <thead>\n",
       "    <tr style=\"text-align: right;\">\n",
       "      <th></th>\n",
       "      <th>version</th>\n",
       "      <th>vendeur</th>\n",
       "      <th>argus</th>\n",
       "      <th>annee</th>\n",
       "      <th>km</th>\n",
       "      <th>prix_Euro</th>\n",
       "      <th>compare</th>\n",
       "    </tr>\n",
       "  </thead>\n",
       "  <tbody>\n",
       "    <tr>\n",
       "      <th>1513503070</th>\n",
       "      <td>intens</td>\n",
       "      <td>particulier</td>\n",
       "      <td>8277</td>\n",
       "      <td>2014</td>\n",
       "      <td>13610</td>\n",
       "      <td>9990</td>\n",
       "      <td>+</td>\n",
       "    </tr>\n",
       "    <tr>\n",
       "      <th>1477914069</th>\n",
       "      <td>intens</td>\n",
       "      <td>pro</td>\n",
       "      <td>8277</td>\n",
       "      <td>2014</td>\n",
       "      <td>40194</td>\n",
       "      <td>8490</td>\n",
       "      <td>+</td>\n",
       "    </tr>\n",
       "    <tr>\n",
       "      <th>1513161155</th>\n",
       "      <td>intens</td>\n",
       "      <td>pro</td>\n",
       "      <td>8277</td>\n",
       "      <td>2014</td>\n",
       "      <td>35209</td>\n",
       "      <td>8990</td>\n",
       "      <td>+</td>\n",
       "    </tr>\n",
       "    <tr>\n",
       "      <th>1513161481</th>\n",
       "      <td>intens</td>\n",
       "      <td>pro</td>\n",
       "      <td>8277</td>\n",
       "      <td>2015</td>\n",
       "      <td>20268</td>\n",
       "      <td>9990</td>\n",
       "      <td>+</td>\n",
       "    </tr>\n",
       "    <tr>\n",
       "      <th>1513161121</th>\n",
       "      <td>zen</td>\n",
       "      <td>pro</td>\n",
       "      <td>8131</td>\n",
       "      <td>2014</td>\n",
       "      <td>28896</td>\n",
       "      <td>9990</td>\n",
       "      <td>+</td>\n",
       "    </tr>\n",
       "  </tbody>\n",
       "</table>\n",
       "</div>"
      ],
      "text/plain": [
       "           version      vendeur argus annee     km  prix_Euro compare\n",
       "1513503070  intens  particulier  8277  2014  13610       9990       +\n",
       "1477914069  intens          pro  8277  2014  40194       8490       +\n",
       "1513161155  intens          pro  8277  2014  35209       8990       +\n",
       "1513161481  intens          pro  8277  2015  20268       9990       +\n",
       "1513161121     zen          pro  8131  2014  28896       9990       +"
      ]
     },
     "execution_count": 75,
     "metadata": {},
     "output_type": "execute_result"
    }
   ],
   "source": [
    "df['PACA'].head()"
   ]
  },
  {
   "cell_type": "code",
   "execution_count": 74,
   "metadata": {},
   "outputs": [
    {
     "data": {
      "text/html": [
       "<div>\n",
       "<style scoped>\n",
       "    .dataframe tbody tr th:only-of-type {\n",
       "        vertical-align: middle;\n",
       "    }\n",
       "\n",
       "    .dataframe tbody tr th {\n",
       "        vertical-align: top;\n",
       "    }\n",
       "\n",
       "    .dataframe thead th {\n",
       "        text-align: right;\n",
       "    }\n",
       "</style>\n",
       "<table border=\"1\" class=\"dataframe\">\n",
       "  <thead>\n",
       "    <tr style=\"text-align: right;\">\n",
       "      <th></th>\n",
       "      <th>version</th>\n",
       "      <th>vendeur</th>\n",
       "      <th>argus</th>\n",
       "      <th>annee</th>\n",
       "      <th>km</th>\n",
       "      <th>prix_Euro</th>\n",
       "      <th>compare</th>\n",
       "    </tr>\n",
       "  </thead>\n",
       "  <tbody>\n",
       "    <tr>\n",
       "      <th>1513249384</th>\n",
       "      <td>intens</td>\n",
       "      <td>pro</td>\n",
       "      <td>8277</td>\n",
       "      <td>2015</td>\n",
       "      <td>26578</td>\n",
       "      <td>9990</td>\n",
       "      <td>+</td>\n",
       "    </tr>\n",
       "    <tr>\n",
       "      <th>1513249395</th>\n",
       "      <td>intens</td>\n",
       "      <td>pro</td>\n",
       "      <td>8277</td>\n",
       "      <td>2015</td>\n",
       "      <td>37535</td>\n",
       "      <td>9990</td>\n",
       "      <td>+</td>\n",
       "    </tr>\n",
       "    <tr>\n",
       "      <th>1513183493</th>\n",
       "      <td>zen</td>\n",
       "      <td>pro</td>\n",
       "      <td>8131</td>\n",
       "      <td>2013</td>\n",
       "      <td>31200</td>\n",
       "      <td>8900</td>\n",
       "      <td>+</td>\n",
       "    </tr>\n",
       "    <tr>\n",
       "      <th>1513184009</th>\n",
       "      <td>intens</td>\n",
       "      <td>pro</td>\n",
       "      <td>8277</td>\n",
       "      <td>2018</td>\n",
       "      <td>1</td>\n",
       "      <td>18780</td>\n",
       "      <td>+</td>\n",
       "    </tr>\n",
       "    <tr>\n",
       "      <th>1512842614</th>\n",
       "      <td>zen</td>\n",
       "      <td>particulier</td>\n",
       "      <td>8131</td>\n",
       "      <td>2018</td>\n",
       "      <td>5700</td>\n",
       "      <td>16700</td>\n",
       "      <td>+</td>\n",
       "    </tr>\n",
       "  </tbody>\n",
       "</table>\n",
       "</div>"
      ],
      "text/plain": [
       "           version      vendeur argus annee     km  prix_Euro compare\n",
       "1513249384  intens          pro  8277  2015  26578       9990       +\n",
       "1513249395  intens          pro  8277  2015  37535       9990       +\n",
       "1513183493     zen          pro  8131  2013  31200       8900       +\n",
       "1513184009  intens          pro  8277  2018      1      18780       +\n",
       "1512842614     zen  particulier  8131  2018   5700      16700       +"
      ]
     },
     "execution_count": 74,
     "metadata": {},
     "output_type": "execute_result"
    }
   ],
   "source": [
    "df['IDF'].head()"
   ]
  },
  {
   "cell_type": "code",
   "execution_count": null,
   "metadata": {},
   "outputs": [],
   "source": []
  }
 ],
 "metadata": {
  "kernelspec": {
   "display_name": "Python 3",
   "language": "python",
   "name": "python3"
  },
  "language_info": {
   "codemirror_mode": {
    "name": "ipython",
    "version": 3
   },
   "file_extension": ".py",
   "mimetype": "text/x-python",
   "name": "python",
   "nbconvert_exporter": "python",
   "pygments_lexer": "ipython3",
   "version": "3.7.0"
  }
 },
 "nbformat": 4,
 "nbformat_minor": 2
}
