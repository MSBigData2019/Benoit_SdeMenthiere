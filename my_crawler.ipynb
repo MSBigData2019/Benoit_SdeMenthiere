{
 "cells": [
  {
   "cell_type": "markdown",
   "metadata": {},
   "source": [
    "# Intro\n",
    "Besoin métier: Analyser les performances financières des sociétés cotées pour décider d'une stratégie d'investissement."
   ]
  },
  {
   "cell_type": "code",
   "execution_count": 1,
   "metadata": {},
   "outputs": [],
   "source": [
    "from bs4 import BeautifulSoup\n",
    "import requests\n",
    "import unittest"
   ]
  },
  {
   "cell_type": "code",
   "execution_count": 9,
   "metadata": {},
   "outputs": [],
   "source": [
    "req= requests.get(\"https://www.reuters.com/finance/stocks/financial-highlights/\"+\"AIR\"+\".PA\")\n",
    "html_doc = req.content\n",
    "soup = BeautifulSoup(html_doc, 'html.parser')"
   ]
  },
  {
   "cell_type": "code",
   "execution_count": 11,
   "metadata": {},
   "outputs": [
    {
     "name": "stdout",
     "output_type": "stream",
     "text": [
      "None\n"
     ]
    }
   ],
   "source": [
    "print(soup.find(\"td\", text=\"Quarter Ending Dec-18\"))"
   ]
  },
  {
   "cell_type": "code",
   "execution_count": 2,
   "metadata": {},
   "outputs": [],
   "source": [
    "def request(cie):\n",
    "    cie_url_map = {\"Airbus\":\"AIR\", \"Danone\":\"DANO\", \"LVMH\":\"LVMH\"}\n",
    "    try:\n",
    "        request = requests.get(\"https://www.reuters.com/finance/stocks/financial-highlights/\"+cie_url_map[cie]+\".PA\")\n",
    "        if request.status_code == 200:\n",
    "            html_doc = request.text\n",
    "            soup = BeautifulSoup(html_doc, 'html.parser')\n",
    "            return soup\n",
    "        else:\n",
    "            print(\"erreur de requete: \"+request.status.code)\n",
    "    except:\n",
    "        print(cie+\" is not in the company list\")"
   ]
  },
  {
   "cell_type": "code",
   "execution_count": 20,
   "metadata": {},
   "outputs": [],
   "source": [
    "#quarter_ending_dec = soup.find(class_= \"stripe\")"
   ]
  },
  {
   "cell_type": "code",
   "execution_count": 19,
   "metadata": {},
   "outputs": [],
   "source": [
    "#soup.findAll()"
   ]
  },
  {
   "cell_type": "code",
   "execution_count": 21,
   "metadata": {},
   "outputs": [],
   "source": [
    "# quarter_ending_dec[0].td.text\n",
    "\n",
    "# quarter_ending_dec[0].findAll(\"td\")[0]\n",
    "\n",
    "# quarter_ending_dec[0].td"
   ]
  },
  {
   "cell_type": "code",
   "execution_count": 4,
   "metadata": {},
   "outputs": [],
   "source": [
    "def get_quarter_ending_sales(soup):\n",
    "    quarter_ending_dec = soup.find(class_= \"stripe\")\n",
    "    return quarter_ending_dec.text.split(\"\\n\")[2:-1]"
   ]
  },
  {
   "cell_type": "code",
   "execution_count": 22,
   "metadata": {},
   "outputs": [],
   "source": [
    "#get_quarter_ending_sales(soup)"
   ]
  },
  {
   "cell_type": "code",
   "execution_count": 23,
   "metadata": {},
   "outputs": [],
   "source": [
    "# of Estimates\tMean\tHigh\tLow\t1 Year Ago"
   ]
  },
  {
   "cell_type": "code",
   "execution_count": 24,
   "metadata": {},
   "outputs": [],
   "source": [
    "def print_quarter_ending_sales(soup):\n",
    "    data = get_quarter_ending_sales(soup)\n",
    "    print(\"Vente dernier trimestre 2018 : \\n# of Estimates: \"+data[0]+\"\\nMean: \"+data[1]+\"\\nHigh: \"+data[2]+\"\\nLow: \"+data[3]+\"\\n1 year ago \"+data[4])"
   ]
  },
  {
   "cell_type": "code",
   "execution_count": 7,
   "metadata": {},
   "outputs": [],
   "source": [
    "def get_share_price(soup):\n",
    "    return [clean_string(x.text) for x in soup.find(\"div\",class_=\"sectionQuote nasdaqChange\").findAll(\"span\")[1:]]"
   ]
  },
  {
   "cell_type": "code",
   "execution_count": 8,
   "metadata": {},
   "outputs": [],
   "source": [
    "def get_price_change(soup):\n",
    "    return soup.find(\"div\", class_=\"sectionQuote priceChange\").find(class_=\"valueContentPercent\").text"
   ]
  },
  {
   "cell_type": "code",
   "execution_count": 9,
   "metadata": {},
   "outputs": [],
   "source": [
    "def print_price_change(soup):\n",
    "    pct = get_price_change(soup)\n",
    "    print(\"Price change percentage :\"+clean_string(pct))"
   ]
  },
  {
   "cell_type": "code",
   "execution_count": 10,
   "metadata": {},
   "outputs": [],
   "source": [
    "def clean_string(string):\n",
    "    string = string.replace(\"\\t\",\"\")\n",
    "    string = string.replace(\"\\n\",\"\")\n",
    "    string = string.replace(\"\\r\",\"\")\n",
    "    string = string.replace(\" \",\"\")\n",
    "    return string"
   ]
  },
  {
   "cell_type": "code",
   "execution_count": 11,
   "metadata": {},
   "outputs": [],
   "source": [
    "def get_dividend_yield(soup):\n",
    "    return soup.find(\"td\", text=\"Dividend Yield\").parent.text.split(\"\\n\")[1:-1]"
   ]
  },
  {
   "cell_type": "code",
   "execution_count": 12,
   "metadata": {},
   "outputs": [],
   "source": [
    "def print_dividend_yield(soup):\n",
    "    col = [\"company\",\"industry\",\"sector\"]\n",
    "    div_yield = get_dividend_yield(soup)\n",
    "    print(\"Dividend Yield: \")\n",
    "    for i in range(3):\n",
    "        print(col[i]+\" : \"+div_yield[i+1])"
   ]
  },
  {
   "cell_type": "code",
   "execution_count": 13,
   "metadata": {},
   "outputs": [],
   "source": [
    "def get_shares_owned(soup):\n",
    "    return soup.find(\"td\", text=\"% Shares Owned:\").parent.text.split(\"\\n\")[1:-1]"
   ]
  },
  {
   "cell_type": "code",
   "execution_count": 14,
   "metadata": {},
   "outputs": [],
   "source": [
    "def print_shares_owned(soup):\n",
    "    shares_owned = get_shares_owned(soup)\n",
    "    print(\" \".join(shares_owned))"
   ]
  },
  {
   "cell_type": "code",
   "execution_count": 15,
   "metadata": {},
   "outputs": [],
   "source": [
    "def get_cie_info(cie):\n",
    "    cie_url_map = {\"Airbus\":\"AIR\", \"Danone\":\"DANO\", \"LVMH\":\"LVMH\"}\n",
    "    soup = request(cie)\n",
    "    print(cie)\n",
    "    print_quarter_ending_sales(soup)\n",
    "    print(\" \")\n",
    "    print_dividend_yield(soup)\n",
    "    print(\" \")\n",
    "    print_shares_owned(soup)\n",
    "    print(\" \")\n",
    "    print_price_change(soup)"
   ]
  },
  {
   "cell_type": "code",
   "execution_count": 16,
   "metadata": {},
   "outputs": [
    {
     "name": "stdout",
     "output_type": "stream",
     "text": [
      "LVMH\n",
      "Vente dernier trimestre 2018 : \n",
      "# of Estimates: 3\n",
      "Mean: 13,667.70\n",
      "High: 13,769.00\n",
      "Low: 13,575.00\n",
      "1 year ago --\n",
      " \n",
      "Dividend Yield: \n",
      "company : 1.92\n",
      "industry : 1.70\n",
      "sector : 2.60\n",
      " \n",
      "% Shares Owned: 20.57%\n",
      " \n",
      "Price change percentage :(-3.22%)\n"
     ]
    }
   ],
   "source": [
    "get_cie_info(\"LVMH\")"
   ]
  },
  {
   "cell_type": "code",
   "execution_count": 17,
   "metadata": {},
   "outputs": [
    {
     "name": "stdout",
     "output_type": "stream",
     "text": [
      "Airbus\n",
      "Vente dernier trimestre 2018 : \n",
      "# of Estimates: 5\n",
      "Mean: 23,493.00\n",
      "High: 26,073.40\n",
      "Low: 21,431.00\n",
      "1 year ago --\n",
      " \n",
      "Dividend Yield: \n",
      "company : 1.45\n",
      "industry : 1.34\n",
      "sector : 1.64\n",
      " \n",
      "% Shares Owned: 43.53%\n",
      " \n",
      "Price change percentage :(-0.20%)\n"
     ]
    }
   ],
   "source": [
    "get_cie_info(\"Airbus\")"
   ]
  },
  {
   "cell_type": "code",
   "execution_count": 18,
   "metadata": {},
   "outputs": [
    {
     "name": "stdout",
     "output_type": "stream",
     "text": [
      "Danone\n",
      "Vente dernier trimestre 2018 : \n",
      "# of Estimates: 5\n",
      "Mean: 6,072.60\n",
      "High: 6,142.00\n",
      "Low: 6,025.00\n",
      "1 year ago --\n",
      " \n",
      "Dividend Yield: \n",
      "company : 2.49\n",
      "industry : 2.35\n",
      "sector : 2.23\n",
      " \n",
      "% Shares Owned: 50.60%\n",
      " \n",
      "Price change percentage :(-0.14%)\n"
     ]
    }
   ],
   "source": [
    "get_cie_info(\"Danone\")"
   ]
  },
  {
   "cell_type": "code",
   "execution_count": null,
   "metadata": {},
   "outputs": [],
   "source": []
  }
 ],
 "metadata": {
  "kernelspec": {
   "display_name": "Python 3",
   "language": "python",
   "name": "python3"
  },
  "language_info": {
   "codemirror_mode": {
    "name": "ipython",
    "version": 3
   },
   "file_extension": ".py",
   "mimetype": "text/x-python",
   "name": "python",
   "nbconvert_exporter": "python",
   "pygments_lexer": "ipython3",
   "version": "3.7.0"
  }
 },
 "nbformat": 4,
 "nbformat_minor": 2
}
