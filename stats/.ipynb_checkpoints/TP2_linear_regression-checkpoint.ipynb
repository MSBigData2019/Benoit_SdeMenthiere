{
 "cells": [
  {
   "cell_type": "code",
   "execution_count": null,
   "metadata": {},
   "outputs": [],
   "source": []
  },
  {
   "cell_type": "code",
   "execution_count": 1,
   "metadata": {},
   "outputs": [],
   "source": [
    "import pandas as pd\n",
    "import matplotlib.pyplot as plt\n",
    "import math as m\n",
    "import numpy as np\n",
    "import seaborn as sns\n",
    "from sklearn import linear_model as lm\n",
    "from scipy.stats import t"
   ]
  },
  {
   "cell_type": "markdown",
   "metadata": {},
   "source": [
    "# Exercice 1\n",
    "\n",
    "On s'intéresse au dataset INVESTMENT.\n",
    "\n",
    "## Q1\n",
    "On charge directement le dataset à l'aide de la librairie pandas."
   ]
  },
  {
   "cell_type": "code",
   "execution_count": 2,
   "metadata": {},
   "outputs": [],
   "source": [
    "data = pd.read_csv(\"https://bitbucket.org/portierf/shared_files/downloads/invest.txt\", sep = r\"\\s+\")"
   ]
  },
  {
   "cell_type": "code",
   "execution_count": 3,
   "metadata": {},
   "outputs": [
    {
     "data": {
      "text/html": [
       "<div>\n",
       "<style scoped>\n",
       "    .dataframe tbody tr th:only-of-type {\n",
       "        vertical-align: middle;\n",
       "    }\n",
       "\n",
       "    .dataframe tbody tr th {\n",
       "        vertical-align: top;\n",
       "    }\n",
       "\n",
       "    .dataframe thead th {\n",
       "        text-align: right;\n",
       "    }\n",
       "</style>\n",
       "<table border=\"1\" class=\"dataframe\">\n",
       "  <thead>\n",
       "    <tr style=\"text-align: right;\">\n",
       "      <th></th>\n",
       "      <th>year</th>\n",
       "      <th>gnp</th>\n",
       "      <th>invest</th>\n",
       "      <th>cpi</th>\n",
       "      <th>interest</th>\n",
       "    </tr>\n",
       "  </thead>\n",
       "  <tbody>\n",
       "    <tr>\n",
       "      <th>0</th>\n",
       "      <td>1968</td>\n",
       "      <td>873.4</td>\n",
       "      <td>133.3</td>\n",
       "      <td>82.54</td>\n",
       "      <td>5.16</td>\n",
       "    </tr>\n",
       "    <tr>\n",
       "      <th>1</th>\n",
       "      <td>1969</td>\n",
       "      <td>944.0</td>\n",
       "      <td>149.3</td>\n",
       "      <td>86.79</td>\n",
       "      <td>5.87</td>\n",
       "    </tr>\n",
       "    <tr>\n",
       "      <th>2</th>\n",
       "      <td>1970</td>\n",
       "      <td>992.7</td>\n",
       "      <td>144.2</td>\n",
       "      <td>91.45</td>\n",
       "      <td>5.95</td>\n",
       "    </tr>\n",
       "    <tr>\n",
       "      <th>3</th>\n",
       "      <td>1971</td>\n",
       "      <td>1077.6</td>\n",
       "      <td>166.4</td>\n",
       "      <td>96.01</td>\n",
       "      <td>4.88</td>\n",
       "    </tr>\n",
       "    <tr>\n",
       "      <th>4</th>\n",
       "      <td>1972</td>\n",
       "      <td>1185.9</td>\n",
       "      <td>195.0</td>\n",
       "      <td>100.00</td>\n",
       "      <td>4.50</td>\n",
       "    </tr>\n",
       "  </tbody>\n",
       "</table>\n",
       "</div>"
      ],
      "text/plain": [
       "   year     gnp  invest     cpi  interest\n",
       "0  1968   873.4   133.3   82.54      5.16\n",
       "1  1969   944.0   149.3   86.79      5.87\n",
       "2  1970   992.7   144.2   91.45      5.95\n",
       "3  1971  1077.6   166.4   96.01      4.88\n",
       "4  1972  1185.9   195.0  100.00      4.50"
      ]
     },
     "execution_count": 3,
     "metadata": {},
     "output_type": "execute_result"
    }
   ],
   "source": [
    "data.head()"
   ]
  },
  {
   "cell_type": "code",
   "execution_count": 4,
   "metadata": {},
   "outputs": [
    {
     "data": {
      "image/png": "[encoded data removed]",
      "text/plain": [
       "<Figure size 432x288 with 1 Axes>"
      ]
     },
     "metadata": {
      "needs_background": "light"
     },
     "output_type": "display_data"
    }
   ],
   "source": [
    "plt.scatter(data[[\"invest\"]], data.gnp)\n",
    "plt.xlabel(\"invest\")\n",
    "plt.ylabel(\"gnp\")\n",
    "plt.show()"
   ]
  },
  {
   "cell_type": "markdown",
   "metadata": {},
   "source": [
    "## Q2 \n",
    "On définit deux nouvelles series correspondant à l'échelle logarithmique.\n"
   ]
  },
  {
   "cell_type": "code",
   "execution_count": 5,
   "metadata": {},
   "outputs": [],
   "source": [
    "data[\"log_invest\"] = data.invest.apply(m.log)\n",
    "data[\"log_gnp\"] = data.gnp.apply(m.log)"
   ]
  },
  {
   "cell_type": "code",
   "execution_count": 6,
   "metadata": {},
   "outputs": [
    {
     "data": {
      "text/html": [
       "<div>\n",
       "<style scoped>\n",
       "    .dataframe tbody tr th:only-of-type {\n",
       "        vertical-align: middle;\n",
       "    }\n",
       "\n",
       "    .dataframe tbody tr th {\n",
       "        vertical-align: top;\n",
       "    }\n",
       "\n",
       "    .dataframe thead th {\n",
       "        text-align: right;\n",
       "    }\n",
       "</style>\n",
       "<table border=\"1\" class=\"dataframe\">\n",
       "  <thead>\n",
       "    <tr style=\"text-align: right;\">\n",
       "      <th></th>\n",
       "      <th>year</th>\n",
       "      <th>gnp</th>\n",
       "      <th>invest</th>\n",
       "      <th>cpi</th>\n",
       "      <th>interest</th>\n",
       "      <th>log_invest</th>\n",
       "      <th>log_gnp</th>\n",
       "    </tr>\n",
       "  </thead>\n",
       "  <tbody>\n",
       "    <tr>\n",
       "      <th>0</th>\n",
       "      <td>1968</td>\n",
       "      <td>873.4</td>\n",
       "      <td>133.3</td>\n",
       "      <td>82.54</td>\n",
       "      <td>5.16</td>\n",
       "      <td>4.892602</td>\n",
       "      <td>6.772394</td>\n",
       "    </tr>\n",
       "    <tr>\n",
       "      <th>1</th>\n",
       "      <td>1969</td>\n",
       "      <td>944.0</td>\n",
       "      <td>149.3</td>\n",
       "      <td>86.79</td>\n",
       "      <td>5.87</td>\n",
       "      <td>5.005958</td>\n",
       "      <td>6.850126</td>\n",
       "    </tr>\n",
       "    <tr>\n",
       "      <th>2</th>\n",
       "      <td>1970</td>\n",
       "      <td>992.7</td>\n",
       "      <td>144.2</td>\n",
       "      <td>91.45</td>\n",
       "      <td>5.95</td>\n",
       "      <td>4.971201</td>\n",
       "      <td>6.900429</td>\n",
       "    </tr>\n",
       "    <tr>\n",
       "      <th>3</th>\n",
       "      <td>1971</td>\n",
       "      <td>1077.6</td>\n",
       "      <td>166.4</td>\n",
       "      <td>96.01</td>\n",
       "      <td>4.88</td>\n",
       "      <td>5.114395</td>\n",
       "      <td>6.982492</td>\n",
       "    </tr>\n",
       "    <tr>\n",
       "      <th>4</th>\n",
       "      <td>1972</td>\n",
       "      <td>1185.9</td>\n",
       "      <td>195.0</td>\n",
       "      <td>100.00</td>\n",
       "      <td>4.50</td>\n",
       "      <td>5.273000</td>\n",
       "      <td>7.078257</td>\n",
       "    </tr>\n",
       "  </tbody>\n",
       "</table>\n",
       "</div>"
      ],
      "text/plain": [
       "   year     gnp  invest     cpi  interest  log_invest   log_gnp\n",
       "0  1968   873.4   133.3   82.54      5.16    4.892602  6.772394\n",
       "1  1969   944.0   149.3   86.79      5.87    5.005958  6.850126\n",
       "2  1970   992.7   144.2   91.45      5.95    4.971201  6.900429\n",
       "3  1971  1077.6   166.4   96.01      4.88    5.114395  6.982492\n",
       "4  1972  1185.9   195.0  100.00      4.50    5.273000  7.078257"
      ]
     },
     "execution_count": 6,
     "metadata": {},
     "output_type": "execute_result"
    }
   ],
   "source": [
    "data.head()"
   ]
  },
  {
   "cell_type": "code",
   "execution_count": 7,
   "metadata": {},
   "outputs": [
    {
     "data": {
      "text/html": [
       "<div>\n",
       "<style scoped>\n",
       "    .dataframe tbody tr th:only-of-type {\n",
       "        vertical-align: middle;\n",
       "    }\n",
       "\n",
       "    .dataframe tbody tr th {\n",
       "        vertical-align: top;\n",
       "    }\n",
       "\n",
       "    .dataframe thead th {\n",
       "        text-align: right;\n",
       "    }\n",
       "</style>\n",
       "<table border=\"1\" class=\"dataframe\">\n",
       "  <thead>\n",
       "    <tr style=\"text-align: right;\">\n",
       "      <th></th>\n",
       "      <th>year</th>\n",
       "      <th>gnp</th>\n",
       "      <th>invest</th>\n",
       "      <th>cpi</th>\n",
       "      <th>interest</th>\n",
       "      <th>log_invest</th>\n",
       "      <th>log_gnp</th>\n",
       "    </tr>\n",
       "  </thead>\n",
       "  <tbody>\n",
       "    <tr>\n",
       "      <th>count</th>\n",
       "      <td>15.000000</td>\n",
       "      <td>15.000000</td>\n",
       "      <td>15.000000</td>\n",
       "      <td>15.000000</td>\n",
       "      <td>15.000000</td>\n",
       "      <td>15.000000</td>\n",
       "      <td>15.000000</td>\n",
       "    </tr>\n",
       "    <tr>\n",
       "      <th>mean</th>\n",
       "      <td>1975.000000</td>\n",
       "      <td>1748.646667</td>\n",
       "      <td>276.006667</td>\n",
       "      <td>131.401333</td>\n",
       "      <td>7.452667</td>\n",
       "      <td>5.532761</td>\n",
       "      <td>7.383521</td>\n",
       "    </tr>\n",
       "    <tr>\n",
       "      <th>std</th>\n",
       "      <td>4.472136</td>\n",
       "      <td>738.145808</td>\n",
       "      <td>117.582691</td>\n",
       "      <td>40.286606</td>\n",
       "      <td>2.812245</td>\n",
       "      <td>0.437486</td>\n",
       "      <td>0.422801</td>\n",
       "    </tr>\n",
       "    <tr>\n",
       "      <th>min</th>\n",
       "      <td>1968.000000</td>\n",
       "      <td>873.400000</td>\n",
       "      <td>133.300000</td>\n",
       "      <td>82.540000</td>\n",
       "      <td>4.500000</td>\n",
       "      <td>4.892602</td>\n",
       "      <td>6.772394</td>\n",
       "    </tr>\n",
       "    <tr>\n",
       "      <th>25%</th>\n",
       "      <td>1971.500000</td>\n",
       "      <td>1131.750000</td>\n",
       "      <td>180.700000</td>\n",
       "      <td>98.005000</td>\n",
       "      <td>5.480000</td>\n",
       "      <td>5.193697</td>\n",
       "      <td>7.030374</td>\n",
       "    </tr>\n",
       "    <tr>\n",
       "      <th>50%</th>\n",
       "      <td>1975.000000</td>\n",
       "      <td>1549.200000</td>\n",
       "      <td>229.800000</td>\n",
       "      <td>125.790000</td>\n",
       "      <td>6.250000</td>\n",
       "      <td>5.437209</td>\n",
       "      <td>7.345494</td>\n",
       "    </tr>\n",
       "    <tr>\n",
       "      <th>75%</th>\n",
       "      <td>1978.500000</td>\n",
       "      <td>2290.850000</td>\n",
       "      <td>394.450000</td>\n",
       "      <td>156.920000</td>\n",
       "      <td>9.055000</td>\n",
       "      <td>5.977294</td>\n",
       "      <td>7.735140</td>\n",
       "    </tr>\n",
       "    <tr>\n",
       "      <th>max</th>\n",
       "      <td>1982.000000</td>\n",
       "      <td>3057.500000</td>\n",
       "      <td>471.500000</td>\n",
       "      <td>207.230000</td>\n",
       "      <td>13.420000</td>\n",
       "      <td>6.155919</td>\n",
       "      <td>8.025353</td>\n",
       "    </tr>\n",
       "  </tbody>\n",
       "</table>\n",
       "</div>"
      ],
      "text/plain": [
       "              year          gnp      invest         cpi   interest  \\\n",
       "count    15.000000    15.000000   15.000000   15.000000  15.000000   \n",
       "mean   1975.000000  1748.646667  276.006667  131.401333   7.452667   \n",
       "std       4.472136   738.145808  117.582691   40.286606   2.812245   \n",
       "min    1968.000000   873.400000  133.300000   82.540000   4.500000   \n",
       "25%    1971.500000  1131.750000  180.700000   98.005000   5.480000   \n",
       "50%    1975.000000  1549.200000  229.800000  125.790000   6.250000   \n",
       "75%    1978.500000  2290.850000  394.450000  156.920000   9.055000   \n",
       "max    1982.000000  3057.500000  471.500000  207.230000  13.420000   \n",
       "\n",
       "       log_invest    log_gnp  \n",
       "count   15.000000  15.000000  \n",
       "mean     5.532761   7.383521  \n",
       "std      0.437486   0.422801  \n",
       "min      4.892602   6.772394  \n",
       "25%      5.193697   7.030374  \n",
       "50%      5.437209   7.345494  \n",
       "75%      5.977294   7.735140  \n",
       "max      6.155919   8.025353  "
      ]
     },
     "execution_count": 7,
     "metadata": {},
     "output_type": "execute_result"
    }
   ],
   "source": [
    "data.describe()"
   ]
  },
  {
   "cell_type": "code",
   "execution_count": 8,
   "metadata": {},
   "outputs": [
    {
     "data": {
      "image/png": "[encoded data removed]",
      "text/plain": [
       "<Figure size 432x288 with 1 Axes>"
      ]
     },
     "metadata": {
      "needs_background": "light"
     },
     "output_type": "display_data"
    }
   ],
   "source": [
    "plt.scatter(data[[\"log_invest\"]], data.log_gnp)\n",
    "plt.xlabel(\"invest(log)\")\n",
    "plt.ylabel(\"gnp(log)\")\n",
    "plt.show()"
   ]
  },
  {
   "cell_type": "markdown",
   "metadata": {},
   "source": [
    "## Q3\n",
    "\n",
    "Dans un premier temps on s'intéresse à la regresion de Investment sur GNP. Pour cela on se place en échelle logarithmique pour prendre en compte les différences d'échelles."
   ]
  },
  {
   "cell_type": "code",
   "execution_count": 9,
   "metadata": {},
   "outputs": [],
   "source": [
    "n = len(data)"
   ]
  },
  {
   "cell_type": "code",
   "execution_count": 13,
   "metadata": {},
   "outputs": [],
   "source": [
    "y = data.log_invest.values\n",
    "x = data.log_gnp.values"
   ]
  },
  {
   "cell_type": "markdown",
   "metadata": {},
   "source": [
    "On a montré dans l'exercice 12 que: \n",
    "\n",
    "$$\\hat{\\beta_0} = \\bar{Y_n} - \\hat{\\beta_1} $$\n",
    "\n",
    "$$\\hat{\\beta_1} = \\frac{\\sum_{i=1}^{n}(x_i - \\hat{x_n})(Y_i-\\bar{Y_n})}{ \\sum_{i=1}^{n}(x_i - \\hat{x_n})²}$$"
   ]
  },
  {
   "cell_type": "code",
   "execution_count": 11,
   "metadata": {},
   "outputs": [],
   "source": [
    "beta1_chap = sum((x-x.mean())*(y-y.mean()))/sum((x-x.mean())**2)"
   ]
  },
  {
   "cell_type": "code",
   "execution_count": 12,
   "metadata": {},
   "outputs": [],
   "source": [
    "beta0_chap = y.mean() - beta1_chap*x.mean()"
   ]
  },
  {
   "cell_type": "code",
   "execution_count": 13,
   "metadata": {},
   "outputs": [
    {
     "name": "stdout",
     "output_type": "stream",
     "text": [
      "L'intercept vaut -1.964 et la pente est 1.015\n"
     ]
    }
   ],
   "source": [
    "print(\"L'intercept vaut {:.3f} et la pente est {:.3f}\".format(beta0_chap, beta1_chap))"
   ]
  },
  {
   "attachments": {
    "image.png": {
     "image/png": "[encoded data removed]"
    }
   },
   "cell_type": "markdown",
   "metadata": {},
   "source": [
    "On a de plus:\n",
    "![image.png](attachment:image.png)"
   ]
  },
  {
   "cell_type": "code",
   "execution_count": 14,
   "metadata": {},
   "outputs": [],
   "source": [
    "sigma_chap_2 = (sum((y-(beta0_chap+beta1_chap*x))**2))/(n-2)"
   ]
  },
  {
   "cell_type": "code",
   "execution_count": 15,
   "metadata": {},
   "outputs": [
    {
     "name": "stdout",
     "output_type": "stream",
     "text": [
      "L'estimateur de la variance vaut 7.68e-03\n"
     ]
    }
   ],
   "source": [
    "print(\"L'estimateur de la variance vaut {:.2e}\".format(sigma_chap_2))"
   ]
  },
  {
   "attachments": {
    "image.png": {
     "image/png": "[encoded data removed]"
    }
   },
   "cell_type": "markdown",
   "metadata": {},
   "source": [
    "On peut maintenant calculer:\n",
    "![image.png](attachment:image.png)"
   ]
  },
  {
   "cell_type": "code",
   "execution_count": 16,
   "metadata": {},
   "outputs": [],
   "source": [
    "var_beta0_chap = sigma_chap_2*(1/n+(x.mean()**2)/sum((x-x.mean())**2))"
   ]
  },
  {
   "cell_type": "code",
   "execution_count": 17,
   "metadata": {},
   "outputs": [],
   "source": [
    "var_beta1_chap = sigma_chap_2/sum((x-x.mean())**2)"
   ]
  },
  {
   "cell_type": "code",
   "execution_count": 18,
   "metadata": {},
   "outputs": [
    {
     "name": "stdout",
     "output_type": "stream",
     "text": [
      "Les écarts types des estimateurs de l'intercept et de la pente sont respectivement 4.10e-01 et 5.54e-02\n"
     ]
    }
   ],
   "source": [
    "print(\"Les écarts types des estimateurs de l'intercept et \\\n",
    "de la pente sont respectivement {:.2e} et {:.2e}\".format(m.sqrt(var_beta0_chap),m.sqrt(var_beta1_chap)))"
   ]
  },
  {
   "cell_type": "code",
   "execution_count": 19,
   "metadata": {},
   "outputs": [],
   "source": [
    "y_chap = beta0_chap + beta1_chap*x"
   ]
  },
  {
   "cell_type": "code",
   "execution_count": 20,
   "metadata": {},
   "outputs": [],
   "source": [
    "R_2  = 1 - np.linalg.norm(y-y_chap)**2/np.linalg.norm(y-y.mean())**2"
   ]
  },
  {
   "cell_type": "code",
   "execution_count": 21,
   "metadata": {},
   "outputs": [
    {
     "data": {
      "text/plain": [
       "'Le coefficient de détermination vaut lui 0.963'"
      ]
     },
     "execution_count": 21,
     "metadata": {},
     "output_type": "execute_result"
    }
   ],
   "source": [
    "\"Le coefficient de détermination vaut lui {:.3f}\".format(R_2)"
   ]
  },
  {
   "cell_type": "markdown",
   "metadata": {},
   "source": [
    "# Q4\n",
    "\n",
    "On teste l'hypothèse $H0: \\beta_1=0$"
   ]
  },
  {
   "cell_type": "code",
   "execution_count": 22,
   "metadata": {},
   "outputs": [],
   "source": [
    "T_stat_pente = beta1_chap/m.sqrt(var_beta1_chap)"
   ]
  },
  {
   "cell_type": "code",
   "execution_count": 23,
   "metadata": {},
   "outputs": [
    {
     "name": "stdout",
     "output_type": "stream",
     "text": [
      "La t-statistique vaut 18.33\n"
     ]
    }
   ],
   "source": [
    "print(\"La t-statistique vaut {:.2f}\".format(T_stat_pente))"
   ]
  },
  {
   "cell_type": "code",
   "execution_count": 24,
   "metadata": {},
   "outputs": [
    {
     "name": "stdout",
     "output_type": "stream",
     "text": [
      "Le quantile d'une loi de student à 13 degrés de liberté vaut 1.77 pour un alpha de 0.05.\n",
      "On en déduit que la t-statistique n'appartient à l'intervalle de confiance, donc il est fortement probable que la pente soit significative. \n"
     ]
    }
   ],
   "source": [
    "cv95 = t.ppf(1.0 - 0.05, n-2) # alpha = 0.05 , et degreef =15-2\n",
    "print(\"Le quantile d'une loi de student à 13 degrés de liberté vaut {:.2f} pour un alpha de 0.05.\\nOn en déduit que la t-statistique \\\n",
    "n'appartient à l'intervalle de confiance, donc il est fortement probable que la pente soit significative. \".format(cv95))"
   ]
  },
  {
   "cell_type": "code",
   "execution_count": 25,
   "metadata": {},
   "outputs": [
    {
     "name": "stdout",
     "output_type": "stream",
     "text": [
      "La p-value est 1.14e-10\n"
     ]
    }
   ],
   "source": [
    "pval= (1 - t.cdf(abs(T_stat_pente), n-2)) * 2   # t_stat = c'est la formule dans le pol\n",
    "print(\"La p-value est {:.2e}\".format(pval))"
   ]
  },
  {
   "cell_type": "markdown",
   "metadata": {},
   "source": [
    "# Q5"
   ]
  },
  {
   "cell_type": "markdown",
   "metadata": {},
   "source": [
    "On passe en échelle logarithmique"
   ]
  },
  {
   "cell_type": "code",
   "execution_count": 26,
   "metadata": {},
   "outputs": [],
   "source": [
    "x_pred = m.log(1000)"
   ]
  },
  {
   "cell_type": "code",
   "execution_count": 27,
   "metadata": {},
   "outputs": [],
   "source": [
    "y_pred = beta0_chap + beta1_chap * x_pred"
   ]
  },
  {
   "cell_type": "code",
   "execution_count": 28,
   "metadata": {},
   "outputs": [
    {
     "data": {
      "text/plain": [
       "'Cela correspond à un investment de 155.98'"
      ]
     },
     "execution_count": 28,
     "metadata": {},
     "output_type": "execute_result"
    }
   ],
   "source": [
    "\"Cela correspond à un investment de {:.2f}\".format(m.exp(y_pred))"
   ]
  },
  {
   "cell_type": "code",
   "execution_count": 29,
   "metadata": {},
   "outputs": [],
   "source": [
    "cv90 = t.ppf(1.0 - 0.1, n-2)"
   ]
  },
  {
   "cell_type": "code",
   "execution_count": 30,
   "metadata": {},
   "outputs": [],
   "source": [
    "borne_inf = y_pred - cv90*m.sqrt(1/n+((x_pred-x.mean())**2)/sum((x-x.mean())**2))*m.sqrt(sigma_chap_2)"
   ]
  },
  {
   "cell_type": "code",
   "execution_count": 31,
   "metadata": {},
   "outputs": [],
   "source": [
    "borne_sup = y_pred + cv90*m.sqrt(1/n+((x_pred-x.mean())**2)/sum((x-x.mean())**2))*m.sqrt(sigma_chap_2)"
   ]
  },
  {
   "cell_type": "code",
   "execution_count": 32,
   "metadata": {},
   "outputs": [
    {
     "data": {
      "text/plain": [
       "\"L'intervalle de confiance à 90% est IC = [5.00,5.10]\""
      ]
     },
     "execution_count": 32,
     "metadata": {},
     "output_type": "execute_result"
    }
   ],
   "source": [
    "\"L'intervalle de confiance à 90% est IC = [{:.2f},{:.2f}]\".format(borne_inf, borne_sup)"
   ]
  },
  {
   "cell_type": "code",
   "execution_count": 33,
   "metadata": {},
   "outputs": [],
   "source": [
    "borne_inf2 = y_pred - cv90*m.sqrt(1+1/n+((x_pred-x.mean())**2)/sum((x-x.mean())**2))*m.sqrt(sigma_chap_2)"
   ]
  },
  {
   "cell_type": "code",
   "execution_count": 34,
   "metadata": {},
   "outputs": [],
   "source": [
    "borne_sup2 = y_pred + cv90*m.sqrt(1+1/n+((x_pred-x.mean())**2)/sum((x-x.mean())**2))*m.sqrt(sigma_chap_2)"
   ]
  },
  {
   "cell_type": "code",
   "execution_count": 35,
   "metadata": {},
   "outputs": [
    {
     "data": {
      "text/plain": [
       "\"L'intervalle de prédiction à 90% est IC = [4.92,5.18]\""
      ]
     },
     "execution_count": 35,
     "metadata": {},
     "output_type": "execute_result"
    }
   ],
   "source": [
    "\"L'intervalle de prédiction à 90% est IC = [{:.2f},{:.2f}]\".format(borne_inf2, borne_sup2)"
   ]
  },
  {
   "cell_type": "markdown",
   "metadata": {},
   "source": [
    "# Q6"
   ]
  },
  {
   "cell_type": "code",
   "execution_count": 36,
   "metadata": {},
   "outputs": [
    {
     "data": {
      "image/png": "[encoded data removed]",
      "text/plain": [
       "<Figure size 1152x576 with 1 Axes>"
      ]
     },
     "metadata": {
      "needs_background": "light"
     },
     "output_type": "display_data"
    }
   ],
   "source": [
    "plot1 = plt.figure(1,figsize=(16,8))\n",
    "plt.scatter(data.log_gnp,data[[\"log_invest\"]], label = \"Datas\")\n",
    "x_ = np.linspace(data.log_gnp.min(), data.log_gnp.max())\n",
    "y_ = [beta0_chap+x*beta1_chap for x in x_]\n",
    "y_sup = [y+cv90*m.sqrt(1/n+((xi-x.mean())**2)/sum((x-x.mean())**2))*m.sqrt(sigma_chap_2) for (xi,y) in zip(x_,y_)]\n",
    "y_inf = [y-cv90*m.sqrt(1/n+((xi-x.mean())**2)/sum((x-x.mean())**2))*m.sqrt(sigma_chap_2) for (xi,y) in zip(x_,y_)]\n",
    "y_sup_ = [y+cv90*m.sqrt(1+1/n+((xi-x.mean())**2)/sum((x-x.mean())**2))*m.sqrt(sigma_chap_2) for (xi,y) in zip(x_,y_)]\n",
    "y_inf_ = [y-cv90*m.sqrt(1+1/n+((xi-x.mean())**2)/sum((x-x.mean())**2))*m.sqrt(sigma_chap_2) for (xi,y) in zip(x_,y_)]\n",
    "plt.plot(x_,y_sup,c=\"r\",label = \"IC+\")\n",
    "plt.plot(x_,y_inf,c=\"r\",label = \"IC-\")\n",
    "plt.plot(x_,y_sup_,c=\"green\",label = \"PI+\")\n",
    "plt.plot(x_,y_inf_,c=\"green\",label = \"PI-\")\n",
    "plt.plot(x_,y_, label = \"Regression\")\n",
    "plt.xlabel(\"GNP(log)\")\n",
    "plt.ylabel(\"Invest(log)\")\n",
    "plt.legend()\n",
    "plt.show()"
   ]
  },
  {
   "cell_type": "markdown",
   "metadata": {},
   "source": [
    "# Q7"
   ]
  },
  {
   "cell_type": "code",
   "execution_count": 37,
   "metadata": {},
   "outputs": [],
   "source": [
    "lin_model = lm.LinearRegression()"
   ]
  },
  {
   "cell_type": "code",
   "execution_count": 38,
   "metadata": {},
   "outputs": [
    {
     "data": {
      "text/plain": [
       "LinearRegression(copy_X=True, fit_intercept=True, n_jobs=1, normalize=False)"
      ]
     },
     "execution_count": 38,
     "metadata": {},
     "output_type": "execute_result"
    }
   ],
   "source": [
    "lin_model.fit(data[[\"log_gnp\"]],data[\"log_invest\"])"
   ]
  },
  {
   "cell_type": "code",
   "execution_count": 39,
   "metadata": {},
   "outputs": [
    {
     "data": {
      "text/plain": [
       "'On retrouve la valeur de la pente 1.02'"
      ]
     },
     "execution_count": 39,
     "metadata": {},
     "output_type": "execute_result"
    }
   ],
   "source": [
    "\"On retrouve la valeur de la pente {:.2f}\".format(lin_model.coef_[0])"
   ]
  },
  {
   "cell_type": "code",
   "execution_count": 40,
   "metadata": {},
   "outputs": [
    {
     "data": {
      "text/plain": [
       "\"... de l'intercept -1.96\""
      ]
     },
     "execution_count": 40,
     "metadata": {},
     "output_type": "execute_result"
    }
   ],
   "source": [
    "\"... de l'intercept {:.2f}\".format(lin_model.intercept_)"
   ]
  },
  {
   "cell_type": "code",
   "execution_count": 41,
   "metadata": {},
   "outputs": [
    {
     "data": {
      "text/plain": [
       "'... de la prédiction 5.05'"
      ]
     },
     "execution_count": 41,
     "metadata": {},
     "output_type": "execute_result"
    }
   ],
   "source": [
    "\"... de la prédiction {:.2f}\".format(lin_model.predict([[x_pred]])[0])"
   ]
  },
  {
   "cell_type": "code",
   "execution_count": 42,
   "metadata": {},
   "outputs": [
    {
     "data": {
      "text/plain": [
       "'... et enfin du coefficient de détermination 0.96'"
      ]
     },
     "execution_count": 42,
     "metadata": {},
     "output_type": "execute_result"
    }
   ],
   "source": [
    "\"... et enfin du coefficient de détermination {:.2f}\".format(lin_model.score(data[[\"log_gnp\"]],data[\"log_invest\"]))"
   ]
  },
  {
   "cell_type": "markdown",
   "metadata": {},
   "source": [
    "# Q8"
   ]
  },
  {
   "cell_type": "code",
   "execution_count": 43,
   "metadata": {},
   "outputs": [
    {
     "data": {
      "image/png": "[encoded data removed]",
      "text/plain": [
       "<Figure size 1152x576 with 1 Axes>"
      ]
     },
     "metadata": {
      "needs_background": "light"
     },
     "output_type": "display_data"
    }
   ],
   "source": [
    "plot = plt.figure(1,figsize=(16,8))\n",
    "plt.scatter( data.log_gnp,data[[\"log_invest\"]])\n",
    "plt.scatter(x_pred,y_pred, label = \"prediction\")\n",
    "y_sup = [y+1.350*m.sqrt(1/n+((xi-x.mean())**2)/sum((x-x.mean())**2))*m.sqrt(sigma_chap_2) for (xi,y) in zip(x_,y_)]\n",
    "y_inf = [y-1.350*m.sqrt(1/n+((xi-x.mean())**2)/sum((x-x.mean())**2))*m.sqrt(sigma_chap_2) for (xi,y) in zip(x_,y_)]\n",
    "y_sup_ = [y+1.350*m.sqrt(1+1/n+((xi-x.mean())**2)/sum((x-x.mean())**2))*m.sqrt(sigma_chap_2) for (xi,y) in zip(x_,y_)]\n",
    "y_inf_ = [y-1.350*m.sqrt(1+1/n+((xi-x.mean())**2)/sum((x-x.mean())**2))*m.sqrt(sigma_chap_2) for (xi,y) in zip(x_,y_)]\n",
    "plt.plot(x_,y_sup,c=\"r\",label = \"IC+\")\n",
    "plt.plot(x_,y_inf,c=\"r\",label = \"IC-\")\n",
    "plt.plot(x_,y_sup_,c=\"green\",label = \"PI+\")\n",
    "plt.plot(x_,y_inf_,c=\"green\",label = \"PI-\")\n",
    "plt.plot(x_,y_, label = \"Regression\")\n",
    "plt.xlabel(\"GNP(log)\")\n",
    "plt.ylabel(\"Invest(log)\")\n",
    "plt.legend()\n",
    "plt.show()"
   ]
  },
  {
   "cell_type": "markdown",
   "metadata": {},
   "source": [
    "# Q9 \n",
    "\n",
    "On ajoute une variable explicatrice \"interest\":"
   ]
  },
  {
   "cell_type": "code",
   "execution_count": 6,
   "metadata": {},
   "outputs": [],
   "source": [
    "X = data[[\"log_gnp\",\"interest\"]].values"
   ]
  },
  {
   "cell_type": "code",
   "execution_count": 7,
   "metadata": {},
   "outputs": [],
   "source": [
    "X = np.concatenate((np.ones_like(data.interest).reshape(-1,1),X), axis = 1)"
   ]
  },
  {
   "cell_type": "code",
   "execution_count": 8,
   "metadata": {},
   "outputs": [],
   "source": [
    "gram = X.T @ X"
   ]
  },
  {
   "cell_type": "code",
   "execution_count": 9,
   "metadata": {},
   "outputs": [],
   "source": [
    "rg = np.linalg.matrix_rank(gram)"
   ]
  },
  {
   "cell_type": "code",
   "execution_count": 10,
   "metadata": {},
   "outputs": [
    {
     "data": {
      "text/plain": [
       "3"
      ]
     },
     "execution_count": 10,
     "metadata": {},
     "output_type": "execute_result"
    }
   ],
   "source": [
    "rg"
   ]
  },
  {
   "cell_type": "markdown",
   "metadata": {},
   "source": [
    "La matrice de gram est donc de rang plein et inversible."
   ]
  },
  {
   "cell_type": "markdown",
   "metadata": {},
   "source": [
    "# Q10"
   ]
  },
  {
   "cell_type": "code",
   "execution_count": 11,
   "metadata": {},
   "outputs": [],
   "source": [
    "gram_inv = np.linalg.inv(gram)"
   ]
  },
  {
   "cell_type": "code",
   "execution_count": 14,
   "metadata": {},
   "outputs": [],
   "source": [
    "theta_chap = gram_inv @ X.T @ y"
   ]
  },
  {
   "cell_type": "code",
   "execution_count": 15,
   "metadata": {},
   "outputs": [
    {
     "data": {
      "text/plain": [
       "array([-2.18045473,  1.05124269, -0.00652888])"
      ]
     },
     "execution_count": 15,
     "metadata": {},
     "output_type": "execute_result"
    }
   ],
   "source": [
    "theta_chap"
   ]
  },
  {
   "cell_type": "code",
   "execution_count": 60,
   "metadata": {},
   "outputs": [
    {
     "name": "stdout",
     "output_type": "stream",
     "text": [
      "les coefficients sont respectivement -2.18 , 1.05 et -6.53e-03\n"
     ]
    }
   ],
   "source": [
    "print(\"les coefficients sont respectivement {:.2f} , {:.2f} et {:.2e}\".format(*theta_chap))"
   ]
  },
  {
   "cell_type": "code",
   "execution_count": 17,
   "metadata": {},
   "outputs": [],
   "source": [
    "ychap = X @ theta_chap"
   ]
  },
  {
   "cell_type": "code",
   "execution_count": 18,
   "metadata": {},
   "outputs": [],
   "source": [
    "s2 = 1/(len(data)-rg)*np.linalg.norm(y-ychap)**2"
   ]
  },
  {
   "cell_type": "code",
   "execution_count": 19,
   "metadata": {},
   "outputs": [
    {
     "data": {
      "text/plain": [
       "'Une estimation de la variance du bruit est 8.19e-03'"
      ]
     },
     "execution_count": 19,
     "metadata": {},
     "output_type": "execute_result"
    }
   ],
   "source": [
    "\"Une estimation de la variance du bruit est {:.2e}\".format(s2)"
   ]
  },
  {
   "cell_type": "code",
   "execution_count": 20,
   "metadata": {},
   "outputs": [],
   "source": [
    "var_theta_chap  = [s2*gram_inv[i,i] for i in range(3)]"
   ]
  },
  {
   "cell_type": "code",
   "execution_count": 21,
   "metadata": {},
   "outputs": [],
   "source": [
    "ecart_type = [m.sqrt(v) for v in var_theta_chap]"
   ]
  },
  {
   "cell_type": "code",
   "execution_count": 22,
   "metadata": {},
   "outputs": [
    {
     "data": {
      "text/plain": [
       "'les écarts types des différents coefficients sont respectivement 0.66 , 0.10 et 0.02'"
      ]
     },
     "execution_count": 22,
     "metadata": {},
     "output_type": "execute_result"
    }
   ],
   "source": [
    "\"les écarts types des différents coefficients sont respectivement {:.2f} , {:.2f} et {:.2f}\".format(*ecart_type)"
   ]
  },
  {
   "cell_type": "code",
   "execution_count": 23,
   "metadata": {},
   "outputs": [],
   "source": [
    "R2 = 1-(np.linalg.norm(y-ychap)/np.linalg.norm(y-y.mean()))**2"
   ]
  },
  {
   "cell_type": "code",
   "execution_count": 24,
   "metadata": {},
   "outputs": [
    {
     "name": "stdout",
     "output_type": "stream",
     "text": [
      "le coefficient de détermination vaut 0.96\n"
     ]
    }
   ],
   "source": [
    "print(\"le coefficient de détermination vaut {:.2f}\".format(R2))"
   ]
  },
  {
   "cell_type": "markdown",
   "metadata": {},
   "source": [
    "On test $\\theta_i = 0$"
   ]
  },
  {
   "cell_type": "code",
   "execution_count": 25,
   "metadata": {},
   "outputs": [],
   "source": [
    "T_stat = theta_chap/ecart_type"
   ]
  },
  {
   "cell_type": "code",
   "execution_count": 26,
   "metadata": {},
   "outputs": [
    {
     "name": "stdout",
     "output_type": "stream",
     "text": [
      "les statistiques des test de student de la significativité des coefficients sont respectivement:\n",
      "-3.29 , 10.30 et -0.43\n"
     ]
    }
   ],
   "source": [
    "print(\"les statistiques des test de student de la significativité des coefficients sont respectivement:\\n\\\n",
    "{:.2f} , {:.2f} et {:.2f}\".format(*T_stat))"
   ]
  },
  {
   "cell_type": "code",
   "execution_count": 30,
   "metadata": {},
   "outputs": [],
   "source": [
    "cv95 = t.ppf(1.0 - 0.05, n-rg) # alpha = 0.05 , et degreef =15-2"
   ]
  },
  {
   "cell_type": "code",
   "execution_count": 31,
   "metadata": {},
   "outputs": [],
   "source": [
    "pvals= (1 - t.cdf(abs(T_stat), n-rg)) * 2   # t_stat = c'est la formule dans le pol\n"
   ]
  },
  {
   "cell_type": "code",
   "execution_count": 32,
   "metadata": {},
   "outputs": [
    {
     "name": "stdout",
     "output_type": "stream",
     "text": [
      "les p-valeurs valent 6.44e-03 , 2.60e-07 et 6.78e-01\n"
     ]
    }
   ],
   "source": [
    "print(\"les p-valeurs valent {:.2e} , {:.2e} et {:.2e}\".format(*pvals))"
   ]
  },
  {
   "cell_type": "markdown",
   "metadata": {},
   "source": [
    "On ne peut pas rejeter $H0 : \\theta_2 = 0$\n",
    "\n",
    "# Q11"
   ]
  },
  {
   "cell_type": "code",
   "execution_count": 62,
   "metadata": {},
   "outputs": [],
   "source": [
    "x_new = np.array([1, m.log(1000),10])"
   ]
  },
  {
   "cell_type": "code",
   "execution_count": 63,
   "metadata": {},
   "outputs": [],
   "source": [
    "y_new = x_new.T @ theta_chap"
   ]
  },
  {
   "cell_type": "code",
   "execution_count": 35,
   "metadata": {},
   "outputs": [
    {
     "data": {
      "text/plain": [
       "'pour GNP = 1000 et interest = 10 la prédiction est log(invest)= 5.02'"
      ]
     },
     "execution_count": 35,
     "metadata": {},
     "output_type": "execute_result"
    }
   ],
   "source": [
    "\"pour GNP = 1000 et interest = 10 la prédiction est log(invest)= {:.2f}\".format(y_new)"
   ]
  },
  {
   "cell_type": "code",
   "execution_count": 36,
   "metadata": {},
   "outputs": [],
   "source": [
    "cv99_9 = t.ppf(1.0 - 0.001, 12) # alpha = 0.05 , et degreef =15-2"
   ]
  },
  {
   "cell_type": "code",
   "execution_count": 37,
   "metadata": {},
   "outputs": [],
   "source": [
    "BI = y_new - cv99_9*m.sqrt(1+x_new.T @ gram_inv @ x_new)*m.sqrt(s2)"
   ]
  },
  {
   "cell_type": "code",
   "execution_count": 38,
   "metadata": {},
   "outputs": [],
   "source": [
    "BS = y_new + cv99_9*m.sqrt(1+x_new.T @ gram_inv @ x_new)*m.sqrt(s2)"
   ]
  },
  {
   "cell_type": "code",
   "execution_count": 39,
   "metadata": {},
   "outputs": [
    {
     "name": "stdout",
     "output_type": "stream",
     "text": [
      "L'intervalle CI est [4.52, 5.51]\n"
     ]
    }
   ],
   "source": [
    "print(\"L'intervalle CI est\",[float(\"{:.2f}\".format(BI)),float(\"{:.2f}\".format(BS))])"
   ]
  },
  {
   "cell_type": "code",
   "execution_count": 40,
   "metadata": {},
   "outputs": [],
   "source": [
    "PI = y_new - cv99_9*m.sqrt(x_new.T @ gram_inv @ x_new)*m.sqrt(s2)"
   ]
  },
  {
   "cell_type": "code",
   "execution_count": 41,
   "metadata": {},
   "outputs": [],
   "source": [
    "PS = y_new + cv99_9*m.sqrt(x_new.T @ gram_inv @ x_new)*m.sqrt(s2)"
   ]
  },
  {
   "cell_type": "code",
   "execution_count": 42,
   "metadata": {},
   "outputs": [
    {
     "name": "stdout",
     "output_type": "stream",
     "text": [
      "L'intervalle PI est [4.67, 5.36]\n"
     ]
    }
   ],
   "source": [
    "print(\"L'intervalle PI est\",[float(\"{:.2f}\".format(PI)),float(\"{:.2f}\".format(PS))])"
   ]
  },
  {
   "cell_type": "markdown",
   "metadata": {},
   "source": [
    "# Q12"
   ]
  },
  {
   "cell_type": "code",
   "execution_count": 45,
   "metadata": {},
   "outputs": [],
   "source": [
    "x0 = np.linspace(1,1)\n",
    "x1 = np.linspace(data.log_gnp.min(), data.log_gnp.max())\n",
    "x2 = np.linspace(data.interest.min(), data.interest.max())"
   ]
  },
  {
   "cell_type": "code",
   "execution_count": 47,
   "metadata": {},
   "outputs": [],
   "source": [
    "ZZ_PI = [[cv99_9*m.sqrt(1+np.array([1,x1_,x2_]).T @ gram_inv @ np.array([1,x1_,x2_]))*m.sqrt(s2)for x1_ in x1] for x2_ in x2]"
   ]
  },
  {
   "cell_type": "code",
   "execution_count": 48,
   "metadata": {},
   "outputs": [],
   "source": [
    "ZZ_IC = [[cv99_9*m.sqrt(np.array([1,x1_,x2_]).T @ gram_inv @ np.array([1,x1_,x2_]))*m.sqrt(s2)for x1_ in x1] for x2_ in x2]"
   ]
  },
  {
   "cell_type": "code",
   "execution_count": 49,
   "metadata": {},
   "outputs": [],
   "source": [
    "xx,yy = np.meshgrid(x1,x2)"
   ]
  },
  {
   "cell_type": "code",
   "execution_count": 80,
   "metadata": {},
   "outputs": [],
   "source": [
    "zz = theta_chap[0]+theta_chap[1]*xx+theta_chap[2]*yy"
   ]
  },
  {
   "cell_type": "code",
   "execution_count": 83,
   "metadata": {},
   "outputs": [
    {
     "name": "stdout",
     "output_type": "stream",
     "text": [
      "Using matplotlib backend: Qt5Agg\n"
     ]
    }
   ],
   "source": [
    "%matplotlib"
   ]
  },
  {
   "cell_type": "code",
   "execution_count": 84,
   "metadata": {},
   "outputs": [
    {
     "data": {
      "text/plain": [
       "Text(0.5,0,'log(Investment)')"
      ]
     },
     "execution_count": 84,
     "metadata": {},
     "output_type": "execute_result"
    },
    {
     "data": {
      "image/png": "[encoded data removed]",
      "text/plain": [
       "<Figure size 432x288 with 1 Axes>"
      ]
     },
     "metadata": {
      "needs_background": "light"
     },
     "output_type": "display_data"
    }
   ],
   "source": [
    "from mpl_toolkits.mplot3d import Axes3D\n",
    "fig = plt.figure()\n",
    "ax = fig.add_subplot(111, projection='3d')\n",
    "ax.scatter3D(data.log_gnp, data.interest, data.log_invest)\n",
    "ax.plot_surface(xx,yy,zz)\n",
    "ax.plot_surface(xx,yy,np.array(ZZ_PI)+zz, color=\"r\", alpha = 0.5, label = \"PI\")\n",
    "ax.plot_surface(xx,yy,-np.array(ZZ_PI)+zz, color=\"r\", alpha = 0.5)\n",
    "ax.plot_surface(xx,yy,np.array(ZZ_IC)+zz, color=\"green\", alpha = 0.5, label = \"CI\")\n",
    "ax.plot_surface(xx,yy,-np.array(ZZ_IC)+zz, color=\"green\", alpha = 0.5)\n",
    "ax.set_xlabel('log(GNP)')\n",
    "ax.set_ylabel('Interest')\n",
    "ax.set_zlabel('log(Investment)')"
   ]
  },
  {
   "cell_type": "code",
   "execution_count": 57,
   "metadata": {},
   "outputs": [
    {
     "data": {
      "text/plain": [
       "LinearRegression(copy_X=True, fit_intercept=True, n_jobs=1, normalize=False)"
      ]
     },
     "execution_count": 57,
     "metadata": {},
     "output_type": "execute_result"
    }
   ],
   "source": [
    "lin_model_3d = lm.LinearRegression()\n",
    "lin_model_3d.fit(data[[\"log_gnp\",\"interest\"]],data[\"log_invest\"])"
   ]
  },
  {
   "cell_type": "code",
   "execution_count": 73,
   "metadata": {},
   "outputs": [
    {
     "data": {
      "text/plain": [
       "\"L'intercept du modèle scikit learn est de -2.18\""
      ]
     },
     "execution_count": 73,
     "metadata": {},
     "output_type": "execute_result"
    }
   ],
   "source": [
    "\"L'intercept du modèle scikit learn est de {:.2f}\".format(lin_model_3d.intercept_)"
   ]
  },
  {
   "cell_type": "code",
   "execution_count": 77,
   "metadata": {},
   "outputs": [
    {
     "data": {
      "text/plain": [
       "'Les coefficients de regression valent 1.05 et -6.53e-03 '"
      ]
     },
     "execution_count": 77,
     "metadata": {},
     "output_type": "execute_result"
    }
   ],
   "source": [
    "\"Les coefficients de regression valent {:.2f} et {:.2e} \".format(*lin_model_3d.coef_)"
   ]
  },
  {
   "cell_type": "code",
   "execution_count": 79,
   "metadata": {},
   "outputs": [
    {
     "data": {
      "text/plain": [
       "'La prédiction est égal à 5.02'"
      ]
     },
     "execution_count": 79,
     "metadata": {},
     "output_type": "execute_result"
    }
   ],
   "source": [
    "\"La prédiction est égal à {:.2f}\".format(*lin_model_3d.predict([[m.log(1000), 10]]))"
   ]
  },
  {
   "cell_type": "code",
   "execution_count": 80,
   "metadata": {},
   "outputs": [
    {
     "data": {
      "text/plain": [
       "'Le coefficient de détermintion est quant à lui égal à 0.96'"
      ]
     },
     "execution_count": 80,
     "metadata": {},
     "output_type": "execute_result"
    }
   ],
   "source": [
    "\"Le coefficient de détermintion est quant à lui égal à {:.2f}\".format(lin_model_3d.score(data[[\"log_gnp\",\"interest\"]],data[\"log_invest\"]))"
   ]
  },
  {
   "cell_type": "markdown",
   "metadata": {},
   "source": [
    "On a bien retrouvé les valeurs calculées aux questions précédentes."
   ]
  }
 ],
 "metadata": {
  "kernelspec": {
   "display_name": "Python 3",
   "language": "python",
   "name": "python3"
  },
  "language_info": {
   "codemirror_mode": {
    "name": "ipython",
    "version": 3
   },
   "file_extension": ".py",
   "mimetype": "text/x-python",
   "name": "python",
   "nbconvert_exporter": "python",
   "pygments_lexer": "ipython3",
   "version": "3.7.0"
  }
 },
 "nbformat": 4,
 "nbformat_minor": 2
}
