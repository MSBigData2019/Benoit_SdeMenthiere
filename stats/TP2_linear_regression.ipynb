{
 "cells": [
  {
   "cell_type": "code",
   "execution_count": null,
   "metadata": {},
   "outputs": [],
   "source": []
  },
  {
   "cell_type": "code",
   "execution_count": 1,
   "metadata": {},
   "outputs": [],
   "source": [
    "import pandas as pd\n",
    "import matplotlib.pyplot as plt\n",
    "import math as m\n",
    "import numpy as np\n",
    "import seaborn as sns\n",
    "from sklearn import linear_model as lm\n",
    "from scipy.stats import t"
   ]
  },
  {
   "cell_type": "markdown",
   "metadata": {},
   "source": [
    "# Exercice 1\n",
    "\n",
    "On s'intéresse au dataset INVESTMENT.\n",
    "\n",
    "## Q1\n",
    "On charge directement le dataset à l'aide de la librairie pandas."
   ]
  },
  {
   "cell_type": "code",
   "execution_count": 2,
   "metadata": {},
   "outputs": [],
   "source": [
    "data = pd.read_csv(\"https://bitbucket.org/portierf/shared_files/downloads/invest.txt\", sep = r\"\\s+\")"
   ]
  },
  {
   "cell_type": "code",
   "execution_count": 3,
   "metadata": {},
   "outputs": [
    {
     "data": {
      "text/html": [
       "<div>\n",
       "<style scoped>\n",
       "    .dataframe tbody tr th:only-of-type {\n",
       "        vertical-align: middle;\n",
       "    }\n",
       "\n",
       "    .dataframe tbody tr th {\n",
       "        vertical-align: top;\n",
       "    }\n",
       "\n",
       "    .dataframe thead th {\n",
       "        text-align: right;\n",
       "    }\n",
       "</style>\n",
       "<table border=\"1\" class=\"dataframe\">\n",
       "  <thead>\n",
       "    <tr style=\"text-align: right;\">\n",
       "      <th></th>\n",
       "      <th>year</th>\n",
       "      <th>gnp</th>\n",
       "      <th>invest</th>\n",
       "      <th>cpi</th>\n",
       "      <th>interest</th>\n",
       "    </tr>\n",
       "  </thead>\n",
       "  <tbody>\n",
       "    <tr>\n",
       "      <th>0</th>\n",
       "      <td>1968</td>\n",
       "      <td>873.4</td>\n",
       "      <td>133.3</td>\n",
       "      <td>82.54</td>\n",
       "      <td>5.16</td>\n",
       "    </tr>\n",
       "    <tr>\n",
       "      <th>1</th>\n",
       "      <td>1969</td>\n",
       "      <td>944.0</td>\n",
       "      <td>149.3</td>\n",
       "      <td>86.79</td>\n",
       "      <td>5.87</td>\n",
       "    </tr>\n",
       "    <tr>\n",
       "      <th>2</th>\n",
       "      <td>1970</td>\n",
       "      <td>992.7</td>\n",
       "      <td>144.2</td>\n",
       "      <td>91.45</td>\n",
       "      <td>5.95</td>\n",
       "    </tr>\n",
       "    <tr>\n",
       "      <th>3</th>\n",
       "      <td>1971</td>\n",
       "      <td>1077.6</td>\n",
       "      <td>166.4</td>\n",
       "      <td>96.01</td>\n",
       "      <td>4.88</td>\n",
       "    </tr>\n",
       "    <tr>\n",
       "      <th>4</th>\n",
       "      <td>1972</td>\n",
       "      <td>1185.9</td>\n",
       "      <td>195.0</td>\n",
       "      <td>100.00</td>\n",
       "      <td>4.50</td>\n",
       "    </tr>\n",
       "  </tbody>\n",
       "</table>\n",
       "</div>"
      ],
      "text/plain": [
       "   year     gnp  invest     cpi  interest\n",
       "0  1968   873.4   133.3   82.54      5.16\n",
       "1  1969   944.0   149.3   86.79      5.87\n",
       "2  1970   992.7   144.2   91.45      5.95\n",
       "3  1971  1077.6   166.4   96.01      4.88\n",
       "4  1972  1185.9   195.0  100.00      4.50"
      ]
     },
     "execution_count": 3,
     "metadata": {},
     "output_type": "execute_result"
    }
   ],
   "source": [
    "data.head()"
   ]
  },
  {
   "cell_type": "code",
   "execution_count": 4,
   "metadata": {},
   "outputs": [
    {
     "data": {
      "image/png": "[encoded data removed]",
      "text/plain": [
       "<Figure size 432x288 with 1 Axes>"
      ]
     },
     "metadata": {
      "needs_background": "light"
     },
     "output_type": "display_data"
    }
   ],
   "source": [
    "plt.scatter(data[[\"invest\"]], data.gnp)\n",
    "plt.xlabel(\"invest\")\n",
    "plt.ylabel(\"gnp\")\n",
    "plt.show()"
   ]
  },
  {
   "cell_type": "markdown",
   "metadata": {},
   "source": [
    "## Q2 \n",
    "On définit deux nouvelles series correspondant à l'échelle logarithmique.\n"
   ]
  },
  {
   "cell_type": "code",
   "execution_count": 5,
   "metadata": {},
   "outputs": [],
   "source": [
    "data[\"log_invest\"] = data.invest.apply(m.log)\n",
    "data[\"log_gnp\"] = data.gnp.apply(m.log)"
   ]
  },
  {
   "cell_type": "code",
   "execution_count": 6,
   "metadata": {},
   "outputs": [
    {
     "data": {
      "text/html": [
       "<div>\n",
       "<style scoped>\n",
       "    .dataframe tbody tr th:only-of-type {\n",
       "        vertical-align: middle;\n",
       "    }\n",
       "\n",
       "    .dataframe tbody tr th {\n",
       "        vertical-align: top;\n",
       "    }\n",
       "\n",
       "    .dataframe thead th {\n",
       "        text-align: right;\n",
       "    }\n",
       "</style>\n",
       "<table border=\"1\" class=\"dataframe\">\n",
       "  <thead>\n",
       "    <tr style=\"text-align: right;\">\n",
       "      <th></th>\n",
       "      <th>year</th>\n",
       "      <th>gnp</th>\n",
       "      <th>invest</th>\n",
       "      <th>cpi</th>\n",
       "      <th>interest</th>\n",
       "      <th>log_invest</th>\n",
       "      <th>log_gnp</th>\n",
       "    </tr>\n",
       "  </thead>\n",
       "  <tbody>\n",
       "    <tr>\n",
       "      <th>0</th>\n",
       "      <td>1968</td>\n",
       "      <td>873.4</td>\n",
       "      <td>133.3</td>\n",
       "      <td>82.54</td>\n",
       "      <td>5.16</td>\n",
       "      <td>4.892602</td>\n",
       "      <td>6.772394</td>\n",
       "    </tr>\n",
       "    <tr>\n",
       "      <th>1</th>\n",
       "      <td>1969</td>\n",
       "      <td>944.0</td>\n",
       "      <td>149.3</td>\n",
       "      <td>86.79</td>\n",
       "      <td>5.87</td>\n",
       "      <td>5.005958</td>\n",
       "      <td>6.850126</td>\n",
       "    </tr>\n",
       "    <tr>\n",
       "      <th>2</th>\n",
       "      <td>1970</td>\n",
       "      <td>992.7</td>\n",
       "      <td>144.2</td>\n",
       "      <td>91.45</td>\n",
       "      <td>5.95</td>\n",
       "      <td>4.971201</td>\n",
       "      <td>6.900429</td>\n",
       "    </tr>\n",
       "    <tr>\n",
       "      <th>3</th>\n",
       "      <td>1971</td>\n",
       "      <td>1077.6</td>\n",
       "      <td>166.4</td>\n",
       "      <td>96.01</td>\n",
       "      <td>4.88</td>\n",
       "      <td>5.114395</td>\n",
       "      <td>6.982492</td>\n",
       "    </tr>\n",
       "    <tr>\n",
       "      <th>4</th>\n",
       "      <td>1972</td>\n",
       "      <td>1185.9</td>\n",
       "      <td>195.0</td>\n",
       "      <td>100.00</td>\n",
       "      <td>4.50</td>\n",
       "      <td>5.273000</td>\n",
       "      <td>7.078257</td>\n",
       "    </tr>\n",
       "  </tbody>\n",
       "</table>\n",
       "</div>"
      ],
      "text/plain": [
       "   year     gnp  invest     cpi  interest  log_invest   log_gnp\n",
       "0  1968   873.4   133.3   82.54      5.16    4.892602  6.772394\n",
       "1  1969   944.0   149.3   86.79      5.87    5.005958  6.850126\n",
       "2  1970   992.7   144.2   91.45      5.95    4.971201  6.900429\n",
       "3  1971  1077.6   166.4   96.01      4.88    5.114395  6.982492\n",
       "4  1972  1185.9   195.0  100.00      4.50    5.273000  7.078257"
      ]
     },
     "execution_count": 6,
     "metadata": {},
     "output_type": "execute_result"
    }
   ],
   "source": [
    "data.head()"
   ]
  },
  {
   "cell_type": "code",
   "execution_count": 7,
   "metadata": {},
   "outputs": [
    {
     "data": {
      "text/html": [
       "<div>\n",
       "<style scoped>\n",
       "    .dataframe tbody tr th:only-of-type {\n",
       "        vertical-align: middle;\n",
       "    }\n",
       "\n",
       "    .dataframe tbody tr th {\n",
       "        vertical-align: top;\n",
       "    }\n",
       "\n",
       "    .dataframe thead th {\n",
       "        text-align: right;\n",
       "    }\n",
       "</style>\n",
       "<table border=\"1\" class=\"dataframe\">\n",
       "  <thead>\n",
       "    <tr style=\"text-align: right;\">\n",
       "      <th></th>\n",
       "      <th>year</th>\n",
       "      <th>gnp</th>\n",
       "      <th>invest</th>\n",
       "      <th>cpi</th>\n",
       "      <th>interest</th>\n",
       "      <th>log_invest</th>\n",
       "      <th>log_gnp</th>\n",
       "    </tr>\n",
       "  </thead>\n",
       "  <tbody>\n",
       "    <tr>\n",
       "      <th>count</th>\n",
       "      <td>15.000000</td>\n",
       "      <td>15.000000</td>\n",
       "      <td>15.000000</td>\n",
       "      <td>15.000000</td>\n",
       "      <td>15.000000</td>\n",
       "      <td>15.000000</td>\n",
       "      <td>15.000000</td>\n",
       "    </tr>\n",
       "    <tr>\n",
       "      <th>mean</th>\n",
       "      <td>1975.000000</td>\n",
       "      <td>1748.646667</td>\n",
       "      <td>276.006667</td>\n",
       "      <td>131.401333</td>\n",
       "      <td>7.452667</td>\n",
       "      <td>5.532761</td>\n",
       "      <td>7.383521</td>\n",
       "    </tr>\n",
       "    <tr>\n",
       "      <th>std</th>\n",
       "      <td>4.472136</td>\n",
       "      <td>738.145808</td>\n",
       "      <td>117.582691</td>\n",
       "      <td>40.286606</td>\n",
       "      <td>2.812245</td>\n",
       "      <td>0.437486</td>\n",
       "      <td>0.422801</td>\n",
       "    </tr>\n",
       "    <tr>\n",
       "      <th>min</th>\n",
       "      <td>1968.000000</td>\n",
       "      <td>873.400000</td>\n",
       "      <td>133.300000</td>\n",
       "      <td>82.540000</td>\n",
       "      <td>4.500000</td>\n",
       "      <td>4.892602</td>\n",
       "      <td>6.772394</td>\n",
       "    </tr>\n",
       "    <tr>\n",
       "      <th>25%</th>\n",
       "      <td>1971.500000</td>\n",
       "      <td>1131.750000</td>\n",
       "      <td>180.700000</td>\n",
       "      <td>98.005000</td>\n",
       "      <td>5.480000</td>\n",
       "      <td>5.193697</td>\n",
       "      <td>7.030374</td>\n",
       "    </tr>\n",
       "    <tr>\n",
       "      <th>50%</th>\n",
       "      <td>1975.000000</td>\n",
       "      <td>1549.200000</td>\n",
       "      <td>229.800000</td>\n",
       "      <td>125.790000</td>\n",
       "      <td>6.250000</td>\n",
       "      <td>5.437209</td>\n",
       "      <td>7.345494</td>\n",
       "    </tr>\n",
       "    <tr>\n",
       "      <th>75%</th>\n",
       "      <td>1978.500000</td>\n",
       "      <td>2290.850000</td>\n",
       "      <td>394.450000</td>\n",
       "      <td>156.920000</td>\n",
       "      <td>9.055000</td>\n",
       "      <td>5.977294</td>\n",
       "      <td>7.735140</td>\n",
       "    </tr>\n",
       "    <tr>\n",
       "      <th>max</th>\n",
       "      <td>1982.000000</td>\n",
       "      <td>3057.500000</td>\n",
       "      <td>471.500000</td>\n",
       "      <td>207.230000</td>\n",
       "      <td>13.420000</td>\n",
       "      <td>6.155919</td>\n",
       "      <td>8.025353</td>\n",
       "    </tr>\n",
       "  </tbody>\n",
       "</table>\n",
       "</div>"
      ],
      "text/plain": [
       "              year          gnp      invest         cpi   interest  \\\n",
       "count    15.000000    15.000000   15.000000   15.000000  15.000000   \n",
       "mean   1975.000000  1748.646667  276.006667  131.401333   7.452667   \n",
       "std       4.472136   738.145808  117.582691   40.286606   2.812245   \n",
       "min    1968.000000   873.400000  133.300000   82.540000   4.500000   \n",
       "25%    1971.500000  1131.750000  180.700000   98.005000   5.480000   \n",
       "50%    1975.000000  1549.200000  229.800000  125.790000   6.250000   \n",
       "75%    1978.500000  2290.850000  394.450000  156.920000   9.055000   \n",
       "max    1982.000000  3057.500000  471.500000  207.230000  13.420000   \n",
       "\n",
       "       log_invest    log_gnp  \n",
       "count   15.000000  15.000000  \n",
       "mean     5.532761   7.383521  \n",
       "std      0.437486   0.422801  \n",
       "min      4.892602   6.772394  \n",
       "25%      5.193697   7.030374  \n",
       "50%      5.437209   7.345494  \n",
       "75%      5.977294   7.735140  \n",
       "max      6.155919   8.025353  "
      ]
     },
     "execution_count": 7,
     "metadata": {},
     "output_type": "execute_result"
    }
   ],
   "source": [
    "data.describe()"
   ]
  },
  {
   "cell_type": "code",
   "execution_count": 8,
   "metadata": {},
   "outputs": [
    {
     "data": {
      "image/png": "[encoded data removed]",
      "text/plain": [
       "<Figure size 432x288 with 1 Axes>"
      ]
     },
     "metadata": {
      "needs_background": "light"
     },
     "output_type": "display_data"
    }
   ],
   "source": [
    "plt.scatter(data[[\"log_invest\"]], data.log_gnp)\n",
    "plt.xlabel(\"invest(log)\")\n",
    "plt.ylabel(\"gnp(log)\")\n",
    "plt.show()"
   ]
  },
  {
   "cell_type": "markdown",
   "metadata": {},
   "source": [
    "## Q3\n",
    "\n",
    "Dans un premier temps on s'intéresse à la regresion de Investment sur GNP. Pour cela on se place en échelle logarithmique pour prendre en compte les différences d'échelles."
   ]
  },
  {
   "cell_type": "code",
   "execution_count": 9,
   "metadata": {},
   "outputs": [],
   "source": [
    "n = len(data)"
   ]
  },
  {
   "cell_type": "code",
   "execution_count": 10,
   "metadata": {},
   "outputs": [],
   "source": [
    "y = data.log_invest.values\n",
    "x = data.log_gnp.values"
   ]
  },
  {
   "cell_type": "markdown",
   "metadata": {},
   "source": [
    "On a montré dans l'exercice 12 que: \n",
    "\n",
    "$$\\hat{\\beta_0} = \\bar{Y_n} - \\hat{\\beta_1} $$\n",
    "\n",
    "$$\\hat{\\beta_1} = \\frac{\\sum_{i=1}^{n}(x_i - \\bar{x_n})(Y_i-\\bar{Y_n})}{ \\sum_{i=1}^{n}(x_i - \\bar{x_n})²}$$"
   ]
  },
  {
   "cell_type": "code",
   "execution_count": 11,
   "metadata": {},
   "outputs": [],
   "source": [
    "beta1_chap = sum((x-x.mean())*(y-y.mean()))/sum((x-x.mean())**2)"
   ]
  },
  {
   "cell_type": "code",
   "execution_count": 12,
   "metadata": {},
   "outputs": [],
   "source": [
    "beta0_chap = y.mean() - beta1_chap*x.mean()"
   ]
  },
  {
   "cell_type": "code",
   "execution_count": 13,
   "metadata": {},
   "outputs": [
    {
     "name": "stdout",
     "output_type": "stream",
     "text": [
      "L'intercept vaut -1.964 et la pente est 1.015\n"
     ]
    }
   ],
   "source": [
    "print(\"L'intercept vaut {:.3f} et la pente est {:.3f}\".format(beta0_chap, beta1_chap))"
   ]
  },
  {
   "attachments": {},
   "cell_type": "markdown",
   "metadata": {},
   "source": [
    "On a de plus:\n",
    "$$\\hat{\\sigma²} = \\frac{1}{n-2}{\\sum_{i=1}^{n}(Y_i-\\hat{\\beta_0}-\\hat{\\beta_1}x_i)²}$$"
   ]
  },
  {
   "cell_type": "code",
   "execution_count": 14,
   "metadata": {},
   "outputs": [],
   "source": [
    "sigma_chap_2 = (sum((y-(beta0_chap+beta1_chap*x))**2))/(n-2)"
   ]
  },
  {
   "cell_type": "code",
   "execution_count": 15,
   "metadata": {},
   "outputs": [
    {
     "name": "stdout",
     "output_type": "stream",
     "text": [
      "L'estimateur de la variance vaut 7.68e-03\n"
     ]
    }
   ],
   "source": [
    "print(\"L'estimateur de la variance vaut {:.2e}\".format(sigma_chap_2))"
   ]
  },
  {
   "attachments": {},
   "cell_type": "markdown",
   "metadata": {},
   "source": [
    "On peut maintenant calculer:\n",
    "$$ V[\\hat{\\beta_0}] = \\hat{\\sigma²}( \\frac{1}{n} + \\frac{\\bar{x²}} {\\sum_{i=1}^{n}{(x_i - \\bar{x_n}})²}) $$\n",
    "\n",
    "\n",
    "$$ V[\\hat{\\beta_1}] = (\\frac{\\hat{\\sigma²}} {\\sum_{i=1}^{n}{(x_i - \\bar{x_n}})²}) $$\n",
    "\n"
   ]
  },
  {
   "cell_type": "code",
   "execution_count": 16,
   "metadata": {},
   "outputs": [],
   "source": [
    "var_beta0_chap = sigma_chap_2*(1/n+(x.mean()**2)/sum((x-x.mean())**2))"
   ]
  },
  {
   "cell_type": "code",
   "execution_count": 17,
   "metadata": {},
   "outputs": [],
   "source": [
    "var_beta1_chap = sigma_chap_2/sum((x-x.mean())**2)"
   ]
  },
  {
   "cell_type": "code",
   "execution_count": 18,
   "metadata": {},
   "outputs": [
    {
     "name": "stdout",
     "output_type": "stream",
     "text": [
      "Les écarts types des estimateurs de l'intercept et de la pente sont respectivement 4.10e-01 et 5.54e-02\n"
     ]
    }
   ],
   "source": [
    "print(\"Les écarts types des estimateurs de l'intercept et \\\n",
    "de la pente sont respectivement {:.2e} et {:.2e}\".format(m.sqrt(var_beta0_chap),m.sqrt(var_beta1_chap)))"
   ]
  },
  {
   "cell_type": "code",
   "execution_count": 19,
   "metadata": {},
   "outputs": [],
   "source": [
    "y_chap = beta0_chap + beta1_chap*x"
   ]
  },
  {
   "cell_type": "code",
   "execution_count": 20,
   "metadata": {},
   "outputs": [],
   "source": [
    "R_2  = 1 - np.linalg.norm(y-y_chap)**2/np.linalg.norm(y-y.mean())**2"
   ]
  },
  {
   "cell_type": "code",
   "execution_count": 21,
   "metadata": {},
   "outputs": [
    {
     "data": {
      "text/plain": [
       "'Le coefficient de détermination vaut lui 0.963'"
      ]
     },
     "execution_count": 21,
     "metadata": {},
     "output_type": "execute_result"
    }
   ],
   "source": [
    "\"Le coefficient de détermination vaut lui {:.3f}\".format(R_2)"
   ]
  },
  {
   "cell_type": "markdown",
   "metadata": {},
   "source": [
    "# Q4\n",
    "\n",
    "On teste l'hypothèse $H0: \\beta_1=0$"
   ]
  },
  {
   "cell_type": "code",
   "execution_count": 22,
   "metadata": {},
   "outputs": [],
   "source": [
    "T_stat_pente = beta1_chap/m.sqrt(var_beta1_chap)"
   ]
  },
  {
   "cell_type": "code",
   "execution_count": 23,
   "metadata": {},
   "outputs": [
    {
     "name": "stdout",
     "output_type": "stream",
     "text": [
      "La t-statistique vaut 18.33\n"
     ]
    }
   ],
   "source": [
    "print(\"La t-statistique vaut {:.2f}\".format(T_stat_pente))"
   ]
  },
  {
   "cell_type": "code",
   "execution_count": 24,
   "metadata": {},
   "outputs": [
    {
     "name": "stdout",
     "output_type": "stream",
     "text": [
      "Le quantile d'une loi de student à 13 degrés de liberté vaut 2.16 pour un alpha de 0.05.\n",
      "On en déduit que la t-statistique n'appartient à l'intervalle de confiance, donc il est fortement probable que la pente soit significative. \n"
     ]
    }
   ],
   "source": [
    "cv95 = t.ppf(1.0 - 0.05/2, n-2) # alpha = 0.05 , et degreef =15-2\n",
    "print(\"Le quantile d'une loi de student à 13 degrés de liberté vaut {:.2f} pour un alpha de 0.05.\\nOn en déduit que la t-statistique \\\n",
    "n'appartient à l'intervalle de confiance, donc il est fortement probable que la pente soit significative. \".format(cv95))"
   ]
  },
  {
   "cell_type": "code",
   "execution_count": 25,
   "metadata": {},
   "outputs": [
    {
     "name": "stdout",
     "output_type": "stream",
     "text": [
      "La p-value est 1.14e-10\n"
     ]
    }
   ],
   "source": [
    "pval= (1 - t.cdf(abs(T_stat_pente), n-2)) * 2   # t_stat = c'est la formule dans le pol\n",
    "print(\"La p-value est {:.2e}\".format(pval))"
   ]
  },
  {
   "cell_type": "markdown",
   "metadata": {},
   "source": [
    "# Q5"
   ]
  },
  {
   "cell_type": "markdown",
   "metadata": {},
   "source": [
    "On passe en échelle logarithmique"
   ]
  },
  {
   "cell_type": "code",
   "execution_count": 26,
   "metadata": {},
   "outputs": [],
   "source": [
    "x_pred = m.log(1000)"
   ]
  },
  {
   "cell_type": "code",
   "execution_count": 27,
   "metadata": {},
   "outputs": [],
   "source": [
    "y_pred = beta0_chap + beta1_chap * x_pred"
   ]
  },
  {
   "cell_type": "code",
   "execution_count": 28,
   "metadata": {},
   "outputs": [
    {
     "data": {
      "text/plain": [
       "'Cela correspond à un investment de 155.98'"
      ]
     },
     "execution_count": 28,
     "metadata": {},
     "output_type": "execute_result"
    }
   ],
   "source": [
    "\"Cela correspond à un investment de {:.2f}\".format(m.exp(y_pred))"
   ]
  },
  {
   "cell_type": "markdown",
   "metadata": {},
   "source": [
    "On calcule la valeur critique de niveau 90%"
   ]
  },
  {
   "cell_type": "code",
   "execution_count": 29,
   "metadata": {},
   "outputs": [],
   "source": [
    "cv90 = t.ppf(1.0 - 0.1/2, n-2)"
   ]
  },
  {
   "cell_type": "markdown",
   "metadata": {},
   "source": [
    "On en déduit PI et CI"
   ]
  },
  {
   "cell_type": "code",
   "execution_count": 30,
   "metadata": {},
   "outputs": [],
   "source": [
    "CI_inf = y_pred - cv90*m.sqrt(1/n+((x_pred-x.mean())**2)/sum((x-x.mean())**2))*m.sqrt(sigma_chap_2)"
   ]
  },
  {
   "cell_type": "code",
   "execution_count": 31,
   "metadata": {},
   "outputs": [],
   "source": [
    "CI_sup = y_pred + cv90*m.sqrt(1/n+((x_pred-x.mean())**2)/sum((x-x.mean())**2))*m.sqrt(sigma_chap_2)"
   ]
  },
  {
   "cell_type": "code",
   "execution_count": 32,
   "metadata": {},
   "outputs": [],
   "source": [
    "PI_inf = y_pred - cv90*m.sqrt(1+1/n+((x_pred-x.mean())**2)/sum((x-x.mean())**2))*m.sqrt(sigma_chap_2)"
   ]
  },
  {
   "cell_type": "code",
   "execution_count": 33,
   "metadata": {},
   "outputs": [],
   "source": [
    "PI_sup = y_pred + cv90*m.sqrt(1+1/n+((x_pred-x.mean())**2)/sum((x-x.mean())**2))*m.sqrt(sigma_chap_2)"
   ]
  },
  {
   "cell_type": "code",
   "execution_count": 34,
   "metadata": {},
   "outputs": [
    {
     "data": {
      "text/plain": [
       "\"L'intervalle de confiance à 90% est IC = [4.99,5.11] en echelle logarithmique et IC = [146.68,165.87] en repassant à l'exponentielle\""
      ]
     },
     "execution_count": 34,
     "metadata": {},
     "output_type": "execute_result"
    }
   ],
   "source": [
    "\"L'intervalle de confiance à 90% est IC = [{:.2f},{:.2f}] en echelle logarithmique et IC = [{:.2f},{:.2f}] en repassant à l'exponentielle\".format(CI_inf, CI_sup,m.exp(CI_inf), m.exp(CI_sup))"
   ]
  },
  {
   "cell_type": "code",
   "execution_count": 35,
   "metadata": {},
   "outputs": [
    {
     "data": {
      "text/plain": [
       "\"L'intervalle de prédiction à 90% est PI = [4.88,5.22] en echelle logarithmique et PI = [132.00,184.31] en repassant à l'exponentielle\""
      ]
     },
     "execution_count": 35,
     "metadata": {},
     "output_type": "execute_result"
    }
   ],
   "source": [
    "\"L'intervalle de prédiction à 90% est PI = [{:.2f},{:.2f}] en echelle logarithmique et PI = [{:.2f},{:.2f}] en repassant à l'exponentielle\".format(PI_inf,PI_sup,m.exp(PI_inf), m.exp(PI_sup))"
   ]
  },
  {
   "cell_type": "markdown",
   "metadata": {},
   "source": [
    "# Q6"
   ]
  },
  {
   "cell_type": "markdown",
   "metadata": {},
   "source": [
    "On calcule les intervalles pour 50 valeurs regulièrement reparties entre les extremum de log(gnp)."
   ]
  },
  {
   "cell_type": "code",
   "execution_count": 36,
   "metadata": {},
   "outputs": [
    {
     "data": {
      "image/png": "[encoded data removed]",
      "text/plain": [
       "<Figure size 1152x576 with 1 Axes>"
      ]
     },
     "metadata": {
      "needs_background": "light"
     },
     "output_type": "display_data"
    }
   ],
   "source": [
    "plot1 = plt.figure(1,figsize=(16,8))\n",
    "plt.scatter(data.log_gnp,data[[\"log_invest\"]], label = \"Datas\")\n",
    "x_ = np.linspace(data.log_gnp.min(), data.log_gnp.max())\n",
    "y_ = [beta0_chap+x*beta1_chap for x in x_]\n",
    "y_sup = [y+cv90*m.sqrt(1/n+((xi-x.mean())**2)/sum((x-x.mean())**2))*m.sqrt(sigma_chap_2) for (xi,y) in zip(x_,y_)]\n",
    "y_inf = [y-cv90*m.sqrt(1/n+((xi-x.mean())**2)/sum((x-x.mean())**2))*m.sqrt(sigma_chap_2) for (xi,y) in zip(x_,y_)]\n",
    "y_sup_ = [y+cv90*m.sqrt(1+1/n+((xi-x.mean())**2)/sum((x-x.mean())**2))*m.sqrt(sigma_chap_2) for (xi,y) in zip(x_,y_)]\n",
    "y_inf_ = [y-cv90*m.sqrt(1+1/n+((xi-x.mean())**2)/sum((x-x.mean())**2))*m.sqrt(sigma_chap_2) for (xi,y) in zip(x_,y_)]\n",
    "plt.plot(x_,y_sup,c=\"r\",label = \"IC+\")\n",
    "plt.plot(x_,y_inf,c=\"r\",label = \"IC-\")\n",
    "plt.plot(x_,y_sup_,c=\"green\",label = \"PI+\")\n",
    "plt.plot(x_,y_inf_,c=\"green\",label = \"PI-\")\n",
    "plt.plot(x_,y_, label = \"Regression\")\n",
    "plt.xlabel(\"GNP(log)\")\n",
    "plt.ylabel(\"Invest(log)\")\n",
    "plt.legend()\n",
    "plt.show()"
   ]
  },
  {
   "cell_type": "markdown",
   "metadata": {},
   "source": [
    "# Q7"
   ]
  },
  {
   "cell_type": "code",
   "execution_count": 37,
   "metadata": {},
   "outputs": [],
   "source": [
    "lin_model = lm.LinearRegression()"
   ]
  },
  {
   "cell_type": "code",
   "execution_count": 38,
   "metadata": {},
   "outputs": [
    {
     "data": {
      "text/plain": [
       "LinearRegression(copy_X=True, fit_intercept=True, n_jobs=1, normalize=False)"
      ]
     },
     "execution_count": 38,
     "metadata": {},
     "output_type": "execute_result"
    }
   ],
   "source": [
    "lin_model.fit(data[[\"log_gnp\"]],data[\"log_invest\"])"
   ]
  },
  {
   "cell_type": "code",
   "execution_count": 39,
   "metadata": {},
   "outputs": [
    {
     "data": {
      "text/plain": [
       "'On retrouve la valeur de la pente 1.02'"
      ]
     },
     "execution_count": 39,
     "metadata": {},
     "output_type": "execute_result"
    }
   ],
   "source": [
    "\"On retrouve la valeur de la pente {:.2f}\".format(lin_model.coef_[0])"
   ]
  },
  {
   "cell_type": "code",
   "execution_count": 40,
   "metadata": {},
   "outputs": [
    {
     "data": {
      "text/plain": [
       "\"... de l'intercept -1.96\""
      ]
     },
     "execution_count": 40,
     "metadata": {},
     "output_type": "execute_result"
    }
   ],
   "source": [
    "\"... de l'intercept {:.2f}\".format(lin_model.intercept_)"
   ]
  },
  {
   "cell_type": "code",
   "execution_count": 41,
   "metadata": {},
   "outputs": [
    {
     "data": {
      "text/plain": [
       "'... de la prédiction 5.05'"
      ]
     },
     "execution_count": 41,
     "metadata": {},
     "output_type": "execute_result"
    }
   ],
   "source": [
    "\"... de la prédiction {:.2f}\".format(lin_model.predict([[x_pred]])[0])"
   ]
  },
  {
   "cell_type": "code",
   "execution_count": 42,
   "metadata": {},
   "outputs": [
    {
     "data": {
      "text/plain": [
       "'... et enfin du coefficient de détermination 0.96'"
      ]
     },
     "execution_count": 42,
     "metadata": {},
     "output_type": "execute_result"
    }
   ],
   "source": [
    "\"... et enfin du coefficient de détermination {:.2f}\".format(lin_model.score(data[[\"log_gnp\"]],data[\"log_invest\"]))"
   ]
  },
  {
   "cell_type": "markdown",
   "metadata": {},
   "source": [
    "# Q8"
   ]
  },
  {
   "cell_type": "code",
   "execution_count": 43,
   "metadata": {},
   "outputs": [
    {
     "data": {
      "image/png": "[encoded data removed]",
      "text/plain": [
       "<Figure size 1152x576 with 1 Axes>"
      ]
     },
     "metadata": {
      "needs_background": "light"
     },
     "output_type": "display_data"
    }
   ],
   "source": [
    "plot = plt.figure(1,figsize=(16,8))\n",
    "plt.scatter( data.log_gnp,data[[\"log_invest\"]])\n",
    "plt.scatter(x_pred,y_pred, label = \"prediction\")\n",
    "y_sup = [y+cv90*m.sqrt(1/n+((xi-x.mean())**2)/sum((x-x.mean())**2))*m.sqrt(sigma_chap_2) for (xi,y) in zip(x_,y_)]\n",
    "y_inf = [y-cv90*m.sqrt(1/n+((xi-x.mean())**2)/sum((x-x.mean())**2))*m.sqrt(sigma_chap_2) for (xi,y) in zip(x_,y_)]\n",
    "y_sup_ = [y+cv90*m.sqrt(1+1/n+((xi-x.mean())**2)/sum((x-x.mean())**2))*m.sqrt(sigma_chap_2) for (xi,y) in zip(x_,y_)]\n",
    "y_inf_ = [y-cv90*m.sqrt(1+1/n+((xi-x.mean())**2)/sum((x-x.mean())**2))*m.sqrt(sigma_chap_2) for (xi,y) in zip(x_,y_)]\n",
    "plt.plot(x_,y_sup,c=\"r\",label = \"IC+\")\n",
    "plt.plot(x_,y_inf,c=\"r\",label = \"IC-\")\n",
    "plt.plot(x_,y_sup_,c=\"green\",label = \"PI+\")\n",
    "plt.plot(x_,y_inf_,c=\"green\",label = \"PI-\")\n",
    "plt.plot(x_,y_, label = \"Regression\")\n",
    "plt.xlabel(\"GNP(log)\")\n",
    "plt.ylabel(\"Invest(log)\")\n",
    "plt.legend()\n",
    "plt.show()"
   ]
  },
  {
   "cell_type": "markdown",
   "metadata": {},
   "source": [
    "# Q9 \n",
    "\n",
    "On ajoute une variable explicatrice \"interest\":"
   ]
  },
  {
   "cell_type": "code",
   "execution_count": 44,
   "metadata": {},
   "outputs": [],
   "source": [
    "X = data[[\"log_gnp\",\"interest\"]].values"
   ]
  },
  {
   "cell_type": "code",
   "execution_count": 45,
   "metadata": {},
   "outputs": [],
   "source": [
    "X = np.concatenate((np.ones_like(data.interest).reshape(-1,1),X), axis = 1)"
   ]
  },
  {
   "cell_type": "code",
   "execution_count": 46,
   "metadata": {},
   "outputs": [],
   "source": [
    "gram = X.T @ X"
   ]
  },
  {
   "cell_type": "code",
   "execution_count": 47,
   "metadata": {},
   "outputs": [],
   "source": [
    "rg = np.linalg.matrix_rank(gram)"
   ]
  },
  {
   "cell_type": "code",
   "execution_count": 48,
   "metadata": {},
   "outputs": [
    {
     "data": {
      "text/plain": [
       "3"
      ]
     },
     "execution_count": 48,
     "metadata": {},
     "output_type": "execute_result"
    }
   ],
   "source": [
    "rg"
   ]
  },
  {
   "cell_type": "markdown",
   "metadata": {},
   "source": [
    "La matrice de gram est donc de rang plein et inversible."
   ]
  },
  {
   "cell_type": "markdown",
   "metadata": {},
   "source": [
    "# Q10"
   ]
  },
  {
   "cell_type": "markdown",
   "metadata": {},
   "source": [
    "On commence par inverser la matrice de gram."
   ]
  },
  {
   "cell_type": "code",
   "execution_count": 49,
   "metadata": {},
   "outputs": [],
   "source": [
    "gram_inv = np.linalg.inv(gram)"
   ]
  },
  {
   "cell_type": "markdown",
   "metadata": {},
   "source": [
    "On en déduit les coefficients de regression."
   ]
  },
  {
   "cell_type": "code",
   "execution_count": 50,
   "metadata": {},
   "outputs": [],
   "source": [
    "theta_chap = gram_inv @ X.T @ y"
   ]
  },
  {
   "cell_type": "code",
   "execution_count": 51,
   "metadata": {},
   "outputs": [
    {
     "name": "stdout",
     "output_type": "stream",
     "text": [
      "les coefficients sont respectivement -2.18 , 1.05 et -6.53e-03\n"
     ]
    }
   ],
   "source": [
    "print(\"les coefficients sont respectivement {:.2f} , {:.2f} et {:.2e}\".format(*theta_chap))"
   ]
  },
  {
   "cell_type": "markdown",
   "metadata": {},
   "source": [
    "Puis les écarts types des différents coefficients:"
   ]
  },
  {
   "cell_type": "code",
   "execution_count": 52,
   "metadata": {},
   "outputs": [],
   "source": [
    "ychap = X @ theta_chap"
   ]
  },
  {
   "cell_type": "code",
   "execution_count": 53,
   "metadata": {},
   "outputs": [],
   "source": [
    "s2 = 1/(len(data)-rg)*np.linalg.norm(y-ychap)**2"
   ]
  },
  {
   "cell_type": "code",
   "execution_count": 54,
   "metadata": {},
   "outputs": [
    {
     "data": {
      "text/plain": [
       "'Une estimation de la variance du bruit est 8.19e-03'"
      ]
     },
     "execution_count": 54,
     "metadata": {},
     "output_type": "execute_result"
    }
   ],
   "source": [
    "\"Une estimation de la variance du bruit est {:.2e}\".format(s2)"
   ]
  },
  {
   "cell_type": "code",
   "execution_count": 55,
   "metadata": {},
   "outputs": [],
   "source": [
    "var_theta_chap  = [s2*gram_inv[i,i] for i in range(3)]"
   ]
  },
  {
   "cell_type": "code",
   "execution_count": 56,
   "metadata": {},
   "outputs": [],
   "source": [
    "ecart_type = [m.sqrt(v) for v in var_theta_chap]"
   ]
  },
  {
   "cell_type": "code",
   "execution_count": 57,
   "metadata": {},
   "outputs": [
    {
     "data": {
      "text/plain": [
       "'les écarts types des différents coefficients sont respectivement 0.66 , 0.10 et 0.02'"
      ]
     },
     "execution_count": 57,
     "metadata": {},
     "output_type": "execute_result"
    }
   ],
   "source": [
    "\"les écarts types des différents coefficients sont respectivement {:.2f} , {:.2f} et {:.2f}\".format(*ecart_type)"
   ]
  },
  {
   "cell_type": "code",
   "execution_count": 58,
   "metadata": {},
   "outputs": [],
   "source": [
    "R2 = 1-(np.linalg.norm(y-ychap)/np.linalg.norm(y-y.mean()))**2"
   ]
  },
  {
   "cell_type": "code",
   "execution_count": 59,
   "metadata": {},
   "outputs": [
    {
     "name": "stdout",
     "output_type": "stream",
     "text": [
      "Le coefficient de détermination vaut 0.96\n"
     ]
    }
   ],
   "source": [
    "print(\"Le coefficient de détermination vaut {:.2f}\".format(R2))"
   ]
  },
  {
   "cell_type": "markdown",
   "metadata": {},
   "source": [
    "On test $\\theta_i = 0$"
   ]
  },
  {
   "cell_type": "code",
   "execution_count": 60,
   "metadata": {},
   "outputs": [],
   "source": [
    "T_stat = theta_chap/ecart_type"
   ]
  },
  {
   "cell_type": "code",
   "execution_count": 61,
   "metadata": {},
   "outputs": [
    {
     "name": "stdout",
     "output_type": "stream",
     "text": [
      "les statistiques des test de student de la significativité des coefficients sont respectivement:\n",
      "-3.29 , 10.30 et -0.43\n"
     ]
    }
   ],
   "source": [
    "print(\"les statistiques des test de student de la significativité des coefficients sont respectivement:\\n\\\n",
    "{:.2f} , {:.2f} et {:.2f}\".format(*T_stat))"
   ]
  },
  {
   "cell_type": "code",
   "execution_count": 62,
   "metadata": {},
   "outputs": [],
   "source": [
    "cv95 = t.ppf(1.0 - 0.05/2, n-rg) # alpha = 0.05 , et degreef =15-2"
   ]
  },
  {
   "cell_type": "code",
   "execution_count": 63,
   "metadata": {},
   "outputs": [
    {
     "data": {
      "text/plain": [
       "\"Or le quantile à 95% d'une loi de student à 12 degrés de liberté est de 2.18\""
      ]
     },
     "execution_count": 63,
     "metadata": {},
     "output_type": "execute_result"
    }
   ],
   "source": [
    "\"Or le quantile à 95% d'une loi de student à 12 degrés de liberté est de {:.2f}\".format(cv95)"
   ]
  },
  {
   "cell_type": "markdown",
   "metadata": {},
   "source": [
    "On en rejette donc $H0 : \\theta_0 = 0$ et $H0 : \\theta_1 = 0$, en revanche on ne rejette pas $H0 : \\theta_2 = 0$"
   ]
  },
  {
   "cell_type": "code",
   "execution_count": 64,
   "metadata": {},
   "outputs": [],
   "source": [
    "pvals= (1 - t.cdf(abs(T_stat), n-rg)) * 2"
   ]
  },
  {
   "cell_type": "code",
   "execution_count": 65,
   "metadata": {
    "scrolled": true
   },
   "outputs": [
    {
     "name": "stdout",
     "output_type": "stream",
     "text": [
      "les p-valeurs valent 6.44e-03 , 2.60e-07 et 6.78e-01\n"
     ]
    }
   ],
   "source": [
    "print(\"les p-valeurs valent {:.2e} , {:.2e} et {:.2e}\".format(*pvals))"
   ]
  },
  {
   "cell_type": "markdown",
   "metadata": {},
   "source": [
    "On a 67% de chance d'obtenir une valeur de la statistique associée à $\\theta_2$ plus élevée. Il n'y a aucune présomption contre l'hypothèse nulle. En revanche les deux premiers coefficients sont significativement non nuls."
   ]
  },
  {
   "cell_type": "markdown",
   "metadata": {},
   "source": [
    "# Q11"
   ]
  },
  {
   "cell_type": "markdown",
   "metadata": {},
   "source": [
    "On définit le nouveau vecteur en repassant GNP en échelle logarithmique."
   ]
  },
  {
   "cell_type": "code",
   "execution_count": 66,
   "metadata": {},
   "outputs": [],
   "source": [
    "x_new = np.array([1, m.log(1000),10])"
   ]
  },
  {
   "cell_type": "code",
   "execution_count": 67,
   "metadata": {},
   "outputs": [],
   "source": [
    "y_new = x_new.T @ theta_chap"
   ]
  },
  {
   "cell_type": "code",
   "execution_count": 68,
   "metadata": {},
   "outputs": [
    {
     "data": {
      "text/plain": [
       "'pour GNP = 1000 et interest = 10 la prédiction est log(invest)= 5.02 soit invest = 150.80'"
      ]
     },
     "execution_count": 68,
     "metadata": {},
     "output_type": "execute_result"
    }
   ],
   "source": [
    "\"pour GNP = 1000 et interest = 10 la prédiction est log(invest)= {:.2f} soit invest = {:.2f}\".format(y_new,m.exp(y_new))"
   ]
  },
  {
   "cell_type": "markdown",
   "metadata": {},
   "source": [
    "On définit la valeur critique pour le niveau 99.9%"
   ]
  },
  {
   "cell_type": "code",
   "execution_count": 69,
   "metadata": {},
   "outputs": [],
   "source": [
    "cv99_9 = t.ppf(1.0 - 0.001/2, 12) # alpha = 0.05 , et degreef =15-2"
   ]
  },
  {
   "cell_type": "markdown",
   "metadata": {},
   "source": [
    "On calcule alors les intervalles de confiance:"
   ]
  },
  {
   "cell_type": "code",
   "execution_count": 70,
   "metadata": {},
   "outputs": [],
   "source": [
    "CI = y_new - cv99_9*m.sqrt(x_new.T @ gram_inv @ x_new)*m.sqrt(s2)"
   ]
  },
  {
   "cell_type": "code",
   "execution_count": 71,
   "metadata": {},
   "outputs": [],
   "source": [
    "CS = y_new + cv99_9*m.sqrt(x_new.T @ gram_inv @ x_new)*m.sqrt(s2)"
   ]
  },
  {
   "cell_type": "code",
   "execution_count": 72,
   "metadata": {},
   "outputs": [
    {
     "name": "stdout",
     "output_type": "stream",
     "text": [
      "L'intervalle CI est [4.64, 5.39]\n"
     ]
    }
   ],
   "source": [
    "print(\"L'intervalle CI est\",[float(\"{:.2f}\".format(CI)),float(\"{:.2f}\".format(CS))])"
   ]
  },
  {
   "cell_type": "code",
   "execution_count": 73,
   "metadata": {},
   "outputs": [],
   "source": [
    "PI = y_new - cv99_9*m.sqrt(1+x_new.T @ gram_inv @ x_new)*m.sqrt(s2)"
   ]
  },
  {
   "cell_type": "code",
   "execution_count": 74,
   "metadata": {},
   "outputs": [],
   "source": [
    "PS = y_new + cv99_9*m.sqrt(1+x_new.T @ gram_inv @ x_new)*m.sqrt(s2)"
   ]
  },
  {
   "cell_type": "code",
   "execution_count": 75,
   "metadata": {},
   "outputs": [
    {
     "name": "stdout",
     "output_type": "stream",
     "text": [
      "L'intervalle PI est [4.47, 5.56]\n"
     ]
    }
   ],
   "source": [
    "print(\"L'intervalle PI est\",[float(\"{:.2f}\".format(PI)),float(\"{:.2f}\".format(PS))])"
   ]
  },
  {
   "cell_type": "markdown",
   "metadata": {},
   "source": [
    "# Q12"
   ]
  },
  {
   "cell_type": "code",
   "execution_count": 76,
   "metadata": {},
   "outputs": [],
   "source": [
    "x1 = np.linspace(data.log_gnp.min(), data.log_gnp.max())\n",
    "x2 = np.linspace(data.interest.min(), data.interest.max())"
   ]
  },
  {
   "cell_type": "markdown",
   "metadata": {},
   "source": [
    "On calcule la différence entre les bornes des intervalles et la prédiction pour 50x50 points sur le domaine de définition des données."
   ]
  },
  {
   "cell_type": "code",
   "execution_count": 77,
   "metadata": {},
   "outputs": [],
   "source": [
    "ZZ_PI = [[cv99_9*m.sqrt(1+np.array([1,x1_,x2_]).T @ gram_inv @ np.array([1,x1_,x2_]))*m.sqrt(s2)for x1_ in x1] for x2_ in x2]"
   ]
  },
  {
   "cell_type": "code",
   "execution_count": 78,
   "metadata": {},
   "outputs": [],
   "source": [
    "ZZ_IC = [[cv99_9*m.sqrt(np.array([1,x1_,x2_]).T @ gram_inv @ np.array([1,x1_,x2_]))*m.sqrt(s2)for x1_ in x1] for x2_ in x2]"
   ]
  },
  {
   "cell_type": "code",
   "execution_count": 79,
   "metadata": {},
   "outputs": [],
   "source": [
    "xx,yy = np.meshgrid(x1,x2)"
   ]
  },
  {
   "cell_type": "markdown",
   "metadata": {},
   "source": [
    "On calcule les prédictions pour chacun de ces points."
   ]
  },
  {
   "cell_type": "code",
   "execution_count": 80,
   "metadata": {},
   "outputs": [],
   "source": [
    "zz = theta_chap[0]+theta_chap[1]*xx+theta_chap[2]*yy"
   ]
  },
  {
   "cell_type": "markdown",
   "metadata": {},
   "source": [
    "Enfin on trace chacune des surfaces obtenues ainsi que les données."
   ]
  },
  {
   "cell_type": "code",
   "execution_count": 81,
   "metadata": {},
   "outputs": [],
   "source": [
    "%matplotlib notebook"
   ]
  },
  {
   "cell_type": "code",
   "execution_count": 82,
   "metadata": {},
   "outputs": [
    {
     "data": {
      "application/javascript": [
       "/* Put everything inside the global mpl namespace */\n",
       "window.mpl = {};\n",
       "\n",
       "\n",
       "mpl.get_websocket_type = function() {\n",
       "    if (typeof(WebSocket) !== 'undefined') {\n",
       "        return WebSocket;\n",
       "    } else if (typeof(MozWebSocket) !== 'undefined') {\n",
       "        return MozWebSocket;\n",
       "    } else {\n",
       "        alert('Your browser does not have WebSocket support.' +\n",
       "              'Please try Chrome, Safari or Firefox ≥ 6. ' +\n",
       "              'Firefox 4 and 5 are also supported but you ' +\n",
       "              'have to enable WebSockets in about:config.');\n",
       "    };\n",
       "}\n",
       "\n",
       "mpl.figure = function(figure_id, websocket, ondownload, parent_element) {\n",
       "    this.id = figure_id;\n",
       "\n",
       "    this.ws = websocket;\n",
       "\n",
       "    this.supports_binary = (this.ws.binaryType != undefined);\n",
       "\n",
       "    if (!this.supports_binary) {\n",
       "        var warnings = document.getElementById(\"mpl-warnings\");\n",
       "        if (warnings) {\n",
       "            warnings.style.display = 'block';\n",
       "            warnings.textContent = (\n",
       "                \"This browser does not support binary websocket messages. \" +\n",
       "                    \"Performance may be slow.\");\n",
       "        }\n",
       "    }\n",
       "\n",
       "    this.imageObj = new Image();\n",
       "\n",
       "    this.context = undefined;\n",
       "    this.message = undefined;\n",
       "    this.canvas = undefined;\n",
       "    this.rubberband_canvas = undefined;\n",
       "    this.rubberband_context = undefined;\n",
       "    this.format_dropdown = undefined;\n",
       "\n",
       "    this.image_mode = 'full';\n",
       "\n",
       "    this.root = $('<div/>');\n",
       "    this._root_extra_style(this.root)\n",
       "    this.root.attr('style', 'display: inline-block');\n",
       "\n",
       "    $(parent_element).append(this.root);\n",
       "\n",
       "    this._init_header(this);\n",
       "    this._init_canvas(this);\n",
       "    this._init_toolbar(this);\n",
       "\n",
       "    var fig = this;\n",
       "\n",
       "    this.waiting = false;\n",
       "\n",
       "    this.ws.onopen =  function () {\n",
       "            fig.send_message(\"supports_binary\", {value: fig.supports_binary});\n",
       "            fig.send_message(\"send_image_mode\", {});\n",
       "            if (mpl.ratio != 1) {\n",
       "                fig.send_message(\"set_dpi_ratio\", {'dpi_ratio': mpl.ratio});\n",
       "            }\n",
       "            fig.send_message(\"refresh\", {});\n",
       "        }\n",
       "\n",
       "    this.imageObj.onload = function() {\n",
       "            if (fig.image_mode == 'full') {\n",
       "                // Full images could contain transparency (where diff images\n",
       "                // almost always do), so we need to clear the canvas so that\n",
       "                // there is no ghosting.\n",
       "                fig.context.clearRect(0, 0, fig.canvas.width, fig.canvas.height);\n",
       "            }\n",
       "            fig.context.drawImage(fig.imageObj, 0, 0);\n",
       "        };\n",
       "\n",
       "    this.imageObj.onunload = function() {\n",
       "        fig.ws.close();\n",
       "    }\n",
       "\n",
       "    this.ws.onmessage = this._make_on_message_function(this);\n",
       "\n",
       "    this.ondownload = ondownload;\n",
       "}\n",
       "\n",
       "mpl.figure.prototype._init_header = function() {\n",
       "    var titlebar = $(\n",
       "        '<div class=\"ui-dialog-titlebar ui-widget-header ui-corner-all ' +\n",
       "        'ui-helper-clearfix\"/>');\n",
       "    var titletext = $(\n",
       "        '<div class=\"ui-dialog-title\" style=\"width: 100%; ' +\n",
       "        'text-align: center; padding: 3px;\"/>');\n",
       "    titlebar.append(titletext)\n",
       "    this.root.append(titlebar);\n",
       "    this.header = titletext[0];\n",
       "}\n",
       "\n",
       "\n",
       "\n",
       "mpl.figure.prototype._canvas_extra_style = function(canvas_div) {\n",
       "\n",
       "}\n",
       "\n",
       "\n",
       "mpl.figure.prototype._root_extra_style = function(canvas_div) {\n",
       "\n",
       "}\n",
       "\n",
       "mpl.figure.prototype._init_canvas = function() {\n",
       "    var fig = this;\n",
       "\n",
       "    var canvas_div = $('<div/>');\n",
       "\n",
       "    canvas_div.attr('style', 'position: relative; clear: both; outline: 0');\n",
       "\n",
       "    function canvas_keyboard_event(event) {\n",
       "        return fig.key_event(event, event['data']);\n",
       "    }\n",
       "\n",
       "    canvas_div.keydown('key_press', canvas_keyboard_event);\n",
       "    canvas_div.keyup('key_release', canvas_keyboard_event);\n",
       "    this.canvas_div = canvas_div\n",
       "    this._canvas_extra_style(canvas_div)\n",
       "    this.root.append(canvas_div);\n",
       "\n",
       "    var canvas = $('<canvas/>');\n",
       "    canvas.addClass('mpl-canvas');\n",
       "    canvas.attr('style', \"left: 0; top: 0; z-index: 0; outline: 0\")\n",
       "\n",
       "    this.canvas = canvas[0];\n",
       "    this.context = canvas[0].getContext(\"2d\");\n",
       "\n",
       "    var backingStore = this.context.backingStorePixelRatio ||\n",
       "\tthis.context.webkitBackingStorePixelRatio ||\n",
       "\tthis.context.mozBackingStorePixelRatio ||\n",
       "\tthis.context.msBackingStorePixelRatio ||\n",
       "\tthis.context.oBackingStorePixelRatio ||\n",
       "\tthis.context.backingStorePixelRatio || 1;\n",
       "\n",
       "    mpl.ratio = (window.devicePixelRatio || 1) / backingStore;\n",
       "\n",
       "    var rubberband = $('<canvas/>');\n",
       "    rubberband.attr('style', \"position: absolute; left: 0; top: 0; z-index: 1;\")\n",
       "\n",
       "    var pass_mouse_events = true;\n",
       "\n",
       "    canvas_div.resizable({\n",
       "        start: function(event, ui) {\n",
       "            pass_mouse_events = false;\n",
       "        },\n",
       "        resize: function(event, ui) {\n",
       "            fig.request_resize(ui.size.width, ui.size.height);\n",
       "        },\n",
       "        stop: function(event, ui) {\n",
       "            pass_mouse_events = true;\n",
       "            fig.request_resize(ui.size.width, ui.size.height);\n",
       "        },\n",
       "    });\n",
       "\n",
       "    function mouse_event_fn(event) {\n",
       "        if (pass_mouse_events)\n",
       "            return fig.mouse_event(event, event['data']);\n",
       "    }\n",
       "\n",
       "    rubberband.mousedown('button_press', mouse_event_fn);\n",
       "    rubberband.mouseup('button_release', mouse_event_fn);\n",
       "    // Throttle sequential mouse events to 1 every 20ms.\n",
       "    rubberband.mousemove('motion_notify', mouse_event_fn);\n",
       "\n",
       "    rubberband.mouseenter('figure_enter', mouse_event_fn);\n",
       "    rubberband.mouseleave('figure_leave', mouse_event_fn);\n",
       "\n",
       "    canvas_div.on(\"wheel\", function (event) {\n",
       "        event = event.originalEvent;\n",
       "        event['data'] = 'scroll'\n",
       "        if (event.deltaY < 0) {\n",
       "            event.step = 1;\n",
       "        } else {\n",
       "            event.step = -1;\n",
       "        }\n",
       "        mouse_event_fn(event);\n",
       "    });\n",
       "\n",
       "    canvas_div.append(canvas);\n",
       "    canvas_div.append(rubberband);\n",
       "\n",
       "    this.rubberband = rubberband;\n",
       "    this.rubberband_canvas = rubberband[0];\n",
       "    this.rubberband_context = rubberband[0].getContext(\"2d\");\n",
       "    this.rubberband_context.strokeStyle = \"#000000\";\n",
       "\n",
       "    this._resize_canvas = function(width, height) {\n",
       "        // Keep the size of the canvas, canvas container, and rubber band\n",
       "        // canvas in synch.\n",
       "        canvas_div.css('width', width)\n",
       "        canvas_div.css('height', height)\n",
       "\n",
       "        canvas.attr('width', width * mpl.ratio);\n",
       "        canvas.attr('height', height * mpl.ratio);\n",
       "        canvas.attr('style', 'width: ' + width + 'px; height: ' + height + 'px;');\n",
       "\n",
       "        rubberband.attr('width', width);\n",
       "        rubberband.attr('height', height);\n",
       "    }\n",
       "\n",
       "    // Set the figure to an initial 600x600px, this will subsequently be updated\n",
       "    // upon first draw.\n",
       "    this._resize_canvas(600, 600);\n",
       "\n",
       "    // Disable right mouse context menu.\n",
       "    $(this.rubberband_canvas).bind(\"contextmenu\",function(e){\n",
       "        return false;\n",
       "    });\n",
       "\n",
       "    function set_focus () {\n",
       "        canvas.focus();\n",
       "        canvas_div.focus();\n",
       "    }\n",
       "\n",
       "    window.setTimeout(set_focus, 100);\n",
       "}\n",
       "\n",
       "mpl.figure.prototype._init_toolbar = function() {\n",
       "    var fig = this;\n",
       "\n",
       "    var nav_element = $('<div/>')\n",
       "    nav_element.attr('style', 'width: 100%');\n",
       "    this.root.append(nav_element);\n",
       "\n",
       "    // Define a callback function for later on.\n",
       "    function toolbar_event(event) {\n",
       "        return fig.toolbar_button_onclick(event['data']);\n",
       "    }\n",
       "    function toolbar_mouse_event(event) {\n",
       "        return fig.toolbar_button_onmouseover(event['data']);\n",
       "    }\n",
       "\n",
       "    for(var toolbar_ind in mpl.toolbar_items) {\n",
       "        var name = mpl.toolbar_items[toolbar_ind][0];\n",
       "        var tooltip = mpl.toolbar_items[toolbar_ind][1];\n",
       "        var image = mpl.toolbar_items[toolbar_ind][2];\n",
       "        var method_name = mpl.toolbar_items[toolbar_ind][3];\n",
       "\n",
       "        if (!name) {\n",
       "            // put a spacer in here.\n",
       "            continue;\n",
       "        }\n",
       "        var button = $('<button/>');\n",
       "        button.addClass('ui-button ui-widget ui-state-default ui-corner-all ' +\n",
       "                        'ui-button-icon-only');\n",
       "        button.attr('role', 'button');\n",
       "        button.attr('aria-disabled', 'false');\n",
       "        button.click(method_name, toolbar_event);\n",
       "        button.mouseover(tooltip, toolbar_mouse_event);\n",
       "\n",
       "        var icon_img = $('<span/>');\n",
       "        icon_img.addClass('ui-button-icon-primary ui-icon');\n",
       "        icon_img.addClass(image);\n",
       "        icon_img.addClass('ui-corner-all');\n",
       "\n",
       "        var tooltip_span = $('<span/>');\n",
       "        tooltip_span.addClass('ui-button-text');\n",
       "        tooltip_span.html(tooltip);\n",
       "\n",
       "        button.append(icon_img);\n",
       "        button.append(tooltip_span);\n",
       "\n",
       "        nav_element.append(button);\n",
       "    }\n",
       "\n",
       "    var fmt_picker_span = $('<span/>');\n",
       "\n",
       "    var fmt_picker = $('<select/>');\n",
       "    fmt_picker.addClass('mpl-toolbar-option ui-widget ui-widget-content');\n",
       "    fmt_picker_span.append(fmt_picker);\n",
       "    nav_element.append(fmt_picker_span);\n",
       "    this.format_dropdown = fmt_picker[0];\n",
       "\n",
       "    for (var ind in mpl.extensions) {\n",
       "        var fmt = mpl.extensions[ind];\n",
       "        var option = $(\n",
       "            '<option/>', {selected: fmt === mpl.default_extension}).html(fmt);\n",
       "        fmt_picker.append(option)\n",
       "    }\n",
       "\n",
       "    // Add hover states to the ui-buttons\n",
       "    $( \".ui-button\" ).hover(\n",
       "        function() { $(this).addClass(\"ui-state-hover\");},\n",
       "        function() { $(this).removeClass(\"ui-state-hover\");}\n",
       "    );\n",
       "\n",
       "    var status_bar = $('<span class=\"mpl-message\"/>');\n",
       "    nav_element.append(status_bar);\n",
       "    this.message = status_bar[0];\n",
       "}\n",
       "\n",
       "mpl.figure.prototype.request_resize = function(x_pixels, y_pixels) {\n",
       "    // Request matplotlib to resize the figure. Matplotlib will then trigger a resize in the client,\n",
       "    // which will in turn request a refresh of the image.\n",
       "    this.send_message('resize', {'width': x_pixels, 'height': y_pixels});\n",
       "}\n",
       "\n",
       "mpl.figure.prototype.send_message = function(type, properties) {\n",
       "    properties['type'] = type;\n",
       "    properties['figure_id'] = this.id;\n",
       "    this.ws.send(JSON.stringify(properties));\n",
       "}\n",
       "\n",
       "mpl.figure.prototype.send_draw_message = function() {\n",
       "    if (!this.waiting) {\n",
       "        this.waiting = true;\n",
       "        this.ws.send(JSON.stringify({type: \"draw\", figure_id: this.id}));\n",
       "    }\n",
       "}\n",
       "\n",
       "\n",
       "mpl.figure.prototype.handle_save = function(fig, msg) {\n",
       "    var format_dropdown = fig.format_dropdown;\n",
       "    var format = format_dropdown.options[format_dropdown.selectedIndex].value;\n",
       "    fig.ondownload(fig, format);\n",
       "}\n",
       "\n",
       "\n",
       "mpl.figure.prototype.handle_resize = function(fig, msg) {\n",
       "    var size = msg['size'];\n",
       "    if (size[0] != fig.canvas.width || size[1] != fig.canvas.height) {\n",
       "        fig._resize_canvas(size[0], size[1]);\n",
       "        fig.send_message(\"refresh\", {});\n",
       "    };\n",
       "}\n",
       "\n",
       "mpl.figure.prototype.handle_rubberband = function(fig, msg) {\n",
       "    var x0 = msg['x0'] / mpl.ratio;\n",
       "    var y0 = (fig.canvas.height - msg['y0']) / mpl.ratio;\n",
       "    var x1 = msg['x1'] / mpl.ratio;\n",
       "    var y1 = (fig.canvas.height - msg['y1']) / mpl.ratio;\n",
       "    x0 = Math.floor(x0) + 0.5;\n",
       "    y0 = Math.floor(y0) + 0.5;\n",
       "    x1 = Math.floor(x1) + 0.5;\n",
       "    y1 = Math.floor(y1) + 0.5;\n",
       "    var min_x = Math.min(x0, x1);\n",
       "    var min_y = Math.min(y0, y1);\n",
       "    var width = Math.abs(x1 - x0);\n",
       "    var height = Math.abs(y1 - y0);\n",
       "\n",
       "    fig.rubberband_context.clearRect(\n",
       "        0, 0, fig.canvas.width, fig.canvas.height);\n",
       "\n",
       "    fig.rubberband_context.strokeRect(min_x, min_y, width, height);\n",
       "}\n",
       "\n",
       "mpl.figure.prototype.handle_figure_label = function(fig, msg) {\n",
       "    // Updates the figure title.\n",
       "    fig.header.textContent = msg['label'];\n",
       "}\n",
       "\n",
       "mpl.figure.prototype.handle_cursor = function(fig, msg) {\n",
       "    var cursor = msg['cursor'];\n",
       "    switch(cursor)\n",
       "    {\n",
       "    case 0:\n",
       "        cursor = 'pointer';\n",
       "        break;\n",
       "    case 1:\n",
       "        cursor = 'default';\n",
       "        break;\n",
       "    case 2:\n",
       "        cursor = 'crosshair';\n",
       "        break;\n",
       "    case 3:\n",
       "        cursor = 'move';\n",
       "        break;\n",
       "    }\n",
       "    fig.rubberband_canvas.style.cursor = cursor;\n",
       "}\n",
       "\n",
       "mpl.figure.prototype.handle_message = function(fig, msg) {\n",
       "    fig.message.textContent = msg['message'];\n",
       "}\n",
       "\n",
       "mpl.figure.prototype.handle_draw = function(fig, msg) {\n",
       "    // Request the server to send over a new figure.\n",
       "    fig.send_draw_message();\n",
       "}\n",
       "\n",
       "mpl.figure.prototype.handle_image_mode = function(fig, msg) {\n",
       "    fig.image_mode = msg['mode'];\n",
       "}\n",
       "\n",
       "mpl.figure.prototype.updated_canvas_event = function() {\n",
       "    // Called whenever the canvas gets updated.\n",
       "    this.send_message(\"ack\", {});\n",
       "}\n",
       "\n",
       "// A function to construct a web socket function for onmessage handling.\n",
       "// Called in the figure constructor.\n",
       "mpl.figure.prototype._make_on_message_function = function(fig) {\n",
       "    return function socket_on_message(evt) {\n",
       "        if (evt.data instanceof Blob) {\n",
       "            /* FIXME: We get \"Resource interpreted as Image but\n",
       "             * transferred with MIME type text/plain:\" errors on\n",
       "             * Chrome.  But how to set the MIME type?  It doesn't seem\n",
       "             * to be part of the websocket stream */\n",
       "            evt.data.type = \"image/png\";\n",
       "\n",
       "            /* Free the memory for the previous frames */\n",
       "            if (fig.imageObj.src) {\n",
       "                (window.URL || window.webkitURL).revokeObjectURL(\n",
       "                    fig.imageObj.src);\n",
       "            }\n",
       "\n",
       "            fig.imageObj.src = (window.URL || window.webkitURL).createObjectURL(\n",
       "                evt.data);\n",
       "            fig.updated_canvas_event();\n",
       "            fig.waiting = false;\n",
       "            return;\n",
       "        }\n",
       "        else if (typeof evt.data === 'string' && evt.data.slice(0, 21) == \"data:image/png;base64\") {\n",
       "            fig.imageObj.src = evt.data;\n",
       "            fig.updated_canvas_event();\n",
       "            fig.waiting = false;\n",
       "            return;\n",
       "        }\n",
       "\n",
       "        var msg = JSON.parse(evt.data);\n",
       "        var msg_type = msg['type'];\n",
       "\n",
       "        // Call the  \"handle_{type}\" callback, which takes\n",
       "        // the figure and JSON message as its only arguments.\n",
       "        try {\n",
       "            var callback = fig[\"handle_\" + msg_type];\n",
       "        } catch (e) {\n",
       "            console.log(\"No handler for the '\" + msg_type + \"' message type: \", msg);\n",
       "            return;\n",
       "        }\n",
       "\n",
       "        if (callback) {\n",
       "            try {\n",
       "                // console.log(\"Handling '\" + msg_type + \"' message: \", msg);\n",
       "                callback(fig, msg);\n",
       "            } catch (e) {\n",
       "                console.log(\"Exception inside the 'handler_\" + msg_type + \"' callback:\", e, e.stack, msg);\n",
       "            }\n",
       "        }\n",
       "    };\n",
       "}\n",
       "\n",
       "// from http://stackoverflow.com/questions/1114465/getting-mouse-location-in-canvas\n",
       "mpl.findpos = function(e) {\n",
       "    //this section is from http://www.quirksmode.org/js/events_properties.html\n",
       "    var targ;\n",
       "    if (!e)\n",
       "        e = window.event;\n",
       "    if (e.target)\n",
       "        targ = e.target;\n",
       "    else if (e.srcElement)\n",
       "        targ = e.srcElement;\n",
       "    if (targ.nodeType == 3) // defeat Safari bug\n",
       "        targ = targ.parentNode;\n",
       "\n",
       "    // jQuery normalizes the pageX and pageY\n",
       "    // pageX,Y are the mouse positions relative to the document\n",
       "    // offset() returns the position of the element relative to the document\n",
       "    var x = e.pageX - $(targ).offset().left;\n",
       "    var y = e.pageY - $(targ).offset().top;\n",
       "\n",
       "    return {\"x\": x, \"y\": y};\n",
       "};\n",
       "\n",
       "/*\n",
       " * return a copy of an object with only non-object keys\n",
       " * we need this to avoid circular references\n",
       " * http://stackoverflow.com/a/24161582/3208463\n",
       " */\n",
       "function simpleKeys (original) {\n",
       "  return Object.keys(original).reduce(function (obj, key) {\n",
       "    if (typeof original[key] !== 'object')\n",
       "        obj[key] = original[key]\n",
       "    return obj;\n",
       "  }, {});\n",
       "}\n",
       "\n",
       "mpl.figure.prototype.mouse_event = function(event, name) {\n",
       "    var canvas_pos = mpl.findpos(event)\n",
       "\n",
       "    if (name === 'button_press')\n",
       "    {\n",
       "        this.canvas.focus();\n",
       "        this.canvas_div.focus();\n",
       "    }\n",
       "\n",
       "    var x = canvas_pos.x * mpl.ratio;\n",
       "    var y = canvas_pos.y * mpl.ratio;\n",
       "\n",
       "    this.send_message(name, {x: x, y: y, button: event.button,\n",
       "                             step: event.step,\n",
       "                             guiEvent: simpleKeys(event)});\n",
       "\n",
       "    /* This prevents the web browser from automatically changing to\n",
       "     * the text insertion cursor when the button is pressed.  We want\n",
       "     * to control all of the cursor setting manually through the\n",
       "     * 'cursor' event from matplotlib */\n",
       "    event.preventDefault();\n",
       "    return false;\n",
       "}\n",
       "\n",
       "mpl.figure.prototype._key_event_extra = function(event, name) {\n",
       "    // Handle any extra behaviour associated with a key event\n",
       "}\n",
       "\n",
       "mpl.figure.prototype.key_event = function(event, name) {\n",
       "\n",
       "    // Prevent repeat events\n",
       "    if (name == 'key_press')\n",
       "    {\n",
       "        if (event.which === this._key)\n",
       "            return;\n",
       "        else\n",
       "            this._key = event.which;\n",
       "    }\n",
       "    if (name == 'key_release')\n",
       "        this._key = null;\n",
       "\n",
       "    var value = '';\n",
       "    if (event.ctrlKey && event.which != 17)\n",
       "        value += \"ctrl+\";\n",
       "    if (event.altKey && event.which != 18)\n",
       "        value += \"alt+\";\n",
       "    if (event.shiftKey && event.which != 16)\n",
       "        value += \"shift+\";\n",
       "\n",
       "    value += 'k';\n",
       "    value += event.which.toString();\n",
       "\n",
       "    this._key_event_extra(event, name);\n",
       "\n",
       "    this.send_message(name, {key: value,\n",
       "                             guiEvent: simpleKeys(event)});\n",
       "    return false;\n",
       "}\n",
       "\n",
       "mpl.figure.prototype.toolbar_button_onclick = function(name) {\n",
       "    if (name == 'download') {\n",
       "        this.handle_save(this, null);\n",
       "    } else {\n",
       "        this.send_message(\"toolbar_button\", {name: name});\n",
       "    }\n",
       "};\n",
       "\n",
       "mpl.figure.prototype.toolbar_button_onmouseover = function(tooltip) {\n",
       "    this.message.textContent = tooltip;\n",
       "};\n",
       "mpl.toolbar_items = [[\"Home\", \"Reset original view\", \"fa fa-home icon-home\", \"home\"], [\"Back\", \"Back to  previous view\", \"fa fa-arrow-left icon-arrow-left\", \"back\"], [\"Forward\", \"Forward to next view\", \"fa fa-arrow-right icon-arrow-right\", \"forward\"], [\"\", \"\", \"\", \"\"], [\"Pan\", \"Pan axes with left mouse, zoom with right\", \"fa fa-arrows icon-move\", \"pan\"], [\"Zoom\", \"Zoom to rectangle\", \"fa fa-square-o icon-check-empty\", \"zoom\"], [\"\", \"\", \"\", \"\"], [\"Download\", \"Download plot\", \"fa fa-floppy-o icon-save\", \"download\"]];\n",
       "\n",
       "mpl.extensions = [\"eps\", \"jpeg\", \"pdf\", \"png\", \"ps\", \"raw\", \"svg\", \"tif\"];\n",
       "\n",
       "mpl.default_extension = \"png\";var comm_websocket_adapter = function(comm) {\n",
       "    // Create a \"websocket\"-like object which calls the given IPython comm\n",
       "    // object with the appropriate methods. Currently this is a non binary\n",
       "    // socket, so there is still some room for performance tuning.\n",
       "    var ws = {};\n",
       "\n",
       "    ws.close = function() {\n",
       "        comm.close()\n",
       "    };\n",
       "    ws.send = function(m) {\n",
       "        //console.log('sending', m);\n",
       "        comm.send(m);\n",
       "    };\n",
       "    // Register the callback with on_msg.\n",
       "    comm.on_msg(function(msg) {\n",
       "        //console.log('receiving', msg['content']['data'], msg);\n",
       "        // Pass the mpl event to the overridden (by mpl) onmessage function.\n",
       "        ws.onmessage(msg['content']['data'])\n",
       "    });\n",
       "    return ws;\n",
       "}\n",
       "\n",
       "mpl.mpl_figure_comm = function(comm, msg) {\n",
       "    // This is the function which gets called when the mpl process\n",
       "    // starts-up an IPython Comm through the \"matplotlib\" channel.\n",
       "\n",
       "    var id = msg.content.data.id;\n",
       "    // Get hold of the div created by the display call when the Comm\n",
       "    // socket was opened in Python.\n",
       "    var element = $(\"#\" + id);\n",
       "    var ws_proxy = comm_websocket_adapter(comm)\n",
       "\n",
       "    function ondownload(figure, format) {\n",
       "        window.open(figure.imageObj.src);\n",
       "    }\n",
       "\n",
       "    var fig = new mpl.figure(id, ws_proxy,\n",
       "                           ondownload,\n",
       "                           element.get(0));\n",
       "\n",
       "    // Call onopen now - mpl needs it, as it is assuming we've passed it a real\n",
       "    // web socket which is closed, not our websocket->open comm proxy.\n",
       "    ws_proxy.onopen();\n",
       "\n",
       "    fig.parent_element = element.get(0);\n",
       "    fig.cell_info = mpl.find_output_cell(\"<div id='\" + id + \"'></div>\");\n",
       "    if (!fig.cell_info) {\n",
       "        console.error(\"Failed to find cell for figure\", id, fig);\n",
       "        return;\n",
       "    }\n",
       "\n",
       "    var output_index = fig.cell_info[2]\n",
       "    var cell = fig.cell_info[0];\n",
       "\n",
       "};\n",
       "\n",
       "mpl.figure.prototype.handle_close = function(fig, msg) {\n",
       "    var width = fig.canvas.width/mpl.ratio\n",
       "    fig.root.unbind('remove')\n",
       "\n",
       "    // Update the output cell to use the data from the current canvas.\n",
       "    fig.push_to_output();\n",
       "    var dataURL = fig.canvas.toDataURL();\n",
       "    // Re-enable the keyboard manager in IPython - without this line, in FF,\n",
       "    // the notebook keyboard shortcuts fail.\n",
       "    IPython.keyboard_manager.enable()\n",
       "    $(fig.parent_element).html('<img src=\"' + dataURL + '\" width=\"' + width + '\">');\n",
       "    fig.close_ws(fig, msg);\n",
       "}\n",
       "\n",
       "mpl.figure.prototype.close_ws = function(fig, msg){\n",
       "    fig.send_message('closing', msg);\n",
       "    // fig.ws.close()\n",
       "}\n",
       "\n",
       "mpl.figure.prototype.push_to_output = function(remove_interactive) {\n",
       "    // Turn the data on the canvas into data in the output cell.\n",
       "    var width = this.canvas.width/mpl.ratio\n",
       "    var dataURL = this.canvas.toDataURL();\n",
       "    this.cell_info[1]['text/html'] = '<img src=\"' + dataURL + '\" width=\"' + width + '\">';\n",
       "}\n",
       "\n",
       "mpl.figure.prototype.updated_canvas_event = function() {\n",
       "    // Tell IPython that the notebook contents must change.\n",
       "    IPython.notebook.set_dirty(true);\n",
       "    this.send_message(\"ack\", {});\n",
       "    var fig = this;\n",
       "    // Wait a second, then push the new image to the DOM so\n",
       "    // that it is saved nicely (might be nice to debounce this).\n",
       "    setTimeout(function () { fig.push_to_output() }, 1000);\n",
       "}\n",
       "\n",
       "mpl.figure.prototype._init_toolbar = function() {\n",
       "    var fig = this;\n",
       "\n",
       "    var nav_element = $('<div/>')\n",
       "    nav_element.attr('style', 'width: 100%');\n",
       "    this.root.append(nav_element);\n",
       "\n",
       "    // Define a callback function for later on.\n",
       "    function toolbar_event(event) {\n",
       "        return fig.toolbar_button_onclick(event['data']);\n",
       "    }\n",
       "    function toolbar_mouse_event(event) {\n",
       "        return fig.toolbar_button_onmouseover(event['data']);\n",
       "    }\n",
       "\n",
       "    for(var toolbar_ind in mpl.toolbar_items){\n",
       "        var name = mpl.toolbar_items[toolbar_ind][0];\n",
       "        var tooltip = mpl.toolbar_items[toolbar_ind][1];\n",
       "        var image = mpl.toolbar_items[toolbar_ind][2];\n",
       "        var method_name = mpl.toolbar_items[toolbar_ind][3];\n",
       "\n",
       "        if (!name) { continue; };\n",
       "\n",
       "        var button = $('<button class=\"btn btn-default\" href=\"#\" title=\"' + name + '\"><i class=\"fa ' + image + ' fa-lg\"></i></button>');\n",
       "        button.click(method_name, toolbar_event);\n",
       "        button.mouseover(tooltip, toolbar_mouse_event);\n",
       "        nav_element.append(button);\n",
       "    }\n",
       "\n",
       "    // Add the status bar.\n",
       "    var status_bar = $('<span class=\"mpl-message\" style=\"text-align:right; float: right;\"/>');\n",
       "    nav_element.append(status_bar);\n",
       "    this.message = status_bar[0];\n",
       "\n",
       "    // Add the close button to the window.\n",
       "    var buttongrp = $('<div class=\"btn-group inline pull-right\"></div>');\n",
       "    var button = $('<button class=\"btn btn-mini btn-primary\" href=\"#\" title=\"Stop Interaction\"><i class=\"fa fa-power-off icon-remove icon-large\"></i></button>');\n",
       "    button.click(function (evt) { fig.handle_close(fig, {}); } );\n",
       "    button.mouseover('Stop Interaction', toolbar_mouse_event);\n",
       "    buttongrp.append(button);\n",
       "    var titlebar = this.root.find($('.ui-dialog-titlebar'));\n",
       "    titlebar.prepend(buttongrp);\n",
       "}\n",
       "\n",
       "mpl.figure.prototype._root_extra_style = function(el){\n",
       "    var fig = this\n",
       "    el.on(\"remove\", function(){\n",
       "\tfig.close_ws(fig, {});\n",
       "    });\n",
       "}\n",
       "\n",
       "mpl.figure.prototype._canvas_extra_style = function(el){\n",
       "    // this is important to make the div 'focusable\n",
       "    el.attr('tabindex', 0)\n",
       "    // reach out to IPython and tell the keyboard manager to turn it's self\n",
       "    // off when our div gets focus\n",
       "\n",
       "    // location in version 3\n",
       "    if (IPython.notebook.keyboard_manager) {\n",
       "        IPython.notebook.keyboard_manager.register_events(el);\n",
       "    }\n",
       "    else {\n",
       "        // location in version 2\n",
       "        IPython.keyboard_manager.register_events(el);\n",
       "    }\n",
       "\n",
       "}\n",
       "\n",
       "mpl.figure.prototype._key_event_extra = function(event, name) {\n",
       "    var manager = IPython.notebook.keyboard_manager;\n",
       "    if (!manager)\n",
       "        manager = IPython.keyboard_manager;\n",
       "\n",
       "    // Check for shift+enter\n",
       "    if (event.shiftKey && event.which == 13) {\n",
       "        this.canvas_div.blur();\n",
       "        event.shiftKey = false;\n",
       "        // Send a \"J\" for go to next cell\n",
       "        event.which = 74;\n",
       "        event.keyCode = 74;\n",
       "        manager.command_mode();\n",
       "        manager.handle_keydown(event);\n",
       "    }\n",
       "}\n",
       "\n",
       "mpl.figure.prototype.handle_save = function(fig, msg) {\n",
       "    fig.ondownload(fig, null);\n",
       "}\n",
       "\n",
       "\n",
       "mpl.find_output_cell = function(html_output) {\n",
       "    // Return the cell and output element which can be found *uniquely* in the notebook.\n",
       "    // Note - this is a bit hacky, but it is done because the \"notebook_saving.Notebook\"\n",
       "    // IPython event is triggered only after the cells have been serialised, which for\n",
       "    // our purposes (turning an active figure into a static one), is too late.\n",
       "    var cells = IPython.notebook.get_cells();\n",
       "    var ncells = cells.length;\n",
       "    for (var i=0; i<ncells; i++) {\n",
       "        var cell = cells[i];\n",
       "        if (cell.cell_type === 'code'){\n",
       "            for (var j=0; j<cell.output_area.outputs.length; j++) {\n",
       "                var data = cell.output_area.outputs[j];\n",
       "                if (data.data) {\n",
       "                    // IPython >= 3 moved mimebundle to data attribute of output\n",
       "                    data = data.data;\n",
       "                }\n",
       "                if (data['text/html'] == html_output) {\n",
       "                    return [cell, data, j];\n",
       "                }\n",
       "            }\n",
       "        }\n",
       "    }\n",
       "}\n",
       "\n",
       "// Register the function which deals with the matplotlib target/channel.\n",
       "// The kernel may be null if the page has been refreshed.\n",
       "if (IPython.notebook.kernel != null) {\n",
       "    IPython.notebook.kernel.comm_manager.register_target('matplotlib', mpl.mpl_figure_comm);\n",
       "}\n"
      ],
      "text/plain": [
       "<IPython.core.display.Javascript object>"
      ]
     },
     "metadata": {},
     "output_type": "display_data"
    },
    {
     "data": {
      "text/html": [
       "<img src=\"data:image/png;base64,iVBORw0KGgoAAAANSUhEUgAAAoAAAAHgCAYAAAA10dzkAAAgAElEQVR4Xuy9ebRkZ1X+v+tUnZru1H270xk6nbGTQCYgCYQEmQOJoKCIEy7E5Q+XCjjAHyKIii6+AioudCGCMggIuATEL/AFgTAEkhAgBAIkIWTojJ2e71zzqfNbn33qvVSKO9Rwarhd+2Tdlb63qs553+c9dc5znr2fvRNhGIZimyFgCBgChoAhYAgYAobA2CCQMAI4NmttEzUEDAFDwBAwBAwBQ0ARMAJoJ4IhYAgYAoaAIWAIGAJjhoARwDFbcJuuIWAIGAKGgCFgCBgCRgDtHDAEDAFDwBAwBAwBQ2DMEDACOGYLbtM1BAwBQ8AQMAQMAUPACKCdA4aAIWAIGAKGgCFgCIwZAkYAx2zBbbqGgCFgCBgChoAhYAgYAbRzwBAwBAwBQ8AQMAQMgTFDwAjgmC24TdcQMAQMAUPAEDAEDAEjgHYOGAKGgCFgCBgChoAhMGYIGAEcswW36RoChoAhYAgYAoaAIWAE0M4BQ8AQMAQMAUPAEDAExgwBI4BjtuA2XUPAEDAEDAFDwBAwBIwA2jlgCBgChoAhYAgYAobAmCFgBHDMFtymawgYAoaAIWAIGAKGgBFAOwcMAUPAEDAEDAFDwBAYMwSMAI7Zgtt0DQFDwBAwBAwBQ8AQMAJo54AhYAgYAoaAIWAIGAJjhoARwDFbcJuuIWAIGAKGgCFgCBgCRgDtHDAEDAFDwBAwBAwBQ2DMEDACOGYLbtM1BAwBQ8AQMAQMAUPACKCdA4aAIWAIGAKGgCFgCIwZAkYAx2zBbbqGgCFgCBgChoAhYAgYAbRzwBAwBAwBQ8AQMAQMgTFDwAjgmC24TdcQMAQMAUPAEDAEDAEjgHYOGAKGgCFgCBgChoAhMGYIGAEcswW36RoChoAhYAgYAoaAIWAE0M4BQ8AQMAQMAUPAEDAExgwBI4BjtuA2XUPAEDAEDAFDwBAwBIwA2jlgCBgChoAhYAgYAobAmCFgBHDMFtymawgYAoaAIWAIGAKGgBFAOwcMAUPAEDAEDAFDwBAYMwSMAI7Zgtt0DQFDwBAwBAwBQ8AQMAJo54AhYAgYAoaAIWAIGAJjhoARwDFbcJuuIWAIGAKGgCFgCBgCRgDtHDAEDAFDwBAwBAwBQ2DMEDACOGYLbtM1BAwBQ8AQMAQMAUPACKCdA4aAIWAIGAKGgCFgCIwZAkYAx2zBbbqGgCFgCBgChoAhYAgYAbRzwBAwBAwBQ8AQMAQMgTFDwAjgmC24TdcQMAQMAUPAEDAEDAEjgHYOGAKGgCFgCBgChoAhMGYIGAEcswW36RoChoAhYAgYAoaAIWAE0M4BQ8AQMAQMAUPAEDAExgwBI4BjtuA2XUPAEDAEDAFDwBAwBIwA2jlgCBgChoAhYAgYAobAmCFgBHDMFtymawgYAoaAIWAIGAKGgBFAOwcMAUPAEDAEDAFDwBAYMwSMAI7Zgtt0DQFDwBAwBAwBQ8AQMAJo54AhYAgYAoaAIWAIGAJjhoARwDFbcJuuIWAIGAKGgCFgCBgCRgDtHDAEDAFDwBAwBAwBQ2DMEDACOGYLbtM1BAwBQ8AQMAQMAUPACKCdA4aAIWAIGAKGgCFgCIwZAkYAx2zBbbqGgCFgCBgChoAhYAgYAbRzwBAwBAwBQ8AQMAQMgTFDwAjgmC24TdcQMAQMAUPAEDAEDAEjgHYOGAKGgCFgCBgChoAhMGYIGAEcswW36RoChoAhYAgYAoaAIWAE0M4BQ8AQMAQMAUPAEDAExgwBI4BjtuA2XUPAEDAEDAFDwBAwBIwA2jlgCBgChoAhYAgYAobAmCFgBHDMFtymawgYAoaAIWAIGAKGgBFAOwcMAUPAEDAEDAFDwBAYMwSMAI7Zgtt0DQFDwBAwBAwBQ8AQMAJo54AhYAgYAoaAIWAIGAJjhoARwDFbcJuuIWAIGAKGgCFgCBgCRgDtHDAEDAFDwBAwBAwBQ2DMEDACOGYLbtM1BAwBQ8AQMAQMAUPACKCdA4aAIWAIGAKGgCFgCIwZAkYAx2zBbbqGgCFgCBgChoAhYAgYAbRzwBAwBAwBQ8AQMAQMgTFDwAjgmC24TdcQMAQMAUPAEDAEDAEjgHYOGAKGgCFgCBgChoAhMGYIGAEcswW36RoChoAhYAgYAoaAIWAE0M4BQ8AQMAQMAUPAEDAExgwBI4BjtuA2XUPAEDAEDAFDwBAwBIwA2jlgCBgChoAhYAgYAobAmCFgBHDMFtymawgYAoaAIWAIGAKGgBFAOwcMAUPAEDAEDAFDwBAYMwSMAI7Zgtt0DYFhIRCGoQRBIKVSSRKJhKRSKfE8b/WHv9lmCBgChoAhMBgEjAAOBmc7iiEwtgg44ler1aRer0u5XBb+5jZIIOQvmUyukkL+7f4+tsDZxA0BQ8AQ6CMCRgD7CK7t2hAYZwQgeRA+R/wcFpVKRQkfP7yn9ccpgc0qIYSwmRSaWjjOZ5bN3RAwBOJAwAhgHCjaPgwBQ2AVgbWIXzPhgwCyrUfiWgkh7+Vvbh8og4SPHSF0YWQjhXYSGgKGgCHQPgJGANvHyt5pCBgCmyDgFD9y/SBtrWFc/rYZAVzrEC5k7Mil+/2uu+6SM844Q7LZrIWQ7ew0BAwBQ6ADBIwAdgCWvdUQMATWRmAz4uc+1S0BXA/3r371q3LppZdKPp9fDSU7JRDy6ULHzWqhUxJtLQ0BQ8AQGGcEjACO8+rb3A2BHhGA0JHjh+IHCXTkaqPwbjcK4HrDvO666+Syyy6TiYmJ1bdYCLnHRbWPGwKGwFggYARwLJbZJmkIxItAq7N3M+LXLwUQAogCODk5ueEE1wsh8yEXpm7OKzQXcrzni+3NEDAERg8BI4CjtyY2IkNgZBFwOXjVanW1lEsnIdW4Q8Bf+9rX5JJLLtmUAK4H6EYu5PVCyPzdNkPAEDAEtjoCRgC3+gra+A2BASCwkbO3k8P3gwA+4QlPkKmpqU6Gsala2EwMeXOzC7k1r5DfOyHBsQ3UdmQIGAKGQA8IGAHsATz7qCEwDgi0a/BoB4u4CeDXv/51edzjHifT09PtHL7r96wXQi4UCrK4uCi7d+9+VGkaCyF3DbV90BAwBAaEgBHAAQFthzEEthoCcRI/N/e4CeD1118vF198cd8J4Hprd/jwYbn33nvViOJUw81cyBZC3mrfBBuvIXB8ImAE8PhcV5uVIdA1Aq3OXkdY4ii0zL5d/mAc+4MAXnTRRTIzM9P1fHv54JEjR5QAPulJT1rdzWYuZAsh94K4fdYQMATiQsAIYFxI2n4MgS2OQLfO3k6mHTcBvOGGG+TCCy8cKQK4Fh7rhZCb3dPOhdxas7ATfO29hoAhYAi0i4ARwHaRsvcZAscpAr06ezuBpR8E8IILLpBt27Z1MozY3ruWAtjJzs2F3Ala9l5DwBCIEwEjgHGiafsyBLYQAnE5ezuZctwE8MYbb5Tzzz9/yxLA9dRCcyF3clbZew0BQ6AbBIwAdoOafcYQ2MIIOHJBB4877rhDw6cnnXSSljLp99YPAvjYxz5Wtm/f3u+hr7n/XhXAdgftQsgYc9z68VnWjHVcWVmRE044YbX1HXmbrX2Y2z2Wvc8QMATGAwEjgOOxzjZLQ0ARaHX2fu9735OdO3fK6aefPhCE4iaA3/jGN+S8886T2dnZgYy/9SCDIoDrTQ485+bmlMhffvnlj3qbFbIeyilhBzUEtgwCRgC3zFLZQA2B7hFwzl7UIqcc8X8IIPlzZ555Zvc77+CTcRPAm266Sc4999yxJYBA7wjglVdeqSuxVl6hW3MUQ3Mhd3DC2lsNgeMYASOAx/Hi2tQMgc2cvbfeeqt20TjrrLMGAlY/COA555wjO3bsGMj4R00BdATwRz/6kVxxxRXrYrBRCNk5kc2FPJRTyA5qCAwNASOAQ4PeDmwI9A+BZuLnbv5rtSv7/ve/L/l8Xvbu3du/wTTt2RFAQtFxFET+5je/qWMfZwJ47Ngx+fGPfyxPfvKTO17DtWoWup2sFUJ2be86PpB9wBAwBEYOASOAI7ckNiBDoHsEOnX2/vCHP5RMJiOoaIPY+kEAzz77bM1jHMZGJ5B9+/Y9qhD0oMdx9OhRueuuu7oigGuN1ULIg15BO54hMBwEjAAOB3c7qiEQKwLupk2XDdQ1trUUv9aD3n777ZoThpFiEFvcBPBb3/qWhq/HnQDefffdP2UCiXM9NwshO9exCyObCzlO9G1fhkB/EDAC2B9cba+GwMAQ6KVnL+5RNkqpDGLrBwHEwEIJlGFso6AA4kS+5557+koA18O2WS3EUEQ5oRNPPFHf7kLIkEJHCC2EPIyz1I5pCKyNgBFAOzMMgS2KgCNTQRCsKn5O+Wt3SnfeeafweYopD2KLmwB++9vfljPOOGOsCeAokFDOnZtvvln27Nkju3bt+iknsjsvzYU8iG+ZHcMQaA8BI4Dt4WTvMgRGBgFX0gXihvrX3E+200FiHqhUKtpPdxBbPwggNQwhHcPYRoF8MYb77rtPnvjEJw4DgtVjQsbXW4u1Qsiu8Dj/X69m4SCKkw8VNDu4ITBEBIwADhF8O7Qh0AkCm5V06WRf7r3kjhWLRbnooou6+XjHn4mbAKI6nXbaaWNNAA8dOiT333//0Akg+ZidhOMdKWwOIzefUBZC7vjrZR8wBDpCwAhgR3DZmw2BwSPgnL0YPDYq6dLNyMgdW15elsc97nHdfLyrzzAP1Ms4ysC4sKPLO+tqQD18aBTUNwjgAw88IJdddlkPM+n9o3GV5OnEhUxOoWt5Z2ph72toexgvBIwAjtd622y3EAKdlnTpZmqUMFlYWJDHP/7x3Xy8q8/ESQC/853vyO7du9V8MIxtFAjgwYMH5aGHHpJLL710GBCsHrOfbfkshDzUpbWDH6cIGAE8ThfWprW1EejF2dvJzMkdo5DwJZdc0snHenqvEcCe4PupDx84cEAefvjhoRPAG2+8Ud3k27dvj3eC6+xtvRDyvffeqw8Ek5OTWuLIXMgDWQ47yBZEwAjgFlw0G/Lxi8CgiJ9DkNAhKtYg1aM4CeAtt9wiJ598sv4MYxsFBfCRRx4RfgZJ4tfC+oYbblAz0czMzDCWYvWYENHHPOYxOg4XTuZFZ5Zq7oVsIeShLpUdfMgIGAEc8gLY4Q0BEOBGVS6XBTWHmnaDymsidAh5GISDlDkSrqRrBRs9iN0Pag1KTaebEUDR9eO8ecITntApfLG+/+tf/7rmkk5PT8e63053dv3118vFF1/8qHGslVdoLuROkbX3H28IGAE83lbU5rOlEGh29pZKJbnuuuvkqquu6ooMdTNxQoeQwMsvv7ybj7f9GfIMf/SjH8nKyoo6RSF7/HtpaUl/KEWTy+V+ihSm0+kNj/Hd735XCw+fcsopbY8lzjeOggK4f/9+JdbDJoBf+9rXdAyQ+mFujAM1lIeKjbbWELLroMNn3AOYhZCHuZJ27H4jYASw3wjb/g2BNRBYy9mLM/ZLX/qSPPvZzxbf9weCG+oRJUSe/OQn9+V4lJih1iAEhYLNtG1zpLfZBYz6iRvZEUL+DyGmT3GrUsjfnHpD9wlqAI47AcQJPEgjz1onCw8vpBJsRrz6cqI17fSrX/2qKtoTExNdHcpcyF3BZh/agggYAdyCi2ZD3roIbOTsRYH4whe+IM985jOV+AxiI3RI0vyVV14Z6+FqtZruF5MJCfnnnHOOKnxs7eYA8r5WUlgoFJQcO1JIGzQIIORyGGVARkEBRMUFh0GW8lnrZIF4PelJT5J8Ph/rudTJzvh+feUrX5Errrhi9Xzr5PPrvbedEHJrH2SnIsZxfNuHIdAPBIwA9gNV26chsAYCmxk8uMl8/vOfl6c//emx3rw2WgyUI3LynvKUp8SyZswRQsI+UWBcMn7zztslgGsNCJW0mRQyfv5GqK45n5B/Q0TiqDW4ETCjQAAJ4R89enToBBDihZLsiH4sJ1SHO+H8g4hyPvf7IWqzEDJpDZyXfA+sF3KHC2lvHwgCRgAHArMdZJwR2Iz4NWODAogaN6gwGgSG3LynPvWpPS8R+6K3MPM999xzNTdvLVWuFwLYOshbb71VZmdnZdu2bavhY0cQeS84Qgbd/7kZc1OOaxsVAkgpH4wPw9qc8sa5m81mhzUMQXkmB5DzeVBpFK2TdWohXXb4Lpx99tn6FudCdmVpnBt5UIavoS2KHXhkETACOLJLYwPb6gg09+zl382uw/Xmdu2116ohY1CJ9ChHt912mzztaU/rGm7y9SB+GD242dGabSPljZs0P3Goc9///veVAJ566qmPGj94Ey52OYWOFKIWQgIdIXTksBsHMgccBQL44IMPyvz8/MDa+a11ogxSedvoREV1wwWMih4n0e/my8F3gjHs3bt3tRxNc1kat0/XC9lCyN2gbJ/pBQEjgL2gZ581BNZAoJeevYTRcFKiaA1iQzmCRD3jGc/o+HAYNwj14kLds2ePkr/NXLscJG4CSOFhjr/ZxrpgLIEUNoeRIQ2Ei1tJYTtzGQUCSC1HyPeg+jmvhTPEGhPIMJU3xsU5ST1C8miHkRPajM3tt9+u4XBc72ttm4WQGX+zC7m5ZuFm57q9bgi0g4ARwHZQsvcYAm0g0Ez8uu3Zy02UGzmq1iA2lCNKqXDDbHfjZo+5A5PHzp07NdzbieMyTgL4gx/8QMlyOwRwvfm160BGLYQUNhOLUSGAi4uLWoR5WBthfeoAoiR3q6bGMXZc5zfddFNH53Mcx11rHz/84Q9VyT/99NM7OsRmhhMLIXcEp715AwSMANrpYQj0iECcPXu5idJOC2I1iA3i8O1vf1tLz2y2MU/KxlDWBSKEwaMbogqBhDDEEQLmJkvhYcLOcW7tOJC5uaMeooDifh3WRhkfVM1hEsBRCb1SW/Lmm2/WEPCwN/JTd+zY8VPpCd2Mq5UUsg+XVmIh5G4Qtc+AgBFAOw8MgS4RcBdlFC1IjX6hEomeQk+EryiZQmmTQWwQBxST5zznORsejlAxZhFu9Ch+tF7rNsQWNwHsRmXpBttWBzLYQTg4D1Ahm80mg3AguzmgxjKOCy64oJtpxfIZF3ollSAOYt/toFgTakPGYWrqdgzuc/0uUt4cQiYH0/3O8Z2xpDmv0ELIva7o8fd5I4DH35rajAaAQCfO3k6G841vfENzhqidN4gN4gDpfO5zn7vm4XgdxY86cxRxpt5er8n1EClXIqPXOWJgIXev0zBbr8d1n6fA9b59+1SBbDac8Hq/HcjNBBDDy/nnnx/XtDreD6FXzt1h596RC4kqHFdZo46BaPoASiSpCbjhB7mtFUJGJXZu+eZeyK48Ta8ProOcnx0rPgSMAMaHpe1pDBBwzl5UP7Z2nL2dwPLNb35TbxqD6mwBcaBsxjXXXPOoYULQ7rnnHsFhylhQJeOqqwZ2hFh7JZIMGAJI/iHEdBgbdQi5uTb3Uh6UA9nNFwIKARsmAeQ84tztJJe0H+s1Nzcnd9xxR+yFzbsZ67e+9S19aBpUOsdGY2QsfEcISTcrh474QQTNhdzNKm/tzxgB3NrrZ6MfEAK9OHs7GSL5eIRXW8uadLKPTt6LK5bCuVdffbWSWZRNXKWQv5mZGTnvvPNiL0kTJwHEaUm4dZQI4Fr4NzuQm13IazmQCSV3UsMOMw4hWHJHh7WhFHPuduMmj3PMlDXCmd6v1oadjBVFlO9PN3mynRynnfcyFnJ2ccy7zULI7SB3fL/HCODxvb42ux4RGBTxc8P8zne+o4rBoEKaEAdKz1x11VXaTYLaZagB3LhOOOGEHtFb++NxE8CNSm30ZQJNO11LAezkmODfWpZmrR7IazmQ3XEggBBJbvDD2iirc8stt/RUTzKOsePKRhEdpinHzYPUCow5PEgNe8NcRqtADFObbRu5kLk2oNxz3pPj+KIXvajrXODNxmGv9x8BI4D9x9iOsAURiNPZ28n0SWDnhrFe7bBO9tXOewnFfulLX1ITA2E8Qr27d+/uayJ/nASQcB+dJwaFVyumvRLAtdaINWklha09kJ3hBPILAQRTSPuwNtzkuF6Hbb4gJ5O0hcsuu2xYUKwel9QKanoOqqj7RhNG5SdNoZNyTc37ayWFX/ziF+WNb3yjoMDbtnURMAK4ddfORt4HBBzxoz4eNzXMGINMkKYoMxdp1z6qD1Nc3SV5Yyh+Bw4cUMUR8jeIGm5xE0ByE8m1GsbWDwK41jzAjDCrM5o4B7JL6GfdMKIMqgdy6xgxX1CT8Wd+5meGsQyrx6RMET+XXHLJUMfBwSFdKJGkKAxz60ebvo997GPy7ne/W/M+bdu6CBgB3LprZyOPGYFmZy83EXLhrrjiipiPsvHucDBCaCBj/dogE6hGmBcoN8NcSd6Py+Sx2bjjdAFTmoZ8uUEQ5rXmNSgCuNaxOV8hheRrEkqGDBKKZWt1IPN7P8uz8MCEIWfY7tuHH35Y2/M9/vGP3+w07Ovr/SBd3Q7Y9UeOs0j3+973PvnUpz6l0QPbti4CRgC37trZyGNCYK2SLtxESCYf9A2NkAo38n6E85gnN0jmhcpIzhg5QZ///Oe1cC7hxEFscRJAFEzUr2ESQB4UhhlyZD0hHNRnbHUgu1By3D2QW8+TUXHfPvTQQ0LNyosvvngQp/K6xxiV1ngMsB81Gv/xH/9RyFf+5Cc/OVSc7eC9IWAEsDf87NNbGAFX0oWLNeTIhXr5P4YIFA2emge5oWgxrrgdnRBayBLzhChQm8yVsIEAkrs1qFBV3AQQwrx3795BLtPqsVAAR4EAMqD1VON+OpAdEKPivmUtht0WD0xGpTMKYyF/lDIwcTq03/SmN2nqyAc+8IGhfO/soPEgYAQwHhxtL1sIgXacvSgaGDIGXdeMosuYAOLq6oACBPEjRAdJIk+sNRRIQjehbsKEg9ggoS5k2evxwIv5jDMB7BYD50BuNpzgQMZU40LI5BRu5EB260ehcELRl19+ea9L2tPn6Yoy7KLYTGBUCmMzln4YdF772tfq9+4d73hHT+tlHx4uAkYAh4u/HX2ACDiDBwTL1cBaz+DRSY/cOKdw99136w2s1xAWN3dCg/SppbA0IVL69661XXvttXrjHpRbEQKIQhJHThrkhzXsZ87kRus7CgogBD8uFbRdBzLnCkTRqcijUn5lFGoicr6MSl1ExtKP8PwrXvEKva78zd/8TZyXP9vXgBEwAjhgwO1wg0egm5Ium7VI69csqGGGo7LbJHbCq6gg3Aip+k8u4WalH7785S/LpZdeOrB6ZXESQEgu27gTwH7mQW7kQHZKId8xiAalRuIg9t1+v3iA4jvQjxzaTsY0Sj2J+6HOvvSlL9WHxte97nWdwGLvHTEEjACO2ILYcOJFoNueva0dMuId1fp7g7yRxN5pGQtuwLh5UcRQ+jB4tNuBgELQEM7mLgH9nG/cBNAZIPo55vX2PQoKIHmjrPkgS+E4B7IrS8M5S9gT8tccPubf/XYgN6/NsBVhN5ZRcUUzHmojYo7hIS+u7Rd/8ReFn1e+8pVx7dL2MwQEjAAOAXQ7ZP8R6Jb4uZERokQZo0PGIGrjueNSxJYLdieuUm6+hAEJ+6KE0bvXhebaQfq6666Tiy66qG3C2M4+N3pPnAQQxccZW3odVzefHwUCSDHsYdZCBDcePkg34MGjuVYhZWmcA9nlEzpS2I/v1bDLArlzaFRMMYyHdeE87TaqsNb3guviq171KkEJtG3rImAEcOuunY18DQQ2cvZ2Ahg3LcwRz3rWs9bNnetkf+2+lzIt/LTTyoowNYoHIR7UH/rhkgvW6UbHgvPPP39gTevjJoDDDPmNAgGkdNAw2+E5ksGDC50vmrfNHMiuo4kjh530QF7rPB8FLBjXqOREMhYeKlEkeciLayP8++Y3v1le+MIXxrVL288QEDACOATQ7ZDxI9COs7eTo7K/QdfHc0oKBZo3amZPoj7KFxd21D5Uv16KOF9//fV97f3binucBBDn6TDboBkBjFaXECOqF/1m29k2ciC3kkLC2+0q2hRS5/OD6qW93lwpkcKDXJxh13ZwXes95BUTnuchL46NayNVCj70oQ/FWlomjrHZPjpDwAhgZ3jZu0cMgU6cvZ0OfdDlURgfKgqk5sorr/yp4UKcqHPG6xRwJtwWh3P3xhtvVJcwtQEHscVNACHEYDGMbRQIIPUqMfqgAA9r42EEE0gv7vX1HMgQwNayNM0O5OY5046OvtY4VIe5EXZdSxEdxpjiNsZwzaWcFF1ARoHgDgPT4+WYRgCPl5Ucs3l04+ztFCIucOTizczMdPrRrt/vCjY391RlrhAN8vxIssfhuHPnzrZVkc0G841vfEPOPPNM7Xvc7w3yB1kgb9GF/fh/t/lgwy77MSoEEII0TNWLBxPc63GGGTkX23Egu/OIQub00ua7sXv37n6fyhvuPw5CHNcE4iwTxJj4DlNhgNzTYbnv48Jm3PdjBHDcz4AtNn/IUHOeH/+GFLUbIupkujRzJ6Q1KHcsYyOMRhiL1mxs3FRJbCffj2LHp556auxlNmjojmJCOLmfG3PjpsENhJs09Q6pt4jhhpt3MyFslxQaARQ9X1CEUWWGtZG2gOEjrgLmG82j1YHsClnzGa4DYIGazTmEMjqMsjSDxGOzNScvku9XXAox68y1AoWTXuK2bV0EjABu3bUbu5H36uztFLCvf/3r2pINsjKojWTt7373u5oDSI07com4cGPy6FYl22zstInigg657McG0YPEovoRaoZsouy4G3NzPphzkPK3dkhh3PlNnc5/FBRAwp6o1MMkgMNeB9cDGQUQQwzXirUcyC6/sBuzVCfnxrAfTJrHGndYHMc3UQjyCgnF27Z1ETACuHXXbmxG7hQ/SIN7ym/+f7+AGHRuHPMgj+rb3/62Khk8XdO3lxtaP7ebb75ZFZO486ZYL/IVUUOazSrt5ACiCkIGUQibSSFYNCuF4AVZjCvBvVOcR4UADjvvbVQID1THK5QAACAASURBVN8dHphOOOEEjRRQz9OdPxBC/t2qOLv8wl4dyM3nzrDLEzWPhQdKvt9xKfxUHiBFhajEMNTVTr+j9v71ETACaGfHyCLABZzEcH5cy7b1Wrf1YxI33XSTqipxXTg3GiNzxUnpegGjAHJTH8T2ne98R1XOuHLImAsOSOZCCA4VlbCc29ohgGvN25FCd0OHHLqewuQkNRPDOG/mG63BKBBAVC+KfvdLwW3nHIToD9OM48ZIOgMq80aqfScO5G7d9XHn3bWzBuu9hwc8Hu7iMnmxv1/91V/VEHA/Um96mat9tjMEjAB2hpe9ewAINJd0gUSgJKHwDPpig5pw8skn9/3GSh0/QqTUs0O9IE/ummuuGQDS0SFQCMhzjCNHyPUdhazhzOWm07pu3RLAtQBBeSJsDgFyxBDVh9CUI4SQT/7dD1LITZCE/04Kd8e9sLfeeqsm5Q+TAI6K4oWhifBku11w3Fps5EBuLUuzngO5eV35DvM+zFXD3tohxZ2MkdzoP/qjP1J1f9DX5E7Gae/dHAEjgJtjZO8YEAJrOXu5wZND1kt5iW6Hf8stt+iNNS5lrHUcEBaUAggMqgXHgThxgb366qsHdnH93ve+pwpdL63EyAdiLriYNytKHScBJLwMjhdeeOEqvO5m3hw+biWF3NSZc6+kcFQI4LCdr6PSgu2GG25QI0oc6jkPnoSNXeiY84ywJ/mDrWVpyFdtJkOjUo+QLwWpLKjwcZnZPv3pT8tb3/pW4cHDtq2NgBHArb1+x8XonbOXGzfkgM2FeumNi6rU2mFgEBOPgxitNU5CUCgmhEkJzUD+qHXG5lrQPec5z+mqq0c3uBBCJFTLODrdUC0h6awTah85i5slhsdJACk/AtFrJoBrzcGRwuY2ZZBWQnxOIXSKoVuLdrAYBQLIeUrO2zBLn4xKyBPjFs795pSDdtax3fds5EBuJoWYtyDlwzTmuDmBCW3g4qgZyj4//OEP6w/7tW1rI2AEcGuv35Yf/WbOXsJrXEyf+MQnDnyuuOcgM3HVuoIsQZQgTCiLhKogXs0bqsO111470BZ0qBUQoU7mCWnHDYjyw2dRGNpVXeImgN3Wn9uIFLaGj9cjhaNAAONO8u/mizYqPXhpa3jJJZeoQjeojfOZh4nmhwvOSb4jrUohv/fbgdw6byIKtJZEpYxje9e73iVf+cpX5LOf/Wwcu7N9DBEBI4BDBH+cD+0MHpAiNhc+ac0pgWRs1hqtXzhSP4uLNUStl62ZLEEk2B8EcK2Nm8kXvvAFbbG0mZLWy5iaP0snCUrMtDtPbm7kOHHT4zPkSXaSCxQnAYy7zymksDnkx02dFARIbmudQv42KgSQIt6sw7C2UenBGzfZ6RZP8odZE86RZmLI+dVc3qgfDuTmMfNdA5OnPOUpPbWLbN7n3/3d3+mD33/+5392C499bkQQMAI4IgsxLsPotGcvLkvq4XEBG/RGWAuC2kuJEcLXqCPkoBEexVG8GVmiB/FTn/rU2J7YN8MNMseYNmunxhy48KPIktzOTze1CeMmgL22INsMH1TZ5pu4I4WQeW7whO0hwhDEbl2jm41ho9fJVYX8DZMAjkI7Oq4tKFO0URzUw9N660JtTb4fhObdxvhanew8bDTnpzYrhnGcSxBOQrVPe9rTuvqurjW/v/iLv9CHpH/7t3/r5bS1z44AAkYAR2ARxmEInRI/h0lrZ4xBYgXx5OLcTXsrVCMIJA5fR5baDf0MugcxBBVSth7RbQ5dc0ODyPYSTuJYrrRPr+tJ6RzOEfK+Brk5UkjPVwpcYyZhzSGFreHjOG7kG82NMj7k/w2ild964xgF04NTu6hR10keZz/OG0pI8T1px43cnIrg1Ofmc6mZFLbjQG6eD9cvTCDPfOYzN33wbBeHV7/61Vp4/G1ve1u7H7H3jSgCRgBHdGGOl2H12rOXcCM3uGc961kDh4RcPdSeTsgFF3PKI2BOQO2jfVunagQ9iMl57FcieyuQrvZgaxsv1o4QJ0QWgoNC2M4NbbOFcgpgHDUdMdJAsjtZo83G18nr4AMJvfTSS7VcUWv4GNdoMyl05BBSuJkS3O44+H5QAiauOm/tHrf5fXF3m+hmDOBPDmCcalc34+AzuJExJnXbR7z5XHLnVLsO5OYx8xnq9rnWkt3Op/lzL3/5y/Vh8S//8i/j2J3tY4gIGAEcIvjH86F7JX4OGy5+1PbCFTvojdxD1CWSyjfbIDWQPsgfxA2y1K3rjjAWrud2TRWbjW2z19dSOnHWogyCP0oGClNchCVuAkjpGVyOw9iaCeBax0c9bQ0fc1OGULe6j7slhXEX+u0Gx1EoRk149frrr1ey067a3s1c2/kMRJTvcLfXgLWO4drbNT9k8G82VMJp35eZIJDJfF5y556rXTr4HrM2qKJxbb/2a78mz372s+U1r3lNXLu0/QwJASOAQwL+eD7sZs7eTuZOCGPQdfHc+FB2MKFs5ECG6JKniErm8ugo/9ALWbruuus07ByH2tYO1pBWSAm1FrmJQghR1ihhQWmYXmvltY4hTgJICBb8R5UArkcKuXE31ykk5Ec+ZavRpJ2QH4YDakjSOnBY2yiUoulHuLNbPLlmcd1odfl3u7/Vz62s0C9y9SdcWJDqwYNS3b9fqouLMn/KKfLgRRdJLZXSY6M+8wDCdzsuB/Lznvc8ednLXiYogbZtbQSMAG7t9Rup0cdJ/NzECKkSEr3qqqtiS2JuFzTIBaoebdnW2ghPo5JBngj1EoaLozcmSdsoiM0J5O2OuZv37du3T4tRUyiW+oQQz7VK1HSz7/WUDIhmHCFg1ggVbhh1IpnbZgpgu5ihFK4VPm6HFDb3v233eHG/bxRK0UCi6XpBvtswt17MKCF1UOfnf/KzuCiJY8ciwlcoSIKqCYUCZRMknJ6WRL0uCc8TSSalfuWVIhdfrOVncOhzPnF+kqPKdanVgew6nHT6gIdB7fWvf738yq/8yjBhtmPHgIARwBhAHPddcMEhZ4WbGCSwuW9vr9gMoyyKGzMXT9QxXIXNW7MbFuWFzhedXkQ3woWkbZS3QeV0kcCP0pnL5ZR4btRHtdf15POcLxTDjoMAMm5cyVudAK6F60akUEN+jRZ35KpyDg5TARwFJzKEh3zIOPPdujnfWTdUfIhS63WBc18I21InEHI3NyeoeEr6eCg6cEAggYlMRiSVighfMimSTkf/hiDWavq7t7goIQM86SSpv/CFImuUluK7gZpPGkurAxllkO9hc9tEZzhZz7jE+Ml3/ad/+if52Z/92W7gsc+MEAJGAEdoMbbaULp19nY6T+riUQYm9nDKJgPBXECJFC7kbJBc1DKKOXOzpXByL27Y9Q5PziN9eftd1oMbJgomZVQgfxDdOBTMzdY3bgIICWwnT3OzcXXzelwKYLvHhlygOHPzdiFk1pGct9acQta0l1SEdsfE+0YhDxFMCEW772sn44/rvVrq5dgx+da118qTH/tY8RzZ44Hn4MGI7EHwKFS9uBiRu2xWEhA8yB0E0fclwecqFVX69L3FopI+XtO/QQKDQMILL5TwGc9QsrjWtplJqrUYOudSq5u9mRRyPpET/N///d8/9WAcF4a2n8EhYARwcFgfN0dyBg8uHvpE29S6rR+THLQr1s0BYkS/SxQFLqTkxjmVrJ8GDWqIYbroV2sv1o1QL0WUCVszJ8juoLqtuHpo7rzp5ZxB4SAMPC4EcC2sKDnCuQJ5d4YTRwpbcwr7RQpHIQ+RlAzU7H7WDA0rFVXuIG/8X38gZ0eORORuaUlqmYw8ePvtcuYZZ0joeeIRqoWweZ4kIHxBEP2O4kd3jpWVSN2DxE1N6euQPH0/7ymXI9WP/RQKEkIEJyelDvHbu3fDr0+7rRKbd9LqZnf5qr/zO7+jecFcF3/v935PXvCCFygZ7NZwwzX1ta99rXzuc5/TkDX7eu9736sK41obeZVrhfd5SN+shmkv15jj+bNGAI/n1Y15bnE5ezsdFl98ynzE1cy83eNzQ4GMofJxUSQvjrBsv1UV1BSOQ5/gODfC6RhbILKoRbRv4+meCzE/tIsaxBY3AWTs6900+j2fQSuA6xFA1Ojm7jLOMdrsQHaksDl8DEGMgxSuVfi439i37t8VXb/iiiu6OnTIAy2Ebmkp+mmQu5D8uwbZU5IG4YOQ8eA7MxMROfLwCNl6nlSKRXnovvvkrL17JVGtRgSODQKHqpdMSoL9QPAge+wLVQ8FkH17noRTU5IIQ73WhI3XEsWi7q++d6/Un/98kZY2kmtNmvQAwrx813vZeGjkQQOi/453vEOvTRAvHjowYH30ox/tqO+x6+8Oofv93/99jaiQbkPkY72e5I4AYrhrLpFFrnS3JLQXTI6HzxoBPB5WcQBz6IfBo91hU9oB8jUoUwTj4mZJdwMuVBybXL9BhEc5NvlU3Mw5Zlwb5Wy4YLOOzmDiiOxmZpe4xuD2EycBHHYrtlEhgO0UHWbtXfjYhZD5nfOgVSnkoaeTBx3MFxih1mtxGPc5tNb+OMdRti+//PJHvcz5Fq6sSJ2w6tKS/l8JHmoaxI58PH5PJsWDBELSRFS5Q93zkkl9LUFo1oVpG0fQUC1EDSUPMhcEUqnX5cEjR2TvWWf95P0ogUtLUQ5fNhsRPqInEEH26/L7UAchkowHFXBiIlING+8NmNsTntA2nDzsMX/Ojzg2DCWQNK6LPEhAxrhevfjFL9YHiXa3P/3TP9VaiRje2t0cAeTYcUZg+F6A0TiSSCOA7Z59Y/q+YRI/Bzk5cXTTGESnA56WuYmgKpGDx/+vvvrqjm6GvZ4q5DFRQJY597qRz0OeHxdunqzXIrKEUclt7FY56XSMcRJASsAQ5rrssss6HUYs7x8FAsj3A1LfjULeSgohhjz8dEoKGQMPSoMqXcTiNRM7SN2xBx+UA/feK+fu3q3EDdIXzs/r/506p+FayB15dahzkCwIF7l15OZBFiF0EDNCvRAzDBe8zv4aOXtJXnfpL04VrFb1byXPkyP33iunnXHGan6fEj/eD5HExeuUQEgTCiH7hwgyOBTBWi3KC4Q0ogiedJIEP/dzaxo9NjqR+e5jRFlPVev0S0BtVFcuqps2kO54FJLmukpEAsMMKQyveMUrhDDzepsjgBBQjHjs4w1veEPXrm/O/daH+nEjg0YAO/0GjNH7kf1JOtcLIhfKRq7foCEg7AAZI1+tXxvz5OJGyMSVQeHC+eUvf1mLUA/y6ZDCrRheerloE7ImpMKc6EhCiHA9Z9+g+y3HTQCZ46DyF1vPP+eyHFYImvHgGifE1w0BXOv7tBEpbG5LRhjOKYVxjUFJXbEodX5Q61DuIHDu9+VlfY0cuvrRo5Fj1vfFo97doUOyuLAgp5x1lqp2qszxfwge5AulB4WNHDocuFzbPE+Sk5NRXh+kMpuVVC6n71OVDsIGWeO9lUpEHHkv4+Q1QrUQSXecWk0KS0tydP9+Oe2889Txq6ohJHF6ejXcq2NiHqVSRAwJD5dKEjpFkGNzXOZ52WVSp5Azx+hwi7tHMzmWEDfSYzpRiFuH7bojUUz6l3/5lzXV5o//+I/l3e9+t/zmb/7mmrNEbaTANt81HtQ/9KEPybve9S6tE0v3l242rpP/+7//q9EeroMQS669fJ9IiSHUPaiOTN2Mv9fPGAHsFcHj+POUDYAYxVGuoxeY+hESdePhhoOLlHZoFE1FxXBhLC4O1157rVa9j7PMy2ZYcJFlLN2EbZgPqiXzcReyzS5gdNLg4hpnt4CN5hgnAWTsuLLHmQASSqONX5xhsdb1gxSiJrucQhzITimEFPJvbpbkcnHeNZMDcusCiFyhoD9K8BrEjt9R4oK5uej1YlGS+bzUG4QMJc7LZiUkbAspymQkSYkUSBU5dC6Prl6Xxbk5WSyXZXejPh7vTxLGdYTN95XsqQGDfUG2XA4e6h3t+Vrz+0ql6H2N/D4N1brSLDh7G/l9Ccgdv6dSslQqydG5OTlz926dm34WMtdQ/cKZGR2D5vc5owdEkP02SCKEMty2TerPfKaEPTz4xt2hBaL/27/926rc9UIAub6h2rM/t/3hH/6h5hiiJre7/fzP/7yO41Of+lS7H9H3EUb+l3/5FyWPXI9cmz1e4xznwQ4BBGL5u7/7u3LNNdd0tP+t8mYjgFtlpYYwTsgfJGjYG05ccpSodRbn5pLGeeqDbKGUPerGFYby+c9/Xp7xjGd03M+3l3HefvvtGpro1NnGfMjz48LViWGF3CmegLt9iu50rnETQMLXgzKwtM51FBTAXvvOdrJ+agRrKHQ1SobMz8vy4cNy/513SkZEyoWCeCsrkhXR33P5vPjFovgN04M/NSWBI3fk3JE7B+ni9WRSyZ2qdEQbIEEQKK5BqGyES5sImjczs6rcET5dphfzwoJGCiB/HhPj846EoeI1CJvm91FYuZHf50EqG8dV5RBVDnKKwgihJTeQ1wnVMg7ew2uohoSUyQWElE5MyPL8vCwsLsqp5PC6/D7IHXPic5DgVErCyUnxOA4/RFjYP2qniNSf8ASp0/8ctbKHjQLdpM7EVVKK6+Gf//mf63Wml41UFCIr73nPe1Z3AyF705vepA+w7W7/5//8H/mP//iPjseD4vjmN79ZHeNUEKDzUnOOOfc+akp+7GMfk4985CP6cPzOd75zqDmu7WLSyfuMAHaC1pi9d1QIYC+K2FpLhpKB4kXpE/Ls+FkvxDuMGoSMDezJcWlno4QCn0ENgySTI9NJyJr8QJQCiO4gtjgJIGtI2H6cCSAmKW5g5I12sgWVSqS6lUpK6oJyWUlR0CB4EB7IGu/hb5Cl4NixKDwqIqnpaQ3TQmDuf+ABOfWccyRVLku1VpNStSo135fy0pJUIE+JhGSyWcn6vmTTacnk86LUBkJGAj6hVY4PWXMGDAwqELRUalX1ixJR4EuJ1fejAnqplCwcOKDlRE7iQRHCCLFq1M5TMthI9tfwMESLY5Fn5/L7cPLm89F3hxAvx0G9Q51rGEMSGDgI6/Ie6iy6XECX37e8LMvHjslSpSKnnHbaatFmfZ8r4uyMHuQUMj7qADKfhkEkePazJYwh/5cpx12e5+Mf/7gSIfbby/aSl7xEy1A1m0Be/epXayeXZlVws2NgPuH6RapOJxufQbWmrI3bXJULfm++fqIO/s///I+anFoNRp0ccxTfawRwFFdlRMY0KgSQRGa+nHGUMiAvDtMAah9faJeLsh7kw6hBiHOPHJcLL7xwwzOhuTA1ZWNQMTebz1o7pA0cSsGgWmjFTQBZ02FdmIetANYrFbnhq1+Vx+7dKxO+LwFkrlRSMueUOv4GaSPsqqFYwpqep/93hCs1NRW5YpvIXUDYtZG/hnK3Wu6k0XpMQ6mN7d6775ZTd+0SHzKG6sX+neEil5NqsSjl5WUpVypSpi1ZQ4lLZzKSnZiISKHvS5rPNgohh4RJm0LASvyayVLDvAG5Y5zzx45JOQjkJMhkrRbl901M/CS/L52WVD4fKXnO/AEJRBmsViM1shEuVkUS5Y8xNOX3qRpJ2RdKsJBHyKAgcfzewGNueVkqR4/KybOzUd4erxEe9n0lsxpGhqDyfgglWKTTUj/7bKk/+9nR39rYavWaLJQWZKG8IPOlef03tPUpe54imRT6q2jpltYSQW3set23vP/971cy1Cnhat0hBJLC83/1V3+lLeVQ5DCA/Ou//qv8xm/8hr79da97naqBH/zgB/X3t7/97fpwS7oD6Ukof295y1vkE5/4hLzoRS/qelpEmHhwWKvlJ2IB6T+DTAHqeiJdfNAIYBegjctHyPshnDjsrV1CtN44mQdPm7h7yYcjPLpZXpzb11e+8hVtM9bP/KrWcUNoeOrEbbfW1py3iLEDYtzL+EjopvYguY6D2Bi/KyLeSx4RY12v9Mcg5sExeiGAqjiUy1KDiJFvC3krlyPyhjrXUOX4N6HLACUOlQxyg8JGCZMgkAcOHJDdJ50krhcEpAeSUm98dx25U0wIs0J0XB4coVJISsOlypj4nWMrASOPLpsVyCAbZgvUNs3d43fCofW63HvPPbLnjDMkMzERhV7ZXJkTZ6IIAknmclKnYDLR2SCQajKpnTN44ClBjDIZySSTkkUhzOUkl81KGrMF44IkLS0pcUKdS7oQMDiiAIJhoSAnnnKKzlPDqw1HLftV1c/Nm1w7QsCof5DMRoFmxYF/8xr4kSvYlN+nr5G350LT5A2CTaOQM/l984cO6XxOPvXUKKTbyP3TIs98ztUMbOQQhrmcBNdcI+E556yetpqXVlmRxfLi6s9yZVmWyksyVyLXcVEqQUWSXlKKtcjZfOr0qfKix75IJtOTq/uJOz+UFnCQN0hgr9tnPvMZJXlc34nCYAhpdgH/1m/9lub3kqfH9rd/+7dKECGFlJyBCPL55z3veV0NhWsQxO5P/uRP9DpCEeqfnLqR8fGNb3yjvufP/uzPtITWoEqBdTWhLj5kBLAL0MblI6NCAMnxgqRQcLSTjYsoYVEURL7Mrs9tJ6QD1xkXmkHWN9tovuBA/g1PrBBZcns6mc9a+JH0TOjlqquu6gTert7rTCrMEfIKEXctzNZzKW90IC7c3EDWenrvaoBtfAi1CSLGz4GHH5b9DzwgF5x7rpI2JWiYGhoqHGFWyAH5ckrqGkWDK5geUIE8T12nvK6EKp0WSozUGgQL8gX5gRiyKblrOFpRplDb7kF92707Un8hSxAkV9ssnY7IGyqXiPiTk6s5eBCfVAu5Q3FTtytKFcSI38lbczl5kEL23ehXqwaLIJB9990np59/viRR/Rgf8+JYEDZIVjKp81wlYJAgZ6ho9LYlv0+VwnJZKum0EsMKZJhxz85KLpXSORI+zkBEG+3Q1GRRrcrcgQOaOrHrrLOUoK4WZ87lovcS1nVt1BhnoyUbRg6dD0oeYV3G5Yow12risRYNp66qf5BAcOb/jmAyBtaoWpWjy8tSTafl5J07V7Eg7w8jCApgdTIvlXJBKrWyLOw5UfZfcp4seTVZri6rige5K9fKkvJSslKNcgLTqbR4CU/KQVl8z5dsMqtkpC5RDbtzZs+Rq866SlLJR7eE4/rFAyw51HFs5NxRN9SpcnHsc1j7QEXEjILiiJEJB3LrRrcTUnFQGjm3OkmtGda8OjmuEcBO0Bqz944KASRkC5HrpNQGRIm8OMgNIRASw7t5euMJms/jbhzURlkTiE1zezOMKjh7qTtHGIQn5l7qcDXPhVwY8m6e+9zn9nWKrAkGF27wzIELqitITKgFAsiNqrmnLRfojTZyecBlIwJYr9VE890gaM3/p6sCZA2S0fg/x6oRKm2ocChAkDP3OyaFCrXlUIpIYUskZG7/fjnl5JOV9KQnJ6XaZHJoJncQjCRhwEbZECVwzonqSo5AUhpqHOQO4ocSB1lBuYNQuWOnZ2ZUBbz/vvvk5N27JT87+yiDBeFOxq2FjBMJJXurBMypfhBDlI1USvP8VKEKwyi/zxkbGvl+HNuVP0kTMobcNpy4d99zj5x5+ul6TuoDCSQUQkS4FVLF7408OnXmNswOqr41Qq1unZW4OYWN9ajXpTw/r2SQGnvVRmg6PTGheOdQDTMZWQL3REJ2NWr8aX5fQ83TWnoTE5Jk344IMvZGfp+We2EtIHsQVgpht5x4qHk6D5zErBHzbJBB5loprUjFC+SIOkhLktkxI+VEXYJqWWrVkizXKyKFFQ3T1iYn5I6LTpEjp+6QdDK9quQlE0kN30L46iEmk4S+BvFD8SPsO5WZEtRAXocUPvPMZ8rlux9d/JqhQwxRz/hudFKkeaPvGwWc2f75n/+5r9eKfu7cKXl//dd/LeR4oygSQcGUwgMG15+dO3dqWZh///d/V/UPkmgKYD9XxfY9cgg052oNc3B8QSk70E6elyNKhOZwmmGK6CV/Y5BFqB3GhKsZP6VNIEmEQTA64FJD9YvrYu6OB/kiGZv6Xv3YeNKGpKEcQFwhf1rvram+JPmMkMG5gwdl/uhRWZqfl+LysvjJpExks5JPpzVPLN9wayphq1b1fQ/u2yd72We9LpA91DMX/iREWm2QDZ/8rwYZZJ6QGEKG9UbeW3p6WsmeI1iZmRmpNMgcN/oM/VchDJAFCFU6rXlnlETZ47q2OLcnpAvFp0GwII5qtmiEZTm2qnyN9/uNY6tRgbE1yJ2WCmkcG/Kq5IrcNpS5hlJ1z759smf3bklDblCyIDLUj2OskDfq3DUZLCB3qgo2juVv26avK/GCiDZ3vOB3jslcGuFTJZQNhVKduZyjd94pe047TXyMKKiErkQLZKqhWDKWVULWCIW6Ei/6WiP3zdXNo+SLOm3ducK+GHe1quHjCmSQ8HGlIkXWHpXR82RiclKy/IBbQ2nUULVbS4ghx2Lf4EsdQUc4G3l5wcKcVKUu5XRKaom6VGuYWypSDQMJlxYlqJSkkAylhpBZr0khKEdGFzq7La1IOVmXfA5DSUrCVFLK9Zpk6qFkgoTMnXWK3HPZXqmjYiY8JXXVelV/sqmskj3+xjadndZQMGogP5DDIAyU/EEWr9l7jZy1fe3qCBAWCCAO1s0epNr93r/yla/U/GkUsa26uesO5I7UF5Q/nNLcK5w5hPsIUZaXv/zl8vrXv36gBc4HiaspgINEe4sda1QIIKoXeXEkDa+3NRsiIEoYIihS2+tGcjJV6vkZ1OZas0GUUDEhsISv+9VlgQsd1fjj7njici8J0VKkmFxF1mS9HMCHbrxRHrzuulViiIK1dORIFBKE2IlIZWlJ8eAGDxFG4UJZPOvccyOjAyoT5Iy1d90XnDGhEcrUsh2QmAa5UCXHqVauu4PnaRiXfaKOqULWFJaF1KDOoZ6uVKtyyq5dq+ROS500DBUQHsidM15wnCSqZiOPTWtsNkiKI578TQ0aDbcoZG+tY3M+4p7dZBhQegAAIABJREFU96MfySknnigYKggRawizsV91sTbUSqf0KTFthEQ1v88pltTJI8+uQZjVcMFBUCzZD4SsURCeP2veHESzVpN777pLznrMY6J8uIYjttmAgaoG2dPcuUZdPa9R+kTDrSijDXKn+ybvrrl+n8tbdKFXPuNCwOC5tCSHDxyQeiKhJBQVtlCtStmrS9JPie8lJJVMiOTS4uvaVIXs5lImIUGpKFVUuWRCahC9clRoGjNGtlBW0ldNR/UIvXpdarWqkrrJQk2SEkrZT0qYSUuK7EcvIYtLS5KrBjKTyclKNiWBRIRNJiblxxefKod3ReFYlLxCraDnOypgxo+MG+o/pmmIl9QQcDWoavQi5+dU+UMVPCF/gub7zeZm170skePGg93Tn/702EKXFGnmwRRSdLxsqJlUERhWLdFh4mgEcJjoj/ixR4UAUuqDvLenPvWpP4WYyymDZEAIIEq9GCJaD0AtKAhlc7mAfi8b+XEYVsg3gchCPnvN89tozBAszC6EgLsJk6+1b56kWTMUTIhfc42tVgJYq1Rk3+c/L/P33hsRF0gShMAl7EOQuDFSlqRWUzKIOlgqFvUHhSwVBOogJTdscudODe0pwUgkVOlrDsuiBFYJZzaZGloJlnOKUh+O/ayqlQ1Dgqv/hlkHxXI3xgMIWSajTls1aoSh5twRpmWDRBGGbc73ayaWmiMHeWoUGtaQsTt24/P6WkMRAyPCtpAvjp/fvl2ChsFiNQevhdwxNiVzkD3UVOdyBXcG2eiWwbw1BOzCzzMzUXHmRs06jCX6O0TZ8+T+Awfk7NNOU2VSFVI3j0btPFUMm0q8qJLXUO0gyPpaQ+1kHLVyUYJqRYJkQuqFlSinEiKWz0QdQpKelCWQmu9FpB9DzrFDkqzXZBKFVDxZ9ENJFspSQ4VNpWQ5rEq9UtXj+pmcpOs1yQahjjmxbZskKmXdL+TOT6QkRWi8Gkg9m5ZMsSKBJ1JJeVLn9VCkWilLNSWSXylLyk9LMZVQEllYXJRcOid+xpdMoSRhJiPHzt0j9z/ubAn8qJsHal6pVpJKvSJBPZCp7JTm/uk5lEhKLpUTHnnI9+N3vhNOJTxz25ny/L3PX3X6rvfd5sGOCAbu/riuH7htX/jCF8qrXvWqfl8GB7L/5rw+6qgSDSGNAcWU6y8Pm3FHXAYysTYPYgSwTaDG9W2Qg2FvfDGx6rfWqYMYopCh/nVS+LiT+cTZl3ez4xIqhcgS7uYixJN7XHl+Gx0bpYByN5hAej0eoRPWhPwZWtmhYraSymYCWDp2TO78xCekcOSIDpG8Ls3TawmVuvIkq2HZBhEJfF/2N8LjZZyxniclCAKqSiYjE1NTGkbGTZrBDADJgJw13K9KHhqkB4eqlklplPPITE9LpSkPjhDxKpH0PCV38/v3q+Kze8+eyC1bLKoyhvKnRY0b4VCIkh67oUqqMaIlROyIIzigYqky18hX05CxC2E2jq1h3FRK+zifcd55km6EhyFSeixnZsC128jv4/iEhNXF21zPz4W+GwqaKpbMg1BuQ7HUUKzrvNFQESFLlVJRHrjnbjnl1N2SmJzQ8HIQVKXuJSTIZaRODlwYSgDhI4Raq0qtUpIaqhihzFJF89tK6aR45YqkcLbWK1LL+OrkzflZKVVLEiZE0uWa5BO+rHiBkky/WpO0n5PFdF0Ki8t6/k5Pb1PVLF0LxA+oBZhR5c6rBVJPeVLNpLUMDUpepVaVZCUQKRbE8xJSmczJFGFWeFraV4UvL77USwUpZ33xK1Xx03kpeZEj1KfLG2HfTEr8ckUCPyVzhWXxEwnJJZNSzKflwac+XvZPNVppSkLJHm5e8vxSiZQqf5BAlD9oOEQPZy+/4+iFKPLvTDIjl518mZZ5aYfQoU7zAMt1JK6NPDl69q7Xri2u4wxyP0RccABTCgtCSD4puYB0tOGa/Na3vlVzAo/HzQjg8biqMc6JLwA37GFurS5VLmyQDIghJINcv7iUq9Z5xtGXdzPsCJVi/CDMTZgXwwk39bUUz8321c3rcbS8Yw7kKjIHxg8hX68moSOAR++8U+7/yleiWnQNQqbnWkPh0jCtU7x4Hdejc2xioPA8WT56VMnmGXv3KumhpIpuvi+llRVVCjmHIYaEiykpwgV+YnZWkrVa1KEikZDstm2ak6fnEQoS7cdcGRBIjyvUS+gRQwHjrFY1/29pZUV2n3ii7l8NFI2cO0diNQSMKtiU76dmDkfuyMFj3I2wrRJHV37JHZtiyoSsG3l+mt/XMIbc8+Mfyx7KwFAwGQKNYlarKuGSyQkJiwWp02hCKJfSCNuGkLFQ6vy1UtX3iySkFtbUCMF6SjYjlWpJpFyROgQln5NaqaD7rSZCDReTq4Yqy3eRWpTk0rmxJzNZ8UuRcSFIpySVSEqyHkoFY4Sf1N8he5VaRcKEJ5lqIBkIECSRuoClivhJX0rpqOUb+XKSxPkaNghd5E4OvFDSxbIsLi2KNzUtnu9JmICsJiSTzkuttCLJWl0JZCaTk3B5SWoQ16wv+WRGKjXURa1LI7lCRaq1qiyj1EGWyRdMp8SXhOSCuuSSaVnIiiqDYRJjTV4CCB9KIefo9LQcPXJA0vkJWbh4r8xfeK5UE4w4FE88qSfqSu5qQU0JIOcVBI9tIh210FPjRyK56vot1yPn7wvOfYGcvf3str/ipEb84Ac/iLXFI4YSnMC/8Au/0PY4RvWNTtWnBR21BEkx4vqLcso9hodZcrHpftIcwRjV+XQzLiOA3aA2Rp8ZBQLoTAoogBAMFDJcvRRyjiu5eb0lpUUaYYBu+vJudpo0l6lxrd940iR8yoU7zif3jcbCzR43HKGibkqx4NAm3MscKJmwWa4ix7v3y1+Wh66/XofFzR03pzNcEBb1s9lIfWuEVdl3rVFYGKUOgYandc7Pg42OLppL1ugK4fL7tK5dw01LR4pyqRSFkBcW9N9suclJ8d2TP+YBlMCmY2mosqGE+xMT+m+nEpYSCZk/cljL8UAwJEVuYSD1eqgECxKC4gWBUhKV8NRwUa8R+quL+CkJVyBVgdR9yGgoUorCgvV0KgqD41YO61LLpiSs0oUjKmeCwxQV78jhw7Jzx04phzXxgpp4dcqG+Pp7qlhWQpHO5KSYqEmqFIVL/fyElhpJVmoSJj3xJyb196j9hUgmm5Mq+OBErdclk5vUkG8irOucUhNTkSED3kTe2/KK7JrdruF4wraEOD3l8nXdf7pM4eNAfw9yWckUy1EuKHwUchiE+j6dAyQ6TIgvnhS9uubhJSUhXjojBS+QFPuB7GazUq2Wo/Zq9VCKpYrkqhXJp3MRwaSncFDTkDR+Wp+pVaNyMCiB2XJNism6VAj7ovQlM1KslfT4hHy9VFrmkzWpVWrRfsKkSLkok6EX9Q2emdIQPcWvQz8lmeWCVLxQ7k3W5MErL5Dcnt2rZVxQ7zS3M6wrqQUffieszVqTA7hQWVBMIH/5dF7NIGkvLTvyO+R5e58n27PbN7ukPOr1dhzyneyQsVGc/gMf+MDAisZ3Mr5u30sJmA9/+MMa2h63zQjguK14h/MdBQLoTAooHJALyBhf2kFscXUhaR0rT5jsm6f01jI1w+jM0U3PY4g5c+BGwxz27NmzqRKLQnf35z4nc/v2RVzDKX+uqwRErxq5Z7kxQt6qKFgBZoNAb+rV5SV17qqClU7JgX33yUknn6T7S03klUiquoZgBElYWo5+T1F2JSlVTABUA8GhGYZSKq5ou7ISSlQQqmKVTCUlhdmEXERCc3TqSiYkXaWIdVkCwomZpCSWirJSWJH81KRINi25aqjqTgDx85OSq1HGpKa5YQlUrjAhNakraUokPcl4mARCobQxRCaT9FV9q2JeqNTEJ/8Lout74kOEvKQqhZV0UvxiWTwvKXMLi5LfMSPpak1VI8wbuFO9OoSYfMq0Ei+4JT9qQiFUzesB5oR8o9adRMoZ7dBWClG5kpQnXi4fKa+YjBNRKLJcoU9uRNpylbrMHT4kM9u2SXUiI1MVxLSKQFVr+bTkw5RU0BoTUXHdTAJiW5WqJ5IuVSSNMiahlLIpyRZpz+ZLIuVrODVJ6FbLraQkWSop+VPSOZGV1EpRgqSnP4Spjx05qDmg5HhOlQOpsU4Q0qwv2YQvpZA8PsK2oeTqntbhg3SnK3VJTeSkgsGaBw4qvEgCvVSSFVraJYVUg4AwdLWmhpFUpSalWllKYIA6qMWdk3L/pefIXduycuLOEyU/FRmeIHyYOQhz8+7pzLQsVZb03yh7OH0JWTv1j7xAVEHI4uNOfJxcfdbVShirQV0eni/JfLGqppYTp7Oyc3L9Mkk8mKHKx2VuYC5EW3hYjGufg7iGb3aMyy67TAtMN5fd2uwzx8vrRgCPl5Xs0zzID9Nw0BA2LjhI8IR7keMpaEqYaZBbr11IWscKnhg8KPUCYSKE3apiElak2v6gOnMwRgggIed2nNMob5SlIUxNSQgIeTtK7MqhQ3LHxz4mxWPHlMBpWy7y/RrkbyEsyW13flfJHmQu2yjDospaQiQ7tU3KRQrjooCJ5PKTsrK0JIvLi7Jt+6zkMjmplKPcKdyYOS8j5TJdEiAqSclLUspFOliEEkLWIAEVclxDqeeykq8R7SxJrR5I1U9KuhRIsVzQG2+YTcl06GtJEIo1pyayqhgtrSxJqVyWbbPbJeP5SvYgSqhf5HdpGRg/KV6pLMkwoWpakM9IslhR9YjvVn0iq2aFyGwiEuTTkiqUsNlKwN+yvrpSKSlCaRLGm8C8AFmWUI4dOCCz09NKFusZX8kdx4EsQubCleVIJYOkTE6oqULr4pHkjtKnGGmNFi2dUi2XxGPOKU9yzEkxE6nmMjIZJKRSKUmdkHo+KxNeSoqViswvLcoJO3comdM5E0YP6pImNCqhVHHflqtKUCFaQS4liVo9CgGDWVCTVLWmBLmcof9uWT+f8NNSmUhrGJp9QuAhaLRPS0LCJ/KSKVWlIjWZX1kRckSnIazamSMpmUJZ/DChpA1yyj4J1RKW9SpVSVUDzdksJkMlm2HKFw9VtlzS17REDApi4wECp28a0lypSWUyo2Mp16vywAkTcvtZO6Seysjc8pwqe0QOdkzsEKTHidyEloWBDBJmJ8+PDTxwArNN+pN6nvM3CN8Vu69QAshWrAZy0755uf9YUcPejGcik5JL9kzL3hMm1rwkPvLII8JPXMSGc5UIBVGRfkREBnldd8fiHkOOH3OiIwj3F6IgiA2aUoHBjDSR43QzAnicLmxc0xoWASSnCHUJ4oe69MMf/lBDooN2ZG3Wlq1dnLl4ErqGUM7MzKhbeT0VE3UQ9x4J14PaeKonB2YjZZWLJSV5WBcukoR7mUs72+Hbb5f7v/rVyIDRuIG5VmOwnvuOPCj3PvTjRoFdT9LaoSIiexgd0umMBIWi3iC5KfteMmqbFgSyUCrKru2zq8YRyWU0sR8iqWG3fEZS5ZoqbShiKHVejRBtVHMvkfKUnLFGUQmOUPPTMDJANMNaXclGqUiIT9SkkqqFUqMeG0aFSk1mp2ai+myQuWJFcn5GSpWSkqRkuSLZbE6KKJuZlHhBINl0Tl8nnIoSh9GhWC1FxK0WSCaZjkK8/I7RIZWRsp/QbhKoduSPlTNJkWJZ5hfmZOfOXRJkovp/EL0kIUZURly4ECbCthCoQinCJO1Lipy6chQSxqwBAUP1ghjWfFyw5A02MMGEUE9IDaesEmxPJgLRsHEp6UlhfkFO3nmiFOoVqfu4gKm4kpNStajhaswamDeKIZgm1ExBTbtlBCzMIOKpk1ZVXDouQJZRMxOi5grNT5yg7RzkEhWVNcKWW9HSMhU/KeVj85LLZtS1S1g5Q9ZdGAojzpSrkq0npJr0pJTxNBcxmaTvcErSkMSgLtW0L0EmLQnUZkbkJSW5tKzrXM6nJeOlJQgpHxNqSJvxz81k5P5Lz5Xirlkld3Tm4OFodueshnUPLx/WMkYBoXuWM1lXE8hUfkqvZTiFVQlM+trTl3/PZmflF8/7RTlx4icPu7ftX5Rv3r8ge7ZlxU9GrvjDyxWWVZ772BNkKvvTJIXrDQXlH/e4iET2uuF4J9WBh/JBP4j3Ovb1Pk8Ug/sKZhmqFXBdphg9BhCucRDe46nkTSsORgD7dWYdJ/vFIMBNdlAbX0iKBhO+cEWDeQL74he/qBXt42pp1O58CKFARlEfu924CJMjB8HgAkNC8UYuPjCghVPcdfk2Gv+1116rhbbXwxdSyhww5HRSmoZcvH1f+pLsv+kmPTzkhDy6Et00tP5bSu46eI8cPPBgNDxyqdJZKZcKq0WJM74v5XJkkoAM0iuW1ATIIGJMcXFZpmYmo/ZdvI6K1FD2PD+t5gKMBhQKRt3J1MLIeEB9P/IPVdCpSJjGdSqSDhPR+zO+JAOGlJIKrlY/qcQkQ8mPKkphXapFzBhRmJecPswCE+msjjWZ8SVbq0vaT0utkR8IGSTHi/IlHoHGSlTjrZZNa36aip2ppIaQNWSLeQAlkL/XacMW5YhVJZBkqSxSC2R+eVkmdmxThQ0CkcSYQC4d5g1C7Lm8/r2u6mRCQ9soiPwOZoSE/SLO64oqe9S7gzARliT8ifKIikZQl3GhiBGqpjCydvJYKUl5aUVmZqalns2oIQMVq5pGCk1p3mAiSUFlgqVR2NlPeFKSQDIrRT0PGCNmBxdWpkwL+3dt2TgnPJzKEDrKsqTSahaBoErCk3yYkOWjc5KemZI8+YeQXFrqgTNmjnqUM+lTXxGin4ZQiyqrkG7MHKnFJan6nlRTScn6WQkqZQ3TJ0NPySahZkLkyWqg6uqPHnui3H/OLiWq1PRbrERlXB66/yE55/RzJJlO6vtcseditShLhSXx674cW6GAdVkSQUJDwKlMStKZtJy781z5ucf8nEzmfpLiwpw/e9shKVQCOWEyqhXIxt/vmyvK0/fukLN2/nTNU4xlfF/J24tjg/jx3YcIthMpiOOY/d4Hc3nTm96kZI/5kZIDZvyd6z4pR1/+8pcfVbS+32Ma5P6NAA4S7S14rEERQJRG1DbavvGUierX7CKlTh0kLM4af+0sB6FaVC/yRDrduIgQviZHrhO3cj/q8m02dsrAMMdWRa81ZI3xpt3OKpWVFbnn//0/WTlwIFLaCDs2XL01SrZIXW798XdkcXlBQ5TUnvNrUaFdLZqRz4lf4QGkFpHBXE5SlNogJQERhMLCK0WZX1iQ7Tt3RLXtcLSiKGmtO9S2UPPWoB4UBFZDh/aqjUqlQIRU9YL4aG/aqM9tiDGhWIkMAzhmc2lJkZ+WEKmy/0xKUqXIAbtYKsrU9hnNCwvDhKyEVSWHguGgEW7ElMFPLpuTgPAjIVwRJVLFRCApQsCQTz8jhVSo+X1sat7w6mrmUH6cy0spEURjJVTIjevQQZndvk08yGkW12tBQ5MeOZSTE5JcjkK86uWfyIuPkorqh5KUy0blUTS/j7Zj2tpCSRv5cmreQBGD7OYyat5Q52q9JnVUQ/DyPDm8MCc7tm9XxS3rofTV9L3MyfezspKqRyQTc0YmJyXBrII1gznmtZAzuXmap5nLa8icHEDq8mlZnToKWpTXmS+Cb02KmZQSMpS2UlCRuYU52Z7OykwqJyupUNVCVRazOc2/S6IsQt4mJiWBqphKag4pNQPVvUyRZ3ItQ08KYUXPE1UuJSWLGfInIyfv8hmnyN0X7tbwOmF+CLwzc0D47rjrDtl1yi79nsxkZqRQLYifQnFNKSF0nT8g8pS3WSmuKBG8YOIC2Z3YrYoh6iAPY/ygyl//YFmq9cSjcv4ggPfPFeVpe3fImTtysv/IgiSTnpw0O63rixLJvlC24tiIXhAl4AG1X1UX4hin7aN9BIwAto/VWL6z3wTQdYsgL44ejJQP4f+tG4rYBRdcIDt27BjoOlAjChLYThs6NzAwg8zyBE6OHGS2E3dtnHX52gWrlWBzc2HuEFhuQNxEOlFflx56SH70iU9IuVG7LkMx5kZ3DMZUTobyvdu+qTdASBI19cJyRWvDadgvl5N6FVUNohMRI/K6ot+jmz65g1Xyz5aX5OTZnRoCVrNI2tdwH6VNNMwLcamGq58P8xnJVOpKaiCLYS4t2Upd9415QjJpSdcTGupUhYnCv+S2YWoIqT8nkTkjDGW5UpTackG2T02rU5XQI3Xt1EzgpaScTUliaUWCahRWLHlRcWJyizw/I95UVkufaLkR7dnL9KKc20QCiyzEhzBuParHV6JLRSMnV2vuLcrCsTmZ3rZNawfWlhZV5VOXa26ykQOJuUMkn0xLtVKKSG4qKfmQ0jhRjblqLisT1bqSbXTEYCIr2TAqW1JtKJHk9xGupoyLXwkk3ehWsZxKSPXwMdm2Y1bHSP4kRZR14TBoVKsa1vaqNalNNQwm7CeVkGR+opGDGKrJZjJMKYEF20omLTOBJyuJqlS1tqKneZflyorUvaTkCiXJJrOyko7a1y0cPaZGlBRku1RWklyZyGurtpB54PiWpNQLDSUxn5G8l5ViUFQSSwkYlMWVdEQ64ZBeMqWObUwhhW0Tcu/Fp8uh2YxiRmcOzhkll15SpvwpDQHffc/dctoZp6mKuFxdVsJHizdOIF7H+KHhYpzdFK7OTMoLz3mhdvdgQ91GhWr+ueNQSR4o+XLydFoKpaosFMpybKUiDx48IqWVJTl4bFFe/vwr5Xd//imSokOLiKabsHH9iWMjTPriF79YozPt1CGM45iD2AcmQ3KgyQPE5PLrv/7rq2tAB6N2H3gHMda4j2EEMG5Ej7P9Ef6F0MS9uRIoEAw2iN9GodEbb7xRVbRB554QFsDscMUVV2wKgetKQggb0kS4dy0yu9mOwJyQ97Oe9ay2zBWb7a+d1+kZevHFF2vIgzDI7bffruoBcwDzTi74j9xyizz8jW9EZgBUE9cXl0R6ETlWWJAf3PFtVfq0Bl9+QmrUyWOg5GT56agVGv+l05FLtBrlqlGbLlWrR2U5IGRpX5YPHpHZHbNRyZVcOqr5pq+GGnpEGaPeHYoZf0uF1PGjbhsyWF1SqHzkv6UiUkfxYIwgASFhagXi3A1qUmPf1KZDxYEo5XypzS9qDbn85KQEEIdaXXyfXLGoxh75d5qvCKkKampCSFJCsB4qGQtLFVWequTcBYGWFEEtSk5PiUfpGVRKwpATDaLUqBNHkWvMGmFQl7n5eTl514laa5AZMm7q1dUhi9RGzGclW4sKMQudNTCxOEWwoY5qwWTIMyFjlMhaRLZR/aKwdUIqiVBz7VAWU0pgGmHkYlmqSwWZ3LVDwmpFyR5h0+pMVDKHdSGs7UtKnbQQs7rvSx6SXipKnX64kzmZgKBSAxDyVQskzToq7hlVQGm3BvnU/fF6IiWFsKxlYiCEc+WiZKYmJE2oNkxoHqYsLkiA8xvTTzIr9SBqRadh6lRKyuCBUxqCmhApUQdR+ynTgYOSPZHTeP8TzpVD5+6OcimblDw1dARVJYOEgMN6KA/f/7A85pzHqEoNMeT91P6jrAvhYEgrJhDW+TGzj5FnnPYMJYRuY50ePjwv9z5yRO7Zf1T/f2xxRW67/5A8dOiYZLMZ2QHZD0PJp5Ny5glT8rJnXiTnn7lbrzeOsJCywYMnPW7j2GgX+Qd/8AeqLHZyPYjj2P3aB2rmu971Lnnf+96njmke2Ll+Q57J/XvBC14gL33pSy0E3K8FsP2ONgL9IIC4XDES8ITbWgJlPTS++c1vqmuWL+ggN552Iak0VN9oI1+ECy7qXa9dSSBN3ZRl6QUXFFbye+iugvJHBw9uHJ044FDk7vnc5+Tg976nQ+EGS+uzalM9vwePPiT3Pngn0TwN7+HcLZdQYERVmDz5fxAbTYCj/2lGSrhUtb+sJ3nPlxL5gPyOy7NalyNHD8vM7KyGbfOBJ2XKdaCCsP+6p0YFVEHy5/KJlJSrZc3vI+cOZaZMyRKIDV0n0lktB0PbL8Ko2TRmjrISJ0KlWcwY1agkSrJEeDSUxXJRZrZv0/Bzilw3Qqvk1kGEyN/DKEI4mA0yzLEb4U/yx5S48qBF+JrQOApdsaBKH2Frj7p5lMAhrJ2LWtOpKzbEuJCSxblFmd4+pTUGISioWFrAGREu5UXOXdzROIr9lEyCCTmMENx6PTKg0JKMcKskJKsGlmiOlJbJSkoqYU1fT5cpzpyOijPzHwQzCGS5VFRSoiVUGu38CGNrKZlcRvP+UCEhW5SOQUnUDiGEgAkb48AOylKezEuqHio5wjACmc+QM0jo1U9omJ2HBIpMo+xRPxDHMmHeuf2PyMTO7ZLIZpRkUz9R8w4h3amkFMJITc6Q11kXNaBAyLXXc9LX/EAvTCrRd4W/D56+Qw4+/lw5JsWon6+IzGRnZKG0oKSNkjgYclDyeB1MbrvrNtlz+h5d++n0tFTDqrp6CfkyR8gg593PnPQsSRS3yb5Hjsrh+WW59Z6HlewF9VAmsmlZKddk2/SETOZyUqrVZW4lUo4XVkpSrdXkxOm8/PwT98rVF+3WwsVcVzHNkTqDWg+5gRCuVWmgm2vFpz/9aXnLW94iFMff6hvqP2FsUl9e/epXy5vf/GbN+3vb294m3Gu4jr/hDW9QtRNy2NwybqvPvXn8pgAeT6vZh7nESQC5OPFkRWkCpHYIRrvy+s0336wdJgbZkxc4NyvKTPgAgsiFgvlAnLhI97p1Upal12NxMUQBZK1RAAn3dprkjanjrk9/WmjthqJFf1XIjKqA/J7JyG13fVcOHtmvww0xC1TrUsUZi1I3kZNsJVQ1RfMFG2FbfsdxSm043q8ts/yUOnd9iExQkWPzC3LCibs0UV9Dvo2yMSh9etMm3EqNPJREwoHplHiN/DTVCiEoK8UoP4vfceoWo5ZkqjjxeSU+vubfqSpXr0s6nZX5lSWpVMsyMz2jLb3IRYOQQABR4UpeIB69VYbDAAAgAElEQVT5fbyf131PUo0cPD+dlUpSxMNIAlfL5pSwqFNazRbUfqtJpVzStUGkS9WYB45eijFPSr5Sk/nFeZnevl0SuaxkKzUlZBggwnRS699p6Rgld6iRKVXBMMCgqkGEVJ2kTEuB/smeOmXr6aSqbJhoKNPiCkKnye+TqmSWo3IkGE5WqkUpLS7L5Oy2qB0emJOjqD13s5JaLqiSV81E7m2woWAyql2GPEaJwu04czO0ZUulpJTDgBPlahIa9spVSdGVSBJSyWckQD2ltiIkjDzOUlEOL87LzAknSDrpS0QtRXKVUMu2lKZyauABu4BzZwXlUSTIZqIafHROQY1mTWplmd85JfddeJr4J5+i5A5cFEFUwqCkYV9IHK9Rt89P+GoEIaXhvn33yd5z9uprS5VlWVouS7lInuSSHFsqyERiuzxw+5QcW6jIaSfOyhkn75ISLmHC0Jm03PnwUTm0sCJ7T5qV7RNpjcCkmauE8tChOXnk2IJccf6Z8qb/7+dk985tj/r6Q1xc6JjUFdd1ByXQ5RRCCvl3O6Wbmnf+kY98RD70oQ/J9Y0C7r1ed4b5eUfo/uEf/kE+85nPqNHj7W9/u3zyk58UlE42ysKgdn784x/XNejkYXiYc+vk2EYAO0FrDN+ryd+uLVWX8+fLQxgViZ0wL0pTpwRjkD15m6e5XlHm5jkRImVO67U+6wa2QbmeIbgolygIENhu8oXm7rlHfvw//6Ot1NioxVal1ZmWVRHxpibk1tu/JQuFRSVnkEEUIJQ5bmuqFIqnxYO5wWvLMMwTOHM9T8uRELJUsuinxK9FBgpadtEvduXwUdk1uzNy7uYz4pcixaVSryrRpB0ZTlZ18mbTGkKm5IgenzpvhGlxGgfkemGekMjpW68qcUTVglQU6UKB6kfB5lRaCnhKFmg1V5Ydszul5CfUvMGcUumMFm/m8+T2MUeMFswbFkE9uxCCRTFmlCmf2oBFJU26TebFWylo3pgzbyRWCtqCrUyolnp9JZQg/MCiBavpBUymImaavGIGhlWpkfPYwARzBiVfMNv4mYwUg2r0mQDC6suK1LQ4M8qYn87ISkq0lh45hcnchJQTkRMZIgWBTaDWFkraPmvq5JMkDbFqlJHBhKN9lqF3kKtyTUPE1VRU+Jk8ymoylCrnRD2UdKMotlQrav5JZNLaf5fiy9rmOJUWn/qA5Iamfa3diOtaUwUSCSk8+IhMzW7TmoO6f/HUuYyhRD+fzasax5oQqqX7iXZaobZgEKqhpTiVk30XnSZHTp3VXL2l6lJEJFO5qEQQ+amJqJMHxg9CwDxklCqBPHzssMwtFuXAI/NSTfhydHFF8pm0LJPTmKav75Sc4l8gfulUWSyWZde2SfnhfQdlez4jO6azMplOSaFUllKlIpPZtHz7R/fL9qm8nL5ru+SyqLqE3j35jasuk5+9/IJNLyu33HKLGuooZcL3G2KorQuXlnS9mkkhhBBiuBEpfPe7362K2ec+97lNjz3qb3AEEEWTCgj88G9SjT71qU/p8F/ykpeo6fCd73ynEcBRX1AbX38Q6IUAupw4VD/IEflkJNV2s9EaDWccLtRBbq19iJkTCiaqH3NCLeuHM3k9V25cc0eNZQ700SVERK4jBPCkk05q+xBg8dANN8iBm29WsoeyQ5HkALMHv9OuLKxFZg8Um1QyusGU6bdaU0coN31KcZD3RHFmctEI2UXmjWwU8lMKwV04oyFBcuLIP6PkC+SA8PuOE3ZGXUWgVyHmjcgojBrH75Q3cTX22BW9aVG4IB7MA0crREHbl6GI5TNa3kTVR8q0qCIW1dijLAu5ajhTy7RtCwLJ57M6bsLIfiYvVe0/q8VbJDU1JTWKMTfInT8dmTX0SOT8Tc9otxOtcUiZwkxeKmXIX9RKLuelpQ65xqSSSUtePK1FSAi4nPGlcnhOshM5KQWBlJOohFFpFFRS8ilz5J2lfCVxhEzJryP8Vc6l1SwRJpJR7b9MMlIv2Zx5g9A185jIS70xB8wU/rYZqZYKSrxK1Fss1WSS0GmtpmOcriaUYFdoZ0do3sOpW9YcQ5zFGFDKKcLBkdlCUmmpE7UnXMsYGj2LwUzzDtO+1iDEWR2kEjJZFSl7obZxg9zlJCUHjxyQme3bNfybykxIkAi0vh9ktzqR1xxHHNhkD+TKgax40b4oEYO6e9e5u+TAeaeqsktoF8MG5wI5fCu1FSlUirK4XJZCMZRH5o/K0kpV6lVP7j5wWJXaE2cnxE9mZKW6KNP5bRIESTm2XJBCpSx7d54q08XHymRyQnKE7ZcLcmhuSRZWCnLRmafI4YVlmcpnZSqXkUK5KnNLBVkplWX3zhl55Oii7JiekIvOOkVe/cvP0n+3s1FMnojEWn1seYBtNZoQMm4lhRBDZ2D7+7//e31Y/K//+q92Dj/S73F9gIksveY1r5GXvexlGvolBeajH/2ovOc975EPfvCDqgL+0i/9khrGjkfnsymAI32aDn9w3RJAat+R58eFBnUMYtFL4jCmBNcvd5CouD7E1OTDHMEFkKdn8vx4uu5lThvNg5AsBVy7Jczr7Zv1RInFpcyNAVIOkb3ppps0vN5ujiUt3e76v/9Xjv34xxFfSKc17MvflSSl0zK3Mi+37fuBGirIocO5W0OFo8QIeV9aS47fCX8lJUe7q0pFQ4iQPC3cS206DpBOSS7g/k8uWkKPwevlWkWOrizJjm3bJYOrlbZrhHhrNW05RviTkB+qFcWUqRxHTT6UN3ViYvZolGXxkyklovyn+XxoY9Tk4/dyVUP7mFJwF6sy6CWl5ImUFhdlenJSEtSfm8xJvQJFYowJ8TNpDYWjCiIgYRAhXKkt2JJR8WPt3EFoMuNHZIjPJyJnLjUKUZogWtqKjjkRsoz0KG1jduTwAZnZuVMJpGIU1KSYIlYZ9fYtUzKFOZDTmMlqPhyR2CzKJlpqxtc5UQiaUGeAu7iRA0h3EJ85l6Mi1RDWyURKTTqEZ6sQ32JFlsslmdkxq+cCOXzkVwbppKS144knpVRCS6xAYjkPikFF1TzIaDI/KQVBWSUPNCFpPyt1CHQlkHIuJROJtJQoIE07OMgbJh4c4BT4RlElVC+BLD28X7ZPT4lMT2soFjc1ofCpWiIq66I1/RKSD5NS5hzhPJWEHD5jl9z32FOk6Ica1j28tCBHlgqyXCjL4kJFDi0syvxSSWbyeTmytCzZvCeZTFIy3oQ6iOv1lBaJPjC/KBO5hPiJmkxkplRxxsKUWD5BDtyXlVNmZ+ScPbukRG/hsK7qIPl/Dxyakx1TObnorN2yVCyrysdr9x04Kg8fXZAdUxPy17/9fHn2Jed1dOnjO821d7Pe3G6n65HCz372s1qIHzIIcXr/+9/f9nVirQE//PDD8trXvlaVRK6ljPG9732vXPr/s/fmsZYddp3n9+zn3O2ttbhcXhI7JglxgJisZHUn0IDENgRmgGEbAQEhyAy0pnt6ugUC0Wo1Qmp1q1vqfzoS/yCxhWgaQQDBEJkldE/IRuwstmO7XNvb7nb2ZfT5nXfdhdt26lU922VTxyq5Xr27nOXec77n+/su9933rNvHWBaghlOXcxTA7AMf+MCR9sezPfg//sf/aGNeiApuULkRBhiiDfwX/+JfHMt73KgvchMA3qhH5gZZL77wFrp7lQujBpglWBmYJUDFcWjicGYxiiYK5oVcVpl8nHTIA+SOmoDq51sP8nzE3qBTBMBy4aPF48oLw8c//nHdeuut9ucrLcuLF/WFj3xE5XRqd8YBRo8sU4fmj/HoZKJHHn1QDz/5JWOpukFsnbho5UyfF0em9+MiDaBwcK1iVGDki77PpSPXU0klHNo1F6aQ/LQeSDoE85K9hh4QneblHZ06ccLeC+bIYYQJROL3CTVrh+0XmCAIdz7MsrOwZcBQQaOCp8o3mNbnvR3WrhnApxlk9TMjw1VTiCcVB1OVWa6NtTWLm5G1lxDmHBgItto1A7ChfWZq06556tC/hYz1+G4dGl68wMwalm4dBBrV/Zgc9vLvmzf83iDDGLrKtTub6sTmlhIMKsS8wPwVgA/PYm3Q+zEGh5XNPLfvKmY0zPvQmOF6CmDivJ6hZQTMOtVxZEAaANwADANH+IermuPo2MgUgwnhxgdup63BSGGcWBuIAUHGyrBnTqMYphE2dDjscw9p+uAxfqQA9zJAFRaW0Tg3CMThwKwWjYFFmjgAzUSr9M7f0kwv7oAA6dKYR7SgZ0/e0uc22mi/VUAIuOvYugP6eV3MJxgtLmxt6C9uGepc1yrNWhVtpEd3Z/aZPrsRHUoQKts3eRHoIF0yvNeZjYkynNF+LddrVaauZllqMgGY1rRaaDAMtead0Di9R5C9a8NEU3STjrQ5Hhjbl+alAb6N0UCff+KS/Y4MvxPrI4t6Kapab/3qV+gnv+3t9vijLmj17r333qtu63mm1wcUEv/CiJSpBJo4zu3IXgBsP/qjP6rv+q7vuupVW4Xqv+c979FP/uRPmq6bm1HOq1wvnmlBPkSY9Y/92I/pJ37iJ/TAAw/op37qp4ypg507joXzLbIbdJPcEP/gD/6gZR6+3JebAPDlfoSvc/uuFgACEsnyo37o7NmzNqo9qsj4uVb1uCrZjrI7Vp23vDcnPNiyF6qKjpP3KhrnKOv8TI+FxYSNRe+Hxg839dPHGYyLYGn53XMtlz/9aQt3NlbLcQzs1WjXMEZQQRbH+tyXPqULBxf7TDvChHHeGmigI5cmjUBZlvatEw1O3LB3/jLqKxvF5Ofh1LUIksrCku3nww5d9HkFzCCVbstc6TJVsjaWQ4dsUVvtWl5XZoJY1a5lpjc0Ys1ABGYNG+kaExmaucOAYdcdmjUcA46G3QJaI1x5K/MGzmUXlqtSWVUW6TJaH/fADXewH9pomaga9IQwbAaqrFGHarq+acN6gBnVYsBglAxQIe/O3Ll9ADXjZxtdA2gBYxgY0tz0c/TfFr6n/MIlndw+qWXXG1x4PIHQWQ0LBtvZ9tuoxjR6vXkjEdxql6ZCeVlbtE1l0TywgMTMmI7QRvOxQtNetraf2jA2jWaI0YcRbZrKWaRan6wpp8eY+BbXVUvQMgYKRs51Y3pMAp/ZBrICqcOryl7nCKAd152WbmM1dDB9sYsOs1BUtwbQnQENJ63F5fBh4vOC87zBUFI3Si/taLg5URWFiulF7lrN81xlUarsfC3nqaq01GOhq0/ffav+zquVJL4GyVBuMFLWpPa+ZVprnpWaJIFGA19t1SlvFwpDTzs7hYqq0fpoYEDOHOMqFHqRLlzOlVeFNgeJ7hzeq3Fz1m5U2MBHL+7p4t5cX/uqW1Wh5SOHMQoMhO9Ml5bj95o7TuvSwcJG6QDBH/vWt+lNr7nzmr/+sGaAtOeqdzzKiwPAOAf+/M//vD75yU8aMOQcxXTkapd/+k//qQG4j33sY1f7FGML0eVx87paYP9YByozby7XvgduAsBr33f/YJ4JC/ZsCyCJ9g5AEuNKTgjHdcK58j2Po5Ltag/YqvMWJhPWBq0Md6xHCXO+2vd6tscdR+7hCsByBw2Dyajl2UA5J3NGws/msiaE+dE/+iNd/tSnjEkC/BHxUh4GPTMCho/71EP/VdPF1BoWGKEyorMxL+PNBuE/TF//s1fU5rTF7AEo8iqMB6Eq+msNvJGpFxgTaL2wNsYNVFGJBktHBIikS/t7OkkLxWFFl+n1Ktoy0O04FkMCuMPJaiNOmCYDd31GIb93GbsCtsjsIzrEzAt9ewh6O9PvtY2CMFGdL+29LECZuJKDfY3RmJFUszaR5gvbR4xs/fHEsvBMT8ZI2I8kauNgEgHHvEfdqoGVMmd0Y+YNxoesJ+YNLwhsBNpQUt901ouc1aU81qmulc9SxdsTe+zKnZzB1mVlz6BGiRqvB7/WIktjCgyWAWDZvscVy/YAKAGhMJVFWdq+9sumD3a21wo1gr2Le0czr0d8TUVjBuvLqJxoGBsj5732ktw9xumMvnm/mJBpWVwOQNEDdKPTc3szBwiVcS03GTR0wA62g0S1xe/QVuIryktVTnsYZeMoSzM9uT/vHcBNq2VVKp/OTS4wmqxLTa5l5OuTrzilzwzHxtgNokRba5v2eXO9Rl2dKl/WmhYHxtg1pavADW3cyzoVZaNFPdNaMtDefqVBHGqQeOaszkpYRUfjbltPfmmkM+sndHZ73UBjgaHFPve1/vaL5zROQtPzmWzWeoCJdsn0hXOXDRD+6Le8Vf/7//RuReF/zwY86vmEcxjh7uSXHtdNKwHJnAd/7ud+7qir89TjmTwAGCEKAKhMHGDzAJfPtrzzne+0Fqh/+2//7VMPwa37Pd/zPRZ1c7VJEs/2+oyiGfnyWpgTuY7xh3PlN37jN14Xg3rNO+oFeuJNAPgC7eiX8ts8EwDkBINxgNEsIIk7w+ezpYMTBuaLN77xjc/rrsQlx50mmVCrztuPfvSjesc73nFk5/L1rCj6HaJy0BkedVkBWFg/QCsn3adXvD39NT/xiU/YSY9RzNMX2jwe+q3f0vzcOWMOzcWLq5UL5yGgyPKlPvXw3/YZeUR7ALSIIzEWS32TBs0bxML4nunNOmrfiBgJfYt4YSEExiJeauCXVDLyRa+H6QNXp08eX92PED1XuedourOr7a0t+xwyaHS71jLXkB4UTWUAA62XZ5rDogeKGAVw6raV6f3MuTscmfkCtsrMG5ND88Zh3Vk4WVOZLQyE8Ps4GWg2O1CZ5xpP1jQIIzNzsL4AG5jNDq0cppM4VEiCzCrAehCb/o1toAHYoXP3MPYEywvjTpg0mEDr48UcYesllRZIjQYPjWOnnfmBtjFXMZpmHfK0f23czmsTNfO5sYDEnPjr66qyZd8W4joa+pGNnTHEYIyZVOgsS4uCaWJfiRPaPuQP2kS/6qv6cO4O2J44MsaOse36ZCIXHWRTm76PoOJq3JsvaFBh/JoA8uvGGlHKMFBE2wmO76bqwSPu7UFo7CnaQZy/GFUAkvMWt21n+3g3y5TmueqqkxM5arN+zB8OJuq6Uh0APYpVlq1S19GDt2/rydtPKq9zVbCKSawLe1LnldomKBsNpn3GaD6pdGkvU9mluuPECbU1oNMjnUbLotB8Aetb6datTRvjemGrkT/WML1L8x3Y6kq3nd7W3nSpjVGiySg23d9sScyOYwYmDCC4gE9sjA30ZUWlrclAH/zu+/W6Vxz9O//07yzfMwAW563rBUir1/7Wb/1W/cAP/IB+/Md//KinpKcev0pKQM/3/ve/X0hPPvjBDwqHMWPXZ1o4D//wD/+wBTOvFm6Qv+EbvsEyS6/1HMnnBbMH7l/2EeCP8z5/kBthkCN9goD8lWnkmjf8Bn3iTQB4gx6YG2m1GO/yBVgt6DhgxxDwMlLkLu75MkOs3hPwR7XaW97yludl17CNgFlOKAAv9Cgrnd8LFcly5YZxYoS1Y5x+lAUNJgAW1nIFYK/m2DxbzM7Bww/ri7/3e73Gr2ls5FvR2mHjTCleW9OFc4/qc499rtfoxaGiuut1ZlBi1LI1GEkZ1QHaHEWdbxdQIk1ghzBroOcjlw1oFQAuLc/PMRYPMGedvOTBlT0jhAmijRgBZzo4mGpze/spfZ+tGOwJzzdDRg9UiF2xPDs0daHfjx7tZ1g/9eHMgABeHxdqUfQBxmTURbGEu1mwU17f9pEuVZSFll2jk5NNC1eGueL3wxA9HmC4N2vQckFcjOkUPVejutc81mgWHcdaMQDDOVVyh0HImFPMsIJ5xO1r4mgTCYrK2kkYzZZ5qnT/wMB7Nxoac2fbR6ZcEBtrhjPZfgaJG5vvqBrGCsvGGDLcwVbHZ+aKSjUaQsbMcpWpUcVonZaSIFbRlQaQMXmgxWSUTotLhb4SI5DT2djTDXxNvNCOH3E43SHY6x3ZjiJ6lQNflR2nzhpUAP75MjWQdcBovezUFrmyutXlqlHkcJGWHDIBLY9loAW6UYwmkW+mFDK40YnCjqZdp79eD3Tu7lNKC9/YOEww8gj7rlU2uUK30OygUpK4GsUJLhSVAG+3VVoVms4rTQaBNicjgYGrrpQXdDrYrzRbFlobxfqqtdcqys/a55SAG9o79ha5btla020n1g388d6R7+v83sxGwej8CHsu60Zrw1jvve+r9EPf9OanatyO8p1/psdyPkNG8u53v/vY3Kvvete7bBz7vd/7vde8erBqdI4D4FbLz/zMzwgJyrONczmP/ciP/Ij+2T/7Z089hzEy4fxcF46SXLB6gZWrFz03cS+Mta803KF9hPgAFF7N+fOad8iL/MSbAPBFPgAvhbdfAUAockASZoIXygyx2j9X28hx1P3JiQBgyQgbUwQj7OHw78csEBKKluYrsWhHfe/nevxXGsk+/bncsaLBRMSMjg8N5lHu/En3Z7tXQmyL8HngAT3xsY8ZoLBxJRqsw3oyc1AGgR598mE9cvGRPsyZbDhGuphBYO6o64LRKQuLfIFpw5gA8GniQE5aKPJhTPr8PjR3hCnbiBh9X9b/jIvV9IEYG6JYOUDTnL2tAj/UpZ1LWt/aMKDE44looQXCat2cwKI+tMyMGaTCrI5DOcvenOH6gYHWp8wbYWgGEDNrHAIZnLpV1QMnEEbs+GZoYSRcAlCXhZI4sIiTNgk1KvWUoYX1HDSObAhM4wTsphv0BhYAS9tnGlpg9qqizHEMLPP4ABAKQ0aTCS0a1hHc5+iRH9gUleazmTa3tyw30Jo34kgRDuq2NLBF9Ru6StaZdfS7VqPatbaQAidtUSuKY2veALwCnqhNW7alInL32EbMHUSmAJBdeox9eWVtTCPjVlis4RBDRtOP6MtGZbY0xjZidJ8MVfmycWeAvrF2tFvlNjo+yAuVGc7rzLRxU3lmcPHCwNhk3gcTzCJfmv6PiWw3GKitc2MZkRHMp6m6wNFmFKlzAz10aqLPnN3WflNp9yCTG1W69dQJ1Q0ZfpTS1ZrOFtaqkcSOhgP0hIFCgroZ6eaN5nmqwdARh9pXZCCR98KckZeVTsVndfnLQ03CNZ1YH1tm3/50bll+p09s6uMPftnA8J2nN7W1NrLncSPDDQ6tH4us0Jtefbt+5ce+Ta+8Zfs4Tx82ziTWhJHtcSycDwBuhCV/y7d8yzW/JDfX73vf+4x5Wy24cH/5l39ZuIOfaXk+RsArRo/zPU0fsIn/EJebAPAf4lE/4jZzMgFcAJSg22H9jjP0+GpW5ys1clzNa1z5mFUXMWNSwAx5fs82wmaUgpvuauMUjrouz/T45xrJPn07YC1hZNFesh3ENRx1IWeRY8qxJcoF1m9/FfHCyBdd2GHQs58kNv79/KOf1fnd82pjqs4wGvjGegGCzLzhh33+3yC22BRE/4zgYIPQ6AHWsqoHOER2UMOWVaUFE1vYshuYUWFlIiCmBfMAujAq2HCtkjM3O39BG+sbFm+Cjs5cv4buPMsOFCwR40ToIcAsZg0zrXiW5dfr+3DEBnLIAjwctXbDgRwMDtbrK2mQyE9zM2/UjIGT2DIPl3mm0fpaX8MGQIDpI+KlrJWwDXlqOkOMHoyFc/R9caAgLRQmA6UGcDHEdEqiWOmhvo+xLawX49Lw0IDiR4mFJztFH2sCSDyYHmiD92esTag2mrOqUkO/MHq5Bn2dLDQbgsxCjBkzs8nE2TStiiSQX1QGegGiFZNZWN6mkRfG6uZTGyOXQaBgNFJFtZztY8mfFaqKpVxq2IhrDBMtqXkrCtWzVFnZ6XJLZl6tosSYUWtdjZJBrCXr6NCX22hG4Dyfm8FYTkieYWMxOKnnqCwzM08Mhwm5NnZDEMHwttISfSRHqG30hfUNffquNWkYq2tc1ZWreBBrN6XbmENYahB0xuap9RX6rh6/eGBmlu2twJzZXhPJceluxqABI5nrzpPbvTbVbTTy1zUuXqnFQaidg4Ve/8ozurA313gYKXCQZTair+VgmZkO8MHHLhhA3BoPFFrYc2nM3/e99+v1ve9+w/PCMDEB4BwCeDqOhfMlTNxv//ZvXxdYgm3jJvVKEwhxK4DVK1nBK9cZ1pEaOqLAVgsOYqYW12sCQUvIfvr+7/9+u3Hm+8P1wDJFD/9/HPvvRn2NmwDwRj0yN9B6rb6s6PxIi38xFjL4YMXuv//+6357xqQAP17zarqIj9ORe7Urj8MNIPdcRe6sPydFRhUcG5zK1zquIF8LxvDW8djy/cr53F4LcwcXdQt2thBkmKNCn3n0M5ovZ31lmY1Oyavr+3qtdg1/AmHJtCwUvbOU+i87sVJXVtfKnFah4wqpO0xeTi0aon8ze4RKA34+7G8NExUdwI+RraMQMEnWW9tqf3dPt5w+YxVeNp6kdi0eqipzez2WYDxRRYzH4ejawpgXc3ssrBjBxnW67Pty0ZJFsVqYycNRdOQSOl2ZExc2E4aN90rzVEtHOhEPzKlLbRp6P2srCQP7mUYMwJ2xm21t5gv0fhgjysiXD8tHdh45hDH6vsJ0kvbn0AUMCBXRMkXeO2oZXQ+Gag8ONJvPNDhxwrSZ1LyRG4hmLqb6jI5hYxddJdSsuY6WYZ9/B/BiBA+7GZLHhwZxOLTRNgAWF2+Ejq7ILEOQke24aFV7UmV1fJ5I3L50cKA8qzSoW+1WlXZpJykBWp7yztNaU5opKMfgAehya83ZB2ySQ3dyraBq+8zDZKgDA86OIgAr4M4+V1KX1VpYe4urNZpAWt/Y3dB19ako1P+7nmhwal2OSyevJz/sDMxmpasi97Q56LQ/m5lW0w/7zMOydNXUneLIs/HsOAk0iBMb59Z83txWdeno0t5cgyjW6za/Vkl9i7HduNmpZSPLL/Bcff2r79Dl3akC39HWxrou7891fn9mwPV1r7xFOwdLjQeR7jl7Uj/9Xe/Sma21qz0d/A+PA5DtL/d1aXFJl+aXzNl+1/Zd2hpt2QhPekEAACAASURBVGNpMOI7fVzMFu+HJAXAxc3wtS6MeolX+cVf/EUzcSB1wQDyn/7TfzIQxsKoFzaQIGaWVQwMETA8lnXABXwcMTBMlt70pjfZdY2oGW7y+Ts305x/f/qnf/paN/Ul8bybAPAlcZhe3JVEFIug/lrBxXGsPaCNO0RcWde6MMpm1HvUMSnve9SWjGtdx9Xznqv55Eq9IqN41u16cwkBkvOHHpIefNCiNWB3krU1YQBhbGVxLuOxDi6d12cf/azShguxbxduFkwBDmYPfsTxCNnGuBH9HoHBMG2wZm2r5SK1WBiMIh1OXUCX5yqyGt7QnMCd78jLSxt3AkLpyAVIsniDxNbRKr0k7WepNgliBqq6nrwkst/zeUWDh5EAt6wBWSMGXdMGmlkD00gQyrE+XnSFgYUF6zD7clWbZk0lZOrhbu4wDNBWImM426zQBP3dirkEaOEaJTqmahRYpa2rNILlayzSxA9DFVTNrWrVolh1RvhxbZo9dzJRs1w8Zd4I1jCgpMa4Ae4GfqyqSNUUpfbzTHeM1lWjKfQc1WGoAQDG8JljABsAZ25aNJhZaWC+HMbGbq5yCC1uBsdz3VjfLpVrlduavq8uG7VFrRmVYuxLQpr9SJfTVLHnaMLYmuw9quVwtVaNmrLTRoju01PF5wd2lLF1VsopK0VjMv0axXx2MOigcaRJxOksx7BlB4euIo8MwE6F5xjLvE+eXuAZufvkibH+9vS29oP+uTuz0jIbz57e7h3IQF231GI+13RKPqGrsycnWpalBZH7vqMlwDIrVTulPDewdg8/cCx+KPI9lVWtDees3Plp5Xmj7fWhTqzR+1sZmzdKIj1yYVe706UFOt9+Ys1yIJum0zAJLeOvb/MY6P/+X/+xvv0bXn+k0wOSCYDexdlF+zPLZ5rnc3PXn904q/vuuE+3rv/9/E6C+JnavPnNbz7Sez3bg7lhAxwBxp7JKHaUN6F7F5BH8DIaPAwhV7qAMXyQ+kAY/mphCgNTuAqChhW83iBopCq8F5V5jIJhTbmp5lqDGXDV+nSUbXupPfYmAHypHbEXYX358uMqezEXqss4IRAhcFQgysgO0McJER0fbNlRomoYTzAeuNqWjOPYTytGjrHLarlyO6ifY9x71E7lZ1o34jYe+NCHNP/iF41FBBz4QWBjXhZj7RxHl/cv6qHHH+qBDqNBnJO4Wul8LUoDRjwHPR/6PcAfxhBGwmjwKoJv81TRZKShXHNWonWrAVNpZkYMAILFcnDtDyOrAPM8qro8YwlhnWilsMgVIF8Yau+JJ7QxnlgTiTccmOu1R4q+hVQDpFhaDCl+aIwWzCUMW0ymH+HJ+D8dXLFkEmYGegmVHrWuyjyz9cStPFyZN2D12A9FZS0Y8eaajVdhLhkdWrsIGkVYNvOWdpYFCBAknFp1Za5eYxyp9gKQHpo3DBgDcNHKmSO6lYMRy5GqhKiYVg0jXZfWj0bFbKHx2tjWMchyJU6gTJWxdGjmgihR3mHaaI2JJEoHdpY8Qduu0cjG2gCNJcALg0aaa17muth06ora9H05eYc0caCRC2jnwJzSalmUCppKa4fO4pR6NgP8nTlf1+TJG8XW1kEsUOD4mmLCKArTHo7igcXMVB40X61ikWnZVhoOIxvXNy6RQpUqAqJrXOGOLp9e0wNbEzXrYwVRH5gNOIvjoRo6jfNWkyjSMGpUlqnVskWBq0v7S+VZrclaoLVxqLYkVLsH9Jd2UuujHg8GptOr2lZrukV3DV6tnb1CF/ZmuuvMloVIEy8E8EOGQITL3mxp2X2Pnt9RFPg6tbVu5o5lXmqZFfq6V53V//H++7X5FWrclsVSF+c90Lu8uKyD7EBpkZqJCmDbd0N3unPzTt135306OT75jKcbHKzEc6HbO44FCQ7Aj/8fdzvRcazftbwGKRac09F4Y5b5h7jcBID/EI/6Ebf5RgCA3K2RRP/e9773SGwX3Y6Me7nAAfzIujsqgCQjCmD0lUKSj7hbn/PhOHlZT9aZhRMv/wYQB/g9U7/ntbx/vrenz//2b+uxz37W9tGZO+7oA4cPGbCIHtss0+MXvqxHLjxs5gx0cjHmjMOwZswZAKmcsOdDfV8SJdbgYFEueaYyr9Q6rUaDoVVd4fwFlAB8ADqMWAuy/6gvo3dTrlJy4RZLA5UdrtckVGQhur6xgsFoaGaPvYN9cwH7jEAPmT5Zx6yjjgxBNHyBb6wSTGAfxhwpICcPh6zXO1itLaPrY1cAfzhNLe3PADDmUs+q5sy8UeLEdbVczpV2rbaCyNYrR4vGWLys5OEEBtMYMwhODnrtnbGPrQFgAK2zTO3QdUliJgtzTKNXZNSMhpBoHWPxAGCMLXOVAEEApRfo4uJAa9ubth8ZBWaYN4ra4lZcnMKYN/Af4PZ1PYtPqbJC87xSnpdqs8zA15N5oYHnaxD5BjAHsHSOr52m0rxrNKaxhY7drta4LJWq0QyZYFlqEgPRHA3lm54xZ3ReNIq7TgVO37Y1gwemG6fow6edOFS17OR5jZQECjGQdDhpG5NkHqSlhjiqR7GFVPObJ7Yi/elmrHOtNPQHGsSu2tbpwVHoqnTAro62ksi0lxZYHdJ1XKksO5W5o8kw0oX9qTm1YegiP9LOYm4fjTAMtHcwU9Ju6Uz01XI10tYgUBK69tn41MNPmqv36++5vWePGVUTP1TXeuLSgS7uz/Xa208IYjwKfW1PRvr+93693vN1//1GbvU9XRQLnZ+eN6BnYC890KKkM7ov+uNmAWc4ms1ecCndffJuY/w2h33t3rMtuGMBOOTnHccCmGREynn4eqcNx7E+x/EabBNNIn/wB3/wvEaYHce6Pl+vcRMAPl979mX0ujcCAASckMfHndrVGFAYW2OMADjhiCXg+FrLvK/WkHGch5x1B+wx3uXv3NHj0OUu/Fq34+nrt/fQQ/ryn/yJ2rLUzu6uaa1OnzzZjwUBPTQ9FIU+//hDujy7bP/GVdKYv37Sa2YEC1dGD8boEv2f61ofb5sXSqdTu3CGm+tKGA/j2gQo4cwtyl7PB5gkEuZw9Iz+Dj3fKoLFWLoss/WErUTXhSGlA2RRCRdHGpI9iEYR88V4LAdGEfYRMDYc9uNMQInryPcDc96SPYc5BFdq4LiqCGwmk5DYDsaVuJUxb2SljaazljDmwJi7OBrYGJwqtyovdHLzpLKuNCMFY17Gh1lAawdsouTHAxunEncC84iDGj8KI3AYQsakhBtjumhoAmF8XtaWnVcnqAV7EIrrleODQYIqtoXbKt/d19pkzUKaUwgtTAgwbK2v4mBPdVYo4yaiaFUUqRkpKpg8h6bayn5Hbp7vhbaOtdMqQePmeGZQgYFUPNB+XmmIDtDpVBJvQ6KNL+3jDC8qbfiB2oFnIIyxtzCwpHMzPAzWhvJrQp8JAY9pJraMPswpI6dV1rSK3Fae18mK5Ar6paXM4makna1NPXj3LdoJXNXkG0atntjdI2pcJyZbFtiNE5mmmbza1cGyNHbv1u2x5e7R+xyEjvKi0XxZKq0ynd3a1BwneuAqqwGSjMBHCpdntTE4oct7B4riRGe3xxpHvlKMN4ylJQOC5PjddQb3rmMmEsDgzt6BHr40tRuf//n++/R//i/vM6YwqzI9OX3S9HqX55e1u9w1Q5QxevZ96//vkG/JyJ39zjgaJAzwO3W33nTnm7Q+WL+q0wwTD+K6yLA7joWJBPIbtIXHdf45jvW6ntdgW37hF37BNNSMl9H+kZtqRioc+AESAf963uKGf+5NAHjDH6IXfwUBIlxQXuwFAIio+ekxLVeuF+uJzg/HMvmEmDyut5IOQwYj42frqnw+9gtxO+h40KPA9sEEXg3wvZp1wdDx2J/8ic7/1V/ZwwEfszxXtrdnTCcdtoyA0+mB/u6xv9NBtbALE8DHDyLlbj+iBZQA3mCcuODZz+ZyLZSh88syjYdj+XFgTlMuzgHhyzCDMH0Aw8HQgNYqry8cjY25WTlxV2YNu+zC5qytqucwnfQVYrODPRvZAQwATiF+BaJKQt9GvgA8+49GEDOodHZh7YZJX//GWBkBY9SbNQC2hCajESREGraO+jIfwGmmFEdVEsrPcpVEmNS1ohObvSaRMSzMXw3L1xjzFcSJ2vlcHuNxgOp4ZJVoXNor8uEYWwI2MW/Q8UvrCcHMV5o35CiNPQN/nuf3urqyVLZYanmwkNiPs7nyAh2gp4MGR3Jn7BQj+mHRKlCrKQaBqtGIcXjsqwGcMSZuO52HeawqrU8GKjuMLoUGcjV3HZEK6HUA9s4+B+MuUB40wm/dEu/jR1qWhYbE6lB9hwGFTEHPU9Z2fV1cEmgyiNR0vmkzw7bUFEds0WoN5zj5j5hTYI1dyOFSDyahnnj1GZ13a3sPWD/GtVlZGmM3WIu0uyw08CPRlhv6rTVvGIYsK+3NCkWRNEl8OR2Zg5i9fc2XtfbTpQZBpFu215ROE0XlHdpMtnRAPMxiaZ+p4XCkxG+1OUw0SAIt0lJ789TAOAzf3jTV1vrQHL4A0Mv7U+vt/d++/T6dOumYdg+wtyyX6jD6WIJl/59JA7gpAdDDnKqzzwDAj3E8N1avPPFKveWut2hjsHE1X+2nHoOGjpvg4+pOx3hBFh+B/EedoBxpxV+AB68iYD7zmc/YRImb66/92q+1m2skNSt5EOwpxpOXawi0nVK7KxN+X4Cdf/MtXnp74EYBgIyA0bQ8Ux6f5dadO2c5hXyBj9OxzImCO0PA5Aux4Ewjl49tesMb3nCs8TOYOh75/d9XeumSbcrqbn7n8mUVea6zjIDLUot0rr979LMqcVRaRy4iulbdIJJjjQZ9Fh1KfCc9bDhwXRVdrWx338abg/Vel8fI0+guct1sHEoxGgYNKDCjBXuWLAhUlz0wtAy/OFGNG9kMGK7C4VD1fGbrTfwJsTHVcqH9gwONTm5r6AbKi8yYPoamQesa82JBzn6gcUTQL4HDvjxaMFocoKUqxrB0Arf9BbmIfAWAPdbP91T4vXkD4OX6nmqrJ+vM6Vwx4pweaD0Z2Hp5a2tqDtcRfV3fHpIaaMToMiSHsChMH8i4PCl6R29Dr21I3y7b5tq+QTmIU5aWCGOfZkv7+yIKNF0WyspGESHNNYYGTDStUnL8sko1bCNBw21nmr3OqQygJFmpIIx1qSkVoIE0tzHVcJkxtFP6cxtHo9DTgLifzlFSS4XbaJd4nbrW9mho0TS0sxC6nBeYQnK1gWN5gW7Nv+NqRqjYGQAcYKZoCKj2lODVgbkk4qfq1IatZovUxrhcgF2n05c3xnrwzEldcBrtzGa2rmdOrCkvCwVupDgaaVbWmuapEi9U0GWqylajJJETNCqLRnneKo49ZVltks44JF8wUFoTUWOSTi2mAzmLkzo5PiWf8Xbbt9vA/jx58bLV4d12ck23n9y00S9uXyraHru4b5rAkxtjjQaBFlmmMJQmw6Xu+7pYGzSwqOllA2b8cXuwdyXwg3n2epaPf8cRzecVgHXn1p16+6ve/pSr96jnHW6CGdeuJCRHff7TH8/NN00cyGle6gBwtW2A2V//9V+3cyBRWkyLMIJQcMAInQxF6uc4fpggX47LTQD4cjyqx7xNNwoAfLY8Pr64nJg44eHmup44lGfadU/X4x3z7n3q5chbZDvYnlXmIADwuJYprR4f/rA1ebBEa2uqFgsLIWYcUvu+To7H2pvt6nOPf05VdBi+HMQW7kv2GswUDJeZOw7bM0JaLtpa8+mB6cHWRmsKyGujngsgR9NGHKrjfQF65NAlodrZoh8jE28ShWoP18uJQnlBpLpIe5CIFg7zBom8PEGuXcjRwgFMdw+mOjNZM72fVZyFoYZ1p6qpLcqEEaAL0wRjxqSamrXDMGNAEtl9YRCY4xiGiJo6IlFoybCfi6ofy9EZXDCgdIw1RCtYpKnyohCmHCuII3ambvqoGNPHmSpQZRxqJNiwPr8PQDz0IuVlauHL/jKjB0/7ZaZlJxWLVEskkqBMmCPYUj9WAKuJbk/SMvSULjMwqmK0ma2jADav63S5KuWXrYbjkSofJtOxurOihiErLDrFiyMVXWsuXE+dMkA+4c6DUMu61cBxNeg6LYPWYoDQZZY8ZrkwF3MwSCxLENDeRaGyZWmAc30YGQtbA5id2jD+Aha2cTWMWmVtrQgTkB+bvrOEGQV8u40eWov0hTu2DUjTh1xVncW2XDqYqewKrQ8mWudziyWbOMcu07lLADXpxHCgZMR+8OS7vUxhOs80X2a6dXvTYoM8L1QceBp1J6XFCc2mrc5sjPXwhT1jBqnXI/gbsOap1dmtiT758JOKAs9A4MYk0TxbGhB1vEaPnqMNptPJbV/fcv+60sUTpiebjCY2xjUdn3VZ40fuQSCAz8xCGGVstO/auvE4XL3vfvW7dXrt9HV97bkR5j2P66aV/L9//+//vXXmvlwWznkAu2vJTX257IObAPDlciSfx+3ghAW4erGXp+fxcaeGPg7GDK0cFP7zcafGezBaPq5xytP3IwD74YcftogFXGk4fxFws100kFzvApP45AMP6NInPtEHHjPe5I4Wly8mCMfRwd6eltOpWr/RY3tPGEvnwOy4rlrAERexQyaDrDoAFa/FRWbR1irQS0WRxuOJ2gFGkdLAE6J/qxo7NF+g1UIvxXuj0fPoy8Vwwr/xnoRO5/lhbVsnjQY2psVtDLhz4tjMHOj3Gs8z4Djf3VcyGZohgqYN9HfWSYzer2oUe6GKMrPtwCVLHt+CYGH0gTSEMObs+viS0POUDIbmsA3QFDquQsbLACCYO1oxosi0eTidAZV0zW6Mx/3IlgYUP+g1hVVp0TEBAc8NI81Ccxi3eaaicbRf5CoYJ8NkLQuFsa9t9Ed1q9bzrQe5SQulxPOtTww4BBw7TBJ5KT/LTIO3R+afbbvU4F8pKiWtq8JpddA0Gvqe5RoCOIKmVtxJ56wPudNoGKqhJq5ulTieDhxHaYMm0lEc+mbKgfWqbB/UatNcvnXbNnIBlh4GE4KYeZ3WwOeUgOt4qHHkqWYkjHxAnaaYTYpMYRRpFNHFwedPyrtQnx0G+vjGSN1oJLm1BnGnAXqsLrRquCyvtbW1oUvLuQZhrJEfyW0Li2LpOBiqdX53qWESaHs8sspBthcrDyP6C7vEeji698xrlRS3KPFGiiNf00VmES0Hi0xveNVZXdifm4s3CTh+lfYWS82zQutjTxcPag0HsJSM7UNVBE030lff7etr7nEVBL6+9PCXdGL7hIaDnk2E2eMGyaoOOX7WR93nYq5MHgC/jeGG3vlV77SR73Es3LQiGSFm5TiW//yf/7M+/OEPm2P2pb5wXGF4AbTEbdFDzLUEJpBzJfvtN37jN4wNJJ7m5gj4pX7Eb67/de2BGwUAokMB5KGJAyyhc4HtAzAdlz7umXYU8TGwc8clqF69ByeWixcvGusHeHrta1/71Hib8QRjiDe+8Y3Xdexg+774u7+r2SOP2Ot4cWw6OZy9LD61d4T3Xr6kBx97SHncGchhoTeVnDaqweznIFFW5zb+5Mrtdp52DnbkG04baDgcGytH0DNLaI0RufXG2s+HjCONDeih/MlY7WJho2QUUSHZd0VujB2RJ4QQt4CLwwy+sPMMhDZUxQW+dQ6zbju7OxqePqkYdtLBjdqoBTwQTxKGKqGgCC4+7NitGK1ivjDtFfl1rrx5Zg5i1jRjNEmtGqwVgDQmDy6wEXWAoAygah3BrSq0entTTcYja9rg9eos16yuNG071WVt49uDNFVbNVoHVFWd8sjXiO1qWmWOry72lGdk2OFajRU0uYFXocVsPLWwV4x7rY7Nk0tcisXn5AobV+EkskBqmDfXDQ0YRWmuQRxqj6BrQp1pc2G8WRLC3CpzpWXTaoROMvYMoJgByPN1MJ8qgk1kxB8mfSAzwreSNo9OldtpK4psrFy6jmLG/yKOpTYwWgX9iJzqPU9oiAl0Jscv1P5yYevjJrEe3B7qLzdjG8OHXaK5fR5arY3XNEj6MXwSjpTWng6yVF3t6uTYVWa1gRwT9rGjGeHVnaNBHJlOj55dHL6sH7l+a94ZOfNtPXp+anEtrzp7wkAsjFwcBjp3+cCy/MLA01e9YlPTZanOo2rQ1SLvtEglPsYb41LLlNEtHb6dvu410sktsitpEYn0pYcfkT9at5uAk6OhYqpBVjmQRWrSCBhwM051jZIg0Zte+Sbde/beYx2tIlvB1ID57TiWf/fv/p21dfze7/3ecbzci/YaV4K5f/JP/olpGgmUfvrygz/4gwYIP/ShD9nN/8vVDHKTAXzRPoovnTfmSwPT8WIvpMajEYIZS5LE4lBeiH5ewCYBoQiFj2vB3MFdOneZAFgMK1dqa9Ck4OS7niDX2WOP6bGPfvSpkS/mjhbHJrEodnFPVC8WBto+8eD/p91iqc2IQSFzT09d6Flfr61XgI5MZtZom1Zzc7/mGkexInRXpPIacOwdjQ7MHiMuS19GD3bIOJreqQcGNUHHrAuOO8+3OBIWatKizjGtHM+luzduOhs7E09ieX7qMwa5iO7t7+vExqaBBcAdwAlTA27lLHSs6xZgBsOH+9jPKHf15YeRMpynh6xoFCYqi7RvNmFMTH/t/p6aqj4EkaGULg2UdbCgfqzFEoYoMxNJlzN+bbWXZvIDT1vouyTNA1eh42iJLq0lny5QxNgVpo/qsSxTXVbGljlDMgJrq7WT3/f0egZ4HS0tfodxOexZ77iOOlc7ZaYB7BJgjd7ijhErWK1RVrQK3VbhILJcu4EbyukqLbpWdVFpMJrYeJ8WDxzUJUYMauRg7ahgS0s5ia/RIYtbQjP6rbI0U9ZIa3GsziNjxlHoBeoYaxMv07RaTwLVVW46QaJ/8MTkDYyppyduP62/GQYqiMJhHO9S1QZjx3M65WWm0SDW6a1tA61d68pToYu7e1osK2vU2N4YqSobc4J3datpmtk+XhtEZtBwmlAngtu1HdxhYc9k9a0NEx0sUotp2Vwbajj0NS8Kyz/0/U57s1aLtNMobrW9Th44zHSj0He0u19qNm8VBI6+4b5YX3UnIdJLVWWlPMu1X9T64rRTpYGZXIZRqFefGuvuE4Ex1jEj/EPNH3rH1519nYE/xsHHvVCTxo0y55XjWH7lV37FwBKauZfqwg0OoI7uX/TkOJu58SYMmv8j42CfwQbSVPId3/EdAiTe1AC+VI/4zfU+lj1wIwBA9Bor/QlMGZ3EL5QYmbyo4xrHMn6AUfxKbSSMgAGeb33rW498DC3B/i/+Qk/82Z+ZdmvV4lFO8YAylvUVDAaql0sty0yffuyz2s/mKtNM25vbBvQICsYtC1tBfpzlAnathTmnZamwbTUkt47mDcKXZ334Mto4uoLreR++THMGzAjvZT9HYT+iRRuH9yPwzIlpncHmSJYGXmxmjr66w9EI7VmRG1OH6xfzBi5J67YF5OzPlIwHaukcRl/lhaZP5A8AE2AIAKXKDScu7F83GMgpCvs7j9NoKDfN1PE4z5EbRZaHCMO3KGtV80x5lqlrOl2oOnnLXIkv5Q5aQdd0hGYIQVuJ+QPeqy0twHoAgGs7LWC9MMkQuQKIDay+wtaJFo12StNH23ftHo6RgRN5XsjPSq2FkaYhWjJ0lK5aB9PMUiHjXN/X3PEV41shEgXNYMVYt9M53NuMkeNYTuD0GkKYRQKdy1x+1yoa+PIqRsgYFhwpr5TWjrxhH0RdMQoPIjNoFIBrgFccaDZfKvSkKB7IDZze0OC5qrNKs6JQTI7fcKi2a7SMfX3+1nV9Mo50kC81jocqG4xBFbGN8h3cr7W1jnjRQG7YmYt7iCu9y83dW5edksTXuUszW5eN8UijKNTC9KaukiTUk+dLtcstvf7W1xozzecKjSc61XO7c+3OCp3YcFXgCBd6PD4jrUXEZFmjYeLoYNq3uYwGroYDomdgADud2PL11vsG1EKbwWM1xsUI8ycP7eni/lRraEXRThbkGjZ67Xaou7aGxt4OkoHuvuVu3f/a+6860uXIJwDJajMBf6dPX5+WcPXeNHdwbP/Df/gP17I6N8RzVuwf2/CRj3xEf/7nf24JEUyVuCEnDgaig2sNBpBf+7Vfs6nMzRHwDXH4bq7Ei7UHXkwASAMIgmZGpbB+jHyPS9h8tfuTO18YOTojr3UxHd6TT5pmEZcy7OVziY+JJmC73/72tx/pLRntPvr7v6/FuXP9ieuQebMeW3LOCEsuCsv3253t6uHpk+qyTGWWi329dsvpvhaN52KKwPWb5hY5gtMRtm4SRzYKpbvWHAi0gQAaYHIY50L1HBolnLLuXbwAUcwdWW6jVQNoYaDAstVaM03wfDL4jNmLQjlEhTi+yq7u8/xoBwkAj+gLiaWpDUyev3hea5sbCqvaQAoOVQtarmoFNFZg90TDSrYeLChTOa7omEMof29a5dO5ClobPF/VIlORpcY8LQHLjSM3ZL4am5uUfLw6X2pa1tpijOeFFo1TQ5w2jRa0hajRmAYUAKgbyXcahVmuAoPIZNwHYGMywSVNgE7dGEu4YOQJ6xcFammwaxhTQ652Wi4zTQBro0RLOpYPHdQLNH95pWgQmMnFdT3FZPA5tYK8su1wwshy58hL7EwGEKpqcxtJlvtztYwmh5EGHq7VtjfAdJ0O0EbVndbXYnNXo/Hz/EgZGYh5JfkEKYeYfeVHgYIWd29pPcpu4KtMO+0MPT1y2ylNz2yrgDnuyFWM9MTFqUW6hMFAEbsKNlaRGi9SiuGndnXbZqh0kZkOMwxdNZUsbqYoam1OEl3aW1pjSChfk+ikxs4r5bZjG+v+ty8+qUHk6tQGGX+lVcXhHGmbThcvVwbozpwifsWyu43xhAxepq3my0Ynt3z7O3VxgMDX3RPq7lcEphkl1Hvl3vXk6bPnL+u/PjZXUFfaWFtlrC4C+wAAIABJREFU9XXaW9Qa+Lnu3ZYiRXrd9ut028Zt9t1nRLv6PwzUtSzNdKpmd1ddUSi8+2453FRI1rGL/u+4AuPpxAVM/ut//a+vZTVvqOcA9gB+/+bf/BvbR4A9M8HRvuO6dkyOa3R+Q234M6zMzRHwjX6EbpD14+7ohVyg3dH4YY7gJIa7l78j3r2yHu2FWCe0eKzLtbBxrB/jY8a9ACy2gxPpV2IvaTChn/ed73znVW/i/PHH9aXf/V2tmL5gMlGL9ox2DGJU0Njluf390YuP6os7XzYGDRMIOX8Hs/2nLl5xnKjMcxsHpsulxbZEdNDilDS93lg1DRYYH4hcwYWLfguwx8SYrLsFIKqz/tmQmJSmNWbRHk/Kb9uY8xHGKGxkQKcqC7VRaC0XjIVzfh8HCrPSRmWpA9h0LVA5SmKlTaWDg6nWJmMNk6HyujRGDb0fIKNUbUHO1kgShja6LBepAE0LLzBh184itc8VY0VcrRgWrKIuLc2QMRommpMJR1C1g26uNBZsFATKAMuBqw3q8xriZ4i7cYwxLDChoCGkTwTdICaWWnLzzFox2lEiD9QYOKo9wA1BxJ2SsNOyqjQgOiYIVdCIUlVKHEezulUMAxcR3+LZWNVYTFdaZLh7PQ0nIxtbJ+x7x9W87QzAx8PEom6wTreUc4Cm8loZbRaha2NQwFyCZwe3dAWbGmhRV6ryujdHjBPLCmy8/hjO6ASuK40CGDHGy60BP7SNjySePr4VqrtlW8sFWjvfgBmf/WW9sDdxnFAX9/fleYEGwzXTH7aNqyhoFdSZLu3NbRx+58lt+yzASMOqzvNSM0b5ra9Xbdyj5e7Amj1o2eNGhQo6gGwcudrZqzQZkulnkduqCJDkJqSTLlyurcnw9Im+Eg6AT2IRWHF3v9c7vubuSN/wxlCDyLOmFT6zAAX+I7YFNvqR3UqffGKpoF5qPF4zZhxd6yKnX9jVL377N+vNd/W9vOTz0TXLHyQg/AwgWQHCFShc5ZdyI9ceHKjZ2VG9s6Nmf18NgOXiRQN80etfr+Fb3mK1iKsFvTTnmlWawFWfRJ7lgT/0Qz9khrR//s//+fW+1A3zfM7LgD5c26uFm3SMhCcJxDf9yst7uQkAX97H99i27oUCgCtjBEwZF2WYslX3JGYJfs+/vZALbBzF5YRQH2VhnACLx0mFMQNO5asVE5PiTwD11XRU2j7767/WhY9/vGe2YMdWbRmAIcBJHKsifLhr9fDlx7Qz3+3z+TCGJInydKlsOtP6xrrcwdD0eEScLNJUwdrEWD8Xxo8EE5yd5trtHcRc4J5yFHswc11v/MDsEUcWHGx2SQDJILHKNRzAsD+EMwd5o9rrX6ujv5aMQC56hlWIMIG4YdQqG4WaRs91VZLXl+aWA7i2tQ0WUAeLVzcGxGZpqrpurKsVsmojQivG/nDkBwMFZaaakPMkUpMBLjo5oWvjTmrk2IdTatuqWtuBr6BttAgcjepWZdVqiuYxhrPqTMeGptAnHqSqVHauuV2bPJUT+pbz5zT9WJjtrJe5xpSbxb6KZGDgl2xCQBzxOZthqCqOzBDBBalkf1A/h4OR0WvXKQEsuZ2aqjANH4nHewjWYeoAW14op6lUot+Tq2LZqPGo4wvtc9I5gUXApHVljRvUrjkBlo0+4w9wUbaljWXjMNISIB14GhLvEiZmzoGlLfLU9ImMl8fDRE+sr+tzZ9ZVDBPNlqV2030Frq9bNjYsxxDcHaMVBITnpRzHV+3HwvMCMB4GnY2y0TBiKDlIc82yUutRqM0RbmZCxSNtOLfo/JOu9qel4kjaWic5kYxHmGJH82WrxZLqQEfDxFVedPY4wC4G+KLs9ajW4LFbazx0NJlYd599vHneG14X646zgY17kW/AmFp2pmFIvgOwh64eunBJf/XIvvym0/bGVg/4Ce+u13T/6+7X//XNz64f5mYXIGiA8Nw5Y++rCxcUpamFdAPrMNnEZCT6vrnmuTGL77lHw3e9yyJznr6QmIBpDVB5HAuVad/2bd8mmMCX+rLSAmJsQVP+3d/93aYl5+ff/M3fNOD3q7/6q9dtwHsp7KebAPClcJRugHUEzDzfmeGcAGHKuCN+JmME2jkEuvfee+8Lukdo5EAwfLVsHCcYNH6sL8JiACsnmqMs3J2i47n//vuf82mMfB/5yEe0//nP92AOxsnzbMzL+Bfjh8UbWJRPqb/98qc0XcxsVMuFi8wzojnKsmf6Tp0+rWw6VTpf2MVxY3vbtHIsXRAYECB8mQWmbkCHL0HHjCmTUECZgk5gRo2ABT+yjLPW4ks6Dbyo1/9xc20slWeu3ir2rfqM7lniRqo4MLAHkwIbRbUcrB+gDAYwLQtlWWUC/J3ZQi66REwfZaUyiLTW1XaxzuntDWILY17UjZIkUhSE6uiWdR2VVSMnrxRTbcYcsu1sTNq4vmaBZwyg1CitayW+qyGmBQAm2ram0WyeqgpcDdbG1vwB68M8kfiWtiyUjAaWs+gTBBw4ygFyVa3YDa0neECotCNVXqC8LXqHNeuVtSJK2B9EygJPQQvw6LQoC/nLQtFoqJppH7E0PMePDBTkdOQmZC6W8gJH3XBgrCb5fb4IR16Ye3jikikoq3RD6+k6vvaKTF3ZarI+lNfSjtL15o261aJCY9cqGQ5U1Z4C/3A0XbfKaeVIQn1xY6D/tpbIH0daG46N0cRgQhfvxZ2ltXdsjhh9RmpoXLHMvUjTQppllbYRVda5gSe0g3xGYSWzvNRoGGvvIFWkiTa8WzQMh32VXIUm0NUTTxaqG0eb667WJkStWMeaAt/R5b1aiyXOYkejoa+qxt3rKAhcpVmrLMMcwLZKFNSMhp7Onvb1tjcMjbWcZ3NjrXHsmonDHOC9PtbiiMgyrGs98KW5Hr54QZvjgcIg0WR8n05u3KMPvOMOfc2tfx+I4X5vLl9WTQUj/794Ud1sRhmxfVcZVxew7/v7BjyzplEFGHRdRadOafjud2v9Va+yceUz3VSSmUpo/nO1Jh3lfEQN3Ac+8AHBBL7UlxUARN/3Uz/1UwZqmS695S1v0fd93/eZ9poxMe5gmMCX83ITAL6cj+4xbtvzCQBhF2HYYMruuOMOq1x7ppPa8+HGvZpdBBuHqw6tyFdaCHEGxHJRAPhdqwYHRoDYBaqKnm1ZPP64Hv0v/6UPc25xrSb93w9r+yzoeT43OmORL/Xg7qOqpvSUmuDJmiJEV63QrMGWpIocVxnAZTIx9gDwwh0xeXaYKXgfFvSBuGfR+5nWEFdtXtrvabTgObhxrf2AkGKMD7B4AMckNBDFONX+0F4BkEFbp0ZO09kYlzEicSrFIleJDrHptE8F2nTZGy1CXwvfkQeT6XvKW3SCnRLfsYozJ3A1QupHyC4gi8aLZSkITLIMWZcAI4UqTZe5jbi3hxPTHMKZJVVpLNGu02jDct+ghUKkinJh0Kh+C0Lr+7WeXrYLVNV0at3+It4sC03IgRuFcslSBND6ibKqkFs1moSst5RQAxf4PUAsudB31o/bt2148kKvN+U0raow1HS5UEjmIePxgnYTNJW+VcFRphIMfSW+r1KuYpw1VWavjcN2HIU6qHGl+jZe5RiImBbaOypHsyq3hpBBEqm1jD2Mz6FmBcxnqTjG1cwI1VWa+Prc+lAPro81q0ptrkfKM0zjvoVTA5KoBqxKV8M40ONkNgah1kYDDSLAZJ9F2da5nri4q6ZudefpLdM81i26TdzKnprluqrphs6cTAzMRaGjKOp7c4sCzV6ltZGnCzutktgx8wbAsK47A5voB584D1iTNiaOxiPyKPnkA/4IjO7dv7zG+94+0h2nEwN3jHtZcO2mRWrbg8mIny3Imc85OtW61O5sqb946AnFa6/Wqa0369aNNX3zPeu6b1iruXTJRrir0a3NmBnZ8h1a/Z2Vszfz7QaOsT+OcxvtWnNMqOY1r1F2663GGPKHcyc3l1fqCQF9GBze9ra3HVs8FvKXX/qlX9J3fud3fqVT4A3/+xUARE+OGYSkBbaNc/xv/dZv2T5FG8j59+WuBbwJAG/4j+uNsYLcha6KyY9rjXg9OnupLUKrQm3RczFlx+nGPco2wEz+zd/8jf7RP/pHz/o09H2MrRkXA2AZ+V5PaTos6AMPPGAF7E9fAFwX/vIvde5P/7QHZLACK30fTNvhyBdGiAvU+f0L+rsv/51au5h1iqKBatgeroCI8JOh5pcu2xiYsfvk9Ckza5g5g27b4VDOMuvDbH1PAW7QqlRNhZnfC+IBb3T8UtkG2xU6nnL6tviZUR41bfyMSzjv9XxLgBZYFOYviLVwG124uK+DeWoRIy7ZdNRvYcSIcJLWcupWYdfooGg0dFoNiSrBWBAPNGobzdPMKsYGa+tyEcjB7NEOQuVa1WgQukq7TuO6Mxdu6naWFYe5ZFG76syFTB9tZyCEuBYRxlyU6iZDjXC4Qi75GAs61Rmgt+n1dYxIfUdF2LtwATM+AG+Rag2gEEXK45h6EEhMLQnLziqtQ3wNY8s/9GEGCbPJin6/jMdatmU/FqfnGFatq22/g50CVjigkY/RKGNzR4lc7TLzdh1tRoyPS9MIhp2rZYceMDen88QfmCED5zbWhqbuVLZEnnjKyHJ0O4WRK59Iny4w/SZu4r35UjvjQOfuOqG97W3lWW1gr2ldXVqgq+p0+9aGlkVuuYbG+taF0rQypmxzY1s7y1yTJDKXcoemsqr7cXxda2dKxp+jzeGGBs0phd2ajWOXKZE/tWn3zp4JlGedgtChKEbzRaGq8VQUvVMX/d4g8QwM4oOqKkdF2SiJXT15obZ/Wx87FurcNH1o9CtvC3TfV49M62if/Y7GGF8Z9YJNZTdOSZRokS7su01nLyB21durZa6tXem9d329igsXNWoKOYt5PzkB1OV5P1vGQMVNFX+HrUeXa475Q7aemwt+hrkvS2Px46/+ag3e9jb7+5ULYOWp8fHhGHkV2g/AYbQJOMR4dq3nI9afqQvxKc91DjzKOfVGeCxTpp/92Z+1GBjyVj/4wQ9a3zGZrziouTZdqQ+8Edb5uNfhJgA87j36Mn294wSAnFCIVUHTx0kJpuxqvmjHkY13LYfnucAYFwoMIoBY2D5A7HGEUjPqZozzTd/0TX9PjFylqR79yEc0//KX+3ouXKSOo+aKYGeYg/Ywt/GJ5Y4ef+wLZopg8SYjC1+2gDouPmGo2d6O6fHgQ06fOWM6OS5+AMk+Y60Hjgj0YdvIyDPzxzAxoEhrbYNgOu5dvtZVgebNc43lsto0RPPQaoeaKRuWWgxHv1xeZto7t2NgjI7ctKjU5YXGSaxiMJCP/sppldWVlnWnIQAMDSKjOKR4vBBxKlFg40+aSwLy8qKwH+P6rpZVaeaKcRgZ+0Vm4MQCoV0tHC76JQluFn7tRgN51JjBuBGh4gSqFlNjptthoqhxVDq1NYJkAL8G/VvvwIzrnq0h0hjzBVV4bpQoLiv5aOY8x14TttLxXRXzXCP2D1l91jvc2vjaXNdkGA4iG0UCpFuPXl4Z8KS6beJ1lu9HDQjbxGi9sF5gV3lbWk5eQmh2FBtrWTMSd6WDRWEM2yjxDcCb/tLtjRFFVlul28ZoJI6mhzbSa0179/h4XZ85taZsnOjyLBWxhTHg1jIPGa16ms8KG8tT4XZmm3Dw1uJ96O89KCrN01qh5yhxy95E43XWDUzIc135SrQpv9hWnno2jp2MXHEIIcgwbBzMWk1njf391ltClWVj8oY4xpQjzZc9eD+97SsFJAb8gWh0VJaOsrzR+sTT+UuARNlo+O1fP9CZ7cTAHOwezLDV/7VQyHxVAJeFqrayLmiY5fn+jurZ1CoM7wm29Nbkdk3PX9Yr7r67//4B/Po3Nhc6EgozFsDmoeXj32i9gY0nkP0Q+PFF4TUxb0V33qnx+94n/wqjwnOdwzi3AgiJzIK9YpTJDSwTCUDgle5jmMKrAYW8Jje0f/AHf3BdSQjXcu59Pp9DEwi6v9tuu8202jB+xIv9zu/8jn7+53/ebui5IX45LzcB4Mv56B7jth0XAFwFIHNSIs7l7NmzV3USYlOIggFoMdp4IRfYvT/7sz/7H8AYIJZxLydR9CTH5bhj27jY/Omf/qkxgKuTNKDv4Q9/WE1KXpxrI1+7KlpcHlo3Zpv9SI2L9ae//Bnt7F3sI11oa/AjFenCjBWd66kpKy0P9hUnibzxQNXBUmM0a/x+EGsAyDnssu0Gken7cNmafi/wNaADuC77WrS2NZaPxocaBi0vLS4FYFlFvoUvW9gzbRRuJxezg+cp7Rx98eKOsrxSQNQLPaxVIc9hOOcoqz1tdIUiV0ppByHIuMi0ROsXh9oIY8syZNthK52K62vdj0yLSmPHN/Axdx0N0LH6gXZwGEe+hgmxLrhaPCVVrmKRCeXjNnVkVWlVc3UYCPRBfAkdyGxXzA6nKiz0jaE0eOw6qtJCY3SDOJ5r2FCAcKhF0UhVobXEMx2XxcjAFMLI4rxF/8coG3cpZhOHtpDS9h1Zh4t5YTo6qsvQ+zWOZ+PqPCs0J/QaB/MwUU7eHVrPrlVZZmqaShFxMpUrx28sH9DlmLSuHNzYZAfOMtsXGEP6GG+y7RrlTqAsx+nrKBy4+vzaSF84k6iLEqVpbeagKEYGEFqG4zgZKIkjVVUtMvEGA1+XdpemY9ua0N+7bmaTCpa4TrW3n6kqOyGNhXHzm5HGzknF7oaWy87MG5Mxxov+xgTzBo7esurMmRuHuNZb0/BNxsgB0ItGdtOCvu9g2upg3piu75ZTno3F8TAR6IzOj+flZac3vT7Wm1831jyf2U0PGj+0fmwToA/dKUajaj5TO5vJWaR9jJILg9cYQ/iOjXt0T7xt+ZgXz53T7YS6A/YIDOfmiZuowxgmG+ce3lQhrzDNX1n2OZXoWw9Hwm6SmM4vueeeI5/qYLCIgVkZyPg+cw5buY5X/+ffAYVXjo+ZwDzd/cpNLje31KbhLH65LOwnMgGZLKH9QwPI8i//5b80FhAjyMt9uQkAX+5H+Ji2j9EMd5HXuqAhxBRBph53XHffffeR766uJRrlWtf3yuex7nRgoseDAeLkAHuJ3g8Qy/ZczZ30UdYFwE1aPe/Jhej8xz6m8w88YBeUVbAzej4WxkJeGFqrB0vlSp9+5FPK5vzeYT6ooHV6PRMZv22rYplaX+poNJQXRvJaaWfnkrZOnOjz9iixty7bXlcXto718bZJZCwgLllAZjuIrKsXprCGReL3rKPj9YCM7GbTWvVaNoeRVt3r476wN9f0wo7FdQzHQwtRxljR+aEBNojGxO2UFoWBlwTxHe5h9I700x4wsnYNJGGxMSbSd7SH9rCqtTEaKm8bRZgKADd1p2nXaouxcdOpok82IAKnUk20Ci0X5BJSX5dEGoEYGJl6nTFhZY6izlMyDBTRd+vQNBIpZbTdSiGMY9lp2Na2vlkSy29ctS5GhlxuVmpIA8okMVCJCYd9pFlq+rzB+sgMF0TwwVgS0ZM2vUbNx83LJJEuZJe4GfIWAWiJpmjT0D6iuevY05Ww2tZFoyVubEc2+i47R65b2xjewZitQJ7XGghGJxcEnsIwMN1nxbbFvh7wXT04irS9mWhI20vtG1Podq4uz+Zaphg7IvuMAvBxHyMqzPJCi7zSaDLU/qJjAqrQLeV2hR0H8g1DP9H00khheVKntxKFIe7v3iwEX7130FgO3+mTGIX6nD7zAMFylj2IGw9dHcz6Xml0f5MRBhDItNZeb3e/1TJjxC/dcsJTVaMbRAfo6a2vH2tt1FeyWU9v3Wm282Tvlk9TjfJGyyI1VzQ3TUM3tM/4KiPzlnCs905epWE8su/dYn9fu/v7uuOuu2wfGtDD0MHol8zJ8fgpfS6a2Wa5NGAIKHQIrOZ7Qxf1vfdq+OY3P5Xpd5TzBo+FAUTP9o53vONZnwr44zx25fiYvwP+YAlXfzDAwSQyEiUO63qCpX/hF37BGjauXBhTE3r/TAs33c+ku+amm0nLcS0ce9aBdXk+uuSPaz2fj9e5CQCfj736MnzNawWAVzpi0aPwxeWu81oWwjo/8YlPXJUZ41pe/9meA/D9oz/6I73rXe8yAIsZ5cyZM+ZUXmV1Hef78Vrst49+9KN6+xvfqPMf/agWTzxhwM/yx2AWDs0Z/Jsth7Es02KhT37ub1QSpIsLMh7IWaZ2gWRUiJvQSTPFgBMiWdDvVeSdFdrNljq9sWnApMLcEfhWp8Zj0O/ZSJjKLz8wTRdjZcaVMTop1fL4uWqs+SOlco1oEMBjECulbQHThOtqf1nqsd0DNbBqrqtp0Shsa02isH/vINKoKpTlmeZ01Q4SG/PiSkX7ZqCMyBDTdjUKm9r6bEtj0VrFXNyqTnuqNSFsOgjUOL48UE8jlYyXw0hbbWGas5JsOtjLtlHZtub2bdJKCQ7YJFREFRwoKgqtboxtZjTtMWotcpWuq8z1TYtIRh0Ve0lGLIqv3KMvuLKLexgNVCynNmJ04tA0ZBhU0FUSbg1OCBNX66Yz7NSFsdQS0VJpWTXaHoyUtdS8EWMTqiW0uiz7CjXPUZrn8qM+q7FxGT02Bh4XeSMmkkkSaMA+g1RrKzUO/4671DUGsIb9cwPtbMV66GSsS9HYGLxREurxS1MNB742BxM5fismoywArXM7B5YjefvpNeV5qdpp+lq5jvEsuXvS2M9sVA7bN/AnSppT6koAL5I4V+cuVBoNHa1PfFvn1mjm3sBx8XKv+ztzyjWwCgZDW8hkdbZotEgBgpWammMNU+ooDFwz8PAHr9PBojNGczyUvu41oe67M1BxsC93sbTYHW5i6rIwsxMmJABS5WCybkyf57uBlnXeRyx10ttHd+prxrdZhJKNbslonM81vXxZZ1/xCrvZsagdGECY+cN4JmMF7WYEeUFjUgGC2AGBwZkzmrznPVc97n22cw6mNUDSUSclnHMAhSuGkHPd+9//fqtJW1WmYQbBXYxZ76g5eQBATBZ//Md//NSqA7iezSi3AoCMYq+Ms+HxxwHUAH3/6l/9KwPLXJt+4zd+w173D//wD43pfDmxnc/2WbkJAI/7yv0yfb1rAYAwdqvsPoDftTpiV7v0apyxz8fuX4ExToLo+xj3Pt8dxFyA/p8PfUi3XLpkrBkLQc6wfNaqgSFgMlFFdMShC/fick9f+MIn7WIJE5YMxqry1EZ7yzw37VIchUoQPtG6AT1nkRN9x+7y4mWd2NzqmzIYRRaVAc7Kg1uTATi0aYx03UM22KMFgikqb8qFOQhtDLwKYzbRelnac8m4+8J0qY7gZUamuJOpL8NR6ocWroz7NHAaCzIG4ARlqWKZK4wDBYNYUYEYX5rT61syKnYNbGB4IDqEEWmO9KoqLUh5XlSWPTgKPMv3qzDBOK5mswPbdkbeo6pTQ0VbHNgIs6ioNvPlYe6AbXQDFb5jbI0xQLCd9OiCRSNfTtkaC4vucUF0DYzmIFbb9j3KVi9H5lyeWfsJs0gYNHLzEvZ/K+HFTgLPqtXQQI7DQC3viZbRccwpnKVLy8kbra0ba4r/g99XAB1J49Dva9r4Q1OI09k4mBsYem73FzidIwN0xpZaZE2jUp0OKk8Pb0x04baRDgiXJovPDy1OJavQs7kaJ5G5pUdxpEHM+L+2aJeCmr6WXlzcua4mm7FIrwP8U323nKYq08i0fWfWTqsqfMNENo4tO2VZD7hwF89mRPX0zRsW2nwY59J2ji7u1P1I92Rg4A+ekDq4una0s1+qql2dOUFNYK9zJAuQG4o0q4wtPJEUes8t+1LV33wA5sZOqEVDbJFjLDgyhxqGtKUJp697A6wZm+24Wvv/2XvTWMsSutz7WfO0hzNVVVd3M0g33Msk4oAgcIHrwCtggrMxxm+K0S8GI6jxgxFE4xCHmDjFASUxRkUUh6BGNHDFecBGZWigu2s+4z57WPNab37/dU6/fXm7oYbTXU13raRSdeqcs/Ya9l7rWc//GZxALx8/Q7dNTz/I8vGDMIZENy2axmQtZvxAy1eWg8mDDufR6MEGGqhMpBxm8sgyTb70S5U85zkncvniuotU5kZ6xI83hNHxn/7pn5pBgixAoqkYBaOVwyRxLZMPAOC73vUuA1xXsxwDQAAtcVonuXCuvu/7vs90f5//+Z+vP/iDP7AUCqY9b3rTm+wz88u//MtP6Bo4juctAHiS76on8Lr4QAACr2bBNMFTGyNSRr2MEK7lQvFIr8HTKfEGn2qMuJptut6fOdYsMgph3EuY87U++V7ra3dtq0vve5/+z+/8jsURADyN9WNcxMoYpR7Vq1kEi+vqw5/4kM5fvs9uXG0cKOs8lQX5fpUO21rj3lMYESnBLC5Q1jqma7N+XQ8w6Ony9hWtndq0m2bso+fD5DCwfKbfs97cbsjn42s6Z9FBVUNALqYQxOvDndOTn6aWMYix495Lu7q8u1Ti9RrHgUry6mCc+lZF3VlP7hkXp2ZhtXAN7CMaxLaWG3iq8so0h0EAcOmVVoABTxfLRi7sYRqr5YbrAiDRwGEW6XQ6im0kTV9vHXiKWmnVDvpD9s9pXTMJAB6poWtxJ3vSapnbWHs0HinKCxv3Fox1W6JQ2iEipayUcryJUskY4bVmhunKldXpwfL5Ka7fztg2uiHyZa1cvdbTUG7dWAcw2YZo40raTXrH9p/uZYtpCQmDZvzemrZwng/Gk7EPIIH1wnqBq9hVvqrN/DAdx+bE9TDteMPvlkeOb3Mpl63iAFYn1CyL9JGtDZ0/lWrnYKn95ULTNNLWeKSioj5wAEJznNBVqxQdoguLSEuII8frVeaEenuKU+rmhvo7zlPsVPLrkYJ6S5NwqotXagtjhoXbWA9InpHjDll9h4uhfg1tH05dnnl4dohxMcPA8rNH8UPk+o1SaWMaDDIEQH+eKwgSbe8TS+To7KgkO+jgAAAgAElEQVSyyjeyCyO31XPHB7prXIjPljXfYBjqe6vsQ2vpYiQKY8s7tBuj49hnaNHhXPftODw/O6tXbD1bAUy2lRcPEgHT93meZgcHlqV59ilPGVpFeC0+sxYIXgy1jCDf46oRQO9znqPRy19u+Z0ntaCVJocUpu4kln/5l3/R13zN1whgyXHBoIac51rzWAGA1K/x8Mw1DYD6tre9za6pD7ccA0AMKABRHrx/8Ad/8IYmQMe9vgC/b/iGb7B0B/aHcTmTHRhA3M6Av7/7u7+zz85JsI0ncR4ejXXcAoCPxlF9Aq7zagAgN1SePHkyRDMCYDrJEemxFu/Lv/zLH/UPJfvCRQ6BMBq/8+fPW1TAo838lfv7+sQ736nVhQsWTvq0Zz3LBP8AggdZQLRDMHDcyNJUH/zPf9B+fmAhxG4UWu7bslhpzui3b7U5WbebOCwGrRwJbFs5sFF+WVvbAtl/2/lct6Vjq7sq6d/F0JBjmIitjgyQ4SDlIyaDQZY5aIcmBO5pTokbltFxYOCM0dqlvbnuW+ZyMXmEruZlozYMNIkiC4vmkSLsWq0WKzNexNOxUjo5O0c9wIAcQYKacQMb4+Mo8hgFOgbgxhge0Jt5via+axEm3MIJdSYFZpmjH/S0Sd4b417AJcRn2aik1zd21ZYEUBM7k8rHPIHRggDgAgarMm0dLFzSOCq93owiNVE2XqQo8eUhSLP9cdTUpToY0ChUXSDydy28N6GOjXBle71KhxglglDjLFINYIKmdV3Nm0pNSYB0IqjY3mnkWu8vDSW+uiZHHqjZolQWkkdnNKD1MgPG8rLUsmoMwGdpoBbNm+fa7yys7L5Xu55pezLVfVtrOpyiG2zVVJ2WFdEsqS7uEhTuam0UyQ9p0CjtRth2jeZzDEZUROMSh/UdmDovSdV2kTWkrFORt59o4p5SCnMbOBbYjBuYbL4Ll2pj8NamOKcJZsZ93CoKAm3v1lrmvdYnro1yrQvZzBuu8rIzAwcAlBBvAGMWUsnXKKeWEA0nK5an7SqxjL/PyQ70v7d21fQDoDdJA8cVfR6fF1hKWD4kD2Y8kjGBdh5hYTk3jmvA7y53PIxy43jI5jsCk5Z9uVjo4PBQpe/rtjNnhjsAvcp8bnFz02gznQ6AkO3Y2ND4la9UdPvtJ363gMkCBL7whS88kXXz0P1d3/VdBpBu5OH3z/7sz2zEjHSG7XvrW99qEyJC9h8uBQISgdemgg5T3G/91m/pF3/xF82Qd7Wh/J96AI4zAN/97nfrzW9+s9VtMpYGWPJviAqMIb/yK79iciOuMVfb3nQiB/sxXsktAPgYH/DP1pfjg3OcL/Wp+8BTFQAJKz36PmJdEBGf9HKsxaMd4ySB5UO3k33hAsrF56H7wkXnBS94wYO1dCe9b6xv/z//Uxf/5m+s0YHbGGD6KXfc8WCsjI0TcbIeVaEhUL/nP/9RZV3a2JCbG6zSfLnQom819gJzZyJyb5NIPpEiQaCCHDozfiCUjyyUmBvn/s6Obj9zuwpaNGD10NP5gZa+FODaxRySpCrIgyvMhqBgNFbVDXomC8WNE/VNrYP5QueuHNjNPWMMWVc67HqlfqCEBgX0dlGgENcwt2qH1ghaMsjqi+UEshF0SHix42u3yrVmrx8qd8lLa814YV3BjTT1Yd4qNWmkiYU7SzlRNoGjxbyQ7zqmgcsYY/eOijg0Y0ZBG0kSGwPqtcS0oOdDS9gPLRkGvhtlrq8+CSzAmjEwppvlsrRoFicNDKQDYlzMG6vSomogwzLYyxanbiLPbVXC2AL+oli75TAKp7/XI8evyc2dTfQMUSmAnK1xNkSxWMFIa2Pvsu4szNrKVMjtU2gja3IBAa+wfof5iohHZXGqehxpO0l0aS3SpbWRLhWuyrLRHeuA1CETD4c4bCumDoBgGvs6mBeKA19h2Jsrm/MzWMBlLluiYdbWyBKUfCdQ2E3lzzOVq0RV7ei2U47y0lEMCCa+juNuII5WDt90f4x7x+nw/SMDu+n4zl2q7OvNqacoGrIavb5V0PU6zDutak+xy3i8t9o9ry01irCPOCo74Kv0RWvbemq8kDVSc1wwFQWx5jDAnAfH1aj3NG9yA2s8JY2cUEvez31nn6eteKL/59TztNb7w1iXDQUEwgryVAUIPPp6d3vbNJln7rxz0ACyA5ZdE1i1orXzJInGL3mJRi96kQHBR2OB/UMvfa0M3SNtyx//8R8bU8fo9yQXJkVkpjJyfeMb33hVq/6qr/oqu84Q4Hw9yzEDiMGO1/yTP/kTA6E/8AM/YM5pxs2Mu/m53/zN37zFAF7PQb71O0+8I/BIAJAxLx8gwCGiWZxUN/KU+OmOHB9KjBHQ9ddarXY1ZwRdCOJpxg3sC46343153/veZ8B2a2vralZ1TT8DS3DuPe/R7pE2BnBBrMnHPvQhq2Ybr68P0S5laTVvXppavMs9n7zHRrCgg8gD0Kw0mx+aLm5jsmYAwkTs3LdsHCaVASwgDRPDmKsMPXm4W3tpf3ao7PSGAsuVY2QcGcByjzpPoyRTTQguY0GYkWw0RGMABdHrJYnKg5k+fnlP55eFkjBUEvrGcAFXGBMvcwKKpbXQtU5gAFYe+vJWsEydvCTWvG+Veq6xvBbhRx6a5xggccNApwLXRp0rsvFcz5jOAnfvKDN2x6JSAld+USjvZFo6QqsR92MIiT0pKiuV9OAGgZaMez3YqEhR2SjoHa1imC/0gI1G2UhesRLy/Rr2J0jUUFlGp3Cea4XpNnGV4aCleQJ3sVtrlg8j2lNpptrpTHcX9J1KwBSZfH2viOOD1jJ0bKQKSML44IXkFqLfcxQHrsWxwFK5AFEq0opSeUVUSmjgmvdM6ITqnF4HrqsLcajDU5H+A8JqPNF4ksn1QqGlYyxK1d/F/QOFFN9vJCrKltRCc1eXRafcCOdWaeyZkYPqN47RsQGHRhPXHylfbShzpzpLf7R1PGP5boW34nAxjI+31lqVzWDMYKTbNK5WRWehzVS3be+1ylJHWewZDqOtpKlaRW6nc/sD4NwKSwVurdZqS3obye/VoVZtoJFfmkua92DkdTobr/SiyZ5JASxjj7xMd2jusNYR3ltdp6ai/cQdMhA5F16gebWyBzDY2BdsPUP/a3qXvcdgDDtadXgnY/ww5vVI5wcIXK0EAGyTRKeoTwTcwTJyAMjlrGuFd9yhtVe/Wj6f50dxgaljrMnI9CQWKtHe/va3WzD9SS9Mc5AJ/cIv/MJVrfpHfuRH9I53vMOu0zeyAD4BfTRQMdVhzM02sK+MhX/2Z3/WTH/HgPFGXuvx/Lu3GMDH89l5HG3bpwJALjCwZGTh8RSHK+yx0ErgIEM7cpIMI6Nl2EuYP/QmaFI+lfb/27/9W9tPAO5JLqtLl3T+Pe9RdRTpQjyEhcZ2nTGAtz/lKTJ1EDcZHLXjse796H/o/M45c48C1IKq0cHswAKCR3GiaZwYK9fROEB/aBCqshwNxzSCoRcYc0TuGfo4vL6YRnYvXNTWZGL6PvR8/WI5ZAYCOrNMDR3A5J9xo00SVSXWhWF0mTi+PnHuorb3D7Xqep3xyYcrrcM3oiZOgVYdYbiulvOVvVfItiO+hLqzWJ720NsUuaZxZM7aJghEvDB6s6Id2EMyAhmnsc6JXOVtpaVPb6ynVUtrRaeph2FlAEul26op6MjtlY1G1oJh7R5UlTW9SkZ/oadFWVsbRhiHihk7M+FGN9g5KnH+Bp7G2dhGz72B6NaCqg8ZYYeemnqI8BgxXvY6Y6zYL9ix/XKoVssw36AZdGCXpLIg5gX3M9kmKAQ9+QGZfaEZdgidCZ1KB/lKCcecSj2csfIGM05d6zAvtMRJeueazkeBdgEXSaDDYqXVsjM2LRmtqShrZZGnoCfaZGE6QBi8Vd6qLHqFca9x4hvgtCGqJy0X7ZC5h6s2JD9wiN+Jk3W53W1yytsVO50Od7bNnZulHKMhu48xscWw0MO7Gnp2t9aH9WHcYCxclJ4xhDxfrKe1FgXh0I1iNUY0MjLHoZz5rS4UiUKn09QvFfu8JxwzOwVurytlrKr3NfULvWz9nJ6W1Fr09QDQHFdZ72lxxK4CzDB+rGiVgUk/ejCxzmk+I8TBBJFeMnmanj25Y9D6obcFFB63c8D4HWsA+U++7zi6cumSnKLQxtaW3MnkaBwt0wCOXvxiZc973kleOh5xXUhXmJaclIsVPRwP3rhjT3JhrMs19du//dste+9qlq/7uq8zbTmxXDe6EOAPoEQPyGcJ1hSj4g//8A/r9a9//RMe/NnDTG+89q3l1hH49EeAtwlACU0ET5h8eGDI0PmdRPPF1R5/wpHRtpyEK4x9YlzCUyDrw6n8SOXpCIIxsxD/chKLtaH8/d/r4nvfa4n/n5rth2vwgYsXtTWdajQhesO3MOd77v2gLu1fHvL5ABN1o9nsQGGaaOKHNj7Na8pYQxvTRkGkfPB72njYvvYlF1U9zGAUWTMF88Pd3R2dPnOb1acRpgb4w4TAz/ZlOcwcs1RhObQh9LAnUaTVYa5P7u6o4L7oos3rtcxzZVmizHGtroyeWYKJParT5Gjmo8XqjNE0pgRwC7hsOh3Urc54nrLQ0wrIA8Dres1x4Upaj2C9GjsmKcxMUalA/xV7WsyXCnx6YGNFgNumURFHynPiVEplGeNexxjRnjw92B9MBo5nWXEiJJr8P8Kce0a2nRLPU7XqVLiOIsaVXWNMlO+QDVhoiVu4d5VEvpYOmYOeXI86OGILG3mBp3JZGpiIQ880ga0Di1mq89CyFfSZaG0aG3AEABL1kjel6nIAG9Sdle2g1yzGsXbiSJeSRFfWEl0ocuVlrc3xRGvjxMwVvdcqDFNtzwvNV7WmaW/5hhgeAGOcy7amRo/uXFeH89Y0ciTPxDCmFhXjWO/x3gHp2qG2Jqe0nt0lD+hNpE4x13xW6XDRaGsjMDDpErhNV3DIunueZRSGneXxod8zA0gC+0dYXyuvLTRrYi27SIFarQUrFV2g0GuVsM8A8M5X1bpaDxtdLGJlXqPUaxQD7skw7F2d6S/ppbfVcj3yETErDfo+Plsw0LyHGOvGXqh5lQ+Ze7iA47EWzVB7yPtwvff1mrX/oa3RhjF9NsY9An4YnACChDQz1rUqtyNXOD93+cIFM/QAAMn4swq3u+/WGpplmj4eo4UHcx6wYNZOYvmpn/op0+n97u/+7g2tjnYNRrhcR6nMRANI2xGjZQiE7//+7zcpEaNXlp/5mZ+xB/LnPve5du+B+fuxH/sx/f7v/76ZUk5q4frPwzY6RHTedr5NIjCwz0/k5RYAfCKf3RPct+PeXi4uSZLYOPTRNkQ83Oaf1CgWrQeiX56U2ZfPFFHDWIDoAyIebnSpl0udQxB94cKgRUIvBKAiGwyWJUksIuL+T3zCgOnGHXdoubut/77vv7TCpYjBYb6wmidYwGw6MRcrY7nGOTZr9PIdz+rOGIGB6WA1a0KKqS4jKiRJ7GszMUjayXOtk2/Hvd935WdjtWXBVHLooYUZJBKjpRPYVT8vdP+Fbc3oDY5DTdHwddKK6ZgfaLEidiZShMPBjB29GswbVakEfWEcaOGGihDxuUSd4Oj05KN1YywauNoCTDHyZAzquloWjWUZTkeJ6fXQ8wEp42Jl+jqE+z1mCfR8sF+9FNe9ll6nyve1JIImiDVOfcVk1nmu2mSkPF+qaMj3ixSRjYfLFpMM5gukXG4vv210WBQWEA04za3Va2DzZoRmt60Sxsg9lWyAEWr0OlWtI/pCwsBTXg8mHDfy5BJGDVPmB+YupqYuoYkiZvRbyXUCYzEvda3OATbv2NS5caAixAU8tlH6clWqqCqtTVNduDI3gDnKYnlBpLKrB+d2VWg2o8u713RK24TZH+T6ACQwL5V1vUZjz1i/iH5dtIxoIeuxwn5L49HTdXEvtlq4UyMMO8ujWr9e88VKRYUEQbr9tGdOX37fAHXbqDjKIYzdUvslvcKOxn6lcdCo7gZDD9E/O1WsVQfrW2vDnatUIN/pFLro/ALlPUDQ00ZYaK9OlPitJn6pF2TnlOV7isbxYErh4cENrb+3s6ijVoGLexmdpFXFmGkGxtekAYx41evOYKJXTJ+hMB0N2Xw4dvlz7Og1RtFRyyj4yIBFFaM150i6eOWKIsfR2mhkrN/6q199XU0eN3p94brGNZoEgZNYcO/Cjv3qr/7qDa3um77pm8zUgZuY6y3NG295y1seHFXTyQuxgN6a5cd//MfNjQsoZH8AgoDE17zmNde9HceuXka8H/zgB/WGN7zh/6q3s3OJMehR0mde94Y/Sr94CwA+Sgf2ibZaRr5oQKDsAUI36+noRkex6PsAsTyBsi88YV7Nhx2NCE+IPKneyHKIs/jd736wtSOcTu3fHE9uXESnHDsF73/gAa1vbqrra/37vf+mkrt1WavKC9VFoWCcaSSAkWcgrUbPRysHrtwwtIgLj1A7zBlppgrzh8nxHBvhEhMzfC0lYaxL5+7XWjaWS86bH5nej1tbm8bKGsfGyjhoiT25eHmmC7v7yptGm2ls2jfLaKZ3tmyGXOrQ1yJfWt4g7GXtDTd0xrd7q0Je1et0gpheygNfk87Rqmu0aHqFoa8elo5+WUcaEbECuIyjIdut7hSQlxdIHUG+JuJHv1aa+YN8P9pAGFkSyEyX8Kpz5EdUnBXyiP4IfWWOp5J0QNNqNSpWjZqYkWRmgDJyQvntSsumNYA68SMddgRY039L1p6vltgX2hyE7q02/d40jQ3s4lrGnbsqapVVPeQZut2g//Niydq/AIJE77g6WCy1JCZnc6LtjUjnR5G6MIWM1IW9A/v7KWen5qgdHMC0jNQqAZOAy0mmVQFYh9AqhtYViKqj8Gwq1ly31+aUmJ+hIpCvi4JqNJ5HOm1kI7X5utb800qzifogNVMHwF/5vi5v19ahu7nm2Ri2yAtFSWggcvdgeAi4c1SpqHsb0frAXwwgna9V7WstKrRXxgrcViOf80vtHYypo9TtdbmKVXaeIqfW6bBU2dN3jYKBirpMuZNYaPULo0/qBekVqExt7+5o7cwZ9X2rzI0076rBMEU+YjLWqiUWZmjnQCdKD3XhtMN566WXrt+lLzx191CzWJZWy+YefRbN8AFLfWTqOK5wa9G/moMmlhtFuvDAA0rSVLd94Rdq7X/9r4EpvAkLjBoPjqQXnMTyPd/zPTYZ+emf/umTWN1NXccxs/frv/7rpvnj2v95n/d5Biph/7i3PZmWWwDwyXS2b3BfAU83C/gdbzp6DS5s1zqKhanh6RKqn6dPxr3XMromvJQ0+kfKrPpMh5ZR1KX3vlf799zzYJAzNw+rgyLjjVJUGDDqIKianUx0/0c/qlU1195yT20SqtzdV1GUFjGSbm6YxowRKs7PoXINfZVrOXmMe9E4MQZjTOtyY2OxIGLXuni5OcLcARi5OV7Z29V0Y0NZGFmY83ErQiJXNePDONTsyr5295Z2Q23CUPUqV9n0imHkCLtFV+ii7SoU5Lki11GOy1Xc3Add3cr1bMRZNjRc1FrzPU1hrNrawpRxK8/pfPU6Tcjbq1t5YWyjV79utOw7dWGkMh/q7GjfyBxfPgaLOFCB5q+mZzZUotacug1j465XUZdqiSDxAG616sQ3kMh/Ng4aPlf7MGLqtREBDhrVhFNjoCEDsChMnzaKY9MN9d5Q1YbvtBSO3l4Ljj0JMAn6R0wdEJzwTb0OVmTRdVqfjtQ4hllVZKkuBI3uiyOdS2KNJmPtHC4ssDlNzD5r41qm3IfLlfZnlZlRNyaJ8rwUSYCEZNd1ZMHKgdfZaNVMNTi4eY+0NJLwNR3CjGA7JZGrLBsMNV5PS8iGiv0N5YtI2TjUxuk11a0n3+vlNnPlC3IlAbUwJI5m81ZZ0MrvFsPY3GJrOpWtp/0K8NPrzmRpWj5CqTFlMNJdtrRq+DoT5TpoIoUebnOZ0aeEcVWo2K21345UdJ5oOV536er11TaVMnelZwb3a70tjOVjpk0G4zgbKY5TY0btJLuOMX9UGFp2JrwnwdtWNzhobRkJv/zM/9RTx6cfbOcAFALuDOjx2TmqaRs6+eh/rozR5jPN9xrC2CVdms915nWv09Me467yT732cK06ffr0NV8jH+kaBkuG1OdTa9w+0zXv8f59pEy4id/5zncaK4lp5hu/8Rv10pe+1LTeV0MMPN738TNt3y0A+JmO0K3vP3gE0GHcbMkoSfQAOHQkV7tgVME1xgeace/DZU59pnXxVM0Y4np0NfmVK7r/Xe9ScfnywMYxIjKXQWvMgs/dHNqEBcaIkVPT6P/8y/u1V+7LByzN5orcQN4ktTGTQ2gwej4MCYQOI4iPEpUQYdbh6yoIIwODFlPhIAuMBkciX3PTjyOFVGC1BBL7mh3MtIWzV52aNLb6NYuJaSvrdr3v/K61TvR+rxgwYWL4UHnoyVnk8oiiiUMbK+M0pSkCIEYG3loSaNVLqePK7zot+1YrBPrEzJSMa12NcWfWjF+pbZMWy8I6cqfra6a3A7HCWAXLXEvG0ARbM5JrqB5zlCJ+azuVjKoDZ4hpCT1tkdFH7AzrCFzVy1KLtjZwiQMBUwutIRyrnDgYc5o2mhe5Et9TFCfWbNJYzIunfFmZ7m9ED7JwGNO1S92cY/mA1MllsW9OXcbQkR9KDkNggFOk3STRvXK0uzaRc8fYmiho5Ei8TAfLpRbLWlmCE5yWFtYdqydCphyaN2jQgGns2yPNXgKTSPUb74vCdHkQv9MRgIwsQzp0eTBoTR9ICQbxK/OFFPdTTcJNbaabptcD88TjTJcOU+vNncSFUs3UwhZ2tdwWxtGxGJbEGyraKrYxwLXbqBVxOByVVnnr67CJ5butTscFMNUeWIhuKRRq3sYqel9n/UMt2kChQb/KGlgAikXrKnFrA4lV5ypzSz1vvKNnZnsa+7GxfGQmAspV8VDgW7i5mYQYpSMPIHs5JYKH99fwOwbsmkangkyvffoXawINewTuLNj5CNxZgPN8PujBeLjJsgfjjizjjwN2VPeWPPvZ+uTmptXA3Uhf7me6Dl3N9//pn/7JHpJPyrD2zd/8zZa7973f+71X8/KflT/zgQ98wMbNv/M7v2NRX8TEQBI80bWAtwDgZ+Xb9eZs9OMBAB73Nl6NvoXQUSJqcI3xBMtF8Xqf6tDVMGa8Vmfdzj/+o668731Dth8OwyxTfeT4ZUxLfAcjYBZjAWltWC704XMf1gOz3QGwAShGY8WjzBg9GxcfjaRo6TAdISCyGHpqbRllcnDxwvIxqoxCM3J0/B6duV6onpEyYIcKt17avXxZ4+lEAb2kRyaRVeDpgfsu6uLe3BirbJoZyIJpVEAbRmli/hjmq5UmXS3H6bVAP+aGFuJ7sCoN4G5lmQEIOnszGKm61wE5dklgTQxsW+ThzkUP2aoAeDmeFmQSBlLG2JVRp5laqBAbxoNpPOT2ueyXH6mtC3MiI0FzaqkiTDkMrNuXjtyAUXjXa6+s7DhMJ6kqOo6tGs0xtrOuGkVRoApTBjrKMDQ2s6KCrKvMUX2Im9kN7PUJW7bRu+tZdAwRMoCdKIm1Hbg6WE91eGpL58YwYK0mbqbLe3sGkjfGI2UJOXv4e9H9ebq4e2DauY21wMwUeH9h8gg/bBt3aCMZx5otCd3ulAZE85RDDA2h3Z2jg8Ph/E7XGF8O4DmEiWyJbKFWcKLbtmJt79VKYk9R6ikeTQyoEWIdlLs6d9TDux7mij0ihZAbAPMcHdahMXkTdyXXR3sJKCQuBvjsC1+1p1aFAh02VMGV2vIX1ngCmgeS1o2v/Tq0M3omXFh/MBwghhDo0aYPtGo9nY5W+pLJBWW4hMPYjpU9NKE77aXZ/r42Tm0NhqK6UUPMT0fAdTWEMbu+nAi2lz+e7lo7q1eMn66gaYfPx2TyoDGEHeAzZ5pcTB9xPNS28TWO9vF4eIiilztJtPaylyl91rMsPgRJyWfSEz/aV2+mJMhbTiqy6nWve50AgTCBT8QFORAJEHQf/9Iv/ZJlAxICTe7rLQD4RDzjt/bpuo7A4wEAwsQxugXQPdLCiIcWDSh+RsUkz99ocDS6QdZ7tdla9WKhc3/8x1p88pMD6DxqbTD2gRvHkfPVYlaOjSBFofnyUB/8+Ac1Wx6q2p8poC1ia3PIgLMuXldOlqpZDuDOOnuTVHWRH1WwudbkURWI9IcIl6yDmSJk2FEXhRqZlLC0Rg6W2GJiam3P9jUdjZWR99e1ury9p/2dQ/I4bARdz8kA7BSmqdo0k9NQQUbbRqW27pTReU/uoONq0w3U9LUOrXOYRDly7UqlYajMquxc1W6vsKw0oxLNDzVJIxPps81p78qvWy04NpGnYllYAwmZeBhIYN3aOLJmASrKRqGvdc9VhaGZ/WpgoFq5TatR4GrWDADKxpDO4BSNwlTLBlarNbAH+GzphXU9Y0FxrVZ9qTVcxJhWHN+MKdSC2djU9VTUlQraVQCYaPecRntppNl0qg/1pe7zPJ09fUauHw21Z4DQaqVVuUJqpvXRSOf3djUKEyWRp85pTcvXAY5qabkku47oGYwbnCviVkIRllICXmqyBZcq815+RDwOWoAh187pHdVtr+IwkdeN9dRT63LqsTm1Pb/XKsfAQWSNdPrMWKs6UujUCqpDqVxYBAsmFbL1LuaJ6fmmUTlUwLmkIoK/ehvV1oq04R31UsNGkynYNwOT19CGwvjXNcCIi3c9qFRTe2eTWuJ4fO3Vka3zjD9XDRQG8Du17kp29VR/V5kfq/Ix5eAF5/j7iupOB/lCq7rSdH1dYy/SohnkDQC2ENY4jLQs86M2k06fG53Vs5w1mxRHWSaG7AR5B2mqcH19AIJ8Ph+i+zOnPoHOPJBx4jDEP+c52nj1q81MxUJSANel65kwXNcF+RF+CZ00kw6YrOZobxwAACAASURBVJNYXvnKVxr7h4njibLQVoWmnYkSEWDIgzC6YEz56q/+anMZX4tE6LP1uNxiAD9bz9xN2G40TxaXcBMXRrkwYNDzn7pw06NiCNaPrknA2kk5lYkKQAN5Nen6hx/5iIE/QBpLNJ2qxjlo7kNvYAGPdEMeAnJjLWpdme/qv859TPP5oYnxce36GB2S1EbGuBWN7aNyDQYEQwSOThvNy/povaIYXIk4i5NoyKtjegpwNMcqHaWMcV35q9yctBVGCdfR4aXLGo8nmvme7ju/Y0yWG+D8bdVaXiDgKpGfF0oho4JBs4X2Lm9qHVJB5vlaz2IzTMQ4cNvWwpgPXWkSDGweOWtEeABo8R+nXqDZcmGRLNk4U+yGavvGgIG3WGmBtiz27PWNRQ0ipbhLAXNH1V2rgm11NI1Ca+oAhIZ9ba8HhprA4jiNAnKzyUHxYxvhDSHVnfK8khd5GnGTh8mj5YRRa1HZ6DVJfIUB8Sj8f2gArepaM4es1tb1SV/a3xipZlwduqpgCU3jl+n8wZzkPj1lPVVRwRrSPZwYcFnmjFE5Jq6qsrfXICOP03uQD5VpPdSrVcU5cpLQNJrErHgA7NlKTTU0aRAVw/NFSByQl8lr1+RUa4oCX8tlp9m8U5aQx+eqoYwZgBR4OtS65m0iv680qc+rbH2FHnmR7OUwmMWgwcj3UpkpcyuNnKW8vrGqNo4jDSg7Fa0zrk6H1OkNzTAwgFSpLVvX4l0iF1+6fzTerZR55Ov5Q1BR36nuPe01g37wWdlML51eUkTzDN3U6P0sdmXQlJpmVr3KqtJqdmjxK7B5JlPhvU4UT1ObZo+zHKWZXrZ2lz5ndMpiYvi9fLlUuVyqIHcRYxUPOHGseHNToT/kXcL8Gxg8Gg/Ty73+qlcpe/az/69LEIACp+pJRFTdyCWWpASMDSeRlco+0ymMAeS1r33tjWzW4+J3jxk92qQODw+t7el5z3uevuzLvkwwnU/k2reHOwG3AODj4m352bERjwcAyNMa28GF9qELkSiAw/l8bowfXcQnaViBUWTdjAUeaeFGePmv/koH99wzNAHg6kU0DnvAOBI34ZHQCiDtA0rmc/v+vZc+of+6eK/6w6WSONZ4c0v7s30zPSRZqmA8Vk3lG5QJkSxxoq6uLJwXswbs1KDvqy0KJWaCRn1f15p5I7K2idBq3Bxy9cgAREPY0KJAVEyvg8O5Lu4vtdg/NGOEP12TKmqyXHVeoLL3LIg58x2tmkbrnWuuXlg6jBFo1faL0toopnFoY11MHxl1b0Wlg6YzlyrCNtzEuIMTRP91oTpk9AdDhHZRGiNqxLzh+fKo/0Lr1XU6naV2Q6+pkSPmhpDouhbFg2XbqPQxM6CrHMT/hMjUTq/VYmGMT7a+Poz3XLRxjFN7lW0luCegSM8+eUTzoAXr1THG9qSDghF+r2Rrqr0s0u4o0t76WBdVa14ubaB5arSh2WqllODfdKLKqc3okrqx9g8OdLBcaRQHSjI6g2F+h+y9FaYMenKpKAEHQW960qocxqC4oXEsOwJgcfpbbcRkcgK+KKt3VK1S1flIp8cbipyRWbsHv49jo+Q8b5R4BEf7ajpHo6jXxjRT66UGeP36UFeWnlYdXdK51tyl6j6Q11cGNMvWUdX6xtgBBPeqWCO/VupVgxnCt7hy02leNAOIo9PhyoD00M7bGXZbtaGWrafENY+6ut41UEitmzXN9bSB9Hpedklno6WN0ZPWsWNss+Ug0NhlHZW952wsm1eqyLicjoaxMPl+YaZ5nduDFNsy9WO9dny31oPUOnnNEXyU4WdjY5pZqmoAhfy9v2/9szXMYBwrItOPGrdnPEO3f9VXCff+py4AL64PmMVu5kKMyote9KITaUsCMCF7IQPwZS972c3crRN9bRzA7BdA8Mm83AKAT+azf437/ngAgLh4AXvHQIxgapLv77//ftP4YdKg7uukF0YGu7u7+vzP//yHXfXq/Hmd+8M/VLm7a98PJ5MHHb7cYGjwgPUzUBoENkYFyJBD9i8f+Vedv3xeURBolGUK4kROVWp5MDPWZ7K+IefIxdsBlCBBStihXm0Wmy4OdINaDWaPzlMYwxYMyuizYeQ5AEHYO/RbLUyXN4RJw4bct3uoC5e2jWny41DFfKWR0yuJE9PixaZ5kvaKSqsGABKpRksnaUpER9vrwOkVO+jxe5W9oyhEE4YLdmA+o6LUblmqjQJr+wDAID7MuEfXvWZ+qNBvlS9zOaGvDTeQ2tJcwzRxlHmrVVNqw5hRTw2dwE6juqpVgJk6V2Hqqc4ZU7rWSwyTaCaRKFJVAkAYF7NdsGVDvRn1aKsKEEG1Gk7a0phPAOZu6mgHdmuU6f4k0OWmVRqFOsX5ZVCM01qO5nWheV5oa7KuMBrZ98gt7JqFVjmgojTWbj4fmDEq1mD6BofwUPOGKaNqeq2vOVqVvf3b50EiwKyCLs1R1y3V553SMNEkHinoMgXtmkI/Nu3lxcuNxb7ctkZ44ZDdTewM+jzA3bILtJE5mntn5atS3M4VFVess5nzEXmtLuU0a3gaeaWmjGoN6POubpR3oZk7fKc308eiwbxRahox/ocxhIGjG9jRpSo1RLjp4RJmND20ZuAgnjdo+wLLAwQhNnKVuq1uDxf6gsm2nT9yFB0eIuiZZnReFPK9wLIvLbbH+nqplSu0OpxpMh4PZg2YPyhUgJ2ks9FE/3vjWWYM4f8sxw9CFVPHcdjvcXXbEXto3dZhqHxvT2VR2MNH+/znK7/jDjvnMEcAPVg2/qaakow72LJHCpM/6WvSw62PbQMA4mRlCnKjC9cYHqbf//73f9qH3xt9nZv1+0x1YAJ5UEcmxN9MZG5UMnSz9udaX/cWALzWI/Yk/nnAFhfjm7kcAzHaQBDuos3jYozm5SRGHo+0bwiEL168+GBS/PHPMZLc+du/1d6//utR9dRg0LDC+IeGPDOGIu5lNFJ3JCjfn8/09x//d9WzA2U0bIxGYrzEjQ693rKqDQDEMeG5TL6GyjXy+2D9AB5Z7w7RJnEkr4KRQZhfqE9iM4REEZlqgwEFsEfoMGHRjFYh2Q576dylPRvjVdSu+ZExThYx5wUGIGnzcLrSmjCSqlHRSXt1pZh6tDRW2xOTUitCd1d3Wnq+5fMBFBm3prhga7p3e6WYB/LaIlPG49jGg53rKe5726953SoIfcWup8qaGzwDSNSiuW1jxo4rOQ0nvkajyOI+bCQehcZKVkWpMI3kE/9x1G1rgdgOPb2FfLfXwbKwOryEXJrOMfcu477DutJ5x1E+zpTftqkHIk9eEpl2cNWgNSw0ClLtzAf9JfsVh+TXAVA8RdFIlxe5mtrRWlapKolNGhjFrqX/dwCdhDXP5oRke4pMpEYMDSh6CGSeH4LCHTlpLNeP5YaetXg4S8kpx/Kbqe7YmGhvH9bQURp2FtJNzAsRM1TKbVewYY3uiOem8XNhGwG74UTLLtaq9bXentfB0jEgF9ofAJyvmv7ho3EvI92pV2gStsYcwqL6bqdZHWjZ+oqcVkEPUzaM9dEQOmQrcly7IRtyu87MSLPur0yDiSbBQC81ck2svAu05ld6UXqvNv2FmS4yJ1BB7iRvUrScvJedQCujlQdwNwoSYwLJKK2qUutrG/Kr2lzr5or2XD1/dLtecfp/ysGkAjsIY3jExlt8y7GBKgxN22dVjLTu0PTB61BVeOqUtr7syxRsbtpDF68HaDj+wwMpoIHrI5pjNICAwpMAYNd6reUhHSYS1+5JjDPZp42NDdNUX43x7lq392b9PJOkn/u5n7NYMI4ToP34D9rJJ1rkzSMd51sA8Ga9Az8LX/fxAAABYtS3waLw9AaNT+zCSY57H+7UADZ5XXqIjxfYvvN/+IeC/WMJAHeEyOL4PdL+tdxU0KQRbYJQCxDddfrIfR/Tf997j9IkUgrjR+sESbxEw8CW0Ie7s6embZVtbpjrlbGtxbpYeG1nTR9Ue1nNGz26MClo+6razA+8Jl28XkENGUFrRIUMYb9F1ejD53d0sDPT2PfkZ7EBTzgDWMa91rF1jkLX+mozq0+ju5YtkEa+p11q3cJQ0xhY1ltN26Rjapxrp+s1zkgQdNQ4rTGDQdMZM1jTMuE4WmDQ8AKN3Ma6ivl/v/d0UJTmFt6K6Wxl7OdaJ3AJy8fIMwDslXJMwxaaEQabK8cNN/OMppO+0Xo2JlTEwBFHDs1eUxHlMpgkSG8rJ5mWW6keSD3tJoHiaKz7dy6pblvdsbEpz6EJYgDObOOyXGnVFDoz2tSV/blp6ILQVR9ImE3VN7b/ZclrkvcHoOrNIQwAA+DlFTCL3mJZTE4c+Qoj4lNgBF0DDoW/pqrBqBDLPTyQm5Nvh/Cyt5aLpsXQ0ijsChUtDudaiVMawCQUmhiWtgu0V0XWrHLnOn3PALFeXpNbxM68ZoTu6lS0MkdvSn6gSwMJWkdXTecr8ipdKTM752t+qcSDtWY7ME702qtDY/KIa6GejU7eyGkMJNLwwcNB1QEoO12uUlP7rQelAUeMQYxh74qXek66LY/mFIxOYDyfAO8BtIEBeaiiQYbPB/+mohB9H0AwLys1daXxaKyObmeOU1nqC8d36vkbT7McTDs5rM8ac45CnXmq4oGLRh2kGVQfTnBHLwa9ru9r+uIXa/1lLxse6h5hgXUDDBIWT/QKgHC5XBqLBBA8/sMD6qMxnXjoZnFNxATyqle96kSuiTQmEX7P9AMg+ERYODff8i3fon//938XBhdIjWMwz/4S94We84nuAOZc3gKAT4R39GO0D3xQAIE3a8GFzIeWixGBzPw5iafcq9kfzCU8LX7JUcjr3j//s3b/4R8eBHvGaByxfNbbC+Q4MoGg3yPgmZsMOsIPXfy49rbPKR2PbNQZZxNVxWpwLsKy+aHpkRbLhYU8n0ky01k1hOPBCDLSVa8ipE6MmzaMBbEbQ90aoMsPEzXLuTF4phkcj9XOZqYh++Rsqb1Vpboq5Ee+8lVpzCHsTBtGSpvWsgavHPXcruPOJWOu75WyCW2rhePZv9EY0pgR4C72AxUNER4yELpbtuojz/SAgC/cyVFdWR7g0nE19n3NVwvLtRs7nhofw0FncSuLolJeNhaGHEahPHNAe6oAUXWtou00SmLljLR9R4k5qzkG6Op6M44Atrj3Wxhz1ylPMs1SR58MXH3Ec7V221ntLxfmgka35/mEU4PiOvWdp/MH2za6fOrmGdXoJD0pdH3tLmda5LVFirgRjRqOosiX1xfqKly1GBA6LZe9ZemFAbV3jJp921Z+L696FaWrUcK2EWkyVKel4Sl52pDbbBg7emWbOjfJ65dK+tUwevWGho2DItSy9qwOzWfUztjdbex7ALiiw1Diq45Pa94livuV1pqL5tg+btZYNKHmTWgPBgQzk8dnTJ5LLV+vqoPN8zT2a10sU1L+NPEKY3hL3NCM9zHbaKJVRzdzrcxDr+krcjt5Dr3JsLk8rHgGUq80I4t52QoLffHkgkbBYFxyu1ZJ72sJeDyKWcmCWCQIouc0LSHO34bavNwAMe97N69tBJ+ivaPlRq6+4vRz9bS1s0Og89G6vNFI1DBa/zSf0ZgGGzIycesMDwVmGOFhajTS6de+VslVtmkcM2+veMUrzDTCtZLP+kOZQsAZ4OKhoJDphbXYnNACuCGOBmBzEgsPvcddvI82eD2J7b2adSAZwvhBXiJ/P5mXWwDwyXz2r3HfbxYA5MLMhQgnLlobLraMOB7LhaR4TCYvfsELdOHd79bi4x8fWL+jcFjTDJEnliRyjgXmR6HOsAnlaqULly/r4+c+Ike1Yj9Ql0QKGdtZo4SrPgwUlrXl7RFqS5tGV7WWzYeTF3BnIcWQEYzXyCnhZxkV0udL72vgySEYmAJbUCjbhCisbbQzW+iBnZnCorap4z7hx2WjMI7Ukn2Gvg3JGSNX2D8cvE2tncaxiBJ6cnHNwhJaI0fdmAsXPd+iIatvCFQGZXLTTl1HO6vCRqybZBgCigFRXa9V3WpV5Uphc1xHpRsqdFvmi3LI/aP1IRiaM6iCG4+m6joMJsSeoFdzLFYmYTwK++dGQ38tjGAnla6vInH14arSNrVwd26pDQFhnbF5i3Kl/dXCmLlTkw0tipWSMLLQZnSZ6ADjKNDBItcyL5TFkYUnF20pp/PlR5GWuW8hyJFXDPmMcuQFw/7U9B7XjgG/g9nA0oZRK8/p1JGDx9iY9pA8lsqxbjt1Vq57ViFB1+1K/epQOaPy2lHq1bpSkInYay0slfhEqvDu6+0BYK/JLEZlK8zN8MApoJHET8dqnFh5HyhqZpotShWtp9QtNQ0rq1NDQ+c6tQ6qWMs2NFPPVrCyETGNIhEPBXLNtVu1rsZBZeNlWEU0gtS1tbxh0VC5nbbrxLYFIDjxSgOP/D9sIVmLfI84mM9LtvW52Z71WnPCjMVmbG8ZkLBxkhfFluHHZwMGju9j3qAeEPAH287+L4rc3r+co1GY6ktve64207Vh5GvaCdckDuRg8jmlvcPiXIyyldzx+MGf5TOcPuMZNvJFN3q1y9UwbzzAfioo5IGa0eNDQSHXuOvNKwVw8pD88pe//Go3/dP+HPmnOGRns9l1b9OJbMgJruSee+7Rt37rt9qonGN/zPQdlxw82tOkE9yVG17VLQB4w4fwybOCmwEAoeS5CPHaRL/A+JEFyJP2Y7mwHf/8rnfp6auVjUpZGOlavAs3FRiko3ES30PrByPIz+7s72s7X+jK7JzpkqgvY4zJGBAHLBo4AmkjtFNVYVl9NHSgxZvVhSaTsTl6aaTICcwg+gUXbzzk/7kEOjetwvFE/WJhNzmrVIsSGznPylIfvbCj+QINmy8/9o1RS5BE+aF2msbiLwKvV+14FupMW0dhY2UaGKTdsrLmjY04U0ObAh2rbSfiV3bVaS0lGgUiJVBGY0Zdaeb5CnBBy7V6tA3YPYCti+kBJtnVMi/lNr1Gk9hGpWyHEydq0H81nWkguXnDNiWBpxQzCMAaB6/n2iiTMbi3PtJBEmm2NtXeJNZlnzo4dG0x/RfaX6w0ThJtjqeWIweIAOxdPNjXvFrq9HRi3bwwhZhx6q7SolyqrMj4i3Qwr4dYkLi3MR79vdavi4FkRZ2atD6VhTYDonxAIIw5DRXsV+TqcEbeoKdpMlHUDVo+lw5cZ6xZldk+bTX3K69gEHs7D9gcAG3o8sZBY3l8qV+bAzd0pRxhIfjL9XWlTMxVe2ZEhdlEnoPJp1Cfz83Fi3lj4lfaJ2+vlzK/0dhGuvB6hET32iHcmVYOp7Ee3pUZQND5tWqdQDnMYutpLSh1pUoVqVGkXFnomJGDoGjPqbRTZ8M4WLU2wsJ6gBkLT9xcX5ztyPEL9ZbnJyVE8uBk5muLO3ItB3Jerob2lyhSDKMLE4j3w8whnTIy/7paq/ncgOLd67fptU9/kcKqHRo7HtLeYS9kusOhZYfv242fIPajSCY+w6de/WqNr4MVIo/yH/7hH66JeeP1AY4PBYX8m/8/NpccA0My6a4GmHCdIgbrJS95yYlcHsk2BCwhgbma1z+RF32UV8Ix+smf/Ekz83z3d3+3aciPzR8WXYRM4Ngc9Chvy81e/S0AeLPPwGfR6/OBgX17LBYujBg8SGln1IsAmadinnAZcXzpl37pY7EZ9hrNaqWP/97v6SN//de66+67TaTuIeCC6Tu+WABKjiIoLKAZd9lspp3dXeX1SrPFto1tuyS2GxQ3e5SCXRopIObD9USRFqYBy+tzvYHZOJxbWDCNA4Bg74i1cHChlsVgICDYl/ozM550tk1RQUxIo4/tzbUzm6ttOgVxqHlZWyNGEkUWsZJUpaKu0+WiUN712khh+QaGMcVt2bU2sh33jnK22UVKGNiIuGZcTZYeRpiyVhgEVvlWdp0Sbtx+pIW5cLlZ9zqwKJJOPlpEWKq6t7H2kviWslQUJcoCd9A1Urvauip7asFaJUGgRdEoxlWQelqEgfbjTPubY33MC3WllcZRqM0MU0xlo1siVgB3yyLXxniqfYKsPWkcZ6a7rGCFHJg7T/fvXJTTedpaz1Shn/QYo0dqHTqEhwy6sFrocFUpiQe3MgAW5zDwqWlcC23GezAdBwZmzTCB07cM1ecTxc5UkTItlr116E4yMgep66PJJNfBYa3DOlCgRlvh3BowAE2R06tSaCCKAzfyW+0UkTIf3V9h+9nyvnHJflzXTrduIOJUc87G/DC6vLsIIypaX0UXai3ItVfG8lyY2sbWiT4TIBs6rfabTDmgTQDBlY10YS9xFDMWZltY17q/1JUmMwdv6tEI0xig5KiEXa3tNrW2Ftb5krUrev54YQ5di0ZiVE7d2vE15WikO7R7wPIRzzLkRdrXcWSsHXILO5EBjGCn1XKps9GaXnfXF5n21aKW+HzCah/JMPj8WJYfr0sc07EW8CjXNDx1Sqe+4issCPp6FoAb7RE3OpngvDHGfSgoRFMIQHmo65h/P5xTlUkFhg1iYE5i+Yu/+At93/d9n12LP9tBkTn2Xdc0kpwnvibVAY0jgJv8RsAfYdBf//VffxKH73G/jlsA8HF/ih4/G/hYAEBeA6cvOg0qlWD9HprIzsURge5XfMVXPCYHZv7hD+vyn/+5Vru7tl3PeeELjTEwzRJVbkd9ocYIUnV29FR/ZXfXxqhVt9LFw4sCZtCikfiRqiK3US2u3cT1VcF2mQmktOaPihuX05mjtapqS/Rv62oIfSaehLy0/KjZI4YdcS3LzoTz7uC6vX97R5d2Z4qq2jqEdxmTFqUdy8ZPLBQ5tkYMnI5DVt+yLLRP2lwQKkmGUWiEvq+hso2fbZRizGgAh7A7rSrGsWTDhZG2lwt5VL4xUk5G1gTioVUkg7AEVHXWOey0vfUfEwfCmA5dYiJHe6tcretqExBqtWoAY1d7krYdVwdrsXbGsS7RG5xO5Ft9Gnr/xsDq+f0rBmBuX9+wMS9+WBy8BFofFiuVTakz0w3tLRaKYVlx8Hatirayyjna75b5oBkcT9BxDUxlECYWjlzUGB9qtavZEJkSUgHXG8vnuARFy1i+uvY1jcZaz9bllSPrVKZLeFE4WlSe1jNXVbBmOXaxSiX1zEBn26Hh63SljAxcpW6lzajUykg+2NhGRZ+YaxZWjoaOvKHBpNYkiym9VW9u51Llaqmdko6LXndGSzN7cDzRB8ImEgdDKwe6v50qMmCXOLWNl9EPUnnHSH7PRrqBAcFTBgQZ6QJ9cYN7xioWfaAzYa4rVWL6QY7RyO0smgcX8bq70BeMriiLXZXG/BqxZ60dh8VguCDJOhxKT4zpA8Dx3qDzd0HmHz/TNiItUp6vksaYI/3e/4hv0+eN7rTrhRk8CG6G5SO4+YidJ4LJXL2AcoLZjxzAsILrL36xNl/xik9r9PhMFxtGpIwWiV856YUHP0DgQ0EhjCOf5YcyhfwbAHj+/Hl9wRd8wYlsxjvf+U5zy9KY8dm+HI96kfK8/e1vNz0mDSBUhdICwr2F9ijA3y/+4i/aA/RjpTG/Wcf2FgC8WUf+s/B1H20AuL29beMLnjSJdXm4SiWYQXKuAIDXq5O5mkPP6PbyX/yFAIDmQOw6ffyTn9Szn/Us+3WE5Ob2PRolAWjo+N3b3dUszzUeZdo9uKj9xb66NJHTwJBFFlbsANSIZAlCM1G4R2xIwEg4cC2rjyV3XRXzhdbWpsPYCyexlRzQX+oqqBoLcSbvrwsGF/Gy7fVv5y5ZTy71ZFGMxqxSYi5dV7utlADsIs+2hfozQBtO37BqFPg0MbTyQl8TgBxaQ8ZtHePBRouu12Yaq3I6RW2vxJEKD21XL6wvDTEzK2JaCHQe3JaYUmqvV74qVLadTmWZShydvjfkw8lT3ldmHlk4jrZ7V6uNWKutqS6xDYQMe632D3MbOT/l9rMqAJGeq9hzlecHZjLBReo5vi7Mts3Ucfv6KdPiWSuIH2h7MdNhUSgO/IE1azsDM44HIyXVjNGpjZu39r1Jllj/8kASUbtWaLWshAJgOnWsuQPDCKRkFq3LbTKpGGvsRrqwR3OEdDouTEsHyGV7nWiiw36kZRPojK7oYFkZC0e4MtuCPo4KtsxvbdyL+WbdLzUOW9XdMPpmWzBvoNlLAzRta+rRUPaF/OpAfUOgD4xdr7z1NGti2847o5WBMtLx/L5V54Sat77p/WD5DurYRr+Rx58BCGJcCZxae3VsQI9mj7Ph0lg91o9bu6Tlw43NBAIQ3K1iyxOkt/dz023dlSztM91isMHwQB8vph+CCo/RIGYlRvNQqAC3upbnByZlQO7AYgwU6zEwaB5ifdHpZ2ltpzBWcOP0aWPKrSbxKM4Ftt6Aoj2hwWgzkh96hBn5nv7Kr1T29KdfzSXh0/4MIAKW7KRGr59pgwAnxwaTY2AIi37MCtJJDEvIePNGrpO/8Ru/IUDge9/73s+0SU+o7z8ZHMD2meqPlY9PqNN3a2cejSPAWwUh80kvPM0C/LiI0qVJoPMjXbS48P3lX/6ljYAfLVfa4mMf0yWq3ND3YTqYTFQdHOjj996ru5/9bGvw6PPcbjJoiNjWxeGhLl+5Ij8INBmn+vAD/61lubCbF32l3KDy0DN3LM0WxFgUHjdQMs18q5+qytx0ZbCFSRSr2Nm1qqr0ttPK5FnWGVoptHipy5gRz+tgyEBH97Htfc0O56YHREB/2LaKPRyqoVrXU1J1CrpSF9HztZ22xhOt2tJuhrhoGd3hgs0CtF4YK3xRTkGoL27kyAUswKaVyjzHDDmwnACX1gvkwJjVFTSZFstcgR8oCgPTjzXEoLiuahpB6lqjKJQfR1Y7l48S7Y5iPRCE2vakaRbpwu7Qg+yFALTeauGm8ZpWqrS3LKxy7vQo1bLKDWCGXqiOSJC6Vop5g2w4uoej0MBoWRdDnZrTaz5vzJ27PkGn9Yr6NwAAIABJREFUJ5m52kA5X+M4dRWNYs3mNLn0SqPKQDqKPEAIE8Z8gQN7bGC2mWemTcTDzDoKA06DEePiig7dRmcmxJok9n7yOirIch2UsL+ubk9yHdaAYcwSVO65ytmWjvq1VlcKYlh609LFDuaeIWLGSyY60ES5Yk3bXdWLmTl3aQom16914O0Yv/bKe1+zJhoAXLQ6inJBatCpbD1r6ADAnQ6XOqwjA3CMbYmagT3EMJK4nfab0MKgGfLeHq2UmyKkHZzHfaC8j2w9z0j29MLxBW1FkbV4MPJlpEuQs9dgHuosgoUFJnBOdqW1njTye8eOQeH2Ztywn4kyLdUMTCBOXz/Sa25/gW6Pplb/CBO/hqCfh7KmkYfrPc+H1wX78TXI/SibE3fvmde+Vn6Wncjl7KRHr9ezUQBAxr+wkbCDAETYw2OW8KGh1Vc7zv35n/95feADH9Af/dEfXc8mPa5+hwkODN8xKAYsH//hXsIfRsAcp1tB0I+rU3drYx4PR+CkASAXJy5YfCgJUAX8fabwVLbhPe95j4mtT7qsm8y+nb/+ay0+/GG7yVj21xHbQBfuRz/xCd19550DaKPmLU1V7O7a2KVAc7W5qarJ9eHzH1NDdYL1xjLOJZO3tREwDB7jLne1MhaQDDvMJF2+Us/P0hICi9bUplFbzA51x8aWZaB1caQgL60XNYe5ovwV/d7BShd29izyJZKjGffIVa5klCgnIsalbmvo0eUGOaJarW11QJRK4NlxJB8uqGtjV+Y4QzFDJJGNoEeAYN9VDluHuN73tThcGvuYTEfqYR8ZUjqt+rywQGZu9H5fW5gzfcZxEGnPl+aBp9kk0T2FdDnudPb02sDEBalcr1ZOd6/VroUWdl1j5GA8Hg5NF7HfaZRmOnewa5EzpydjuZ35i62Krmgqc/SiA8yiULNFbWHNQQDYAcgOJmqaL5YLDAe9ppNAtRkvPAUJoImvOV6YCVbKl4Q3+1pLRvLqkYIqU9J7mq08zUriTmptJbXV2AH6GOPSaYtz1ofxSqbab0dKnULr3bbVjVlVm9MbE7hfw6z1xhYua0a6AC/crjCr9AoPwczk8THYXks7hQktG4w6qdk7tBw/unZPBYWxsSwENIf0JfeebQ9jY3p9F13CHupUlBvLh2GFLg6A4KKNjN07E6x0SMuH1xkrGKPFtFo9mj8aLbvIImMYTZ92Z+bCZj285nPTHd2elAoDjD1H/b3mDh8Cna0nOBiClwF6je+Zg57BsBWOeP4A9I7YOh4E6jIfnLqOq1E20SvTp2otSO1zuLNc2kMKXcC2MD5+yAgYEwkPc2YMwZH+ildo48UvPlFNGyCUpAKaQG7mwrWUoGp60D81tBqmkD8cg4dmEx6HVj8cKPzRH/1Ra1l6xzvecTN364Ze+1j797a3vU0/8RM/oac+9an2Wee6d/yHh1mAH8fu27/9260i7snAAt5iAG/orfXk+uWTAoCshwsmrB+Aj4vV9GG6NR/p6P75n/+55fHxJHdSC6zf5T/5k8EReMT6HVdGcQOB9fvve+7R3c98poKItoxWezs7xlpO1ta0mSS6/+In9MmDi8bi4bKNwlgrT3JhJVxHUZya3s+C3SBAGM/m+dDh63sK/VBeWZlOqsmog2tMlzJanxog8wGU6J/61oDgrCj1nztLVVVuzRiMzMLOGYCXXGvVyFxfbkA4MOwSbJ6vZV0pAYREBAV3igNXo4hIk1Zp08uJQ+1Xpeqq1TSjTk0K28Z0ixwbF9OxS9Wcp7xoFMWhxk5todV0Blt+XdPoEmPqU+u6Pww1GyfyMyrNXHsdzBGrotT2wUqTcaittVRlzTiUZo1OO4u56rrS2mhDeb2U7ycWLDxJYmvzwBTgOq7u271ocSqb48RCsi35hv5bchPLoXGC1ypK3L2OuXFN9oguz5cW857MYCWpo2ySmuuW1gqnq9SuXDWrTFMvU5NPzPODA3ccMI7F+evYePRykajqAk2DUmlQq+k8y+rz40ylmxpjFreEA6+0ql1lQa31cOjXhZQE7B3WidWjwQCuh0OOHrmMfI96NSJYYPTS0UhX+k0lKjVp99TlB7bXOH75e6eJTad3Ovj/WD7WAdMHs4mLl+Erur6VAIKV1r2FjYzRZIaOjH2ct9TBMdJdadEMBpDQYUw/jI7L3rVQ57zztOwI/O70zGRbL0jOK4x8xVWnRVcNo1iPWjkYRlP3Da00PfpHTyticYzlQ1caqfRcC3W22Bcq86JMCzL/juJcTgUjfeWp51qHtBk9JF287z67jqyfOWMuX5g/ACUu4Aez/mAfs0xnvvzLldx550ldNh5cDy1Bly5dEg1FN3NBOw3goQ/94Ra+xzXloeNj9IUPDa0GCHFt5Zj+wA/8gGnh6M693uWHfuiH/n/NGgRmc7weafmbv/kbvfGNb9SHPvQhIwfe9KY36Tu+4zuudxPs9xjRkyABUwpL+tA/AGPAH1mvbO/rX//6oebx0wSA39DGPE5++RYAfJyciM+WzeDDcyMLFxtEuHzguEjRM3m144jj1/2rv/orEzlfC2h8pG22mJb3vlfLj350aB3gpkL2GKCMeBRCnI+iVe697z59zrOeZUXxuHudNNXZ224zlu+D992j3fm+ATWYvShJVK9WZvTgphRMpurmh8YGYoSIk8wcmkfyJsVknNWVWteRT39vJxUAodVCp9fXrd/U9FNNrbqs9bFLu8rnhZyGGrRIM1o1wkhe7Bu4DOtWoXqdJyi567Q2QsxPCwT6LkcVLSJo3qJAK/RWmCxNSzhkwzm+o6rqVWHs8D1F45E6IkcYdVLfRrCyjSg7becrzUaJ2rWJDiaJLsWeujjQMu/McJGlvmUINo2nIHLk4iStW9WNa524l/aGKq3Ta2sKIk/LqjWDAX28q5qQ4FZjXNGrQwWBp7UkVNXUyhvMGwDJRlVF97CUjajkYmQM0HG1LFr73jhzLdIFhBhZXqCjpu6H0XYa63Duq+19bYax0spTQGsFMXKdY2aJZeXpdFppJ4ehw8wzOJoLq3cb4uwuLAGQQwyLG6fGVgHGnXKpZdVr1fhaCxiBD8HLMeYNf3DN4rwO3Fa7ZWoO2+Qoqw9WjvPiRaGaYKxSoZlo3PyKdspIkUqtkUMIe3z8ZpJrmj1Yv02fwalrWYrDILcz8Epct+fgsAbAxQYENzRniG3nAlIQQ8msjQwIngqWRx3Asp8FCDaOrxog2Nf64vUdnUorObjN5dj5seYNdGnGHMJ8Y1ChyQNGOVQNCu9pDJFV8xGBNDjZe3tPwzCzHmvSiWKdDUZ61ennmDTAwN9Rzh8RJcl4rDHSDDS5jIBHI9MCHhs/Rs98ps6+7nWW0/loLDQUEVB/3FH+aLzG1awTkINx4a677rqaH7efebjQaka/NJucPXvWrrNvectbDNxinLjWBUD1e7/3eybdOV5g4DDtPNwCi0lA87d927fpDW94g5n+vvM7v1O//du/ra/92q+91pe/9fOf5gjcAoC33h7XdATQAF6PbNQiST72MRsnoPG7++67r1vDx9Ph85///BuuJlp89KO6AuvHeIgC8OnUbliwDzAIZvQ4cg66vq8P/8d/WBxJkec6fccdGnuelvlC91y+V8VyMdS1UfcWhmoxOaBZxy3bOWoqNGjc6QJlda+yLlXHdBYwXoyHajOrg2XMGSnvGrnzpRazmTaf9jRVR67HcwcL7c1WQ/Wb01u+nl/UikaZltxYYZRw1wI685WN5fa63rRaqT+MddEkho6nudepRATX0ymbqlvM5fie3AStGNlztRkrFvMVrbraHIdqXF97o1T5KNM5t9YDrlTFiQJ0XAVZe5HGSWy9sUQI00TxwJV9A3xPPbtmrlsib6IwVNEyqmUsFyrwHV05nGlEU0K6oRmGFPLt1Gn/cFsVPb6MlamLAyT7sJFEzKDJ6xUFveZLcFWvSRrIxUsA3cTou3G0yltrBplOfWMDbVyZ+Ir9dbnVVG6VKVpVujgHrnS6fZRbNRu4hVw/xrnzGt2lq1NJob0iVBK0ikVoMZKAyDRsfjLWpXbTGK0zuqSmWNm/AVvqPevPXda+NmNiWBJz2sbUqAVHposOPWOrS0VqAG4adqYprZ1QflfJr+bKq8aYN9Yb9I1220SZ02gaVMbi4YTme2T77VQwo66FO9MUwnuUUGYq61g/497A6e1n0AiGqrTmLoypte4NAJrjaaGR6t7XugegHOrUErfXZntBn+Pep+nmukxhSDYiTyC8mbvOmL85XdRHhqnYDdSFgeld7QPiOpqkUx2WFB0PWX0hJ4+GGUKh2RXX1fPCLX3J9HOGbD+MHuhzWTxPlw4PzZU+XV8fXMBoC5E7HOn9Nr7wC7XxRV90Tde5a/1hrmuwaje7WQLGjHBjTCA3ssDOAbx+7dd+zaY1uGSZdnDdfetb36rXvOY1V716AOC73vUu/du//dtV/c6b3/xm0xxCFBwvsH8EXKNHvJ6FiJ6HsrMQGQ8d8fKQcZwFaJ8e3jtPgizAWwDwet5NT+LfuVYAyAeJJ3SeTBkr4O5lxHAjy/vf/35jD0+fPn1dq/l/2XvzWMnyumz8Oftedavu2t23Z2GGRRkWUUAQXgQHR98XQ+YNL0FiUKIxmrhHTTRGozEh/uGWGGNQEzX+QQyJGuGFefkBLyDC8DLss+Dsvdy+a91azv49yy/P59RtmnZmmO6+3T3LPUln5t5bdeqcU1XnPOf5PEudptj52MeQPvRQlwvGxH8yfhSJXzj+JZvHgGfXxWhrCzt7e/D7fayvrUlA8dnROXzzsfukd1T0fWwUyHK52DGkWFpCOIpsKnHx2polMTGqUTICo+uW4dGZqUnHLUOiORYu55EvHIUm4ylWfB+7SY5v7OxDq7pQYYNgiGNdsly6gSLLhYkkQ0ZnsatpaHQNTaZkXKo5BqZZKc0bfhhA4zaxNUJctCVKMjWBJw0idADbhiageNsyMe71sO3ZeIDO28jHUmgjLdmiwWuzgTirMctnWO6HmKQKruNKBRtBWs0sOVNHQn3lJIPvujg2iJCXJSiT1A2ydIlE0CxEA0xU0eUlNjo0xn+0PFF3J+SiYEWbjkHfEJaP4FQ3W9RFi4pzamiwbAP7+xU4Xff9rmKLz2cPb5G1yFNbsviWo2XU1TIYE21VM8miyytNqtaou9snu6YpHAsLGb/yWsColElJAEf2rEFksYKMjChH1QFayxOgrNclVJpgO2cMS4N1LxWtHY0sBJNcf1bbohlccjLsFQx3ZhB4KZo7MoItDGGRt7Q1GUtHzQhuvivB00bb1d2pxkJccQDOrmKIi5fRMWzoINBjEiHZvKppsac6dnLZTKXNhViLI2aO00WvyJo6WopaDZPaE93fgtnlTOp041IPSVmB1oPSHAwxxiv1ryPUYunvXQoiyWuU3l3FphldKg0znVq+jpq0NRtl2zV9tHUjnb2+aUm/MhfqAslEc6kZUcTXNgy8evgCvHLhBgF7khlIcMcbMwavlyXOPvZYZ3RYWhLAKN9j7l+vhxN33gnvxInLOk9cypMu1N5dyvMO+7Ff+9rXJDaKN9mHsbzjHe/A2972NvzCL/yC3Lwzg5Ugl/FcT3chAKT2jkwix8rsU6cej/muT7Qwo49g7c///M/P//mf//mf8c53vhM0DF6O+Y8AkoCS+r4777xTDGxPtJDFJVHBsGjKjKiPfC4vRwDwufzuXoV9uxQASI0Fv3SMbnnxi1+MtbW1Q7mrYjo9wzs5nrjUZXbvvdj9xCe6GimyfNTzzcdOOkdWvMDMmwI4LooJ/La2xO3La9Nqvw83DPHw6AzObJ2S/ZH+Xov5fmT5CPZMhNJFm6OyDLmQuYYFRTcsM9To1DQsiW9BmsnIl1oljl+5XdTWERgynuX02bPYL4FmmkLjqNDTkZU1XDKLQQiNQb91A6W12Oc8slHoRYFcGN0aEr9SczzIkbDro2D3Li+gngvLdubuTKCoa5yBgb3QRrPUw4ZtwQgXpEM4bxqUdYuwqXD63AZ0Q8PKQh8ma9cIjEyGVleYJIyhYEafhTgrELoOTLNCWZWoFLt7A5webQnryIgWh/vLY8HsQ2gYFynyopIIlFmSi7aPc1iaP8hImaYGrTIwSyvJ6utFBspKQ1Ozl1d8sSDxalmdm1cVDVzbQs/0YKgAVhEicEPstUtIawc97MNWY3EC07hBMERdHseijGUZlzbyqmvPGLilaOuIMFhtNipt0cYF7PllPaHuwdFy2OUMlTSXEEwS7FmYqM59u+olog+UcazG/EFLGEGOZJedAjuFg8CoEFgabD9EpVmSsWjl+ziT0P6hYWjkYoQhm8dxbluXMpAt5Fag24d9ZUsES6TnHRHHVG3+T6thu3QFCA7NRAKweWNCYEswX+ns7bDRir6S2Y+RMIJRM4HOHElud9vgJnuEY/oGqraGKgr4sJBx0ExjFDjatuAEAXJVdPNxmg6CHmZl1qk0yexSKwpNxvjie9cN6bgmEy5QnkYpVeEtwxfhZm+py+6bzTpWnt9bjnvnIc40XwyWlxEw7HluHvFPnsTaj/yIGLWuxULQwFEqz3PXcyHTRX0ddXOHsdxxxx0Cmn7qp37qslf3kY98RIAbb9rJJpJBpP6bbOUTRX3xcXw96g8PFoY3M2ORZMLlnPeZ9/eBD3xA4mx4XSKTSRBLEoGglNco5icSQHPC9Du/8zuy30c5gJf9th898bl4BNgEIg69p1gIEtnbyy8URxG80zvMLxLvQnkSWL8EMTdHRjsf+QgSOnznsRBk7tgsQLbC7PUkXPlAPC5GlXPnEM9mWFpdxdD38fgjjyAaLuDR7UeR7O/KBbkNPDgNUDZk/aifIniwkXPExTFjXgoTksjEsouksD12t1bQhFWBjIBbNhbUFWoCM7I2NfDozh529sayPmYHkuVrSgU7DJHrlgQxkwXjeu2qFrDJ0ali+LNtIiAjSEbENKWPt6LBhDjA83COYvB+gHJ5iN15K0jbKmxOEpRNg5tPrIvRg2CAzRS1ahAXk66FgU7jpIXv1RgE1PZxxGmh1cnyxUjSBidXF8XUwQu2Z9nits1UJx/gNp/Z2xVn8MriEnKaA+Qz1cWjqFIX44amN6iUDsNsJbuPWkAyg5R/TaY1cTp8n/EyZJkA02ZmHFlPF2XmY9nyMY37UnEXOi2C0BOHLyv2UE5wbkqApeOYR/jSTSBdgwaTVka+ecURLE0ergC/nlUitDg67QwKFsFk05fok0XsoUpj2T+yeGTXKo5Ya440K0wrW6JWCLGW3BSqMUj4iqu3y+LjDYaOlb6DERbgaQXsagpbpVLJx1Bqy2yxVYQCohaMVNZL5tOmZIFxLo3VVa5RSqBVkv9HZjE0SmmKqTR+CHnXAYyavox9+5iIaYnDYbMtobel7N8B2DW1SrqGCWDXzBivCR6H63ZVa5w10xA0bfl5s8UEZNQtiqoD/Yz94b+FYAFZmQrbS6Dn8MajIHClE4d6UwuhTkDdMfCUL7iaiR9dvQ2r3kC+IzR2HPRtE/ypOJb94Hf3LI1Yto3A9+XnpTe+EUuvf/2h3Gw+3XP4f/7nf8rrMcngei5f/OIXxeV6udORi7edLBgZvMPU3tGEQo0ijR00ely8EAC+973vxW/91m+d/xPH0W94wxtAsw2JhMtZeI5hXd/HP/5xGSUzvYHXKoI/GkB4zGj++KVf+iUZoz8fliMG8PnwLh/iPj4VAOTFj3fjBH+s1eEd1tX4IvEul2OOp6Nz4TbNvvpV7H/uc8LuSbQLF7mA1R2zx4tLnne6vyDA/unTEujsLS4K0OS4l1q+r97/NWxPNmScSBbCrVtopRKBe2tbYrzgmKrkfJf1bBzBWabkj9EVLA7VIEQVz4R5oRnEs10UjLjgxbJUiGDgsckE39weidiflXMujRlzR1pOBybXx8BorWE+MkxDk0q1Vi6qmrRflGkGxWqK5QHGpoV9T8fYNXCmrDDLFVZWB0io0ydb6blg2ViWF9A1E60ddno8x8JS5AnQIsiisSLNSqRFiWHfw9b+VPp0w8iQmBh2ubqmh1nJ+rkYtuHg2OIAKWveTOr3TKi6i2nhsU4qDVXFBo0KtpGJO5edtiT+0oSZkw16PeYfdvl7ZP2IYVgZS50b28AmE44tLSybNtPw4NaBVJ8RwKTKkt7a1aGNHdUXB6/fTKCpVFg/fhLYeLGbdcL2E0Eij+cYmCwfWywIBBl03LcrbKSeuHR7HoEnu24p/1Oo0pm4eMkcLjuxvDZjSUwoGdUSCFYNMxUrjEpHQFqglViyc5QcGfP1HAeJuYi4caC1NXrFOYxyA4GhpF2DbB+1dwyGJsDcyP0OCGqpOI7BfD1TE21j1trIaL1oW7hapxH0tQJBG8t6qG0Uh6PG1hG/A4J6Jp8nglDGxdiopReaBhCyja/qjXCTu/utSCNG9xgW9rJYTFMcqXm2L0yghC0zWEYAoSYuXrKi1PIxv1LCMUWD6ckbGWimtH3oji2MdE+zccfSSzHsLwoYJEDlc+UfpQ2dJqCrelMKjz/2GBYHA0SDAY6/7W0Ir1D/djmnS046yCQ92VjzctZ5Oc+5++67RV/9RMzapa6P586Xv/zl+Ju/+Rvcfvvtl/r0p3z8W9/6VtnOJ3IXX40R8MWaPo54SVCQDeT7RkDKawqX54v+T26gjoKgD/Vz/ZxfGc0cHHVcvPALdd9998nfDqj1q3UwSNMTWH4np1u5t4edD30I2alTsinUBBHsScYfWzV4AZqzcgQkGcOcNzbkArZ24gTc+X7SUfjY6QfxlW9+BZbvwQ4CBJaDvMxFZ2ex0g0Gink8CfV8DHomAGMrAxdm99GBS5NJzVy7luyI1gXiGgR4ZE4aPHj6nIx7SzJtvo8sTQQcUDvnsTsXDXLm6U1TGe0thg40hivbJsZBgNh3sG2aKBYinEkKhnZguRfAlnGrIdEnaZ5hNMuku5d9tAR0rmPCtgOkFYGwBr2tsLObsvALg34oI2fbdKHpCrliVl8FQ7PhewYmcY7AddELXVRkMalNdGypZuPjji0swjDIqjE1uJEWkbohW2fD1DPMxjV0ozNySLUxh780PFcasrxTs/UjA3lOdk0Tk4tZOdCKEE4doq4sjApfYklORLmEKxNU8cSe6D0ktQOjVXCLXUwLA76MWaV5WQAVTRDU8k1KBpPUOB7kAk6Z6cfxKHWMacUYFgP9KMBmPUCgFeg1IzQ5x7oNLEMTLR1bMLhOBip3bFwrAI45hTRREGDS+cvaNDJtHPkuL3gyxqWZRFcx4rxBWrEXhjrDUkbIocV9p4FGk9EwNYKMd9msF4S77GMKKhCp76OWj7VxjJJJax1t08LTFUZ1gICGEy2Tzx7BHkE9MwB3VSBANdALqYQr5+tf0BO8NtxFYxYdAGOjiW7ANExkqpAeXl4w1wbLmCSTDpgR/DoeLFUhrbvMQ42B3DUwK3O5UeCIno5g1haWjMzh90PTcMxbwI8sfTei3gDlQV3bQX0bjR/z6YPR64nLl6936uxZrN92G1787neLa/96LIdlvrjSbSdT9tKXvlRuwK904fvKDnaOcA+rW5jbRAMGz90csf7u7/7uf9lMmkD+7d/+Ta4nB8vP//zPi4nkck0gB+t5PkS7XMr7fgQAL+VoHT1WMqEuBICkz2nw2N7elrtfnjCudnYST7Zkk55Mb8NR0eTuuzH50pfOh7+KcDxNpQZKgGCadgaQuWt3Z2MDszjG4uoqlobDLpCWzRVFjge++WXsT/cwKguELRAGETKyfMwaaxvYtgulCimi1+pa8sYYHcOlsswuEqYsRdjOx/gS+1GjZByJUFkWHt/Zw3g8k0BgagibXEnrhsS6wBamjeCLgG5s2Uh7ER5WGc7wgtsLEEbslmXdHAX7gGrIthHkmdibJFgIegi8GpViRyqbRjycHe0gKyqsr6yg1jxCMxhNLaaBKW3Dor1rkDN82jGwvhxBVSUsw2X9CCZJgjipsDoYYJZn0qcbuq7oAAkS65bO1hI7o85MsDBg8wXZwq7Lti6VRLOwqo1MWZx0WX3E5QQIHG+ajIzJDZS5j57uo6d5aKseXJPgjNtqiMPZ5Zi19sRh27NrLC2wT5ggim0SU4zTDlT1LZpyCMc0+EYt/wjE6Fqmtm47s5HVFjy9xJJbCoCig9d2PTRmD2ljQWsUtGwkRhGOagMjgWHSPUwwxVGsgbFo7TSpTYtrmmpaadYgm5zXXeVbFLjY1dckpiVsY/SrXWEmeTwsE5g2HhKCZDTo6TnGtSuv56MQlpA9yGXZdQJvqm40TCaP+0RwR+1kp0M0BYyy1i80FLYrX5hBrpMNHjVjfVqGhTcCTBkc7esKr+tt4FZnBkUNadG1aFjUrloGKrrlNR1xmgnQtjxmPHYuXjLfNXMjacPmSJdj8aqRuj66eKklBCOF2q73V9V0aJdY1Dy8yrsBQdSDY1ldSK/nwaSxZK7tkwQC00TF7++80m0zCPB973kPFuYMzvU4TR+2+eJy9+HTn/60GCiu1Gh3wIQxqoXu20sxfVy87b/+67+OH/uxH5PRNK8T1ABSZ8dMPmq5OeolG/cP//AP8tSDGBhGwDAKhqCPJo7DiIHh54f6Ql6r+Lklc03mb2lpSf4x5ob7zH9X+zp2ue/xYT7vCAAe5tF8HqzrAADyTorVOhQ/88tCMHY5GVGXc8gIOAlCGSB98ZKfPo2d//2/oXZ3O5aPWo55A4Dk6NHZy6wwjsBsG6NTp7C/uwt3YQGrKysweVGxbRi+j+lsH197+KtIqkJGuMUsgWmZsKjTy+e9piHz/LoIF66f2iWVp3KR4wXS10ykTYnGNmWkKyNfgig+v6lxTgEPntqQsOXAd+ATRtQNZv0exraPTc1CGTqYIMee1TlDqbdK8kLaQjTdxHZcSJjz+mIPBavmGD6ta3JxTjIl49q92UyNl3sXAAAgAElEQVS6aPu+D4MmiaqU7DjVutiZxcK+9WzmUjcoNFE3yvitZXafrSNJc4E3a0M6+ejCZcSLhaScYT+lftHG2qCHvVki42CYdPAyk82UTMGi4n4bwmIFbomqoGlAk+NWMBanAFyHgKaVUbCn2+jrDgwyezUH441UopHVGlpdRR//ubSNto2MKllFFoUOdpplMZ4OMIZTjwXQCjRrW0yUjawysermmKgu4NgVIEj3r4aq1uCZTRfD0uhYcBv0yWwyN48peUWMtKxlHYxwoUkjriyEZme6IJgiEGOgclwb4syVSBg3FeMJAZdj6zCCARrdQw5TmEkCTzKHkcbAlayLbOHNhdZgoljVxtdv0DdKjCpHWExHL0VH2mjkPukyr7ElQFBHoBEIKhkbM/dRIyNITSJvDOikNktsKl9GvZ6WITIJ/7ttXzJneGmwjb7rICGDJ3k6gG+5yPJMwJ18fxwHzSxF1igBa/zZbiBB3vX8+0DQGJkuZjR3iBFFWorl80XjEm8C+Ia/JFjDf1t/BVSSIk8SYYmYOMrIJbL0vFg7YQiXNV00m/C77ThYe8tb8NWdnUMDPZdzPuJzyE7xPMhc0+u50ORAl+2TuVwvZduoi6Oh5HKNFwev9a53vQsEptTc8Rh9//d/v+QKHpy/Ccho0mDH+8FCgPirv/qr54OgyQpeaRA0103NH3vkuT10JRP0cT+5j1z4/lELyG36xV/8xUs5XM/Kxx4BwGfl23b9NprAi0Jcurioy2Ksy2HoTS5ljwg6+aWlk+tgoc5u/5OfRPz1r3dBsHQEcuRKZy71dYxooc6PIbe2LXVcHPdyfMeTXMjsMKWg+748buPcY3h49zQqxxJARtZqdzySEOTQ9aQZhHETWlmiMk2YfL26loJ7apbsVpNomJxaQBHR8YLFAOMSGgFeWWHr3Bh7lcK+Z2PmOdhqLRQ9C+3KstRuWaaDyXgLs4LVaC3Wl1cwjveF/eGl2rFC5FUKz7WwvT+ToOXlgQvL6oKafSfELI8RZ52jthdEmKQJAs9BL+oxAEWcnKz2Or25J7lrCyEzCDumRzep5WLWXoOmYdMIkKYZ+n6AlUEoozxdYyZcjZ3JDElaw/cYPdK1Tpg2+2/JRNJiQPCnMN4vRMMXRYyyISpj1Af/a6CJPdRZhDXbxU7iS85eYLPXtpUYFYIGtm9sZY5MGtdchhMzsbCWvt/W681drAbMYhdbCYvxaniIYRk6PAJos5VYl0lJpk/HMT/Dfm4LMHUMBUfvOngZt0J373a7KoCq327DLKZdlKPGjD126HLEasIHzTWdAYMO5qFDRWUHpsjeJVog0SrMbVwLNSRaBKfNYVYx2nyCooJsU2CU2BRNHpm8UkwnHCtLZIteC9Bk/RrX3Ddy7FUeXI3RPkr2n4YWMpmOVuNc2Wn7AjaGmKUAZJphODY+AILUNw6sApslbzu6db422MC6HUPzfNR5JuYalm6wek5JKPNcQys1iS0ms6kYPbwwgF520wG64vkdE+0re1V0TZj2OsvlsfxZpxGkrmR939U7ge9deaGw810XNnfY6owfTYOCvc4A4v19FGkK6pDtxUWsve1tGN5wg9RJvupVr7qukR333HOPgIfLNShcyvnvyR7L7zxBFM0Sh9FlS7aOOj2G9h9m69Jh7OvlroMGlN/7vd/Dzs4Ofvqnf1qyZOlQ/sxnPoN/+qd/EvMJr23UPb7//e/Hu9/97st9qWfF844A4LPibXrmbCRPthQ80+3GrKnrQZNzREDx7itf+Uo5MMn992P/U5/q8r8I8Igs5uMhsoAy7qXbl/ZR28bOY49hOpthuL6OpcXFbh84zm0aGW098Ni9ODfbgZXRFdlC7/UkuDkR84aBpYUhFC+OvFjpOqKa9VkKyumE96yAU20FLS9gqhptP0Lp2ChcC1PHxpf2EjyYl0jdrlptlpYyCh0u9rEXlxI23QsoiC8QxwmiwMfeNMMkTbEYODDZvWtacBzqu4CcLIp0F7c4tzdG5HlYGUbIqecD9VU2xkmGaR5jbZHVajZMs4FtUivWoKlNaNToFQrbY7ZyWOj1ugu+YdiAXghrSTZwVbL+MqiqhueRiaGei+9CF5o8i9nw0aI/IOPH94LB1qxfK1GzZm5u3hjvM1LEx3ov6lg+soM6u3F1MW9IoLNdYy+zpF6tb3GsSXaJfbsNxqWJSeHK+HO5pyPXulBlrZgKe0RNX6dHA4o2ZDcFAiTwXLJ+DHdm5IuNqbKEfV11C+yXNjyygQ41bIGwfrxB0IsJzibM9NOw6qQdCKJz3KCZokXa2ig1F6GRI208MY14WoKeTgBDUFbDsk3E5gqS1hN9Xj8/jaSkoaMC4wo5Lqd2ke5gjmk3y0DGuGTy+hZH/yIOEJ0j2cC8tWXUH2ozjNseQoPZjyVMvauOIxD0ORou/I4FRCkAj+271DWaLW9VqBa0JVT6Rncft/U2EVB+wG3h+022XNcRGo58duRdnvc+c45etjXiPJfP43KwgLiZs3wcA7eM1rGk/q3rVK6FDc8JnRlNw5staPhvyy/BS4Y3dnq+uauXmls1r2SkNpcO/Yo3W/N+bnd9HeHrXievzfBlMktcCFLI6hz03JIFu1ZhvkwmoCntydotrsUZnMCYQOZNb3qTdN1e6cJatFe/+tXikj2M9V3p9hzG8wnu3v72t8sI+mKw/ld/9VcCoBkXQ5DI/+fjnsvLEQB8Lr+7V2HfyLzxRMORzPVa6DRmntQrbrkFex/5CLKHH5ZNYVZYkyTnmzzIypFV4EJQONnZkUw/jlHXOO6Vjl5dnscZZKIyfO3x+5AXbNpowPYP1rrpaSYVbTOGPbPmLaAZQpP/Z6NG1laS5VezD2w4xL6jQXk2isiHvbKCcatQNw2+8tAZ3H3fWVRNjtVhT6aYpu6Cxte45MVUoe8FKIuJhEd7NoOjDdQaI0+UaKn24xa23WJ1GArw8+wA0GsJVmaG3iDqYXN/IuseRiFcxxZwYZmmXOhHSQHTqNF3gDgt4Dkc8bao6xalIg+kMIqVsH402jB7ryEjRiaNDWY1X4vgr3PgkjilEWQuf4NmGcgV2zZMcQ6HjkKe0+VryLYaVSTmDZeNGGmLSWGJ03XJPwhcpruUZgELsTIRSrcuWTld2DUygmTLOC71PRs77TKKxkHQjhFUI7Dtra0r5Ip2GXKD3eiWQKeEA0KQFZf1ctSidRrDWDlIKluMKv2eixQ9eS2jmqBVBWrREpJLBHarvnyejplj0eC1NbWfzJQ0ZbxKswiZOxo3yFbSbLIQuqh1R3SQhpphP64wqztt37KVYVp39XIEtiZa6dnlPjLUmSNdYfK0Ags2jwWbUCB7Jq0iNZ3BOpatXEa6vl6JiYOtL9Q2HoyGd5UrDCUr3BbNVLSMjLzx9QIvd7dkO3Sny9YTDo4fIL2LlOFIl1hacmvY3NLQGMMAdRfTnR1hx9kwI1mWbFioG2H6GAotMUsMdOZo3OTnq5MKmpqOH1j9Lpx0h11239zVW5O1L0txA4sr/6LIl7U3vxnLr33t+VMPvxMce7IakkDlwo5bgr8DMMj/EhweBjP2ROc9ZpPypvhaT0Mu3Baem6mXe/Ob33wowJdpC4xFYTjytQLSV+uacuDsZZ4gg62ZVHHxe8XWE46mSTD84z/+I/7gD/4AjPd5Li9HAPC5/O5ehX3jmIEA8HouZ0+fxuMf/ShuIIBjtMtBfy9z/ejIDEPUc8cg2YRSKcn0K+saq2tr6M11gRxTtez5VQqb6RgPbDwo4IGgkI0cDFOWMbJpIGQOXhxj4lnwV5agRRHK0MPUMaACF+j1YDFQtCTrpsGY552ROXx8a4Qv3P+4hCXrHGdWNUazFMOFBXHYEkiwe5Xs4950Ki7alUGESULdXQ2bkS8GAYsO1zFwdm+MrFA4uTwEjE5s71i2kJ6zgjVerJfzsTOeIghMDBf6aLUA9BATAGyPJpimJdaXexIAzSGq5TD/jplYHOF5AqDShOaNGnZgi3bSZwOJ2ULlGgpVyViVDFtW1HAcE47PcS/NBxpcmjr2dZRZiOVoAb7RR11U0l1r1HSoGtK8EdoVthIPZaNh0ckR2uyq1USbx3ErGbq0tLAaFNjPLQk6DhwapF0xeRA7aNk+NhJHjAyLTipB00p0f130DmFVBwQLKLARw0QgI1aCO0fy6RwvQGKvIIEPr0lgpFtIK2o6S4lsIYDn+0QtHTuDd8pO27dizQSc2gRlwr4xQ88UI8lCYGBirsjvwjaBX24KO0otHDMcWb0W1zSPtBiYqXTyOrqSMS3HxTVMyRF0tQK7VSTMnqeV6JkZqpYAu5XWEbbtShh0bUrA804VSZOHjIcNBi2bciRovJlWLtKmC43+7nAL3+VvymcvtDzE6awzblAyYdlSGZg0zMk0mDUEr+ERpOaw07vyDarTQly81AASyJH1Y2sIA88JBvlZDEwXKfMV5z3irm7jv9/0Ggx5wyHIEjCjSFg+LhLVxMo3xrxwLMztYYPM7bcjuijihSNnsjRvfOMbv60hgucBjvsICDkt4H856uON64UsIc0Sh8FuEVhQ03YY7tvLPbfy/MRRNBnAw1iok2MHL/V5z3YAeHA8uC8c6/LmlvmGZGz5maDR5Y/+6I9E0sTx7/ve9z7cdddd36ZLPIxj+kxbxxEAfKa9I8/w7bneADB75BGc+uAHsf3ww7jhllvEcStuXmEsdGEnDqJdeKHdfewxTKZT9E+cwHKvJxcV6RMlaGRNW13hgdMPYLTRRcVUoQ/L8ZBYGsrAQRn4sBaHmBotNvNEQm5vvelWzLL5xRJA5EdIikQufFwij1VnOUazGf7fA49jd1IIu0TlWFaUqGsDUT/CufEUvm1hMWDWHkFGKa0a41hhmmbo+bo4N23Lg+9Z0LQGqmLbAw0D3bjXc20cXxyilHEtg6h1pLlCnGcYDnoYpawN0+C7lWjXQBerwfXU2BolUtd2bDGSMTT7eFm95loBZjkzBUvkWY2yIvjT4IcmajJAHLNrAOuNCf7CBRcpwZnmoueE6OkeNMWxa/d+nN0kAwqcCDMxgpAZtAwaTTQZl5Lh88waZ2NPwNDxkAxdV+1GVoxj4VhZAqyODUzs1gO4ZomgnsJgUDLH7GzMMAxsZJ4wTB6maDWOrwkEu8BhaGTibAztEntVT7apb2YCbDkm5edByyeYljqyxkFkslKNzSC69PUySkXTuR0E7J27dqyYIdhgzUlQ1IaYPAjYG6cnjGPe2OLu3U6YB6gJ8BzaSgAvNYIWFKaVg6Qho95i2UoxrlwZRVtaJQwlnc4EmdT6bVeB6AJtKGH9YsXX0+Cwk1lMHgbSikaZDLuKI1Ag1AusWVMhaSMykjSsYCr9w6wCZF5j0ZRz1k+XbD5LY/5hx8I1qoTFVhl2HjM3kzo/GjP0LgeQhgzH4GhZR2MacgMlzLvG99VFzvq3eTZgZHv44WOvlKw/onc+jnrdkjdsc7aeI18GPR80ffjHj+PGO++Uru6Ll4OxJ7PjvlPYPA1sBwzhwX/5fIKBKx0dc/T6ile84rrqEAl06aylBvAwlg9/+MPi2P3GN75xGKt7xqyDQdBk96htJAvIaxqBIY2Mf/u3fyufo9///d+XkT4dzM/l5QgAPpff3auwb9cLALLJY/zxjyN76CHEkwl2plPcfOyYsHd0H7IgXqykHNsaBmaTCba3tmBz3Nvvw2LbAevV5rog6vpi18RnHrkHu20BxR7cfg9a4COdd5PSCOFYDuK5/mk6mUKrNfQWezICZuzHAfgjAOXPnushzhN87t5H8R9ff0TGpzesLYhWTFyrXohU1UjLCr4FYRXJLkWBA9+2USoCrlyiMSYpNV0Ghn1bMvQYpuw7PrIqkceFno/N0Qx5lWFtGME1yW4182o1dqwyzFghshrs7scyqo1CUwwdGkGErWN7NBNN39KQJgUDaVbA9iQ8BVXdsNkOtq1hNKmgNzrCfgf+xNRh+mjbBZT5AEY9wJJXYmsrReDriKQepZAGEdaeMYJllNmiP1tlzl5JU0gro08aLmhI4PiTIGmUuwJ+1sNCwBdfz7EtxHq/A0pNjUhtYzcz4du1uGFNMk86WTGIQ3dSMw+ugVfvogI7ZhW0hq0sZCgJqHgsaLxZlm/JsNmHpcYCuMWlghbT2hV9X89IhXFjgDLjZgKr09mRcURTIqktzBoaKRoc6+sojEjYNrPJ0aQxsrpF3liIjBz7AuDmI12nFHAn9y5tibh2hJ1jTM+iFWOkfHgmmbxa9I0lTR6Ma+GYvmIQNf20FZaNKRrNRmCS8SvQN1JpAFn1dNRtl5XHhWCsLHPRdhJgkwH3GdRc5cJK8ntkluyIZjxLK8YNjvx7lodZfeDiZbQM3ysdOVnM/X3YpomBFyInhp6zfgTOgR/Kd+EAyK0EA/zw8svg0DrNhXpCMu18jrSZ6NK9LfEukiijIbr1Vhz/oR/qbtieYKHek9l3P/iDP3jJemQegwvHxgSFBAWXMzomC/l93/d9VyX4/umexkejkYws6bI9jIVaOI5FrzR77zC25bDXwQQLavwYP0NnMN+7H/3RHz0UNviwt/Vqru8IAF7No/scXDdPmvzCXKuFF4/ZPfdg9vnPd1lghiHREGdPncKtN9/cuQspGGf+HseyeY6t/X3khoETt92G5fV1GAsLYHCsubAghg5eaO558B7836/+XyiGE7eA7/rIyux8zR2BFse3crFEK3/fG+1hNB5JzyZz9Ph7Mn1ycbU90cF945FT+PojG0iLRurYpmmMcZxiqT9Af2GAospFw1WVCklWoqxz9AMPo0kh4126PQ3Dgmk4cF0bZ3b3kJcN1pcHMhJlNh9r0YgaMhbfal2N18ZoCs8H1paW0LSOBCpbbY1JnCLOSgz6LmYJHw8EroHA9SQepWY/MdnA/US0gqHHOaclbCL1f5wIcmzJ6jO9tTHb9+CZEdbXTiJXlsTNEKQkkxyzGZtAauh1hVTp8vvIYc1b12DBsfBWZonJgzq5wOaotmP5JO+vYf2aDt9sMSktJMpC4NRYG3godEe2wVQxpoWOpLaFkWN4ckYnLvPxtFyOEcF2rkpxzXLkq6GCS0YQNiKH75WD2qZ3l/VlgF+OcDbtRrFDi80aNGXwUFEPx5iXrsatp3fhzjzinl7BZcwKWzVaDaHnYWYtYYZIxsTL6rR8BjgW5tidIKxuLSQ0eegF9mtfgqEZAT2w83m9XNdJPFUGssYWRm/VTLDL3D5DSaXbipPC02keyRAYBZrpFtbo6GY0z9yYxDpC3w0wS6fd15RGDjdCyi5eJrHMwZavWUgO6tcoG6D2sFJdhAs1fGWJ0HQRt+o8E2izKYZVhTTAKCU3MIOgj9o1zwM9Q3IMGbfTjYC5nAyX8ZbBi2G2/Ex1ETKUWFAjKJvIPE7LOm8GIVN//PbbsfS93/uUp5oD3dtb3vKWQzklPdnomCPuC/WEF46OD3SIr3vd665ZFNYT7SydrWSyaNw4jOWv//qvZQzKf8+V5cIgaIJ9ssJkf6+HmfGZcEyPAOAz4V14Fm3DtQSA+eOPY/+jH4Xa3u4y/UKOFQFlmnhoexvf+8Y3yu8I7hAEOLW3h8e3t8WdzPgC5tRdvBCwffjuD+O+U13KPMXpHNlO0on8TDDVC3uI07nrUdMQ+iGyIsNkOsF0PMWLXvgiAYaNJl0KwrhtjSf49FcexO4kgWvb83w7hg438MMeTu/NJP9tLbIljBkyBtUxnmWI8xK+CwlPZsNCP4ygG3TX1sKgUfK/PZvAsQ2sDZakucOxGKhsoqoaZLxQ90LsxJU4fxcjulDpGjWkGowAbpqmyKocq/0+dsaprIuelZJRvHUr2X2ztAIxBP09gWehKS0ZB/vGAvSqB8Vqsn6AvYRaRx09t0Dfy1DOcuhkiKpKQFtcmlj2C4xzS0alPuNcmDPXaAKs6PbdSAhAdaz6mZg1CMoZ0UIWkk5VAq1+YGMHa8J6Rc0OgnJXxtHgSLGukJQ0tjjo2zny2hJGjgHOnkXQ2Y2WGTUS05nbOjJmXopcZLoHR1MwixlqVYrpgsCR49vN3BPgt2anYtog+8hWEY6Lk4qmCwtDO8esIpNKUKsQeRYqw0PLhow6RZwoTBpXGMFVO5XoFhouJEeQwccc6YLVdbkAQTJ5DGY+4cbSSRyaBHs5Vgmm2xg+2dSikLEswV1BgzO1r5oORZ1m6MpngQur9HS2ytQdy0c23G8NxGS1ydzys1k1sMi6khV1na6RQ7fFzCQU6kEvsm4xkbADdjQ/6dxuGoZYo8gswBaKKdwOI2a659nMCjJMYRq7dmXg1sWTeK19XL5r4uql3k+CpJkDSSdUt+0HQn2OhE+89a0IT578jmdG6vzowCUDeLWWi0fHHLXydwejY7qPmU36Az/wA9fVHLe5uSl5dozEOYzlT/7kT2Sk/MEPfvAwVveMWQfZ2r/4i7/AqVOnugpDzwOr6Zj9d1AH94zZ2Ku8IUcA8Cof4Ofi6jl2udpLub2N4tQpye87/48AkMxXlonw+4477pDNYF4Vo2l4l04hNu/Un2g5s3sG//of/4ppSjaITJorFx2CQv7Mca9o6OYjYMdk5IqJJO8iKoqsQDxjW8ii/MwRMYOY/78vfR1fefA02lbHjWvLogck8HLdSGq7kiIGjbLjSadXG/QsqU6TFroWyFSOXFETp2PQCySyJXBsRL6LWRYLaxP4LjZ2pzL+ZeAy9XaN1sIjWrMYucLsPSWs36ntXXiujhPDRWH5SOMRpI7iGLM0F+cuL+oENayIs10CpRY6x6uVjXw6QFOEOL7iyTiSi+ubaCwPaUYAoCEwYmycpUaulZEugRIfyxiSsjbEwUs2b8UvsJU6COwWoVWLxpF6O173+d+dnHEnEPATVxwtqi6vzgqkJ5cRM64a4eyU0TAQQKW17I/o2jIIjsn0Ufe26GbSzkHgRResb5bCMDJUmcd7V19B3jrw2ymcfEecthbbU5hbqBnCVDJshjcBe6Uvb86aPRMTB7eXlXHEQnTfpo2NYaAhtZaFvXPbDH5xTgA79ZmMeslaFwlYKk9tXyzjXfYRD80KoT4TEBo5FQZtJgCw5JFgUwb7cG0fU+ry5nl7DrdP11CWdNnWwob3ggWc3jwtFzDqljwvRFXkErAsUTWWiVC3uxGvoD+NDcHCyhEgEngxOinUaUYppK6NRg02eVi6gdIyuvEsWgSGg5zaRmHEu5Dz0PFxdndLvncMJ+dnjOCQsTcHlXC39U7i1cHJ8+ygSVMWGfv5wlaekq0584o36v1u+p//E/aTfIcv/l6TxaFblRrAa7VcPDo+MJnQTHKtXMdPeH47c0Ycu9QiHsZCHRzHyhwDP9uXA+aPcoFf+ZVfkc8sA6G5MO7mX/7lX8Qc8sd//MfXlcW91sf5CABe6yP+HHi9awEAn+owcQT9iU98Qu64qXkZj8ci4GUQ6xO51XjC/uy9n8Wnvv6pzlzA9jS/h1SlHevAkZ7jnR/3ch0Eg4xi4YmDPzPqguOure2t83V3X3/0LL768FlkuYJrm9idxpgkGVaGfYRhH2WjJNJEFRmKkmL+HLZt4NxogtAJ4LsUyutSJedZLrZnIzFjHBsMkZSVkDEWjRCk6uhhIGiqgbN7e7AdDSdW1sT5aZsc99JgkiEpM4SOh0lcIs4yDHq+xMYc9PAS6GapBlW2WOxHyCYufLOPntcXcBbPMgQBMwBbbG51xpITN/UxywzoWgW/zUTXVuQEGd2xI8Az9QoneqW0cRBES5RLbUu8CllANmXsFQ58PUfPKDoHadNIVRkZw1FhC/AbRBpi5va1BVDGsOocpmFLiwe1f3uq0/ateYkwfgR7DG/OmIdIYFZZ0vKxlXuiwwudFj06hnVbRsNmOcVWYnQMo9lVodFgwb5eAYKsJ5vrDgkcd8Xk0WLdzTq3tvQ6U5TYk+zBpHUQlluYZczF09EzFY7biYR1h0YBt44RVhPYTQbDYdyLCd0yYLJtxrbhwJCxK122EplSsRhOlwDyliN+MqaGiYq90nNjhehNdRNVrbA/2kcYhfL5KUXC0HZ6OWbxKQaTNx3Dxp8rNpc0nWveNCWuxeJ6JJyRmZLCxQrA4/GWz/78dzWzHItyjus00e4xC5Pgx/c8BP2B/CzPISx3HHyXdwwv9VeF9eNrir6Pdz1k/uQO6lv7xB97t9yCE7ff/qR6vyc6J1C3xxq2wzI+XM7p+UCHSB0ZAemFruOnGh1fzms91XOoa+Pr33bbbYeyahogeHPxZ3/2Z4eyvuu5EjK2vEkiy8frxd///d/L6Pdg+djHPgb2Df/pn/6p1NY9XzqDjwDg9fxUPktfmwDsIL7heuwCnXt0chFoUI/3ohe96Enzvcj2/evn/hWPbT0mm0rWzrXJrM3kZ45cqfebZh0rwbv4wAm+9bNOvVz3c5ZmEjo7XF7HXV/8qrBpZOA8xxXWjyMv0wlxdpTBMioc63soCvbzOry+I5vr/ljbNskoqgeW+z0xWdCNbBqGMHl78bhjjXqL2JvOEDjdWLim/rIq4fsRzk1TJGWBtV4oGjPWc5GxpNM4VQpZyYDeFqNxSX8rFvqEGh5s9OAbEVQeIJ4RxNH7YmI0VvB9pt3l8P1AcgHdwMNe7CLO2A2boNfsIVcaTKPr7K1aW5ywrlFhqhzElYNAT7Ds5Mg5TWxrAXgTavaUicAqhWVjVh6ZsJ5ToRZ9YCsgd4xlZAxKrqYwky0Z/TIGh8YL2+RIl2NvxqwYGJUd07cepMI0Ml7HQiUdyGnDTD4Di5GFXayI09ZvxrCqiZhf6NYmsTYqmI1nYWBlouMj4HOYo6d3Pbt8fUatVI2JUcXRcIvjPfbZhvB0ag5TeNkG7HKCmxcZ0xLPO6QZwuwiZ/g12TC+GKvzyhrTMkNFDV2ewyX4Y4Si60pHMKN8fNtDUhfixCUrFlie6GdeidsAACAASURBVPTIvMnn1WbdmoZEMaJHk3DwlXCAkpV43EJxaDM6hi0lnbmCoMuHiYzhzpYp2j0C8MCwu3gWgrKmgUsjjWV0N0JzsBk5IeKWtYVdqLYhbl9L5AT8xWQyxmI0EKDZzivjDNPC66ObcYu7JOulTINMorzuXO9HQMg+Xy4c/5/4oR/C8mVo13gxv++++/D617/+epyK5DUZL3P33XdL/t6Fy3caHR92YDVD+glGGWVyGAu7eG+55RbJxnu2LwcAkHFBd955J37t135NtOxkrCkVIjhksQBB70/8xE8cAcBn+xt+tP1X7whcTwBIoTNP+BwD8wv7VNVL95++H3d98S4xc3DhyJemB8k6m4NBXtQOfmZ2H9kV/iwsC8do/Ps8HHcWZ/jQZ7+M0/uxaPuYwzdOqPkzYbML1XSRlIn0027v7SMvNKwMHWHW2oasB1su6Prluh2pZCMbGPkelhei7sKrsaHDxvZkjGmWYImtCByN2joC14ftuRL6TC5KrxVObe1J6O76Sh9xkaPRGInToq0ttIpVYRGzbTDes9GPdCwvOShL7h/HrDr2xzXiuMZgYCLLG5SqwsIgQDhcQJZWaEoFW5E1Y1afgSVnRt+JXOyZPscwY4I95tWFVoVzou3TMHQzBCajQ5hC10W6cExLHd3ALjAqHNGQ2VaFXshj5GJcKDTZBLlyxLnrgKCaRgwdkdkFUZOdIzCjoWRCvWHFQOUKa24qYJQ1dDyh13Yfig0dNHmobWymjvTqLpD1M1sxt5DN45btsx+4sbBo5agIEAFp31gyEgRaJeaLyK3R13K4Jk0UbHAR0Zq4SOtCIWCRsdB1DoyKBXodqwbLFhaN7/48YhmolASNl5qGSimonACvhmJYclN1TS/M4fM8ucnhP24ngR1Zu4bNGlynZWF/cwt+EHQsMSNaMo7jdcnqExdvWUompRg7hEXsGDp+FuvujZT3k+vmiLkiC0nw2bawPB9lwTq4LghajBo0s8zBKA1Z0+kMjmXK+JeAlPmZr/VOYj1Y6uKCfP888JPjQTaQ+zEPfyb4Xb/9dvQuyvd7umevw3a+Pt3XvfBxT3cMfZiu4yfaToYbc2Eg9WEsHIkSMP3mb/7mYazuuq7jgNH72Z/9WQmBZtYfwe3BwszDn/zJn5RxN4H8gR71um70NXjxIwbwGhzk59pLkIHjF+paLgR8rPGhxoWMH0XXjDugG+/ipVQl7rrnLnzlka/In3gBZVzLJOmMHvKzF53XAvKCGXqhsIIckYoxxP/2vz90ZowvP/wQ4iTDQq+H0bTEOJ1hdTiAYfuSD+cY7DKtUBQEYYQDDU7vTuAyJiNiPVcD13XgWC5m+RSzIsdyuIjRjBmCLRZ7ATz2Bddd/AvDmBl3g9bAibVV7Kc5fMeFZzZigig4JjYa7E4z5ImJnhtiIVgAyhCOzbGsJg7iLKvRj0xsbiuouhUQ6FHTBzJcZL50TJMWWQ70BwZSNYDVpHDqPbgqlrEzqI5rNGwmtoCBY2GGTJni3nXNb2X6SVeu3uJs0o1O14IYWmNI6wYdsQyK5siXYDIIdKTGMTFHuPU+6nQsOkJ97nZOW9aY2fAxg6ZzRKyJG9ZjDy90sEyMESm7pStOYNeshPVTeiAxMlo5Q1mUkjVIupXVdztFIKPhE14OS8vhaBUiq8SiQcdrAccqoZuGdNIGmi0OWHGq1jVCy0dM0wyZLKmCs5CnObK67LpS2TxRG5hUWTdmJeaq+CloUdl0yXaOWGbhzeqORSer6OqmAOUyz8AmDH4WHM3COJl0TIRtI7C74GnNNOTng4q207ubCKNIGAy20hBYMfpZ6tcqag1tJDRy6JoYRyTCxbBRMGh77sBlCHSqz3+mQ1ijZjJEXJKh64waZJfpmOcN1PxLJMfnzO45+B6zM21hEG/vvxhLJttpdFys92OOXzEPaOc6vJUVvOAd74CzsHDZpxIy8mS+XvOa11z2Oq70iVeSv3fgOj4YGx8EVl/O6JjnRzadvOAFL7jSXZLncxT6rne9Cz/3cz93KOu7Xivh90xij3RdriHvec97xMRD4wdlQwcjYUqKaHxZWlq6Xpt6zV/3CABe80P+7H/BawkAD0I6KdRdXV0VrR+T25nhRLHzxa4tGj0+es9HMYk7sEf2gxdHsmvCpoiTkgHL1N91f5eIZlJCbTcCpvaP/8/fb+zN8KHPfRlpwdo0dv0Chi3WULS6hV2OUfUCywEz9JRoCQ2TF3GITs42dOzGCfKqwfriAkyLDCPbPWjcyJCQtWt19Dk63htJ7+8SR8dVx/Kxi3dSNIiLGouBKf3AtWKtmgtb84HKh14Hkul3+mwhWbonT1C/qMm+WOwLhoGcUzwCC0fH2U1WwzU4vqJLBIzWNlLskGYG0txAS/1atYu9xIRnK/TsTpdWz9skZoWF/cKWHttFtxTDhy1j2gpGSwevLk0WZOv28s4NezLKUKju2HIECqePmsHMTPbJNjFTfgcEkUn7SOfH5ptgIIMnTR6rboJp6UqVHQ0UjJxhpVvetPBcB3vaGi0kCNoZArUlwJVxM0NLwdNmXfuHU2HFcxFXfB0ysRqsihnQpTBorWL/sy4sbEmtn1SN0O1rd5E/HJfqXfRLuj+GahsEC30YlgVH4+iZGjcCTvbtdl4IMmui5xMSzhWzB19HquFMu/s7P3+8a2CEisYquM4hxHw+lWTCzJWqQKWbwup5lo3WoJOXdXsObLMzydDCTRaRgNc1bcnqk9FwyzzGzkWspOdXlH5wDAcp41rYeMOLJD8zloM8J/jj2FeH43jy80E4N80iTgUkTY7JeIJwMEDf9PDDi9+NBTcSlo8xL1Lnxm2i5o+Gk/lYWUDwDTfg5B13iA7yShYawOjmpP7uei1kIXlDyhiYw1gud3R87733yo3IjTfeeBibIc5qjkR//Md//FDW90xZCRnA97///dKaQuDNGxyCQfb/Eng/n5YjAPh8ercPaV+vFQAk28dxL7+gdPcOh8Pze8DkfWpdDu7WqOX49L2fxn/c/x9zIbqGXtA7z/JJvMsFPz8RyyesYDaVC90sq/DvXz+FMzvbqMiaLUQYzXKpKFtZXkKrWagI5PQa53b2pMf32KIvDAmDhk1NQ1HxomnAZV+vBmzsjmVcdmJ1gLxkJ28X5ZLkOZKsQj90sZ/EnBBi0I+E3eQY2YELV3Oxca5EkVpYPxZgNK7h+yY83xDRfFUxtw9Ic2Bn1IITydUlDWlC520H+NScDWQcTZJWmEwahL6GlQWyjXTBltDJmlUX9vBybK3DtxUWnBpV3UWmMMB5J3ME/C04pQQ80/1rGyVsgyNDQ9g+aiEnhStmEAI23weU7sNitlwZQ5WV5OERkLAhJGlC4fZCMIaH/buajJldx8WssiQwes1JxZzhs9PYLrEWMUuwxiIyOGaGUKMLmzE7fI8aYa46BsCAWzadps3uRraR7iFuiu4GoKpFX8fRKfugBbsYhmTozciGkdUluMtKjGcTWLYFP4qgKfbvmki0WgCbsIWmB4a6CCijK5hmH9NGypEqu3WbBn2/j2ky6YAVgajjwigrZI0S4EXTRNAaSJpCtH1S0UbAzIq8IoOqKpQZ4bGJkpFEDgOvud+mOHRzc17HRlxIfZ9tiVHjIJsvCvqYzUPOuW5m9xEQi0N4DtxkP1R3LA7cvy4DwymraFuM4xlOBEP895WXwzdsaeYhWCXbKKtg645tQyWdk57f5bU3vAHH3vCGQ6kXY/QJw3zZBXy9lqvNQj7d0fGZM2ek2mx9ff2KDwVfk3mCdMWyO/fZvLDdg0QCY3tIHlA2RJkIry/cz5tvvlmYQEYK8W/Pldq7p/OeHQHAp3OUjh7zbUeAd6iSBXaVFuqqeEfNu3vm+fGO9uKgTnZvctTBL+z2eBv/58v/B7vTXWGqOrF6xzYd9PL+F5avZqdrtw+8MBdVIUBB1RW+/NAOvvro42LMIEOoFLtvYywuREiEKArg2jU8HVCqFYaRTs6NvanUgPV9E6kq0fMiSsCgmhqqaKWDeGM0RppXWB3wZMQuVDqOu/iMrNBQVyZOLL8AD58DVqI1LDoNpskIGnWGNI/ELaYxg6k1yetL0xqeC2nE4FtCQOW5BjY2C2RZg8UhGRxDWj34elLhVtQo0gqhZ2BHLUm1WNRuI2hj5HQ0O/SCahLYHJcGFv0cexnvjGlKKBBadPCSEWxgaMAo96R9Y9XLkFcMEWnhmLVk3zEihXl/rmdhp12VzDu7HMFUO6hrMoUVOCwtmGyidXV3NIYUYLOGQl/bQ89zMHRr+EaGvl2grxUY6hUyIiFSl22DnuFjQqBCZo1Zel4fqcpEC0fQRje12dAtzL+TkSsRmS5mfPE5y+ebZGXZzsGcuxq6ZcNlH+7cTFFTozfNZAwccOzK6BOq6Zipx5FqITQrItNBzKrcebetrVvi8iXo72pUdIS2j1hl3TeIrumDeJaKdXP8XDQIWxOzOhcQRYBsNZ3rujTI6LUy4lXMYIyYQUhnd1e5prF5pGWguA7TtNBzfFTUhRLCifaO0YHBeUkEN8H3QxlBy77zCLElhPmB823UDLas6DCk1YQZhB1QNvZS3PmC1yEKIunr5Qhbuny58L0hIBYNLYQlPf6mN2Hwkpcc2pmDuXdbW1v4nu/5nkNb56WuiK9/+vTpa8pCPtnomMCGU5EDg8nldh3z8/WSl7wEbAO5lhE7l3rsn87jaRCiUYfXENGfUt9qWeJw5n/5M8/h/BvjYAgSny/LEQB8vrzTh7ifVwsA8qTGcc5DDz0kzB5PQE9GyX/hC18QB/Cp2Sl86hufErB2wPLNWGo/z3Mj63fw8wHrx59Z5UZwF7ohcl5koeGRjT3c9YUHME5T+J6LwPNQc5zGi6u4RzWUaoZhYGASF4hcD2yg4+81aYiosT2JQRxwfDkErQAg+HEdGWdSf8d4DYKms1slHNPHy258IarSRWQvoTdYlhaInVkGQ0sxGe1gPFMIOLYcmhIlQysBn783KhEnNdZWbUyn1AJq8H1mDxpi8iCpxN+dPUsnKnBy3UIWK6lEo4vXsAOUtSXAkO7Yc7PupLfosNrLEzMKHbwEekVlicljwVXYiD24Ro0FJxdNv8ZmB9RyfKaFLbE0q36C/dwVTWTAggffRa3Zsh1aNul0hNAR6LEYRDhydvQcN0YV1nzWcCQw6xiBpWEpdGEykoRggs9qGE/Sgi1srQRq6wLUZKQvv9elzoxuaQIQul4tttIJ0JqPWufxJ3TpgnpW1pZ5BPdpB9B09hUbYt7gSJcAMp1OoMcFKteAv7AgAJJO20rTxDlL1ywvINTTTemQlbihFp7pIC84mu+AqWY7Ur82U1mnAeT4VrUoaU7ia1Pjx2Ya00UqOYDiUhJ9H1lKvl7n4m0Q6BbOTvcReq5sr6V1+kCatCo2etQVLM2SEGiaTQjgCFpdttjwpSyaZug+duV4dQzfPC+Q4+yawdUdQNV4bJkdOTdI8dcnjB6OT0ysHz+BYGnp2/P92MqTfKsGzun3ccv/+l/wV1YO8UwEkPU6zOy7y9m4c+fOgf8OK4D5craBz+E5kedNvqfUEl4cWH0prmN+NsmKcdJCs92zeSGhwKkVvxf8f/4j20fzzsE/Hqv9/X38xm/8xrN5Vy95248A4CUfsqMnXA0AyC8fx70EgReOdp/saH/iM5/A/bv3ozKoleriXHjSOmD12IhQNl0MB39PB3CucjFY8DX6QR9pmQrrN01y/L8HzmFjbxuFOB5sxGkO1zXR7w+EmZKmCCjEs4k8ZmngYZYRqNkwxbXAOjMDnkdgpbC5G8O0gfXFZeSZjb6/iIE/pJ8VRWFjGPl4cGOErXGMW0+sYmV5iFE6Q1XPoOIRkqREllWIAmBrp4ZpaFhaMmGaZIc6cFcUDSZTVrk1WF6ysbNbwvN09KLOaSmSK501bQr7UzZtACtDC3HjQ2tSWHUMi6YBMnF6g6IysJc7MFFjLUqgKgZd1zLeLWqOdC0BABzx7ma+xLMs+/nc1cyQ4QZxbSJWljB/awMLO80QkZFh0YzRU9ugoi+rqGmL4VUFSr2A1zZY7vm4dWUJUxk3StkweqWGCcG56wr4YFsF9XOKLJ/ENzgC7lKOTOdsU093OyaQ4I8hx5qFzOAome8Re2wNWIYtxg2xArNvVrMxmccC8bUc1QGdUgfI+iXTKTyykwSj87y8gG0ljIjhttCoAQ2+F3XxQmKZpbGIoJL1ax2o4oXZ1RhazWDmbvFquqMLCcOWbL6yhK9bSNoKGiNbCvb7shauRmOZwvqJSYPxMFqN0d4eelEE32YwuCYM9vkRr+NjwhEvGTiyh3QHFyWSIhMRPLeLTKRqlWj/xH3sunCp7yPrKXl+LgzV6QNVWwvApLbvxf4aXj98ER47dQon2boj6Ha+n3P9n/zMfVxexk3/43/AChiKfbgLbxh58X7Zy152uCu+hLU9E0AoN/fzn/+8OIAXF7ug+qc7OmYeHs0jFy6cSJBJpPb6sEwll3BIjx56jY7AEQC8Rgf6ufQykvYvNRZXvvCujONeanl4oqEe46l6GXlS+/w3P48PfOwDwmDwJEXHbpzFwvqRCaGWj7l8wuLIhdkXhkOCWOaxGgSKjDz54jfP4L7Hz8yJHw1J0WCazRAEHnJ2yTYtQkeDQd0Wa9+kF9XCjD2+TQHD0lDmBnynj0E0RM/tw9EjDP1FPHg2xc4kw8tuWhUBPFnKBZ/mCQ1JVqCsahi+i2+cjgXgnFzKkSeZBEAzG7BULZKkc1x7ni3BzL4HYf34N2mnsDTMZg1mMfV1XWNFkjQIXCC0CtRFLa5S13cxqheR1A7CdiSByGT3TINMJAECGR8NRpNhWkXIakvcsQuOEm2fodUCEuneJVC0jFrGvTPlwDcU1oOZgCU+Z9llC0cm/9gHzLw5MlIl80bqGk1RiXM5JfNmERw7WDJNFAyWJnAjA9Ya8vi2VOLINS0HNQ/MfFwrmFspAfhk0RhXQwDeEKCRmqTmjz29bO/gKHYeY3I+RoVRLpYJkzpDeW+78GO7Ztaikr8lsxnyOJHeZGe40OnadAPsw2V+3wHQkngW7hpBFVG30T2mKOcjXssS3V6tCEObLp6Fr0Wzh8TFsAqPLDJHvDrEtFzzPamlO5fNHlyvgD8h5Cw0HAOrCvvjfSwuDOQYSGtH57qA5XooaeRo6eIFTLLZqmvx4Idd4/5znEtjCaNo+PlUlWgADbKmptmFVVNUwWNIttK20GQFbvVX8D3RDWBlG9n64ysrMkqTmjffR0mn73xZeuUrccMddwjAvBoLu2/J5rz0pS+9Gqt/WuskCCXjdlgBzE/rRZ/gQWy54DZcGHB88cOejuuY7ynNdrwRp77xAFBe7nYdPO9973sffvu3fxu//Mu//KTh0n/3d3+H9773vf/lpZgC8XwzaFzp8X46zz8CgE/nKB095r/cHV4pAOQFkLoZOrII4jjuZS/jUy07kx3c9eW7ROu3cW5DjAGD4UBYPI7H6MBl5h/1fBe2fRxo+TjunebTbtx7doRPfPlhCdJdHfTgOxwjsiWB2XIalOiWchmZTiaFuDePLa2gzTX0wyU0jYPNMSPdLKwvrWA/TlDXDQahi5uXaN4oxAiSqxL3Proh1+VX3LqOjb0JPMeA4ZvINVZ7kZUqMN6ZYn9cIQw0LC5ZyHP28xJk1MhyNpJYCEId+/u1ADxq+6KeKRpEkcG1LeK4QRI3WA5KjChCQ4vQa+EHDuqGOsUSpkqwnznIKgPHgwyz0hIG0zZZiVajUF3biKkr7JYLaFoDQyeFxbGx3mLJpvEiRWjXGDg1lgzm1tXdiFBMCpr06zYEawRC1N1pdL0q0ZhRf0j2zQ0DmI4NmyxlVQubJrlxbGVhfRnHn9JB2yCyQ0yTccfyWZbEj+RNJTl2BEVWzaxBHZmlo2XHLGN+7ABTmj06F4aMVPOCMSsdW0g5gFMDaV12DRWi3XPldfnex9OZgMNe1Ov0cwR/bYu+G2HC8a24dAHX8QXclyIV0Lt4FtPDjC5jvuu6BptAtOlCvKnnY91apDuY1nnnli1LAYMEa8o2Oi0h3zvdRWoxqJnAsWMvGT0jJpG2lZuwKi1gh/5cuN5FGHmG3UW4UCdIfZ/ro8jS80CXrJ5XQSriBA8yVqZmfV2LRBUSOF7VNUx5rxR0UxcAaTQtXj98IV42uFHCnbkfjGC54cYbYTlOB2wPmj40DauvfjVWr3I8y2GHH1/Oqf7RRx+VXFIa1a7nwiw7jqElkugSlgtdx2Qzmf9HQEvTBB3AdDe/9rWvFVD4VDfnT/WS7Gt+5zvfKdpE5uw9WbsIASABIkmBC5enynu9hF09euhFR+AIAB59JC75CFwpA8iRDce9ZP94l7nyHXRBfL3PPvBZ/Pv9/36+ui2bZSjqQqJhDM2QIFqJb5nn/F0Y4MzxMMe//PvOeIZ7/nMDW+M9eayluzizM4NrO3jhDbdCtSHq1kFVtKAZsiwMRP4Qk5ju3ArHIhO+rWOUNhK+q7cNxlM6Z6nTG+D0uR2sDiO8YG2IuFAYxQV0w8JkOsZ4GmNpOYARBBLu7Ng1nDZBmStxGruOhtNnFaqqxbE1quPY0cuRtBLBclG0UKoRpu/sBp2twInjnYiZTlStSlBym0WzZ2Bp4GCzXISNAkGzDaMpoDMrDhXKxkRc2CgrHWthKiaPyKoxdHIs+kpCniOjgNNOYCKW6JqgNZFR00fdmm6gZwWYFbPOsWqaiGBj2nTuULJzkRViprFVokGW59DjEo3ZwokicS4HGiNcGJlTy+jTYgetG0iDRpc/pyNio4XKu4YLaHBULQHKtDlTo0eWjwYFslsy825q2AJ4umYWRrtI1A91hN3sXBhFghnmMtI8gZxg3UBl6kiTBOlshsAL4A8GkuEn+Xvk5ugqFocs9XAE3gbqvJhHuDD02YJeKjHHSBQMWTHWp3F7+Tocs5H15fO4Foo5627dkhopXX8E+7VUsjWMTik6kMZNl2DmLBUwyFYaMsi2acBxXMlZ5M2LWbcoBCBC3hOTMTPzaBrq/sjEcd2Mr+mCjqTEWVzKdLXzOPMz57Y68pbvTSNuY+7ny6w1LNeegD+zqkQszwy1G1/4QmmbkUYRTrJdFy94+9vRvyBo95JPMk/zCRxREsAQnFyv5ZmwDfx8f/KTnxSwxnPFlSxkCdm09DM/8zNSnUZtISNTaMZjjt6lLqzQJDD9y7/8S/zhH/6haAqfCgCyq5efq6Pl6h+BIwB49Y/xc+4VeIKgqPZSFz6HjB/vMjnq5ciXF8OnWk7vnsZHvvQR7M52ZRTKwGYyfJtbm+KcvfWmWxEXbNegTs6UGjcCQ8/ypOKNURv8PVoTH/rsA/jKQzsSB7MQ9NG0zHYzRDh9/1aO/aTAbcd86CpBnBZy6S9LhUoRIHBk1+KBs3uIXAtra6syQuYF2LYsAXfTJO1YzFohzgvRDrYWr+kZoFdwgh70xifewPFBhtHuTEa9dO1ylFsqZrVpAgDPbSqJdVld0TGdKfiBLY9jRVtZkC0jxqqwtwcxa5zodQ5c/r/hWlBGJOYN5gYaxVTy+NjUcUOPg9dWIl1cY4bQKdB3KiybGqZapx+jftLh+JkMmmHCpuOCWrsik5Est8+QgOMGFqvJDF2YMOmgJYtKcEFQVjP4uRY2waLb2XfFKdqoEp7hYIZuJMmLF2NKVEEndilaONN0hDlL2y4ShYxbDw6mtHMQ6NU1PLp2TR6TzpVqGJaAyIwMHUWbBKWqxawu0PIzoGtwm67xoqQhhBCRjljDwX6ZIJ4wdLvFcriA2jZQzcEX94uvFR9EphC8WnQ+z7V7c1mBC3YRd/VrBFG+ZiJTBVo2wdAkwlG+biHVO0MFfye6RgMdGJ0bmULWwTFSRlwzgGvYqGlEqisBO7M4RmA40FweJ362yRYzw1Ahp/mFo2TLhNcYSCqaTQgGO12o0/z/7J0JlCRVlf5v7kvtXdXd1U3TICCu04KggoiIR1xGx21cjoowqAyuuOH2FxhRUBx3PajjqIgo4ogjjgIjKiIgyL6oI4hsvW9V3bXmUrn8z+9GvPKRVlVukZmRXfH61KmuqsiIF+9FxPviu/f7bti1mQkp8xdz8x0Bf7CRxXxeesMJmZ5XH5d07p674gmyJj0skXRaZvfulRzHyuVkmrAzLCziklRKekdG5HGvfKUMr1/fFjsNr6tf1PtMY3vqkTO2XlXgaKQP3Gu//e1vtSZyZT5fI/ujtB0l0RC3cG48u4nYNJIPSIUNLLyos4u3YDUACPBEgMI5sS2l6Dqp8m5k/LrlMwEA7JaZ8lE/6wWALPDYNUDrEwKA9SO8sFTjM3c/fLf8ceMfJRaNaSUCQrjkSiHo2L1ztxTzRdnw5A2SiCUkFU/p7/kO42Ma+/nhdffIF3/yO9k6PiUbHjOqwAnl6WBfryRTPTKdK0i4VJDc9F658y+PSH86IYcdsr+MT81KKhGTULko43snJVsoK/jbujcjEzMZ6e3rlyFq8eJrHItKbq4ge6dmpFTISy5SlsxEVsLxssT6AD5pVQH3RgsSy+VkYpLi5E4dXif0G5be3rAUi9QFLglefWPjBZmchPErSX9/TFhrU8mQxEJFyWfI72Phn5M9maTM4seXKsnKwaiWM0uW9ko6NqmM3tpURCJxQppFZXrS5ZjkhHyvqESKourREmF0bEPK9KEoBVXMUsuXGrI5NQ+GPeuJpjRHDt+5YiYj0XxJQ9mZuawC9GQ0KcmySEGKko9EZC6bl+FUnxR74hIiR65QkP54n0wW/2aB0hfFEmVWw6SEUON5x4g7h+AF8YSU9bgAOcdZmXBtWqazM8qWsUDF4kkJF4uSI5QcIiYu0htNyIwCsogaLydK1C8uSYmSaAwmKt14UsZmpyU7MyvJnh4Z6ht0jJqVIXNDuCU8HTFPdsqvxebK+pKh5WHVGQAAIABJREFU5dkQqBDux7QGs+VEQgr5nCqEyWmEBVRQTB8RJlmlCAGMVORQ9tJV2aaTKRVpMPa0VDytx8bIHPXibCYnw/2DUiIJUmu6hRR8A1YRaajYRC1cojLNeOk2DnvKPDseg444g8odczCwShc6di19bviafD76BWA9YfhJMpIe0rlgzrUBuHt75S/33KO+cwCE8PCwpI8+WmYYW8ye+/o0H417fiGhgRePNJ4pgGC7rJcX+61nH3/+85+VDW0EHNVznKW2JZpyww03yHHHHVf1pbqWY/7qV7/SEnAG3NbymYW2wUbmvPPOE0LA5PBVA4AIWchBRNTDi+OXvvQlufLKK+Xuu+/uKMBu9Pz9/rkAAPp9hnzYP0AVD5xaGjJ7U7uXPD9Ctl4YbT7yyCNq/7CU9cLdD2yWb191i2zZvUdikbAqe//8yHZJpxLy+EMOlh2TORnsiUtvuKA1T2ezeRnsTcs9D2yRPdOz8qQDRiWfR+UKsBpQluOBrbtlCjuWSFym9o7rEAyNrJRUlJBiXpKJgkzNZmXvVEGiiZhEUgNSyJMgTz4aSYMFWd2fUE8/gB95e8MrIjIz6/j4YeUy0B9TNpCcMMK1O3YUZG4uLGtGRHKzc1rTtj+Rl5GeGTVkHk4WJRafkVQ0J5GpvHoQDvb1SSqR1KoWxXJBw4sk9BMeJLQHQ4ZiFq88rRMbiSjDNlXOaziW0Gg/Idy5WV34yfEbkLjMYjjs/hwLO5UzCC3C+LHNXDYnGapWZDIKyMqRmERTSYnClEZjalKsylmAHDmAcyXJAJQQf6C/Ljt9VP++HAXfQhJNpBRgchz60hfrkUlYVVdtSz4b+XUAMPL5CLuqMTOB1njsb8bMJcfqBKBDtQ0qsOwe26mMJS8kQ/3Djjeea8ycTKY19DkXcur6ElLtDSXUmw8AxL4Sas9C1RNHVQsLh/J4GqCFalfz+6K6/VwUFa4LjqgbHSk7wg3Cpti4JNJ6ng4+C6mZ8zSpC4WCTM9Ma6h4pG9I8rCDhP3VP9Cp7ME1qgHdaFTSxbDMqoo3JBEcwXPYuQB+i04OYrEgyXJEsjCnMPARcifJAaUWS0lBLecNgD5+6PEyPLhSCrmck47gsp0wgfnZWXno4YcVfA0/4Qmy/vnP1xAzfUOYYZc342cAgA0IyVVrNKfMPHv8AL6owMH1c2CD9YxreY5W24YcRMATAMuL5+tPfvITDdPecccd1Q696N+NN+LVV1+tVZto1QBg5c54qeQZjxfhl7/85Yb7Enxw4REIAGBwZdQ9ArUAQBYtwjM8BMgdYZHQcJVHjTDyAxu3yOqDnij5QkmG0jFZOwj7F5LdE9Pyqe/9Qq66+Y+yarBf1q0aUtYKZq1vYIX8Zce07Ng7I/+wrl/2jmMeHZLBvrT0JBMyk80paTI1MyP3btotqURUDn/s/rJ774yGVjbtcRgQSp1FooR+JySfzUosKTK8AhAU0sDm3hK1eJNSKmIUPCW5PTkpF8sSTpdl7XBc/fNUiFkUBYHU6121Kq7VPlKpkKxZnZCBAaeSRmjvRhlNZ2QglJGReExyMHPlkFa6UOsb7Femp2V2elaKyZD0pHukN5JUYQIKUgBNfwhmaQa7YQlHHYYIcQN/VtNj8tsAMah0o1GJFUUyoaJjDFyYk55QUiahCxFmhMNOODY35eS3RaPSX47KZHlOpmdmJJ/JKusXSiclR2UTrRuNf11JGShVmUpYhsIJyUSpdZuQcmHOySnEO1HFC9TIjSkrqGpaWLREQnqLYZnEnBhARqUMbFWw9lElrhOuVMPncEnD1Vi99IWTMhUTtYWhYcw8U5iTqZlpSaVTqhLHDoVqHwoQYdUkItSUJufPGDH3liPKQjo/lxREzQGuow4IpN/4ACIkccycnXMgM84pL+jUJO2LpdXuRhXDqgaOaP6eqT6i1jSpfq0Sks1lVWDQOzAovRHEL07qBSxfknCuhqEd9TTHTIdiMkMYHZCuHoiOpQ7MIzmVHL+XcDYCEMaMcVUgyzjmHBBbKMhQrEeeN/Jk6esdlLnp6XlfQ/L7lAnMZpUp3rhpkxz7pjfJ2qOOWvLOhiHkZdCAQr6zuMMSGoaQ7/UqPf0Avv7whz/I4OCg7L///h493erfDfc/YM0r0+aLLrpILrvsMi252WjDVPkVr3jFoxhJrhkAKsA/l8vVxFaeeuqpmjZ01VVXNdqV4HOLjEAAAINLo+4RWAoA8jcsXUgW5q0YZVy9qrRaOnTbfY/IFXc8LL0jaxVc4JP32JG0bHzor/Lj6+6U7WOTctB+w7Jxxx7d3f5rVsnQ0IjkCvj1lWRifLc8sGWn+rodvHZEHtmxR4YHemQgFZfJqSkplMoyOrJC7t28S3bumZInHDAqmUJZduyZlZ5UXCIxKnfgIwhbJpKdcKJt+z9mQPKSlD0ZqjJkJJTLSGmOhZ9KF0UpzZC3JXLwQUlVLvf0hlSsMTwSlVRPSYYHk5IpTUuY8mKbd8nc9m2yZ/duGV25SjLlguTwbAuHpaccl0khDJyXAtUgSiHp7e/Vuq2AQ0Kd5JQBjAjrThZm1UaFvLp4OC4zsFjkbkUTEoMtQ3VLmDI/p+bBs67NCUpYvOvU3w6VbywpveGozBYxFna89lJUjMB+ZnLSqTwxMKBmxggyNCQJdVdwjI6L1GXOOtYjOVSsuaz2N4FAIhGXaKms6uBYPOWyak5VYG3FklrpqE9OsaQK4ly5IEJeYS6ngLjEn8j3IzRM2DMcdUQlGEijbJWw7N4z7rB+vT0ST/dIZA7DZ7d0WSKhoWLHABpqjhQAR2UMO+aApqIQvgV8YULNOWDzwjaFhKPypcEOzsWjOkdcAOwOgQo1felLGIVw1KkNrH9n3yF+F5dMPitTU5MKgIf6B7Wqh3oFsl00KuE5wLlbvxdWjxBsiZcB6vk6+Y6huaIqfzWSnXDGiJcdtolovl9OczuVMdJScyEVcgxG0nLsisdJum9AcpOTei5aLaG3VxlLBY0A3EhE9oyOygve8Ia6mTz2B7C1ASEsIS9ZNiCsVskC8AWruH79+loeGy3Z5q677tISbOStdaoxjn/84x/lmGOO8aQLF1xwgWAr87Of/azh/QH4idTYDYsXIkEf+tCHarLN4Tp5+tOfriHhb3/72w33JfjgwiMQAMDgymhoBHh7q2y8hRKS4TuqvDVr1ngSjqg8TiZflAuvu08e2LxDjjnscRqS/OMDG+WXN94lyXBRVvVj0pyTXXunEVnK2v3WyR827pbVAz1y0IqEZGaduqTk9z24bUy2j0/KoetWyrbde5SVWL2iX1YPD0mG0BmVF0ol+cODW1V1GU1HNFE+ElfiS3MSsWIJx2PS17tCxvaGtUxcPLpHJiYwMRaJJGGvRNK9JTl+w0o5ZLRH8mXHl5B/AME4O0R0MrFHZPMmCY3vlelyVkos9OMZWbFq2C3FJbqAz2FPMz0tpWxBiqmIpHvSCqRS4YRMzTkKWPImGQBAUqSA6COuHnJlSuSh3CX2S06cW2UjwrEQMJSK6p8Xhb3C4qSAiCKsoCMeiclM2GH0ABypUFy279kpxVxWUr29srIfM2djfiyOcngu63j4FYpq3ByOxiQXdUuEEQkuR2Xv7KTWkCXXjXMoFPMSiUYlAkMXiStTQHkztYKBOYLVo0YuQLdQ0OOwTzU4dlW0KYyZs4ROxVERF0IyNr1XWb9kMuXUYi6FlEHUhoVLIeTkGqrJYlQiefIgw5IN4Y3jhHSxcJnCDxImEFCp5tIx3QZwRIOBpeawCjkAZRrxTslMxvF8BMj1pftlJjMzb14eofScRGRsaq+Co0QqJUN9AwqWCd+a/D61cHGNmsk5FMRIoYhkqZwMKA+JMoHMu/bGBcwwf0742vFJJOxMvzTnkRByuSzrU8Py3NUbJIKIB7AHa1ksar5fbmJifrv4wIAMHXecPDI2JpTaMv6aht1p5KECO0Tel6liwXeYQ14gTegYcIjK1YQ5yQ3Dp86L+reN9JnPoJAF/HXSqoR0GCIuR1VhYms9x/PPP1+wt7nkkktq/UhN21WGgE866SQdOzwCaeecc46eA4Ia5p+w78UXX6xgFCAYNG9HIACA3o7nstkbOYAsDjQWXfy4MGUlDEL9XoxhW9X+unNafnjLQxKa2imj++0v/3319XLXvQ9IIh6TA/Yblb5YSOKxiCR7B2Q8U5LxqYys7YvKA49skkwuLwevGZGh/rTkADTRiIxPTMnW3XuV9XvcAaPyxwe3yarBXlm/eoVWAKFE2Fw5I1t2TcneCXL7yhKPhyHQJI7jQl9Y1qzskyevT8mKgYj09RUlmQjLfTsn5YGdszKdy8uKXpHD9luloWpAI7l5M4UZZbR6472S27VdYlu3S2wqoyE9wrqEiVE8bxnfKStXrJCBSI9MljKShT2bmpFeSUiqr0c95ABrGs3V4GlJosWQzJTnlCWiJBjCi+mSq1oFQBUiMh12wpeoU/siKfWO0zJjsZh62aEoLbimxCmEt/gWkg9XgkWNSXGuJGOTeyRBblxfn+4zgw0MeXj4+VEtQykmUbAYAfcALDSk64Qt8VfEx9FhoBwfQbwc5wpFBYNF9VcsOuwgoWmYtWhcwr09jnBC8U1EcwbVrFivSU0WlOIcDFdRCuWyhsdLhLL7+iSWJDfSsS1RgBSLKqPFsWEQ2ZcjnFDs5uQjqsUMQI6ydGEpw2i6ql1YQAXNrjcgXn2odlE7048w4DnqMIVOVRDRvMYiwhq3eoYCt0JR9kxNqqF0/+CAJKJOiJ8XBP4OaxhRdpccQEfZS65eBOU4ApSkYwatDDCgMxZzLHawi3Hz+7CiAazDGCvjmIgpQ4mi+4DkiDx79Mn6cmByEzXPcWBAwZ9pPWvXimzYILsmJnShxsZJgaL7PGA7rRVsfTWS61dZyQKWC1aJ68CwhNQL50Wzk+FXBA6kuVSzs2rV85D9Mg6wbU972tM8OcxHP/pRzfP++te/7sn+zE4qASA/kzuJ/x/tve99r/z3f/+3RpEA/ah/P/axj6m9TdC8H4EAAHo/pstijzwcYMZ48MD6kbtDuJcHc6vbvdun5L9ufkjuueMW2TWFMjIrfT1p2bR9l2SyOTnscQdJz8CgFErUVBWZncKDj9JmRRnqS8vtf9mohs1PPGBUxvZM6Bo8PDQg41NZ2TUxLaND/TIxm1XPQAQaa9ZENV9vcDAiG/eOya5CQZJ9MbV2K5ZDMpSOyrMfOyI9yZCqZqktzKKdjqaV3QGgzM7NSraQlf54v5r1qrEvhdG2bpTsloclnCVwHJXpck6BUm85ruFbQMXY2B5ZPTKiqtKJiT1Sys1JrCclkXjUEW+EyDtzjqn+e1HXBNnNvRsoRQVYSe4djCDH0fy//JyG8dQrjtw/rctblli2INkIlR9MxYqo5u4RQlSPumhCJvbu0d+l+zHRTql4Q4UHgIpcTvrJGYw5il1abywtMyU87pxcuDjsZC4nOdg38vkiUYd9K89p/V72gx0J7BxgBnYQpkvmSjJJHt4cKuqIDKb6JRsuaQgWYJ1IpPUcyH8EvMwiRsmX8VJRmxKOlSxi9F1QWxVl8dT6JK7Mn7FCofSb5vfFHYAEsIRBmyG67JZjg1EtEN0m1O0Wd+uN98hUfsYBQ9jbUMFkzq1N7Ao3yDek2ow2VTAnJD81I3tnpiQWj0nv0JAkCyHJqGgFIOcYLDv5fTlHuBEOqwE2o6sl2tzyawD32WJW51VBdigkqQj5fa76t1ySRDiuIFJHiGumLPLkgfXyjFVP0BcAY82jODgSkUI26zB/sObr18vUunXKTlJ1wnjO8SygAdYVtLo/V4JCgGCzLCERBsMS7tq1S49HuoktMMGOyQsxRC3PMixTeOn1qmJGLces3MbresSnn3662mN95jOfaaQ7wWe6ZAQCANglE+W3bmLUibqX74R7ofHb9cD90W/vls/86BrJZjIyMjSox83m8pIrhaW3f0Ae3jmhdi0b1vTI+ASVN+KSjMdkJpOVvdNZGRlIy/2bdsqe6YwcsnZYnnTQflr66oDVK2TVSEImy9skE90l8URJQZUCNqpBlMqyc9cu2TaRl9lIj2Tm5mRlb1zWDkZkqCethtRm+6n8lCQiCf0CBCo4Q1ySnxJItMGxGZnb/IiGZtFWsBizkGs4OByTqZIjdEgVIlqjOJVOqhJ0OD6oZd1QJFNBA2Wvlj9j4UUMAGsI+MFkuFSSyFxZZqMOEAtTqzgUl2kUtLBJsbikSxEFXZozVipLn8RkAtkC+WGhsPQnsGxxxBMagpzJy56JcYkk4pIiaR8j5nBEsqomEWXWegiR4j9nqmekBmUy4+SSEUZNxJPaX5g5RdGFoqQAw1TKIIcum5O0xLQ6iDKD5MvByMVizmcAGgWse0IynZ1V25Ui4eVEUqKcZzSifZ3NFyRJriBgGVPmeExC2Tll+VTZTF3bYlE9CPMohlUkUdIKIGoXw4Fg+kpFFUnMRUPKntFiMHLR2LxXIL9L9fTKzMy0sVd28v1c0Kx2NnjzhePqFajH1y+R6clp9Qvs6evVcwCMzsw5TLCWbENwgiF2Iaf5fwDQBOpf18JFfweIxVuxmNP6vcryYawN88cuuD7Uh9CpK1yORfQztCP6HyNP3e9JWsLNALYI11c4LHOucIbfRw45RKZXrlRBF4xXtfsdEGjAoPm/DQj1enEBYaOg8LbbblMGkNxBW3XMfnkZtfMJWxWVuPHGG9XaiopGnWqIJMbHx2XDhg2edIFcPZS7Z511lif7C3bizxEIAKA/58XXveIhjukoD1dCQF4Yj9Zywg9s2SX/duHP5fp7HpB0MqGVOEiSTyeTEusdUGYqFRMZSYqGhPdOZ+QpB+8nvamkhoQBePsNpmV2clwOHB2W5xx9hAwPDeoi9eCeB+Xu7XfLtsltDusCqHIrQDiBRqduAgbUVBU5cN2BGjYDcAHwFNuEowrgYPoAfplCxjFVDieUnSrksxLZtFWy2zYpS0gqXV8oIRNljKbDkpSYxMpusn+hoJ+dLeRlx/guzcEbSQ/IXMIBdgggwvGkZFzWDYPfMiCY3LpIRFk+AEw+n5EQICie0v3RV0BFKDcniUJZ8vgcanlY/PYizrloHVonRwwTbHIEyQ3M7J1ScNkz0C9R2K2iSJ7uREIKJsgbC8XiKqhwRkykV+IyMTfjGCHH49JTDCmQ0aoXsZgj+gg7DKWioXJJ7WkmMKGGjSqV1FA5H43IXM5RYAMG04lemQJUAqKwPommZCJDRZY5yaH+LZUlTl3daMipaRsKyZCqX1HxRqVULDnHDkUkh22ga8xM7t5M2AFLTn5fVNMZyD9U8KI2NI7S1+T7aVk5DJ5R1ronno6nZFZ9Cp18P5TOyWJZj6/nALuaycnk1KT2v6e/z1HxliPK8inYjsUllC/otcG4E+KFhQXEoQbmPLQEX7GkRtWZ8pxE8DgkVxXgCO6nZrBrGZgIR1VBrsBNRSkhOXLoEDl0aH+niod7fvRH6wa7LCaVQLLr1knqwAOV9UOY0UirZAlN2LgZlpAqFfjvwVaZVlnvFmBITiWsoA0KYQ0bCU1Xnvv111+vYKkd0Y/Fxt3rmsivfvWr5R//8R8FJjBo++4IBABw353blp4ZprTVGACvOjCdycmFV90kN9zzgIbtsGv540NbVeRx4AEHSC4Ul95kXA4ZHZQjDhiSgXRc1q8ekgNXD8ua4X59yM/OzgqWEeQQoUKDNSA/7p4d98ifdvxJpuewunDCiIato//kp8H+keRPvt7E+ITMZGdk/3WO5QNVJ1hIMUAuigMY+LwaBRPqxC9wakwiW7bJwNi07kNt80JRZfwoHJYvzUmfqnrJqyzpPmCcds3sldnZGUnkSzI8vNKp2UqIFo4KRod1nET+YlnVnuTAYSAcjyQ0/4/cP+rl9pRjkp3LaakzGLW0cOySk3uHT10Ydizp9Bm/wDBG0mFloQglZqanJTYzJ/l0TFk/+oAQYro853jDUTosHFc/QfwUaZFkSm1SVF0MmA6FpF9iKkJAkAE7iNqWHEuUslrDV0R6EE8QA3c95/g5g620C6RQGUcLZckUnLAkoBLfOypeYPA9MzcncQy302mnzBxm1LOzkixFZLKUlzC5hBhax5IaEtd8PhfoGHEHljTsG4899p/NOnV1af3Ys+RcIQdMYDyp4WeELjTAtVrKIPZwDZZjyZSGa2cBbYTIw2EpTGdlJp9V8U48mdDdU4t4quDcVxqK1yzEkF4fOoaEgWEH2QblLwxeWTTEm1EBSFhDuHF9ESm74WunX1QOwRrHMIEYgj9n+InymOH1js2L22J9fZKfmZkXqjCexSc+UQ46/HBl/qpV7qn3nrdZQsMW1sMS4n136KGHaqWJpRpiEltxTAiZ41SyhBg619t4GT7yyCOrmtvXu996tqccHefIs82L9sIXvlDe/OY3y5ve9CYvdhfsw6cjEABAn06M37vFw8a80beqrzygf3zdXXL+93+hCtjHH7BaHrf/aulPJ1Wgse2hv8jL//EEWb1iYNEu0EfUbIhU1q5dq4tFrpyTO7bdIfftvk/VtJoKpYs1aWZuWTFCZ8U5ZfIKAgvj5PZt37Ud2aQmndM/wOVkdlJBX3+iX/dHKJiv8uyMzD30oMjYbg0vkpsFszOIh145r+FSxBrpWEqT9bW6QqksmXxO9s5MK4Bb0TckWyZ2yeDAgIYx+0tRmSTHDAapWJSBcFomy1kFB6CIgXi/w7gROg2J9BdjMlWYlTLl1YolFZIQEiQ8CAMGcA1nck593ERKjZoTZcfio5Cfk8mxcWUbB1at0nCq2p1QdQMwiigCNjES1X4bAYZGbjNZp34ubNGsK/qIRiTS06fgTsOfqlgNaYUQ3ReiBV4s8syBSKivX2SafDqHHQz39UtpalqZL1UDJ/APdJi5sT3jWpN5ZHBQ+vt6HaUrOZSZjKPEjYalEI1JZnxMstmcZAsFycOC5XNaxSGeTEpqxQqJ5PPzOXbRvl4pULdPgbbjd1h0z1OvF6pluOOuoCUWlUImq3mb+jPgUj3zMvP+grPlsuzavFlZ88EVQxLv75e5mRmdO0K+mDBjlF0qOKwyxwWEzmUo4aeuLVpLOjc9Nc9QE9rWkLU7rnru/A4RCiw2ptcRp8ILDCt9OrhvjYymV+g97FQidlTQmkpQLqvyeGx2VlJHHCGHHXVUVYDl5TOAPpmvxVhCEzIGADYSfmW/vBQCCg0wNGbVlTY0S7GE7MerGrzNjKHX5eiwkzn77LPlVa96VTPdCj7r8xEIAKDPJ8iv3UP5qwtKCxuGzpMzWVm3clDiLPoV7Ze//KWqwxbzGSQnBtaPBzgClbnYnNyx/Q4N9+rCgtq25OSX6SLv1sEtlB3AN5mf1PAkdYXNdjt275DdE7vl0AMPVT89FXkQRizmVOjB/9O5kkw9dJ/E905JMgRQchZdhAuEPvPhkszhJReJK+A0ylpUtNvz05LJZiSdTMtoekim89MyOTEta0fWyMpIj34+kZ2TRCgq6USfAuN4KayWL8mZHJyVxHsHVJQBg4XAIJrJSTxflHBv77yAAUCoPjZu0r8u/q7Ss9TbK7t37JCJyUkZWrlShkZGtKqHAgzy5tgOgJNMOnVvyRND9e2yJ8Z2RUEFanGOwd8BF659UKi/X0rT0w5QikYl1NurYgwFdq4fnm7vGk+rQTXHAbCkUvp7wqEs4junpiQWDiv4I1yrf2e/9BfrFkyS+e4KEziGAoxCQXKZjFYumZ2eVqZTGbR0WsvCYcyTTCQkmkhoDdx5pgxvRYCbpYzVn60cOjzzqJ6hIhiOJ6Kq2em9e2XV6tXKPGFkrXmSNM6ZKhqqNnZ9AQHEVihWXzjIgwTUuvl1sd7eR+XuKTCHYTS5e3gPVqh4o+m07lcV38pahiUGqJxyhCkqsohE5LGveIU8ccOGlir6a3l8VOYS8hl+hxUV5seEpRGAGNVxo2FdnmmVNjT8rrKkHS8MJvpBPzBL9qoGby3jsdA2XlZE4TojpP2Nb3xDTjjhhEa7FHyuC0YgAIBdMEl+7GI7AGC1877mmmvkiCOO0Ie/3VAoUyMUKwHUeaHBkDJ+26a3adhX3fe01m3ZMTMGDIbK87l7/B32j7AveXyEcQGEgL3xveMytXdKVqxZofsZSA4oOGRBiEzNSP6hB2Ru77iWX0uXYjIZckyAgRNU5UB9iUhipJhQsUE61qMedlSKm94xppUk1q9eJ4ORpKQicVVs/vXee2W/gw6SJIpVAIGWYnNNiQFW0GX43wGeWPhZ3FMpZekAE6a6g/6Nz/X1SWl2VsFEydj1uPubnZqSXY88oqG+Eaq3YDAMMGE79qdiE6d0nFbWAEQAHukbTBaAAqDpggvtE8DQgBpYORgnPOZcyxntn1tjNtTTo6FNA4xCfX3O/41ZMf2ALSsWVZCDF+LI0JAM9PcreIJBm5ucdNlIkXB/vxRtcUN/vxQAni4YjPT1SdENeap3dTyuoBKBUSablSx5gFTdiMdV8ZpKE7JNOvs31icwgy7YY7/hnh7JT0zM94Gsv22bN0ssElHD4Dg+dgC52dl58AeA5DOmKYCcnZ3vJ9uHozCMTohdy+b1988bNTM+VOkour59ClD4XZo6wU54XVlUBCNu3zV/ku2YS0y5XVV/aXBQnnHiiTK6Zk21W7Bjf+feBvSgvIXV1zFZwIbGgMFGQCH7I3fQ9iUEHPOSYRTH5BHec889WoHDy0pH9Q4sJtC8VHhhiM15k1d5xRVXyDOe8Yx6uxJs30UjEADALposP3XVDwDwuuuukyc96Unz9gs8uLZs2aLgT4vPr4nLH8b+IOMZp2avAj/UsWWnNBdh2yi1aQGFZSf3jd/xnd8h5khFU8ruwezFKCE2PSPbd26XxzzmMbqN5gBOTUn/ljGZmditAobBQlyGoj1qaNwfTmnYtrcUk765pR/wAAAgAElEQVR4j/SUovOLLqAIDmbXpk0ys3evrFi/XlYAZgnfspjNzKjC969btsja0VFJYG0BqwV4AnTBRADIYLfcUKoySIAxwARsEMyaG+ZDzAHQChmmDTYP0AbTlEzKrh07ZGpyUoZHR2WAYwE2UdsCGKkIQZ8AgZQDI/TJ/gB4Ltum9iH8DiYJgAXwg/1ygY6CO1cZrIwc+3JW7nlQqX/ns3zhWedWolCrmJ4eBXOZ2VnZNT6u5sQre3okyvni4wfwJISs9W0j+vl58OgCSCN24FoBVBVdkKWCD/Lf6LsLJPTn6WnJAgizWQHIZZiTfF7DxsneXkniK4jaGhaTPvT0KBOojJ6IjM/Oyt6xMVm1cqX0oxJ1S7YZYD4PbA07yXCo/Q+VTBxQo6yfy5wqcHWFLwoGDRPo9t2AIFS8HMsARoa5kgmkGoiGe/N5Z0x375bVRx8tx7zudXp+fmxEHbi/d+zYoaFfY77cbC5hrefK8e2SdrggVJpV8+yxzapr3Xcz22GIjRDGi2okXBN4Gt555506xkHbd0cgAID77ty29Mx4EAICO9lwhzdGtLyZE+4ljye6JioP5h6UGSpiqHAz5JTNCpU19w1gR+6baQBD7FkIBfcmenVbtlMGoJBxSrbFemQyNymhQkjmxufkyH84UvonsjL8fw/K4HhG+uO90luIKKgwAgb9zsKdTv9tmFjACeHF47KXRXfbNkn19clob6+GGjWs6nqu8SHCrZu2b5dZLGFgolwWKgUwA9S4zJcpzaXu1AA3wruwgni4wR7BpLnzpeCRXDd3O8ZuDIYqHndYP8O2AebohFbXcAQXADJlHwFY6bSU3LChwGqZMKsLDPUzhFoN2GJbFziGCEO6n2W/ml9ngCJ+fYwj27olx/hO2HLXzp0yOTMjwytWyCDgljEGyMIaurYm4VTKCfG6oAmPPAVVbliUfeu5uIwloHUePKr6W0T3Mefkg2pzw8bMDQwzZtwzLhjVWtDkEQIK1dyaGsYl2TUzozmFsH6wRhomttlHStjRT7ffnGMU9tCMKSITmEFEGi5AVFaXsagW4mXOyK10BTiEipVxdJlBQCXXNzmMY+PjMjk9LU9+6Uvlyccf3zZxV73PDpg4Sr+RP2l7EC62n3pyCdlHIywhzxt8AOmPySUEILIv25cQdq6VDKGX1Uh42QEAYi3jBaCsd56D7ds3AgEAbN9Y71NH8gMAJAEcMQYhO1Rw+cG87I7tlkwRTWRRQRxh23whL+lEWhdbQB6MHoKOvlifsoLGrBmAx/9HUiMKEIeSQzKcHtafh1JDsiK1QmYmZ+TeX/xC8KUPbd/usFhuKDPEAgv44Xcu0DEhUgVMrmAgVy7Lji1bNLw4CjMEU8VnXCZMWTWYPcy2AUKzszJXKslsqSTZXE6yMzMqYkgQWiYHcGBAqzXE+ZzLBhogqCwcQIf9AS45lts3ZR+3btX8t5Wjo9IL8AJYABIAjAAPmKx4XAGRYdOUcWQfVNLg3NNpKRuGsBIYcnwbFPNZGE43JMzfAGa6P8BcKuUAMwN4CNFOTyuw371rl0SHhhzWT8vXiYQHBqQIEwazBmPmjqML2xxG0mUUlfUDaJq8RBeY8ndT+YIQKbl5BRccahgVds0wkQaUWUwhoJ3QeWZqSplC/CFLVC0plaQXr8R0WnqHhx1A5lbJ0HkyIUsLZLKNsdCByVTG0jCBcaqJ5ByG0g3tm5xAvXao0GKYQDN+gNtkUpW9pmnoeGpKctmsGrkTJj727W+X1Ycc4stnFOOEzQlCLkKTVI5oxIFgIZbQjK058Xp9CXl5Ig+RELBpHIff26pjrgvCxbbAhJ8bOY+FJgk7HKISvGw02zDXRvEN4G7U8qfZPgSfb88IBACwPeO8zx2Fhxyhj042GEAEE9sK22Sib0KoE6alzxBYxJL6f0QcMIFqrRJNONYnGAlTCaFUkFXpVbKmb40MJgZlZc9KWZlaKf3JRaqZPPywZK69Vjbdfrsc+rjHzTNo6qnGwg3YAcTAvrFQA6ZQwboLPblvezdulF08WFetklXDw6rsRSgBK1ji8y5AUxAIYACsAGIATa6YAoACYCE/KUM1jV27BBaq2NOjeYIpvhOeJIwLUAAMALTcvLRyKqUP990u+zi8fr3EXGbIWLTosWDACKu6AFJD0/w8NeWwfTBpJhzM5/mdGzaeB3MAJwNWyMczeW7U5gXc8bNbBg6RCuAM1krBj8v6AVJYUEcAy4BNF9Ah9ihYIWI+P/8zOZnk+1l5dfys4Vl3PmD9DPDTsDHzZsCpK0RRk2UjdnIFK3qObh4d7CI2M5wj87FjfFz/P8S+i0XJzc1JFsHC5KSygFTM6Vm5UiKITdz8TQQmAGmTN7kYE2izhwA/+vaoEG9/v2QtoEqIl2bCx4xrvK9PstPTauC+Z88eWX3ggXLMaadJuoqNSqfuc4AT+W18/4d/+Ie/y/dttl8GFJoKJkZ1bPZbraQdIA9WEhHIUg3W2AaEsIQ0GxDy/0Y9VW+66SY15K9mh1PLeAG0ya1GZOO17U8txw+2ad8IBACwfWO9Tx2pkwCQBxNVSG555BbZEtoiQ6uHVKihNVNR2Rbz8xU4YPrI4wMIjqRHZHXPalmdXi2relbJYNKpIlK1PfKIhG66SWTXLsnl8/LIfffJoU96koZZNQcPwAIIIKxms3+GTYvHFRxs37JFQc0aCtoPDDiMnCvqUFAyOakq33JfnwPcACM0cv4ARoQ8DcvI4s5xXdYQkJIfH1fxwkwkIrmxMep5CKG/pJZrS0gCsBYKyc6NG9V6ZGTtWq2NS16gsk6U8QO4VubQcQzAndsPBabkBRq/OHLSDLhzRQVG1TsfmrYUrgpoOW/ALbluhGjtkK0bwp0eHxfYCBgrmI2IC8TYXplWPmvAsWEZtbqIUx3FqIiN956GiV1ArKpew1oS4a0Uh1QoZQFcmitpCzdcZpB9AqYm5uZkMJVSQYralLhzBLBDnMG1Qx7h7MSEAhrGRoE6ApN0WvPutGIJ4WqrlBoiHPXvc4GrikFgBg2LCqvoWugYAIMghJcCHQO3BB1M38z4uLJ+AJ5DnvY0OfzEE1U84sdGnh/3OeFIwE0rQ6jm/OstaQeou/fee+uuVWvMqm2BCZEMcgdtUIjDQS2h6RtuuEGrgHhhRn3XXXfJS1/6Uq0sUtPz0Y8XT9CnmkYgAIA1DVOwUeUIdAIAspBt2rRJrrn7Gtkc2ixTc1PKqPDWS2gXDz6qc8Dq4cm3pneNfgH27Jy/mmdz0yYJXXedyI4dCuwAW4ViUe6/7z55PMpDFwAqw2WAn8ldY/ElnFkoyO6xMS1Jh03JMOAOFouwJ0DLVbUqIIKBcgUUgEAFYsZGBDbOBTBqc4Kyle17evR0FMa6RsAwioQOi4mEZHbtckAhAMQ1bWbBHxgellQyKQkAB3linINrCKysn1HpmnCwCwwVcBlLF9dCROvHwoDCCKs3X+Fv+XgwYSbESxcBiuY4nF9Pz3xoVAEvwoW5OQUp01NTsmrtWul1mVUFfG6IeF7FC+tn7b+STVOwqF58rlFzJKLhbA3xurmOhE3nmUBAtVHKMqbq5+cqxQFSRrACSKNCRiYj1GFFfbySMLybB0k/1K7FgNZoVFXZyha6IV0Y4ynmB7VxLqfVVlAKJ6JRva4133Nw0MkBdBsM3rxRs1urlxCvegmabdwQr2E6Nawdj8v49u0yNjamYb3HH3+8PPbFL1aFt98a4BahB9cA9k2rV6/uaBeXKmnHCwrPJIygm7WhIaJiA0L+z7EXsqGpHBAvzagR173tbW+TR3jxreUFuaOzExy8mREIAGAzo7eMPwsYI6zRrsbD8Fe3/UruGrtLksNJfSg+vOVhWZFYIRsO2SAr0ytlbe9aGe0dVTawqbZ1q4R+9zuRzZsd1avLxiGagAH6y+bNGgLWN3PYL5gkQreIPUzuXy4nM9QNnpqSSCola1evVn85tU5xwaHacajZr2MYrGFk88DFkw4WCaYQEAEz6Pr2qbeey7SpUthl4PTYZjt2DPuD152I7PzrXxWM9q9cKcVQSHJ79qj/XRHPu0RCmQdCxjBRanFi7GP4bsQZhCotcGdYQD0JQAYqXzfP7e987dzzdIyZHf9Io+rV/7sq34nt2zXXD6sUwpMh1/ZETbJh6WZm5o2aCT+rUMMwpW6+n44qAhRYMYCsez76M6FWN48OoPd3+X4L+fvZwg3YyWJR9wvrtxfV9Jo10ssLgjt3Wk0D0GZCzYB0/kafOCZCEYCwazoNCOMayc/NqfXMLHmEfHeFPr19fdI3MKD5hL0DA6p6Zh+cN+BOr0GArcvc8t2E0blG88Wi/OX++2Vmdlae8MQnyjBWNO6LQ1P3SQs+bEKqAGCEFXz3WzOAEJHEX//6V62LvG7dur+zoTH5hLUweAudozGrrrShgSm2BSbkEgLanvnMZ3oyXldeeaV8/OMfV1Fd0PbtEQgA4L49vy07u3YBQNiAm/94s1zx5ytE+kQOf8zhmrPH1/S2aarnKkvgSduxQ+SmmyS8adN8WFfDlfi+wW4RistmdTE95AlPUBNmY8NCDp8xQ4b52b5zp8xMT8toOq35fsrUGYAHMADgAa5c0KhsICACcMR2MElaFSPvsIsINGDa6I9hHt3wswooAFYuEMSyRXPoYH1Q+O7cKUODg7JidNQ5D/bvWrpkx6iMkRXc5bACAeCiZk2MjCg7CCDEB0/D2zBwrkJZQ6xYqLgl2zQv0fgAAoZh0QxwJPQMADRVNgAtrgmyMoowdAhjtm1Tsceq0VHpcS1vlJl0gfa8ShiAAxNomDHXAkZDum6LDAw8yqgZvz9l/Yz/X2+vgjHN3wRQodIlHI6XIKppvhhzWEs3307DwNGoZPN5efCRR3QuDn3846VvcFCBmDJtADGzPT/z1SCLwvVBrhj5egAjvvPSRVhwcHBQQQDfAUmLHQMWjTAqLDmWHuQh+rFxPVKxhy8ECICqRset1ecHU4cHIS8AgFS8CJdiCU1/6hWYLHQePA9tGxquC37H+FHpyFwXS10T1cbnhz/8oXzzm98URHZB27dHIACA+/b8tuzs2gEAWbyuu+s6yUfy8qwNz5L1K9c/6nx4+yZvhtyXptrYmMP4PfigIwQA1ACUYB9cnz3YOc3FSyTkz/feqwbTWH+ogIMv2L1CQY2Jt+/erYzQqpERtfVQXzwAHWDPZaNg7VSda1S0xpyX47uGy+oFB5CanlZ2UEGga6Ks27iMnC6UbvgXwAgrlotGZedDDymbR65fcmBAy6KpTY1rizJvNwMIgxUrFlXYk8H+xg1N5lBOwxCKaA5hkmobgBpTwYN+uLVrVYVLf12187yXHwyaW+HChIBNCBchyOSOHbJ7507dP6yfAl2XJcRUWVlF2K5EQkEZzJ/5mdAm22jOHf8HROOP6IZc9WfAHH9zvyvgawCU2WpUDHcBKo2yO41er4B1GxACBgB1NiCEHaevJoxKfVj88ho550b7Wc/nyI9F6AG4RejhRR5bPcevZ1vGHtEHrBvgbzHRRmUuocnNrDSr9oIlhCE0NjD835hV23WOuSZqzaEE/F111VVy9dVX1zM0wbZdOAIBAOzCSfNLlxFjtKKxIJg3bJK/8aJaaPHCGoK38MMPP7yxbsCUXX+9hP70p/lKF6Zsm+biwWQBNtwqG2qgnMnIvVu2yIGHHKIMmebpzc6qTci2mRlN9GexJVSnjBkMnvHky+WUlVPxhzH+hd0irAnowdMP1oxKF4AY99gKFvlivNmfW1lDw8muaIS/GeXsLkKT4+MyPDQkQ6tWOVU23JJvGrZ1lbEAIdhFmDpl4lymT0OV5Li5NiQYIWupNGxoxsb0vAgbK0tYKOj/FVwZVa/SZmEVrcDSKXBLJiWMETLGxu65lZJJ2bh5s0xlMnLg4x4nI2vWaChUQR2fYTu+M34dbjCThMQAyKb0WIe7pIdHzGFChAYYGnU+4MRYg/gxlEr/TUUP8vy41/2qOrXBPy9/vADUC6hbZVbNSzBehMcff/z8NVFpQ8OzGubYFpikYdkXeBH6/Oc/r9VNfvzjH/vhEg/60MIRCABgCwd3X981b+z2G22z58sDcuPGjXL//fdr4jfMxVK2CCRfoxQkAbuuBhNGeOP//s9h5IwHnesh9ygrF0ASIUeXkeJ8H/jTn2TtQQdJinq2iDz27JHxHTtkRSwmw2vXqlWKyQXUXD2AH+ARBg/xBkwZrBX7RVTg5q4Z9k5FIq75r4JFl5VUIGnUrlb41+ToZWD9Hn5YjZyHV6+WJKEpjgvItP33jHkyIVzXMFj99Iwq1gVvWv2DRj9d02VCr/lwWDKRiMxkMjIN2wg7ODQkfStWyMDKlTKwapWKFxBCqBK2ojGGzBvqyaGhIZ1nv1aeMMIjrknyvFj8/QpSuH9gxbmHuH9gfAgRwhICAE3ImO8wQu1mL+3LgLAl8797925N4UDp69cGeIKh5MXUaysaL8yqmV+Uu8cee+yiQ8g5VNrQMP82IOSa4Hl7zjnnqFjowgsv9GRKPvWpT8n/+3//T9797nfLF7/4xUX3CeA866yz1NMVdv28886TV7ziFZ70IdjJwiMQAMDgymh4BLwEgLAXMCw8EFkQyKup1rZu3aqL3VFHHVVtU+fvCAZuuUXk7rsdBs4wdG5ul4ZEATswa4Bb8sSsHDQN1xYKcv+mTbIfbFY8LlsJH5fLMgroQbkLaAKcEXI1oBHwxbGMlQesoesDxnYcS5W4gE36yXYuSFODZRg5xAf8jVw/AB2WLa44BEkF4fKpvXtlBBA2MuKITTgHW3nLObvgjpAvIgzAJsyc5qpRP5jf8QVjB0MAI8c2pmzbAiNtFhfmkC8YKVMvldAkXyw0LDhsy8IPc0tOWqcVnktdOCz4XJOEXSk5CFj1a4PxITQJowNDCdtjGmCLObFDx9xnzIkdOm7Ug67eMaEfACqER4yrX9lJzguASl95HnG91hpGrXdMzPaVuYT83oSTzTaVuYSMJ3meiEBqbcas2haYfOc73xHsZMglhB38whe+oNdSMy88t956q7zmNa/Raw2GcjEAiI8hAPYTn/iEgr6f/OQncvbZZ2t/gnrEtc5q/dsFALD+MQs+4Y6AFwCQcBXsCoo6XP75qpWZAPTw2WOOOWbpOQFA3XmnhG64wQFFABxAFuwcoBBQRa4e4M+AQPLzyPkbHHTAomt0zO8euvdeLeuFn9uK4WFZgU0FeWXuPlWU4ap42a+qfgn9upYvyia64dUQXnqmpBtgj5CuW7HD1HlVBhAmz4hIYAxdwcU0vn6bNmkJspX77y/xtWsVIM4DuYEBJyeup0d/hxhF/9ZC+4/KsCQLFL9joQdMwTQA8m2Q4qebCtaPmtJ/+ctfZM2aNVpusNULf6PnT195CTJq1FruH6MutQEhIW4AmQ0ImZ96w5xLnQegA5EHqRuNhlEbHad6P0dfebZwHcBQA4o61aqxhLxMMa5Pf/rTtYu1Pj8rzwc7I9TEF198sVrAwAJyrbDff/u3f5PjjjuuriHgpeSpT32qfPWrX5Vzzz1XDjvssEUB4Gtf+1p9SSH30LQXvvCF+tL1gx/8oK7jBhvXPgIBAKx9rIItK0YA8Fb5dlrrIPFgIf8HNoiFBkBAYnU9jQcUDI1dhunvPn/ffSrwCJH3BuhxlbRaycKIFVwgqCDNzdfTsCmgi5w8ABnh21JJJmZnZcvGjSqKWDs6KjFy/RA5WHV82a7IsQBp7AP2jH2zHblyCBsApXQW0YQBd4gd+JsbilWDZPrDtpgLw0C5jFwhkZCHdu+W8WxWDt6wQUYRJPggV26h+TPVHHjAE36EBQRwwDLYgMPL0lj1XEf2tvQVNoXFC3aqFia60WM1+zmboYSpYSwbbdzLhAiN2pjvNObLDh03qiKmrzCUsJGEUf1cYoxrk77S6Gu9z6VG56DWz9ksoclNpY/kUJrWjOL4DW94g75Un3HGGXovoAbm53rdFk4++WRVn8MkPuc5z1kSAJJT+d73vle/TONzMIaA0aC1ZgQCANiacV0We20UAJK0zIMFQMDbNSxLI0wDixR1OE3y86MGffNmZfxCO3c6tikIIWD/CNO6oVMFea76VcUeADE350+3cU2YCetiAL0Vu5TJSfVbQ7DQDzDk84A72D/KsQH8YE4stk5Dx66NjDJ85N5h2QJ4BNzRJwyih4cd4Qf/J8TLd2NX4p4cwJk3ddgpHq489P2cP0dfUaOOjIxoX02Y0ZTGssPGhJpssMH/mwk/1XMTmnGlr1Qdoa+Ngp16jtvItvbLEyH0Qw891HOGkmMAgg1LyL3GfQvQsOeoGmi3+2rY1HbNaSNjy/WKAA3hGcxvo2xaI8eu9zOmr9RDR+zDM7RaSTtzPkudF1VACNtiBt1ou/TSSzWHjxAwzH81AMhzgRD061//+vlDXnLJJXLKKafoC2PQWjMCAQBszbgui73WCwBNCIhak4RUWLiaWWRZoMgdOeGEE/423uPjEr7mGgndf//fQqmAM8K7CCtgAGFKXNsV/T0sH+AQ0AVQIx/P9Z7j5z0zM7J70ybpi8VkZN062bxnjwyk09I/PDwfRqYKBgpfQr8a4gUcYvtCaJg8v6EhzSlEKSv8DKMHwDMmxjVcMUYdTdI3+Uh+TpyHSWMhBeTX0lfb886AQq4vmCKTR8j3VoBdFhj6Csippa81TFXLNgE401fGCEYGsNquthBoB0hUgnYTLmf+YPhh6mFT29nXesfEFqX4va+APMaVKiSL9XUhxTFjUosNDS/U73vf+x4FxuoZT1MZBRuZpzzlKfrRWgDgRRddJK973evmD/X9739f3vzmN2vaSNBaMwIBAGzNuC6LvfLQ5GFUS6OuJKwfzauEegARJZBe8IIXqHBDQ70cwzUnVrDnlgKzK3Qoa4fS1ihqCZ3yO3IB2d4NA2dLJdm+a5fM5XIyunKl9ADi9u6V7Vu3ShK1KyFZ9oMamHJ0sHWDgw6zNzS0oAK2lrGq3MYoUcnzwmIGZqIZ4NxIH2r9DH1FnAND2QyTxn6M550BhAB+2AQbEDabp4YaGUAFm1pNdV7rGLRqOwQJpDwAuAB/7RJtLHY+BrTbYWPmjDkhn5B5gyEkjOpnoQcvKYR8ebnwa/URMweEfLFogUXF/7SecTWgsBpLiOjis5/9rNYDbqRdfvnlKuSwmV6OqV6drhCskgUOQsCNjHTznwkAYPNjuGz3UAsAhDUgrEa+H4nfOPx7FVaBYfj11VfLCcPDErvrLoe9I5+PN0ZAIOCM3wHoYNrI+XNFHsbnTyt0GEGIa85MqbDxQkHGt26V/jVrZOTQQyWC0AOANzQkf9q8WdLr1sn6xz52/o3a1AH1+mIA9ACcGUcWfYCKX5udPweT5jXjw/VmwIYJTTLulXlqtQg2GE9YFF5MjFGyX8eVxRNATciP0DTseSMpE+04P17K6CsCLcAJ7CrzYed6ogj1QxjYFtAQQjVh1HaMUyPHsEO+XpiQV5pV8/P1118vr3zlK1W4cdpppzXSTbUdqszbI5TLffahD31IQXZlQwTC5yhDZ9qLXvQivW4CEUhD01DThwIAWNMwBRstNAIsTCzKCzXDBLHIchMDXmAFvGzlP/9Z/nLBBXLoqlUSWbFCwZj66mF14lbZUJsV+mjCugBDcv0I0bqmy2U8yGDz+vpkKhqV+3bulGJfnzz+qKNksAJwcQzYAh6WLBgIGbwCtPbYsH/Ukqj7yPHhge+HRXOxuUYtiWqSsHSzof1arxFjZWGDQqMyXqpUGqEzQDXAEaDairByredQbTvODRsS2D6Yc643vzZyBM29wSJP+J45qrSgMaF9O3TcTOmyRsaDFwDYVF6wYCibEdA0cvx6PlNLyLee/S32LIf14+vDH/6wvP/97/f0WqsMAZ900kmaZ4lHIO3GG29UMR95gy972cvkpz/9qZx55pmBDUyzE1vl8wEAbPEA78u7XwwA8lDl4cqCYLzePGUsduyQ0LXXSnjrVvnz/ffLwevXi1Y4peassWNBjIHwgy8sXsjvg+3DX5C8KYAh4I7voZACWZgLgAxWGoC7SmAH+OOcYTcAZ7yxsjCzeGBXwPdmQ5KcBou+CZcDnFko/dpgfOgroSn6itijk22hUmlmjgAkMIfYZjQjPmrH+dmWKVyPBx54oG9ZPyOg4WUPdpIUhcVeVuzQvgHuPC+YIxsQGt/IVow1rC9A1byY+jWdgnNvJuRb69iRWnDqqafqCxziDWMnU+vna9muEgDyM9c0wg/TLrvsMgV95IgbI2jYyKC1bgQCANi6sd3n91wJAPmZm9ewVp77p1Gy7LrrJHTvvY6li4jc/3//J/uvWycJwrPk/CHMWLNG2TwBjAD4YPeW8L0jDwwQQ74SLEul7YOp42n8uIzFAufLIgagqAxJmjy1epSs7A8XfJKoAaA8IFvBLnpxYTImeDeyaPg5L9HMEXmJzLOyxG7Y2J4jP4EAFn1YP/rud8sU2DxTtpF7p5EXADNHdi4hvzMCIAMMm2VquX95PuGbCEu9WIlJL+4PL/bhdch3oT5RQg67FsppAsb8bHbuxZgG+3j0CAQAMLgiGh4BHqim7ihvkYAo8n1YCDxlrbBKufVWCWPknM1KafVq9csD7N320ENyyNFHy8DBBzsMXx3NKFVhBBarOQxgMMCPXS+V62dCkka0wHdCTWYhMyzhQsn7RiTD3/xskswYGP85vtdataWOafF0U5hdQCqLKYs+DBXMtD1HnAeg3xaXkK7gKWtdw1nZoBpw4ueyc5wO1yxAleube94rUYoxqrYBoS0AMoAQtr3WFyTbhxDxhF9NyBnXdoR8eVZdcMEF8vGPf1xNnvH8q3Usa7iUg026ZAQCANglE+XHbhrAYywJYPwaKZK+5LlRqcNVD5dh9AjfWmXJSFomnFeP4MAstMbzbaFatDmLqVcAACAASURBVDbw4/+G9atnHuxwl2EJbQNkEzKGSYOdYsEn36/dwKPWc7LVyH6vkME5MeakIsAcLZU/V08pu1rHqt7tjICG64O++lnsw31vmGrueWokt/qatQVAxrCaflQKgBYCoYbhxzORFz2/5tJyzbQj5Mv44fGHRx8CiyWN9Ou9kIPtu2oEAgDYVdPlr86ywJK8S9gHEFWPJYFXZ4IPIOFSwpC1NJOfCCOwkIeW8cniLVyrdWDY7H7Vsv9q28CYGvYJMQIPfPbPgk/VCUAhjIrf3sZhzey6uH4GKMwdljkA60ZKjvF58jttlpDfkZdm2CfmySvGy1jRGLNsP4WjK69nUyWD+4TwdKeYNI5PX2yjavNyZeaI+4hrgJxdmGo/151mnNsR8r377rvlxBNP1GcmPnt+H5Nqz9Pg782NQAAAmxu/Zf1pFkUWr06Wy7rllls0l4evpZrJ/yEHCJYSYFBpF2JEHibnrxHWr5YLAsYJ9hGDXBgUwo822DDMhh2SrMXapJZj17uNzfoRPl1o3OrdZyu3h90AqJpUBC/KeFWGJJkrL0rZ8TLAdUD6hBFLtXJsmtk3Y2DqI8P4cR347SXFvFxxDXBvoT6mcR/xwsJ3QLzfAHa7Qr4YLWPDgsL3rLPO8rx6TDPXV/DZzoxAAAA7M+77xFFZFMhx62S7/fbblYHEX3CxBlNJrhILFvYUlfmJlSIPY1jq9XkZteRSZdxsZsOAQtjKyooY7WBbATnkdQJY/e5BaAA+/mOoZr30m1zoOrCZXBOS5PqyhSVLCYDInwOoAlAZ23bMZ6PXs119hPunky981c7BpHdwj/Gihy2RbUPDvQRraSuOsdZpdQh7sX6bkC8vLK0yzOYY73nPe+SXv/ylXHzxxfL85z+/Y+dbbf6Cv7d3BAIA2N7x3qeO5gcASEgDcMSiX9lYpFkIUIAuZkJts3583stwr92fZsq4kR9mq40JT3pdEcPuK2MCkCLPy7A9fs6bYjwA+MwdYX2uh3a3WkrZATpgnwhPw6a1K3+umbGASQOowpz5ofrIUufC/c4LCy9OgKmF0hTsfE/uKcBhZQ1qzrUdjDvPJfKnjc9nKxhV9v/GN75R1b3k+3GsoAUjYEYgAIDBtdDUCHS6UDcLP0n+LKZ2M4nfvO0vJABYzNqlqcFY4MN2CNUru5TKihgseDb7ZEJdjYA22AIWfBZTFnw/20LYZtlY5izk3ej1fNa6P1sAZJeyA6QCLgDW5F954RtZa5/q2Y6xNXmU3WCZwhjj7Wfu91rzM23gblTHMJ7sZykz8XrGsnLbdoR8uf5+9KMfyemnn64ef+eff77vQt/NjGHwWW9GIACA3ozjst0LD0sjnOjEIOBBRiOHimbUlMbsd6GyWfVYuzRzTu0q47YY+wSTYecRLrUosg/80WD9/F55hDkxYh4WU89th5qZ9EVeAjAOZ2wBfVjMmLAxm9vCEv7fDvZpqVNkbHmxosGkeZFH6fGQzu+OexnfUb54CfRCRb+QmTjMrQ0IYZkbecFibAGqrQz50n+qeQAAv/Wtb2ld3k6FuFs178F+vRmBAAB6M47Ldi+dBoB4vMFCAgIwUCbkS94PquRKwGOAn/neKpFHp8u4cX6EnG1hCczeYl53BkzBLDKOfi6LZYenuwGoGvU090ll/innwtjb81RLKbtWPWxM/hz3VCvDkl71n7ECqHL/A1R54WlF4yWDULHtSwhDbqvCAe7V8jjbEfIFCFNmjfbDH/5QU1+CFozAYiMQAMDg2mhqBDoNAFH1klAPeDFihYU8AU2uXyusXewB9GsZN+bJBhosaLAafAFSCE/jkeY3haQ9tgZMMc+AKb8DVRZ8VL7VyqPZ52jyPc1c2eUGDQPVCpsgUxuX4zG2frb5YbywUCJVwVhQtZM1NS9YNiA0ebm2uMTMkx3yZWwbqZZS7SFNn6644go57bTT5LWvfa188YtfrApIq+0z+Pu+PwIBANz357ilZ8ibMKCqE40H65133qk2GuSAddLapZvKuDFXLF6EogDOqCBhCFlE/BaOpK82M1UPmOrENckxAVOIERjjRsujmb6bMmnG747vtk2Qma9mgDv3D2CqG2rjcu4wlIhoSPvAkNwPjfvIVhubeYJ1B9QTjQD8tYKl5BlMNY9vf/vb8tWvflXe8IY3BCFfP1wUXdCHAAB2wST5uYudAoDGRoMFkofrM5/5zEcN00LWLq1S+HZTGTc7PI1VCuppQuELhSNh2kwyvClj12w91nqvZULZgCnYP79XyODcMB2mvzBoC6Uh1Hv+ldtX2gQBMhkbO7wPKKzF2sQYZgOmYH8Xypdttr9eft6YULNPyrlxjn5tzJPJ+2RuzLyR/2nnEjYrAoJlppYvOc/k/HGPBC0YgVpHIACAtY5UsN2CI8CbLwtJu5oxz8U1H8aPvBsetEcfffR8F9pl7UJfYCO2b9/u+zJuDA5hKpgexoeFohobYZLhYTNYYMhXMwuYEZewuLUiwZw+sriR04lwAiVqO8N89V7P3AeEewGAAD9C6q0Yl4X6tVh432ZzmWvbZsSIEYw3pt+FHtzvWJr41YTanpfFQr48L4z4xzC6fM6Us6uHzeX+uPbaa+WUU05RX7+vfe1rHbE/qvc+Cbb31wgEANBf89F1vWkXAOSBZ0pmkVuDRQkMAOErlMDHHnusAhtb4dsqkYdhejgufSEUBTDya4P1IzkcoGyzfvX21yxgJj+Nxcx4qBmGsBJo1HsMtgd4MraE1Jjneuo8N3K8Zj/DeCBG4GUEYN3pa2GhUnbcp0YVzjwCqEibMAxws2PQqs/Tb64F/AhblT/nZd8B1vfcc4/m0lYzdjasu51LaNhcO5ew8iWL+f30pz+teX6f+9zn1OalFR6CXo5LsC9/jkAAAP05L13Tq3YAQGOiDAtl8n4Mu8LvMIM+7rjjNDfK5CO2KtxryrgR9oWVIgepXUxPIxcFIArWj1YL61fPMYz9DHNgQKGpmWvbz9San8aCCJsK02OS+2v9bD399mpbzh9rF+xzGqk57FU/qu2HcQVY8LKEwbcRbvECZYcjW8XmVuvfYn83eaoAasBfu9MP6u23Fypf5sYGhPwfcHfHHXfovXHYYYdpDV9qHKPyPeKII+rtZrB9MALzIxAAwOBiaGoEWPABga1oLFwsriYMuFBOFQ/IW2+9VZ797GdrF1rF+tEXWJOlyri1Ygwa3addGq1dJskGaNhqY4CHySM0oBCmrBI0m3JjBuT7vUi97ZUHOOEc/dyMapbcROOZaQtLDNCotZRdK8/VtvqBoeT69fNLVitVvtzHXGuXX365VvKAaeblk5e5Zz3rWZr7fMIJJ/hGDNPK6yLYt/cjEABA78d0We2xVQDQlPcCGCympDR2DL///e8VhBLiMqFIFjKvcsYMA8mDGBCKz6CfG4s5rB9guFOl0cz4mNJbhiWstDVhvgCJhPn4P+Ck1ioOnZgD81JClQxqzR588MG+Dr9xf5KnCjvFtbsYY71YRQy7BnUtXnfNzgn3OyAHwQchVD9b/XCu9YR8Gx0b5uYrX/mKnHvuufLxj39cbV5uvvlmufHGG+Wmm26SM844Q175ylc2uvvgc8t4BAIAuIwn34tT9xoAGjsVk69GaK3Scd/O8+P/sAPG+NgADX42i1ejClb2jbk0i71XZdy8GPPF9sHY4YsIa0pZNJgTv+UG2bYmMBmwUIwzDBrAmrkCaDRSZaGVY8u+uaYA1uQoAqz9XCaP/gK2TdUJWMp6VLPMiS0C4qWi1TWoyfMD/JkXAT+H/xlfL0K+1a5Z7o+3vvWtancFAwjrF7RgBLwagQAAejWSy3Q/vJ2SVO5FM4XnYe4W8syqx9rFLF4GEPKmbnKeDCAkt2ix0FK7yrh5MW7sg4UC+xGAE+DE7yFJ8tHoL/2ESYMFNKFjWCCbeYIF6mT+l52bCEjFMsUrdtmr+bf3Y7OUXob/K2tQAwppzXpHmlxKXra6oe5wK0O+9jwC+k488UQdk+9973u+F0O14loO9tnaEQgAYGvHd5/fuxcAkAWf3Dpy7KjniVK1Epg1a+0CSDUAA1CIOIJQI+DCAELAiPHvQjXbDaXGbANq8qUYO7+xfvZNAIhgrkloX8h7rpJ5Ys5s8G5y1GrxufPi5uO6ITwNW4ki2e/hf0LusJTtCKEu5B3Ji1ctOZ9mbmBVYSm5jgn5+v3FpV0hX0ydP/KRj8gHP/hBOfPMM33JiHtxfwX76OwIBACws+Pf9UdvBgAaZoUFlvy9hSw0WmXtYociAYSGzWBCYNHI7cIY189gCnDEYk+oDHDi98XTmHcD3uhvrXYpNnjnnAHvzJEBgwD4VpRHMxUyYLjor59zE7lujQk1CupOlfVbqpSdYQrNXPESwL1PegUslx/D/vYDuh0hXwDmu9/9brnmmmuU9Xve857nawFM1y9gy/wEAgC4zC+AZk8fgAaDV28zFR4AXiT+L2Sc2yzrV2ufTEUEQlCoJAF9AA1+bxYtk5vmh9Cf6S9WEADVhRjTWs+9HdvZQgQYXsx8m1F18tJhym4Z8G7PlbE2aTSHzO5vN1TIoL+GVTVCj3bMay3HMC9axtrElEjjPgLYE6Lm+m10rmrpQ7PbtCvkS0rESSedpBZIl1xyid4nQQtGoJUjEADAVo7uMth3vQDQWDygTAT0scBWMis262dEHs0AhqWmYbEybhyXMJodNjal0UzImO/tZoUAPLB+HBfG1M8VHBh3m6VsVX8r54pj8oIBI2qrwrGfqdYAKggRzPjWI5yotu9W/B0gTAjV1JqtlVVtRV9q2Sf9xSiZBhMI49VoKbtajtfsNu0I+XL9XnrppfKe97xH3va2t8l5553na0Dc7JgGn/fPCAQA0D9z0bU9ARjV0owpMW/+gIHh4eG/+1i7WL9GyrgR3jKiEr4DEAEINiBcyOOulrGpto3NSsH6IZxoFSiu1pda/m4rkjvBUnJN2uC9moLVrpbSDd5ztlceim++/Hw90F8Ya5jKSmHKQqXsYAhtM3EvKszUct3a27Qj5MuLCnl+P/nJT+TCCy+Ul770pb6ex3rHMNje3yMQAEB/z09X9K4aADQhS6oQ8PAHEFSzdmmVoTMDSq6UF2XcFlq4YGJsQOhFdQXDUqKEJRfN76wfQB8WzU+K5IUUrAAmQvyMJ/l+NIQI1Wokd/qm5EUEFhjwQH85Bz83XrboL9cF6n7SLJZqdojfgHi7lJ0Bhq1i39sV8qWKDCFfwC5VPXjxCFowAu0cgQAAtnO099FjmdJSC52esXYhx4eHP2Efu9Vj7dLs8LW6jJvJd7JLozVTK5dFj1A56mj8EFEl+5nlsVk0v/oQmmvIGB/jN8kLAS8cXIumXm6rQUaj17Kph019ZL/b0XCO3AuEqLnvYf0bAW2mwoydR2jYd9uCxouXrXaFfH/2s59puPd1r3udfOELX+iozVGj12Lwue4fgQAAdv8cdvwMFgKA/O6+++5Tuw8UfguFLNsV7uU4gCj6Q9iZhbMdvnKL1cpl0bJz0xZSPwKcSQonpwvWz++5aIRYYXkYa69rDrfiArftUoypszETN6wTIANQYYcil/KObEU/zT55GeD6Bawa0VQrj9fsvrkOMCUHYCP88frlxSjD7bq5gHi7tnG9huIm5MuzCjauFQ4APBfPPvtsueiii+RrX/uaAkA/v9Q1ex0En/f3CAQA0N/z0xW942EM2KEZsHXvvfdqaGohu49WWbssNFh+KuNmxAo2QwgQsSuW8H88CAHOXihmW30BMe+E9lnsUXO2auH08jwMi1bNLsWE+AEZxjsSJtsGhK2wn6k8VyNM4aUFFr0WMYuX41XvvghRw/oxfhs2bPg71r/e/dWyvXnZslnCSkPxxUrZtSvku2XLFjn55JM1FP6jH/1oviZzLecXbBOMQCtGIACArRjVZbZPAwBR88Fa8YDrtLULYKsbyrjZJexg/Vg8YQQJ8QFQABt+VXbCkMH6Mf8Ak27IRYNF27VrV0MsGkDB2M8YlpDrrNlKGIs9LowpOeC6G4QpnIfxIuT6xZKmU95+tqG4AYULCYHoM2AVYE8+ZSvANX359a9/LW9605vkxS9+sVxwwQW+9+xcZkvYsj3dAAAu26n37sRhsWCtqJlLsfmFTGjbyfp1Wxk3ABTqSJgpFnoAnwEYLFowP3bFEi9ynZqZfRtc77fffpqf2KmFvtbzMCbUjB2stBcL/UKMLgC+soxdI8diPwhpuLe6AVwblTqpFn7zIjTXSKUQyHgSMj88t1rh9ckxzz//fPnyl7+suX5vectbgpBvrTdtsF3LRyAAgC0f4n3/ALfffruWylpM4cdCSYjGhInJeWlF3gv7J+eoW8q4cWXARqFIxrMO1rSS7bMXLWN63I4qGItdtTCWsH4AFJM75+cr3CjQCb+1I6RualDbAJ45tcPG1QC8qZCxevVqzZ/1g/n4UnMME4y3HzlzsGh+z1c1IV/YShwJeBaZ+aq3lN1S48L+Yf2IRKDyfepTn+rnWyXo2zIcgQAALsNJ9/qUYakAJZ20diHMQ/iZBsPTTeFIFnnKztUCiiurYLBw2WFIw2J4zchxDEAUTCVsCWDK78CE65LwHmPBy0kn7HNgd+28NP5vxAqG1TUed4B9cmexpOFlAADo58Y1gXCCsLqpm90K4YSXY1BN5btYKTs7zF8t75Nx+d3vfiennHKKHHXUUfKtb31LXwCCFoyA30YgAIB+m5Eu7A8LF2/VpvEApPE7AIth/GoBOPWePsfAT4u3bL9bj5hzg/UDrLKQNBuOZKxZ1ACCRlxC8ruxMzFq42ZKbbEo0l+Os5iBd73z1srt7dy5StPhVh63ln0bsYJhnPjO/QNrxjgTjlzILqmWfbdzG4AtzDXXHP1dyNS9nf2p5ViNqHwXK2VnAKH5bu4v5vdLX/qSfPKTn9SKHqeffnpL1MTVzve6666Tz3zmM0J0hrA8RtMvf/nL9WPM3ZlnnilXXnmlirc4B2oOE6rmRTRoy2cEAgC4fOa6ZWfKQ5JFjGZbu/D/Vho6L1bGrWUn2uSOjTUODA95kjBpXoNik/xuVyxBnEOI2YQhAYW15KXZ9jmrVq3ScGQzQLLJ4avp44SoyZ1jrLshdw7AAKtKlQxeCLiP7NJoBsC3qsJMTYNasREsJswqoJUXgnZYKjXST/MZnk+AVe47rgnEVY02k/cJcDfMLqztZz/7WXnKU56ixyAF5bLLLpNjjjmm0cM0/bmrrrpKWUjCzv/8z//8KABIv1/1qlfJqaeeqn3mWUEZOq692267reljBzvonhEIAGD3zJVve8oDlrdKG/y1kvVrpIxbpwfPVB+BmSO8VwsA86rPgCEbEBo1pF2xhMXcBqOID1g0WSzoLwDQz80ORwKsAateh8G9Pn8DVo2K2lQgWazCTKX9jNcvD9XOjzHG8gfGvRPl/ar1b6G/Vwv5NrLPys+g3qeM209/+lONRKAUZy6f+cxnygte8AI1fO5k4zqxGcCF+nLrrbfK05/+dJ1ffBCDtjxGIACAy2OeW3qWgAR7sW2VyIOT8KqMW0sHxNo5izkMAYsE6sjR0VHPWb96z4U3fbtOLgsW82cAoRHTENajz41Ub6i3T81szxgTouY6hJFqhuFpph/1fJawHNcF10M1sGrCkGbOOM925H3a52OMs2Enu6H8HH1vJORbzxyyLffKN7/5TfnoRz8qH/nIR/SL++uOO+5QBo6wPuHWTrZaAOCvfvUref7zn6/PBb+XQuzkWO5rxw4A4L42ox04n8MPP1wXX954n/WsZ+kXuVdeJoS3uoxbK4bNGA7D3MCi+TVUZoQlhK8QegComDu7Wkm9VRVaMZ4L7dPkU5ox9jtYhe1DNMFYk//ZCLO6WN5npf2MV9cbLy+E1anhy3Xsd/GPlyHfpa5jmPR3vetdQr7dJZdcIscff3zHX+4W6m81AAhI5ZnNy973vve9dt26wXF8MAIBAPTBJHR7F3hrvP766+W3v/2t3HDDDZp4jIKRHBi+eLjAcjQCCDtVxq2ZOTGsHzmKPFQZi3aH6+rtvwFSAD36DFCxw8b8DDNgg8JO5gPCshjvxFblU9Y7htW25z4hdw41ste5c5Vl7Ah9Yj9jz1dlmL9af3kxwNuT/ETGuFalerX9tvLv7Qj50n8Y5xNPPFHv7R/84Ae+Fk8sBQC5r1/96lfLxo0b5dprrw3Yv1ZenD7cdwAAfTgp3dwlw07cdNNNCggBhrfccst8ToxhCFkAq+Vo+amMWy1zwrnD+hHaY+EFSHnFwtRy/Ea2MSbUhNYXA1Kcl12xBGDIzwhLbIDRrrxGgBSMFMfjOvJrpRQzHwAphAF4VGKavVBd7EbmbqnP2LVyTRk72z8SxtTYzyy0H0K9gFX6Tjm3Tljo1Dsm7Qj5ci/A9r3vfe+Td7zjHXLuuef6nhFdDAByjbzmNa9RJfA111zTFUrueq+JYPulRyAAgMEV0tIRMKrUm2++WUMlgEL+D3tkQsawhKjRDKNk1GgsQuRI4TnXSbaplgEiRA3wY7HtBg83zonQHkxGI9UxOF/beoZwmDE8NqCwXsap2jgDRlisSFRvF5Cq1qdqf+caBqxyTZM7R5i2E832jzS5hIRKbVYX9pf7zOQnGr/Hai9qnTgf+5h2yJcxbpUlDS89H/jAB+Tyyy+Xiy66SF7ykpf4ntlnnBYCgAb83X///fKb3/xGS08GbfmNQAAAl9+cd/yMAQ/YDQAIYQhvvPFGZRqe8YxnKHi6+uqrlV1Cudaqh7lXgwDApXIDeV3kSHWDaAIwwoOfhZ7QPOXcmg1RG8NjEzYmJxQwYZewA/w0ehxCewApxptFnuvDz82kLvBSQOiUlxg/ASn6Bzg18wUoBOCQ38e9uG7dOmUq/c6utivkSyj8jW98o7LOl156qXqO+rkxLvSZRo725z//ec1R5BnF9Yg1DEKVn//8548yHOfvfs+j9fO4d1vfAgDYbTO2D/YXQIINwcc+9jEtmg4oQYzAg8uwhFgUsBg1CiBaMWy2VYrJ9WvFcbzcJws+pdwITRM+bVXZLlgZ1MU2S8jcwTIZhhD2qRooAqiQn8RiBiDBfqSRXFIvx7DavmyTZIQe3cCuwODefffdOrbMEQDCrkNtLGgA3n65B9sV8sXe5e1vf7sCQPz+/J7WwfVJPh+Ar7KdfPLJ+pxdDMDCBj7nOc+pdokHf99HRiAAgPvIRHbzacAWkRvI4kPZJMxLASmEiw1LSLjyiCOO0O0IGVNiqRlGqZnxsoUpWI6QO+f3t2ZTE5eE/k6ETxkzAIUNCAFKppKCKWFnh/pRJ3IdwFRh4Ms2fm8AbJhKgBLgz+9ggXnBuw5GGOX+QQcdNA/w7DrUxvjYgHgDCDuhDm9XyBcxFxYuF198sXzjG9/QfDm/gF+/3wdB/7pjBAIA2B3ztM/3Euf8l73sZQvm+hGSYoEyOYQojQEy5A0alTFMIQCh1Q9oQAkGybBb3WCQzIUDwAaUAK5g/fyQ0G9CkDYgJARprEzoNwwPKksAtt+tR+z8RBhsQqitvhabfSgY/0SAeS0Am3M0ZQfNvBl1uG1S3cqXIRPy5Rj0uVXCI1hn2DKuyR/96Ed6DQYtGIF9bQQCALivzegyOB9T69WojMkjJETIgmALS/BY82oRNpUmsB4hpMeC4Hdhig1KYHYOOOAAX4dPAdcwvShmWXhptpUJAN9vaQD0cWZmRgE2490N+Yn0GYsi+kwYnpeCRq7lyrKDgELGgrQCO/fTqzkjLYRcW1IBuJ5bkQrAOZGD/Ja3vEVfSL/yla/44oVpGTzWg1PswAgEALADgx4c0tsRMODMhIxhCFG3knhvvAiPPfbYhsUOABP2B/sA69ctOV0s8ABgFvhOqU/rmWnAHyFf+kr4lAW+smIJQMUuYdfJnDS7/BxCGkLr1XIa6xmPVmxrW9K0gqmEVTQ1ck3Y2IiBDEvI/NYD3toV8iXkfd5558lXv/pV+eIXvyhvetObPHuBbMVcBvsMRqDZEQgAYLMjGHzedyPAwoyxsW1OTYI7zIHJIQQYkgi91ELEfmAdCD/DJrJgNsKUtHOATBk3WDRyuqqdYzv7ttixWOAZY0K+S6mSK0uiATAAuAZYAAyX8rbz8lwJffJSQB+6pfwcLzJ4+9H3dlnS2GIgA+a5RpkzIwji+2Ih/naFfFHyA/i4Bgn5kl4StGAE9vURCADgvj7DwfmpdQisBIDQiEpMtRI7ZExY1wBCQr2YI7NYwUZ1Q31ZFksYNBZdQAkLq9+bnZ9ICL8eVbLJSbMrllR62wE0vM4ftMOnXButzHnzav64lrk2TE5lp5hK7kXCxDazCzBdqIwdYKwdIV8iBv/yL/8iRAn+8z//syvuG6+ui2A/y3sEAgC4vOd/WZ79UtVKjj76aAUhmL2eddZZ8s53vtNzAOH1oHM+mCM/8MAD8/lRnVrgaz03OxRJPhdsZbP5mpXedgBDAy7ssHGjgI0+M8aoZr3yT6x1vBrdDkDMywwMF+kLGKv7rTFHBhDyHVEK16/xI0RQg3Cp2euj8rwZG0K9559/vnzqU5/Se72e0LTfxjHoTzAC9Y5AAADrHbFg+31uBEwyO8bTH/3oR5X5I1zMoglDaJTGdrUSvwwCFikwO3gSwqDBePm9wQDRZ3Ku6DNh21Y1wIVtdgxLCsC3ASFK0mrggj4TPqXRZ78bUdNPzpU+A6YI+frd1Nn02fgRYkpsVMcAM1tpXIuH5FLXFCzuv/7rv2oYH2NnbKWCFozAchuBAAAutxkPznfBEUD598pXvlJOOukk+fSnP61hPcLEhIz5oloJjAHVSkwe4ZFHHqnbVQMPrRhyQCtWOOTO+bHSxELnbPe5U6IJUyPXgELsfJhDW7VqC0tMHigsGkwUQg+/s0R2n/fff/+uMM+2BTWVKl+YQOMhaZhC20PS5BPWyuxiOs99DiimnW/4YwAAIABJREFUpJvfqw214vkR7DMYAUYgAIDBdRCMgFsX95577lnQPZ8Bgq2666675gEheUOwQlQoMQxhu6qVYJECcwH7R64fTInfGwwlrB+MDn32y6JrhCU2S2jYJvLS+L0xovZLn5eaa7sKCUxlN/SZe4uSebt371ZQVq3PgEXuAdtDkjkiTGyzhJX2MwDJ//iP/5Czzz5bDZ4/9KEPdQzM81L5mc98Rl8yKclI9OHlL3/5/NRyjuecc44aUHMN8uJ5wQUX6L0TtGAEvBqBAAB6NZLBfpbVCLCYmGoliEv4YgGjWokBhF5XK7G9CEnmJw/Na4FDKyZxx44dap7Nwk7JPD8rqQ3bhPobEYK+Jbsl7AxLuJRqtRXjV+s+AUSEfAFCgL9aGbFa99+K7bxS+WI/Y+cRwuxynd15553zL2qwfTfddJP84Ac/kOOOO64jzL0Zw6uuukp+97vfadUj6vJWAkCiEFjSfOc739H7/Nxzz9WXT0Qx3WDp1IprJdin9yMQAEDvxzTY4zIcAYADZtR2+TpTrcRWGjdarcRUICEU1i2qZNgoFiwsefwqQKi8VE3VGQAgqvA1a9YoA2izTbCZRrVqcgk7CbaMMfqDDz7YkTJ/jdzuS4V8G9lf5WcMs3vJJZeorQsva4BEXs6e+9znzpeT9EMuJy8YNgBkbEjreM973qMsJY1rjpc+gOFpp53mxRAF+whGIAgBB9dAMAKtGAGzKJscQlOthBCOMacml7BatRL2gxiFEFm3VCBhPEmyZ9GFjQKwtqpkl5dzZ0QThIBh0BYrmVcZfiQVwIQfDSBsl+ACYIDhN30ifNoN1j/1hnwbnWPuHer4nnHGGfKud71LXv3qV8vvf/97Zd5I4Tj99NPl/e9/f6O79+xzlQAQIH/wwQfLHXfcIYcffvj8cahMAgsNkxm0YAS8GIGAAfRiFIN9BCNQZQQM42EDQlOtxDCEAEK7hiwhSGqSwv4BogCLfm8wL1ilwH5SiaUbauLa4pRGRBN2+JF8LVjaRCLxKIPqVtiYkHIA+CO0DsPaDekAXoV8q90HsLaAuyuuuEK++93vyote9KK/C/lyrfrBLqkSACI44yURFhom0DRUy9g9/eIXv6h2+sHfgxGoaQQCAFjTMAUbBSPg7QgAOljAbUBoqpXw8OdN/3vf+5689a1vlQ9/+MNdkc8F8AGQVGPQvB3J5vYGeIOppO+wfl4IagAWttExZtcADbtiSb3l0OyztMPU5FTaIKG50Wjdp1sd8rV7jmIblS+gG4sXamD7uS0GAHkBJAXBtFNPPVU9KP/3f//Xz6cT9K2LRiAAgF00WUFX990RMNVKSA4n4Rt7Fxg0gIQdMrarlfhlNGwj6m4pP8fYAcABf4RtYdBaJU4BsCFKsPMITTk0W7VaCxsFs4VanUbId7EwtV+uDfrRzpAvuXTveMc7tLIHKttO5mbWOgdBCLjWkQq283oEAgDo9YgG+wtGoMERQLH4kpe8RA477DC1fyCfC9XitddeqzlLt9xyi4oPbHNqWKtagEODXar6MXLPYP26yYjarj0MgwbL0k4vR1MOzS5hBxOJubHNElYCUuxCUFPjocjLgd/9CLl42hXy5frDxB3RB+XcXvWqV7V1TqveKEtssJgI5L3vfa988IMf1E9yfZACEohAmhnp4LOVIxAAwOCaCEbAJyMAQ/Q///M/8sY3vvHvFi9TreTmm29WyxnUxiS0k/dlq4wBj61isuxhskN6ACisKjoJRGudQhOmpq/11h6u9Rj1bmfm1vYiNMIS2EmAIWwlf0dEhBjI782+PgjBUu6vVSCbvDhCvqjO/+u//kuvRb83gDGuATSEHp///OfVg5QUBIywAXqUp7vwwgsV7H/yk5/UF8HABsbvM9td/QsAYHfNV9DbYATmRwBW4LbbbluyWgm+hAgSvFx8OS4CFnLbEKd0CyAhf4rQugEkfmbQGGMAH2UJ+SJkzDwCEAxL2AphiRe3lwn5jo2NKciuZuzc6DEBmeTDkRuHl96Xv/zlrih3x/kC5gB8le3kk09W7z9jBI1xtW0EzXg20/wifGnmHILPejcCAQD0biyDPQUj0NERYOFFSAI7CEtI2BimgQolsITHHnusPO1pT9NauI0CQjz9AH+AEPLmuiHHylQhgVVjAYVV83sDAKAAhyV6zGMeI6iTySM0LKEtLDHWM80IS7waDzvkS44ioLUVDbbvE5/4hFb2+MpXviIAp0av6Vb0z4/7hCk1ghju4254cfPjOO5LfQoA4L40mx08FywLMC1FxEBeGGGYb33rW1oZY7H2/e9/X/793/9dWRny3V74whfKZz/72ZYxBh0cno4cGtYIsAbbUFmtxISNjz76aM0rrLZ4Ai5RV1LVwxgkV/tMR0664qAsdAg9uqEKiem6USYDpgBRgO3KZoQldtgY0Mh9ZAAh/29XWL6dIV98MRF5wIxi8swYBW3xEeAF6H3ve5/6ieIs8NrXvlbTCr75zW92hT9nMLetG4EAALZubJfNnlmEyGMhpPG2t71Nk5XxgkMRiqHpQg12inJMX/jCF+Sf/umf1PMKyxPyXVDyBc37ETDVSrCegSVkDgiLbtiwYb58HcCQMKMN7hAfMJ+YOZOD1i6T42ZGgFAXgJVFzwg9mtlfuz6LgTbl3AB9hNdrzecEgAEYbaWxEZYYQMg+a91fPefbzpAvLzKAP541sH8AmaBVHwGEMV/72tf0OQubTK5xN9gHVT+zYItmRiAAgM2MXvBZHQF86nDX5+Fca4Pp44EEsDCNUA6MIKAkaK0fAWPfYkLGAENCjoA8gCC1jGEPr7nmGrnyyitbmsjv5dki9ABEIZCBHeoGwAo4pwIEYV/Yc5S+zTCszG1lxRIsZCh9Zmoa873ZCi1mrEkFaGXIF0D/uc99Tq1dEEi8/e1v7woVtJfXdb37svP9EIydcMIJGpLnpRuhGdecn/Ng6z3fYPv6RyAAgPWPWfCJihGAqXjBC16g1R8AEyxePKBJzl6s4XbPWzxsHy79hHNe85rXaF7Z17/+9WCMOzACgAbYPubw8ssvV5YAoQFMLos7lUoqq5V0oJuLHtLOm+smP0KAGoAVJg02tlX1aQkF2gwh4A1wbFvP1Jof2s6QLwponiUwuj/84Q81pzVoS4+ADf5g/WCDsZnivubn8847T1/wAhC4vK+kAAAu7/n35OwNi0CeCfU28aujkDkhGuwZFmuXXXaZnHLKKVrqjMXvpS99qfC7VoSpPDnRZbITmFhY3Xe+851aQ5X5NCHju+66S20qbHNqRAqdZhK4hsj1A0wh9Fgob86P00dOJXmaq1ev1tzKduXsMRbcc3bFEkQmsKY2Q7hQfmi7Qr70kWuPZwj2RqhjvajU4sfrwMs+Ac5hj0l/eP3rX6+iL3xFCfn+5je/UXsZ5viCCy4IhCBeDnwX7isAgF04aX7rMuGfI488UmD1TKPQ+q233qpGxgs1Fr3nPe95gtkp7CHM0wc+8AFVqSIeCVrnRoAFAqYP1bDdTLUScgcNILz99tt1EbG9CMm5aycghD3mehoZGdF8v26oiQtDg6cbABAGHQDY6Uaf7IolKI2Zc5shZF4x/iaU2MqQL8wUKSIf+9jH5Oyzz9ZnQzuvqU7PRbPHB+hhjfOyl71McyZtuybyAfEXfPazny3nn3++voAjDuHlHeFQ0JbPCAQAcPnMdcvOFGsB8ktQlZnGw5uSZoQbFmrkoPDgQcVnGsAC0FFZA7NlHQ923NQImIoWgHyTRwhjQwjTAEKAZKuqldggitSB0dHRps6nXR82Vil+z1E0whJEXnzh68eYA/4w/zbA0GvGHuBJCgnXEpU9ACrN5EO2a179chxC/aeddpqypRhMm4bAiN8xrzybL774YgWGmMvz/de//rVfTiHoR5tGIACAbRroffkwhBkQbtgiEJg9Hiw2K2iPAW+nLIDk9JgGkAA4ABoDhVr3XTGV1UoQlZB8TljTLl/nRbUSmCry5mCfAZjdIPRgfLi2Yf66wYzaXIF2LV9U+jSTS0jIHcBvlMZ8b8b7jzrHJ554ouadYhPlB2bUz3ci1xTNBsi8WCPk4rl85plnak419wr51jguUDKPl6Wf/exnattFLiD1k4O2/EYgAIDLb849P2NCvSzw55xzjgo5eHMnaZu8kze84Q16vI985CO6+H33u9/Vn8nnYRvc+00ImLxBwjwAx3obCwZGp5UNJoFcl4Xaj3/8YznrrLNUiYxdDYnRr3jFK+o9dLD9EiNA8jlhYsMQ8kIAoHjGM54xbz1TT7USo1xmzigvxrx3AzuEcTFhaoATodNuyWVDKAIoWyzkC9tk1zSG3QSM24CQn6vNEfN60UUXae1bcokJ+3ZDKL+TN78t9ODZBxBnHEmFQDHNGMLOkq/L8w2rLsYWAHjGGWdo17kXg3Hu5Cx29tgBAOzs+O8zR//5z3+uIA9TZ0QBPGhsFTB5KA8//LDaipiG2IC304ceekjDSc997nPV4gEVcb0Nw18eiKaRp0RYmlyY5zznOX+3O9hGws1UEwD08XbMA5MwNOAkaK0ZAVOtBHaQL1OthNxPFipCxqg8F1Kjwmwwr3wHRHVLvhKgDwaGBRpmphuqpxi2EuVtPbV8AbpGWMJ3wrmAEBsQMg42IKRCCxGDX/ziF/qCiCF8NcDYmqtz4b1yzZKLCCOJsILwN88z2DU/5CXy4n3ppZeqpQ995YWXsDkvXf+/vTMNlaru4/h50ZtIWzBapSgUoyLR9hftIpUWWQZZLyQNs1UkKzQ0CJICDW2x3dIWK1rMsmxfqCyKK7dNEyGpIBMrsbJe9OLh83+e/+U4z713Zs6dOXNmzucP4nJn5pzz+R9nvvNbvj++gI0ePTp08/PzcePGhS/riECXBBSA3gMdSYBoIqIUQdrbhwlu+KQRSYHExQcPH1QrVqzoSCZFvKg4rSRGCCkjQMzzoRUFISkqorV4EfJhR7dsO0QtEFF8ueEXqVMMeIskbPq6HxAR69evT6gZG+gs39hYkp5YAgP2ExNnajcXL14cvgAiYugwL9oiM4B3HhFKBDzzt3EvoI5uxowZLTndmPqlU59ULo1zw4YNCx2+1Pbx5YovVekoH5zxWUVkn3XWWS05bw9aLAIKwGLth2fTAAJ866WGkCjknDlzen1FPmiIOvArLt7kFy1a1GsquQGn5UvUQABBSHoXQRgnlhB1IYo0fvz4EK3tbVpJDS+d60NitJIUKdHKdplYUS3lO1CI7C9pYspDVq9eHSK6MGIkIZOBiMoj/JvlhZjl/LnvqEVMuxNQw0yUGrGV10qnfDkm3Ijo8R5H9oQvTzTXUVKxdOnSECHnSy4dvi+//HKChRP/znNcEoCAAtD7oOMIPPfcc6EAmqkKfTWTkIajDpHHxUXHId/seWN1tZ4AtaDUkDJaEIsKfP74kCOqG6eVxCghH9BFia7F+cPtZEuTNeWb5S5BHFMuwv9TnAPYS0oB4rxqvohhX1KUhVUKpSpvvvlmmNLS3d2djB07NnxZnDRpUi6nGb39OBiRUmr6iJoSHWd6D9FJ6pnx74zpXYz5hw4dGrxV+b8E83apPc0FqgdRAHoPdB4BmkoQeKRG+lr8nDfN9Bs4NT5Tp04NNWau1hLgA496QITADTfc0GOQHKeVpOcZIwxJf6XNqVuRbiW6hTil2YnUJrVi7bAamfKtdr3UAROlYh8RgOxb5UqLnWqvl8fPOR+ibNQn09FOJI60MIIqj5WO/JGxIH2OewJZjClTpoQRgrxn8X5GJJBFmpoUNQKbLyIuCfRGwAig90VHEaAbju7QF198sd8oging4m97LR2KfDjjTxebSogixWklaXNq7olmFuzTyECjB4txbqQH22HFlC8NAtT7DcTCpb/rZZ+o4Zw2bVpwCiB61g7WPVwTETeMqJlDTLSS+4saYzz2Jk+enMs2Yx3U1dUVvPqmT58ejPf5wsGkHr7oIlD5dxbWPBjx815IypcooEsCCkDvgY4nQLceI+jwJeyvUYAmED78+FCKi5nEpFVsAmnf2yQ9rQRRiCBs9rQSjMs3bNgQPmiJaDVTaDZqZ/JM+dIZTPMO0ah77703RACLkq6vhSfRZFKraa88omvU1rHveSw6jufPnx++3JIuj6bnRJyJCpIGZrY650rKl6jhmjVr2iYKnQdDj/H/BIwAeld0DAG+EWNBQ1qXup30Yp4o9jJ0ybHwo8MqgVQOaUaKpHmTHYgNTL1ehIxkoiOPQngWxdu8yTvsvnG3ZLVpJaSNaTzIMq0kbZDM89sl1ZZnypcRj1imEKVl6g8RtHZbQ4YMCenUq666qufUeR9hnBo2OY1elc0e8fWpg0XUYZdDdDsuOraJDFLDzJcQ6gPj+1yjz83X6ywCCsDO2s9SXw1F2tT/kS6hWDu98AJEoNH4ERfflBF91NBEI+gLL7wwM8N6vQhpcECA8GZOCg6LBlLX1LRl8ULMfOIlemKcVoJZeUwbV04rYU8wze1vxBn+dqR8SWM2M3Xa6K3JM+WL5ydNVfhx0kQxePDgRl9OLq+HgH377bdDZgEBu27dupDKpv6OusBGrXTtIw1sZCewpSKqx3vEzp07w3sYFi4Y6DODO714PuKxHSySGsXM1xkYAQXgwPj5bAn0SaCaF2HlE3nz5g2fNBkRS1c+BOK0kigI47QSIrE0oiAIqbmiPo4oM6lMUnGke9tlEkmeKV/uY77MUCO3YMGCMJe2HdLifd1tiGY6bDGL37p1a3AWIMuAcXwzTL1JLZNuxhoHCyTuT9K8GOtT0oBdDsITD0C+gKSFY9EaaPL5H+xRshJQAGYl5/Mk0A+BWrwIK5/OBw2WJ6TK8B5ztYYAAoZC/8ppJSNHjgwedoiAlStXJvy9HWrZ0infZo+hIwp+xRVXhKg6zRPRjLg1O9k+R43Cjagy9clR8JE658sH3ceM3OQLIuKP0hWEIu8T7Syu22eHOvNMFYCdua9eVYsJ1OJFWHmKfOunvoeaQFLCrmIQIOpHNyV2NNT58XesXphWQmqOGkL82DB7LpogzCvly06RSqcrllpW6uMQK66+CfTW5U5dMBFmfPsQ0RifkzonhU6pQVxEphHbPI7GNZcEshBQAGah5nMkUIVALV6E6ZcgZUbjCnVT2Ii4ikMAMYPdBgbFRLeI1qSnldA4hOUG+xZTxqSNMd1tlSDMM+WLIKZsgbnadPsygceoVP/3L//fmTlOOpdaZO4fvmDg5cd7AP9OFBDLHFLpzPKlNpiGj4kTJ4Z7kA7gylrn4vyv8UzagYACsB12yXNsKwK1ehHGi6JOii5DCs1J97iKRYBoH00fRx55ZK8nxocxe572IuTDmcenzanzmlaSZ8p3+/btoTsWqx3sk4iGuqoTIBVP/SCG4Zg6M2aOul/KP2icoZGDVC/1k9xf/EIIYjlE45oTPaoz9hHVCSgAqzPyERKoi0CtXoS8KOayiD9Sv6QRXe1PID2tJHoRxmkl0ZyaSGEzppXkmfKlThJPPxpimKJD/aqrfwJES4mO8oVh+PDhIbK3atWqXYTzJZdcknz88cchjY6gZjTl4sWLk/vvvz9EWgfiVOD+SCBNQAHo/SCBBhKox4uQNBDdhfh3ESmKa9CgQQm/sqx6vQjTx6Bon+5GfBFpcnA1hkAe00ryTvlip4Q58qxZs8I9TJOCq28CUfjFRyDunnjiiZDuve+++0LtZJweg3E2Vi80G/Fnuo4pOSBSaITVu6yRBBSAjaTpa5WeQD1ehH2JtVtvvTUhiphl1etFGI9BRAIRSjSH9JICMAv92p6DWNuxY0cwHf/ggw/C78xuxdeNCCH7QITwiCOOqKmWLs+UL13Q2BtRrkAXKh5/rapzrI126x+VNnYmhYugi4uaSbIA+H+OGTMm/DMRQrp/mTJC5Bj7ITqDbQxr/V522hkoADttR70eCaQI1OJFyAcURefUHuEzRl2XAjC/2yhOK6GLFkFI2hijaqLAeMEhBvlFF2ilyS97hUho9ixfaNCAQMqXyRhErUlhu/omkPbkYz4vIi4KwBkzZoQoHwvhx8QUROCIESPCv23evDl4TLok0EwCCsBm0vW1JdBCArV6ERJx/PLLL4PRLVMPFIAt3LQkCQX///zzTxCBCHJEYZxWEgUhv/Mzau+wHKKerFmROM6H9CNfJpiAwZix/qaktJZe8Y6+bdu25Prrr09+//33UGJB0xfRXho86PLl/yliD8/Eq6++OkRWu7q6QlQYYd+sfS0eKc8obwIKwLyJezwJ5ESgFi9Cis2JTFDQj8edAjCnzanzMIgERAFi8L333gu1Y0QDSRnTPESEME4raaRgQIjedNNNITqFFyL1oY18/ToxtMXDqe1l9CSTZLB4Qagj/hYuXBiEH9E9pniQ6qWjl8ch9pn0wT4TYWU2Ob+7JNBMAgrAZtL1tSXQQgLVvAjpGMW7bsmSJck555wTzlQB2MINq+HQ3d3dycUXXxzSrzfffHNI/yIwqCNkP4kixU5jfOZoLMgq2DAixpoEoUIEkHnZRVtY9MDh9ddfT0iz4ouHpQpm1K1YP/30UzJu3LgEmxfO47bbbksWLVoU/p+tXbu255TWrFkTuv+xCsI/EYsgnsseYg3jkkAeBBSAeVD2GBLImUAtXoRE/UaNGrVLByfdiiw+9L/77rtCfujnjLJQh8MseK+99kpuueWW/9s3avRiDSGikIYg9jc2lZA2rmVaCSnfV199NZk+fXqCJQkG2EVsQCCqxvWdccYZwYsQGxq6ZUmntlKsIkZp7rjgggtCpzTm4URssXJBHMZ19913h3F5RG+JGrokkDcBBWDexD2eBHIgUIsXIem9TZs27XI2pKSIQvBhRTSlGcPuc7j8jj1EurGgv4tEyCOG0ubUcVpJFIRECkkzpiOEpCCpCcWmBN+5Sy+9NHMEsdmbgLiihAGxW7Q1f/78kDaHJZFYvPsOPfTQkPKNET72kggro94Q2XT7uiSQJwEFYJ60PVZpCNDVh40D3+7zLpivx4uwckNMAXfmLYrY+OGHH0KEEMGEMIzTSmLKmKjZjTfeGKaeMJGir8knRSHE+VHmQOqU6zr44INDEwW1dK1emDcT+YM5Yprf6fzlfIneEsVlwTr+udXn7PHLR0ABWL4994pzIEAEDaNXfuVd01OPF2GzBGAWQ2q6j/lwJHJCeu+www4LhfPnnntuDjtWrkMgCLds2bJLyvjrr78Ovn7wz2pEnifFmJZm9jB1kTRS0Kn84IMPhshaqxfClC9UNFctX748eeCBB8LvdP7SWOOSQKsJKABbvQMevyMJ8IFEeo3Uzu67756ka+s68oIrLqpeQ2pSj6QmqeOaM2dOMnTo0OTHH38M6bGRI0eWAVlLrxFBGMfVFbHerzc4lCfQ+fzJJ5/0/Bi7lc8//3yXhotWgqVjm1Q1X2JIB5MKxmidkW7twrmV/Dx2cwkoAJvL11cvIQHEDGm1iRMnhjf/ylVrHVcnoatmSE10hIkIpM3zTpl3EucyXQs1dUQsH3nkkZ7Lpm6R7lq6g4uyaPYgKskXmwkTJvSMfCvK+Xke5SWgACzv3nvlTSJAbRXeejRinH/++cn3338fRmcxAgr3/96++SMK+UX3bV+rXYVjLYbUREiIjGBbggcafmk0IGDx4ZzZJt2obf6y3B9EidNNIDNnzkw+++yzXaKCrb5M5vlec801yUUXXRRqAF0SKAoBBWBRdsLz6BgCy5YtSx5//PFkxYoV4cMJny+EHQXfiCGGv2MR0Z+g60sQ0tnZSouLLJtUiyE1c28xyL3ssstCIT8img9NCufnzZuX5bA+p8MJkOol0o7lCnV10Uz5oYceCvdRkVZ6HnCRzstzKTcBBWC599+rbwIBvNOIZNHQwAcUf6dQnZQVv9OkgVdYnKXKfNA33ngj2EBgyLzPPvv0nFVaJCIoGcNFupTXTa9YY4ilR1bj3yagCC9ZzZCax2A5gy0N0dIY8bvrrrtCWpiOapcEeiOAX+Hs2bPDFwaahvj/VYQuYHdLAu1AQAHYDrvkObYNAdI9WL9g+Irgw6B2586dPedPFJD05rvvvhsexwcXheFECPHf42d0CGLSzAcZIhFBt2rVqp7IIa9ZbRUlXVyLITXXctppp4XaP1LlcSGSSQ1jqaEfYbUd9+cSkIAE6iOgAKyPl4+WQL8EiGCRjmJiAymqTz/9NJjVEt2i9o/xWkwuoDuYaB/RwV9++SV56qmnQgQD2xhSxjyOQvYDDzwwHI/RUghFapz23nvvnvQxQpFOQ46FWDzvvPOCsOxttSINVYshNedKgfzTTz8drjvWQWKlc+eddyZESF0SkIAEJNBYAgrAxvL01UpOAANdUrR0JtIBTOQKUUftH38mjcvYJ+qUiBZOnTo1zAvFNoa1bdu25JRTTgnWMV1dXQmijaYImkoQQkQI4+J5TBzAZxDRh3hifNsBBxwQJg6cffbZLd2NegypKebH2BfftOuuuy5ERqdMmZJg60EqPevK4kfI7Fa6STHvxcONbm5S79p2ZN0FnycBCRSRgAKwiLviObUtAZo7/v3332TlypXJ7bffnjz55JNhruqIESPCNRH1o8YNs10iXPyMppCjjz46/BzRQVRw2LBhwTSWKCBCEl89BsizSO8+//zzQRTyM4Qga7fddguPJ3WKgOHxCMa//vordNTympxTFDLNThPXa0i9du3aEOEkqslUB8TxQLuA6/UjJBLLcZcuXRrqLDdu3BhEKayJ2rokIAEJdAoBBWCn7KTXUQgC3377bfLrr7+GKB7TLEjbEgkbM2ZM8tFHHwWDWoTRSSedFMQYf0YsxsYPfk4KmTQwwgOTWzz06GqkI5ZFtIxJB7wuz6+cIUq0kbTz6aefHuoHmfBwzDHHhOcSWUt3EWOZgdEyojAtCPkzr086tmhNJQPZ6Gp+hNdee22yfv1l/SIgAAAKT0lEQVT65J133uk5DOl8OkyLOHN2ICx8rgQkUG4CCsBy779X3yQCUUxh24IlDOKPVO2VV17ZM9kCscf0C8TaySefHNK9RPSYEkDkiZo+uoOnTZsWIobHHntsOFvmnlLrx2QBxAnHIp1MvSHPoZYwvYgwMuMVoUdTxdy5c8OPSSkjDImy8XNeh/PEkiWdam4SotxfthY/wmeeeSaZPn16ENYnnHBCSKvT0DN58uReTb1zvwgPKAEJSKBBBBSADQLpy0gAArWkVeNjSM0iCL/44otQA/j333+HNCOWKEShWAgyph3QPRw7YVevXh0EINFBIomsP//8Mwyfp1t4jz32SKhjI5JIZy1pZ0arIRJ37NgRxCTrlVdeCWKQFDKG1aReiRryGBpN+DN1eGPHju05NhFEooXRwqaddr0WP0Ku55577ukR1qTz6bpesmRJO12q5yoBCUigKgEFYFVEPkAC2Qkg9ojskUatnGjBzxB2NI3QvEHkjY5eom80jrDeeuutEH3CJJkaP1KydPyeeOKJwTLlzDPP3OXkEIJ77rlnEIAYKbNoCuHv2NFwLKJcw4cPD1E/Gk0QnUQCqXt77LHHgpca3cePPvpoEJl06EZjXcTRs88+G4RpLWI3O7nGP7MWP8L3338/1GAyTgzGmzZtCql3LHli5LTxZ+YrSkACEsifgAIwf+YeseQEonB6+OGHQ3QNv0AW80JJ/yK4Jk2aFP6NVGQ0RMYKhkWjCDWF1Bki0ljR4oUIHUKSejWaGKhJpMEEoYcQ5FgISAQfr0G6GKsVxrAR6cK3j3M4/PDDw+vymN9++y3UKR5yyCGhI5loGGKRRo12WbX6EcKUqCoG1HHRyEMaHnHd36i+dmHheUpAAhKAgALQ+0ACLSCACCTSRPoX+xPEGT54pHFpACGKh6hDcCDgFi5cGGxdYmMGHcRYwCAWSSPHzl6ieQyf//DDD0OaFrEWfQVJZ5IOJt1LdPD4449PLr/88hAJjGLvqKOOShYsWBCOS8QSU+oXXnghNEVgqUKkko5iIoEIzHaJAtbqR0idJaIXURwX1j2kwhGAziVuwX8WDykBCTSFgAKwKVh9UQlUJ4DAQ6hRi0cqmAYNavsqp17gi4cNSaXBM0INIUad36mnnhq6e2n4IIJF4wkiMnYhU/eHqGPOLsbTpHkRNfjb8RiEXRxWj9hkETWbMGFCGGtHypeFofXgwYNDRDFGJKtfaWsfUY8fIUKRiCs+jTEFTGQUYUjq2yUBCUigUwgoADtlJ72OjiWAOTSWMtTtVS6EI35/jJajxo+uYqJ8pHoRPjR/ECXE3oSFPyBNJIg4UrsIwNGjR4dJJET7iHJRa7j//vsHwUijCo8hWskixYwQJSrY18SRom1EPX6EREmx56EGE09F6jER5fwbjTEDWbw2AhPWW7ZsCXWWWP1g2t1fapmubwT7N998kxx00EFhn+hUdklAAhIYCAEF4EDo+VwJtJBAtfQrfoEIwdgtzOMRkqSUsUQhqoiVzH777RcmbtDwgNAhoog1DeISCxTSwjH1TAMJk0xINTO/t9o5tBBP4Q4NW7gtW7YsMCX9TwqehpPo8Vh50owWZL9oQiHVz74QxSUtTcTWJQEJSCArAQVgVnI+TwIFIYA4Q4j1ZtqM9Uus5+N0iRKSLiaFO2/evBCRYiH0qBmkW7i3kWexyWTWrFnJV199FR6Hr6GrdgLjx48PkdXYuMMzEXGk2GPXd+Wr4dGItU+0BeLnRP+6u7uDqbhLAhKQQFYCCsCs5HyeBApOoK/o3IYNG5LXXnstOe6444IY5O90I9OAgijkefxiVaYmMZOmGQXhyLxiV+0E7rjjjmDDQ0oar0dEHNwR07Hru/LV2J9Ro0aFsYFxvfTSS8HjETFPtNYlAQlIIAsBBWAWaj5HAh1EYPv27WEmMU0kTCSJ6d7KS8QjD/FHSpm6QVd9BBDV1GPSYUw3MVFV0sKzZ8/u84UQitQJ8ry44E+tJ5NcqCN0SUACEshCQAGYhZrPkUAbE0DgsWrxtItikJF2iBCEC3Y11v7VfwNQP4nlDh6D1AAyeYXZxHQdY/bd20IAUieYFonUAdKA8/PPPwf7IJcEJCCBLAQUgFmo+RwJdBCBmPLtTxBSqzZo0KAgYGhK6CtK2EFYGn4p1Fgy6zlOaOEANIBgNE0avrdlCrjh2+ALSkAC/yOgAPRWkIAE+iVArRr1axhPMznElY3AkCFDguDDVzAuLHYYv7dx48ZeX5QmEHwimegSF88nemgTSLZ98FkSkMB/CSgAvRMkIIF+CeANiAH0vvvuK6kBEKCWj/nNjPwjBbxu3bowYg5D7jh5hFQv/oPLly8PR4o2MFjAYAWD6KMLWBuYAWyET5WABBSA3gMSkIAE8iLwxx9/JHPnzk3o4t26dWswdab7l87rOP0Fkbh58+aEhpu4MIKeOXNmjxE0UUGNoPPaNY8jgc4lYASwc/fWK5OABCQgAQlIQAK9ElAAemNIQAISkIAEJCCBkhFQAJZsw71cCUhAAhKQgAQkoAD0HpCABCQgAQlIQAIlI6AALNmGe7kSkIAEJCABCUhAAeg9IAEJSEACEpCABEpGQAFYsg33ciUgAQlIQAISkIAC0HtAAhKQgAQkIAEJlIyAArBkG+7lSkACEpCABCQgAQWg94AEJCABCUhAAhIoGQEFYMk23MuVgAQkIAEJSEACCkDvAQlIQAISkIAEJFAyAgrAkm24lysBCUhAAhKQgAQUgN4DEpCABCQgAQlIoGQEFIAl23AvVwISkIAEJCABCSgAvQckIAEJSEACEpBAyQgoAEu24V6uBCQgAQlIQAISUAB6D0hAAhKQgAQkIIGSEVAAlmzDvVwJSEACEpCABCSgAPQekIAEJCABCUhAAiUjoAAs2YZ7uRKQgAQkIAEJSEAB6D0gAQlIQAISkIAESkZAAViyDfdyJSABCUhAAhKQgALQe0ACEpCABCQgAQmUjIACsGQb7uVKQAISkIAEJCABBaD3gAQkIAEJSEACEigZAQVgyTbcy5WABCQgAQlIQAIKQO8BCUhAAhKQgAQkUDICCsCSbbiXKwEJSEACEpCABBSA3gMSkIAEJCABCUigZAQUgCXbcC9XAhKQgAQkIAEJKAC9ByQgAQlIQAISkEDJCCgAS7bhXq4EJCABCUhAAhJQAHoPSEACEpCABCQggZIRUACWbMO9XAlIQAISkIAEJKAA9B6QgAQkIAEJSEACJSOgACzZhnu5EpCABCQgAQlIQAHoPSABCUhAAhKQgARKRkABWLIN93IlIAEJSEACEpCAAtB7QAISkIAEJCABCZSMgAKwZBvu5UpAAhKQgAQkIAEFoPeABCQgAQlIQAISKBkBBWDJNtzLlYAEJCABCUhAAgpA7wEJSEACEpCABCRQMgIKwJJtuJcrAQlIQAISkIAEFIDeAxKQgAQkIAEJSKBkBBSAJdtwL1cCEpCABCQgAQkoAL0HJCABCUhAAhKQQMkIKABLtuFergQkIAEJSEACEvgPKa0TuaUOAokAAAAASUVORK5CYII=\" width=\"640\">"
      ],
      "text/plain": [
       "<IPython.core.display.HTML object>"
      ]
     },
     "metadata": {},
     "output_type": "display_data"
    },
    {
     "data": {
      "text/plain": [
       "Text(0.5,0,'log(Investment)')"
      ]
     },
     "execution_count": 82,
     "metadata": {},
     "output_type": "execute_result"
    }
   ],
   "source": [
    "from mpl_toolkits.mplot3d import Axes3D\n",
    "fig = plt.figure()\n",
    "ax = fig.add_subplot(111, projection='3d')\n",
    "ax.scatter3D(data.log_gnp, data.interest, data.log_invest)\n",
    "ax.plot_surface(xx,yy,zz)\n",
    "ax.plot_surface(xx,yy,np.array(ZZ_PI)+zz, color=\"r\", alpha = 0.5, label = \"PI\")\n",
    "ax.plot_surface(xx,yy,-np.array(ZZ_PI)+zz, color=\"r\", alpha = 0.5)\n",
    "ax.plot_surface(xx,yy,np.array(ZZ_IC)+zz, color=\"green\", alpha = 0.5, label = \"CI\")\n",
    "ax.plot_surface(xx,yy,-np.array(ZZ_IC)+zz, color=\"green\", alpha = 0.5)\n",
    "ax.set_xlabel('log(GNP)')\n",
    "ax.set_ylabel('Interest')\n",
    "ax.set_zlabel('log(Investment)')"
   ]
  },
  {
   "cell_type": "markdown",
   "metadata": {},
   "source": [
    "# Q13"
   ]
  },
  {
   "cell_type": "code",
   "execution_count": 83,
   "metadata": {},
   "outputs": [
    {
     "data": {
      "text/plain": [
       "LinearRegression(copy_X=True, fit_intercept=True, n_jobs=1, normalize=False)"
      ]
     },
     "execution_count": 83,
     "metadata": {},
     "output_type": "execute_result"
    }
   ],
   "source": [
    "lin_model_3d = lm.LinearRegression()\n",
    "lin_model_3d.fit(data[[\"log_gnp\",\"interest\"]],data[\"log_invest\"])"
   ]
  },
  {
   "cell_type": "code",
   "execution_count": 84,
   "metadata": {},
   "outputs": [
    {
     "data": {
      "text/plain": [
       "\"L'intercept du modèle scikit learn est de -2.18\""
      ]
     },
     "execution_count": 84,
     "metadata": {},
     "output_type": "execute_result"
    }
   ],
   "source": [
    "\"L'intercept du modèle scikit learn est de {:.2f}\".format(lin_model_3d.intercept_)"
   ]
  },
  {
   "cell_type": "code",
   "execution_count": 85,
   "metadata": {},
   "outputs": [
    {
     "data": {
      "text/plain": [
       "'Les coefficients de regression valent 1.05 et -6.53e-03 '"
      ]
     },
     "execution_count": 85,
     "metadata": {},
     "output_type": "execute_result"
    }
   ],
   "source": [
    "\"Les coefficients de regression valent {:.2f} et {:.2e} \".format(*lin_model_3d.coef_)"
   ]
  },
  {
   "cell_type": "code",
   "execution_count": 86,
   "metadata": {},
   "outputs": [
    {
     "data": {
      "text/plain": [
       "'La prédiction est égal à 5.02'"
      ]
     },
     "execution_count": 86,
     "metadata": {},
     "output_type": "execute_result"
    }
   ],
   "source": [
    "\"La prédiction est égal à {:.2f}\".format(*lin_model_3d.predict([[m.log(1000), 10]]))"
   ]
  },
  {
   "cell_type": "code",
   "execution_count": 87,
   "metadata": {},
   "outputs": [
    {
     "data": {
      "text/plain": [
       "'Le coefficient de détermination est quant à lui égal à 0.96'"
      ]
     },
     "execution_count": 87,
     "metadata": {},
     "output_type": "execute_result"
    }
   ],
   "source": [
    "\"Le coefficient de détermination est quant à lui égal à {:.2f}\".format(lin_model_3d.score(data[[\"log_gnp\",\"interest\"]],data[\"log_invest\"]))"
   ]
  },
  {
   "cell_type": "markdown",
   "metadata": {},
   "source": [
    "On a bien retrouvé les valeurs calculées aux questions précédentes."
   ]
  }
 ],
 "metadata": {
  "kernelspec": {
   "display_name": "Python 3",
   "language": "python",
   "name": "python3"
  },
  "language_info": {
   "codemirror_mode": {
    "name": "ipython",
    "version": 3
   },
   "file_extension": ".py",
   "mimetype": "text/x-python",
   "name": "python",
   "nbconvert_exporter": "python",
   "pygments_lexer": "ipython3",
   "version": "3.7.0"
  }
 },
 "nbformat": 4,
 "nbformat_minor": 2
}
