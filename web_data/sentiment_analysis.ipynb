{
 "cells": [
  {
   "cell_type": "markdown",
   "metadata": {},
   "source": [
    "# Objectif"
   ]
  },
  {
   "cell_type": "markdown",
   "metadata": {},
   "source": [
    "L’objectif de ce TP est d’analyser un corpus de tweets en fonction des opinions exprimées (positif/-\n",
    "négatif)."
   ]
  },
  {
   "cell_type": "markdown",
   "metadata": {},
   "source": [
    "# Import and load data"
   ]
  },
  {
   "cell_type": "code",
   "execution_count": 1,
   "metadata": {
    "ExecuteTime": {
     "end_time": "2019-06-21T15:51:19.032669Z",
     "start_time": "2019-06-21T15:51:05.475955Z"
    }
   },
   "outputs": [],
   "source": [
    "import pandas as pd\n",
    "import os\n",
    "import nltk as nltk\n",
    "import re\n",
    "from nltk.corpus import wordnet as wn"
   ]
  },
  {
   "cell_type": "code",
   "execution_count": 2,
   "metadata": {
    "ExecuteTime": {
     "end_time": "2019-06-21T15:51:20.823648Z",
     "start_time": "2019-06-21T15:51:20.376989Z"
    }
   },
   "outputs": [],
   "source": [
    "df = pd.read_csv('https://clavel.wp.imt.fr/files/2018/05/testdata.manual.2009.06.14.csv_.zip', compression='zip', header=None)"
   ]
  },
  {
   "cell_type": "code",
   "execution_count": 3,
   "metadata": {
    "ExecuteTime": {
     "end_time": "2019-06-21T15:51:20.858904Z",
     "start_time": "2019-06-21T15:51:20.855889Z"
    }
   },
   "outputs": [],
   "source": [
    "df.columns = ['polarite','id','date','requete','utilisateur','text']"
   ]
  },
  {
   "cell_type": "code",
   "execution_count": 4,
   "metadata": {
    "ExecuteTime": {
     "end_time": "2019-06-21T15:52:27.771759Z",
     "start_time": "2019-06-21T15:52:27.726182Z"
    }
   },
   "outputs": [
    {
     "data": {
      "text/html": [
       "<div>\n",
       "<style scoped>\n",
       "    .dataframe tbody tr th:only-of-type {\n",
       "        vertical-align: middle;\n",
       "    }\n",
       "\n",
       "    .dataframe tbody tr th {\n",
       "        vertical-align: top;\n",
       "    }\n",
       "\n",
       "    .dataframe thead th {\n",
       "        text-align: right;\n",
       "    }\n",
       "</style>\n",
       "<table border=\"1\" class=\"dataframe\">\n",
       "  <thead>\n",
       "    <tr style=\"text-align: right;\">\n",
       "      <th></th>\n",
       "      <th>polarite</th>\n",
       "      <th>id</th>\n",
       "      <th>date</th>\n",
       "      <th>requete</th>\n",
       "      <th>utilisateur</th>\n",
       "      <th>text</th>\n",
       "    </tr>\n",
       "  </thead>\n",
       "  <tbody>\n",
       "    <tr>\n",
       "      <th>0</th>\n",
       "      <td>4</td>\n",
       "      <td>3</td>\n",
       "      <td>Mon May 11 03:17:40 UTC 2009</td>\n",
       "      <td>kindle2</td>\n",
       "      <td>tpryan</td>\n",
       "      <td>@stellargirl I loooooooovvvvvveee my Kindle2. ...</td>\n",
       "    </tr>\n",
       "    <tr>\n",
       "      <th>1</th>\n",
       "      <td>4</td>\n",
       "      <td>4</td>\n",
       "      <td>Mon May 11 03:18:03 UTC 2009</td>\n",
       "      <td>kindle2</td>\n",
       "      <td>vcu451</td>\n",
       "      <td>Reading my kindle2...  Love it... Lee childs i...</td>\n",
       "    </tr>\n",
       "    <tr>\n",
       "      <th>2</th>\n",
       "      <td>4</td>\n",
       "      <td>5</td>\n",
       "      <td>Mon May 11 03:18:54 UTC 2009</td>\n",
       "      <td>kindle2</td>\n",
       "      <td>chadfu</td>\n",
       "      <td>Ok, first assesment of the #kindle2 ...it fuck...</td>\n",
       "    </tr>\n",
       "    <tr>\n",
       "      <th>3</th>\n",
       "      <td>4</td>\n",
       "      <td>6</td>\n",
       "      <td>Mon May 11 03:19:04 UTC 2009</td>\n",
       "      <td>kindle2</td>\n",
       "      <td>SIX15</td>\n",
       "      <td>@kenburbary You'll love your Kindle2. I've had...</td>\n",
       "    </tr>\n",
       "    <tr>\n",
       "      <th>4</th>\n",
       "      <td>4</td>\n",
       "      <td>7</td>\n",
       "      <td>Mon May 11 03:21:41 UTC 2009</td>\n",
       "      <td>kindle2</td>\n",
       "      <td>yamarama</td>\n",
       "      <td>@mikefish  Fair enough. But i have the Kindle2...</td>\n",
       "    </tr>\n",
       "    <tr>\n",
       "      <th>5</th>\n",
       "      <td>4</td>\n",
       "      <td>8</td>\n",
       "      <td>Mon May 11 03:22:00 UTC 2009</td>\n",
       "      <td>kindle2</td>\n",
       "      <td>GeorgeVHulme</td>\n",
       "      <td>@richardebaker no. it is too big. I'm quite ha...</td>\n",
       "    </tr>\n",
       "    <tr>\n",
       "      <th>6</th>\n",
       "      <td>0</td>\n",
       "      <td>9</td>\n",
       "      <td>Mon May 11 03:22:30 UTC 2009</td>\n",
       "      <td>aig</td>\n",
       "      <td>Seth937</td>\n",
       "      <td>Fuck this economy. I hate aig and their non lo...</td>\n",
       "    </tr>\n",
       "    <tr>\n",
       "      <th>7</th>\n",
       "      <td>4</td>\n",
       "      <td>10</td>\n",
       "      <td>Mon May 11 03:26:10 UTC 2009</td>\n",
       "      <td>jquery</td>\n",
       "      <td>dcostalis</td>\n",
       "      <td>Jquery is my new best friend.</td>\n",
       "    </tr>\n",
       "    <tr>\n",
       "      <th>8</th>\n",
       "      <td>4</td>\n",
       "      <td>11</td>\n",
       "      <td>Mon May 11 03:27:15 UTC 2009</td>\n",
       "      <td>twitter</td>\n",
       "      <td>PJ_King</td>\n",
       "      <td>Loves twitter</td>\n",
       "    </tr>\n",
       "    <tr>\n",
       "      <th>9</th>\n",
       "      <td>4</td>\n",
       "      <td>12</td>\n",
       "      <td>Mon May 11 03:29:20 UTC 2009</td>\n",
       "      <td>obama</td>\n",
       "      <td>mandanicole</td>\n",
       "      <td>how can you not love Obama? he makes jokes abo...</td>\n",
       "    </tr>\n",
       "  </tbody>\n",
       "</table>\n",
       "</div>"
      ],
      "text/plain": [
       "   polarite  id                          date  requete   utilisateur  \\\n",
       "0         4   3  Mon May 11 03:17:40 UTC 2009  kindle2        tpryan   \n",
       "1         4   4  Mon May 11 03:18:03 UTC 2009  kindle2        vcu451   \n",
       "2         4   5  Mon May 11 03:18:54 UTC 2009  kindle2        chadfu   \n",
       "3         4   6  Mon May 11 03:19:04 UTC 2009  kindle2         SIX15   \n",
       "4         4   7  Mon May 11 03:21:41 UTC 2009  kindle2      yamarama   \n",
       "5         4   8  Mon May 11 03:22:00 UTC 2009  kindle2  GeorgeVHulme   \n",
       "6         0   9  Mon May 11 03:22:30 UTC 2009      aig       Seth937   \n",
       "7         4  10  Mon May 11 03:26:10 UTC 2009   jquery     dcostalis   \n",
       "8         4  11  Mon May 11 03:27:15 UTC 2009  twitter       PJ_King   \n",
       "9         4  12  Mon May 11 03:29:20 UTC 2009    obama   mandanicole   \n",
       "\n",
       "                                                text  \n",
       "0  @stellargirl I loooooooovvvvvveee my Kindle2. ...  \n",
       "1  Reading my kindle2...  Love it... Lee childs i...  \n",
       "2  Ok, first assesment of the #kindle2 ...it fuck...  \n",
       "3  @kenburbary You'll love your Kindle2. I've had...  \n",
       "4  @mikefish  Fair enough. But i have the Kindle2...  \n",
       "5  @richardebaker no. it is too big. I'm quite ha...  \n",
       "6  Fuck this economy. I hate aig and their non lo...  \n",
       "7                      Jquery is my new best friend.  \n",
       "8                                      Loves twitter  \n",
       "9  how can you not love Obama? he makes jokes abo...  "
      ]
     },
     "execution_count": 4,
     "metadata": {},
     "output_type": "execute_result"
    }
   ],
   "source": [
    "df.head(10)"
   ]
  },
  {
   "cell_type": "code",
   "execution_count": 5,
   "metadata": {
    "ExecuteTime": {
     "end_time": "2019-06-21T15:52:34.100909Z",
     "start_time": "2019-06-21T15:52:33.947260Z"
    }
   },
   "outputs": [],
   "source": [
    "d = pd.read_csv('/home/b/gitMSBGD/web_data/Lexiques/SlangLookupTable.txt', sep='\\t', encoding='latin1', header=None, index_col=0).to_dict()[1]"
   ]
  },
  {
   "cell_type": "markdown",
   "metadata": {},
   "source": [
    "# .2 Prétraitements"
   ]
  },
  {
   "cell_type": "code",
   "execution_count": 6,
   "metadata": {
    "ExecuteTime": {
     "end_time": "2019-06-21T15:53:05.056746Z",
     "start_time": "2019-06-21T15:53:05.050987Z"
    }
   },
   "outputs": [],
   "source": [
    "def algo1(text):\n",
    "    text = re.sub(r\"http\\S+\", '', text, flags=re.MULTILINE)\n",
    "    counts = text.count('@'),text.count('#')\n",
    "    text = text.replace('@','').replace('#','')\n",
    "    words = nltk.word_tokenize(text)\n",
    "    return [word if word not in d.keys() else d[word] for word in words], counts"
   ]
  },
  {
   "cell_type": "code",
   "execution_count": 7,
   "metadata": {
    "ExecuteTime": {
     "end_time": "2019-06-21T15:53:05.949504Z",
     "start_time": "2019-06-21T15:53:05.540535Z"
    }
   },
   "outputs": [],
   "source": [
    "df['nb_@'] = df.text.apply(lambda x: algo1(x)[1][0])\n",
    "df['nb_#'] = df.text.apply(lambda x: algo1(x)[1][1])"
   ]
  },
  {
   "cell_type": "code",
   "execution_count": 8,
   "metadata": {
    "ExecuteTime": {
     "end_time": "2019-06-21T15:53:07.453116Z",
     "start_time": "2019-06-21T15:53:07.449720Z"
    }
   },
   "outputs": [
    {
     "name": "stdout",
     "output_type": "stream",
     "text": [
      "Il y a 128 @ et 52 # dans l'ensemble du corpus\n"
     ]
    }
   ],
   "source": [
    "print(\"Il y a {} @ et {} # dans l'ensemble du corpus\".format(df['nb_@'].sum(), df['nb_#'].sum()))"
   ]
  },
  {
   "cell_type": "markdown",
   "metadata": {},
   "source": [
    "# 3.3 Etiquetage grammatical"
   ]
  },
  {
   "cell_type": "code",
   "execution_count": 9,
   "metadata": {
    "ExecuteTime": {
     "end_time": "2019-06-21T15:53:12.816038Z",
     "start_time": "2019-06-21T15:53:12.813246Z"
    }
   },
   "outputs": [],
   "source": [
    "def algo2(tokens):\n",
    "    taggedData = nltk.pos_tag(tokens)\n",
    "    nb_vb = sum([x[1][:2]=='VB' for x in taggedData])\n",
    "    return taggedData, nb_vb"
   ]
  },
  {
   "cell_type": "code",
   "execution_count": 10,
   "metadata": {
    "ExecuteTime": {
     "end_time": "2019-06-21T15:53:34.674920Z",
     "start_time": "2019-06-21T15:53:33.942150Z"
    }
   },
   "outputs": [],
   "source": [
    "df['nb_vb'] = df.text.apply(lambda x : algo2(algo1(x)[0])[1])"
   ]
  },
  {
   "cell_type": "code",
   "execution_count": 12,
   "metadata": {
    "ExecuteTime": {
     "end_time": "2019-06-21T16:01:45.844134Z",
     "start_time": "2019-06-21T16:01:45.836446Z"
    }
   },
   "outputs": [
    {
     "name": "stdout",
     "output_type": "stream",
     "text": [
      "Il y a 1095 verbes dans l'ensemble du corpus\n"
     ]
    }
   ],
   "source": [
    "print(\"Il y a {} verbes dans l'ensemble du corpus\".format(df['nb_vb'].sum()))"
   ]
  },
  {
   "cell_type": "markdown",
   "metadata": {},
   "source": [
    "# 3.4 v1 "
   ]
  },
  {
   "cell_type": "code",
   "execution_count": 13,
   "metadata": {
    "ExecuteTime": {
     "end_time": "2019-06-21T15:56:19.595809Z",
     "start_time": "2019-06-21T15:56:19.592443Z"
    }
   },
   "outputs": [],
   "source": [
    "from nltk.corpus import sentiwordnet as swn"
   ]
  },
  {
   "cell_type": "code",
   "execution_count": 14,
   "metadata": {
    "ExecuteTime": {
     "end_time": "2019-06-21T15:56:26.138539Z",
     "start_time": "2019-06-21T15:56:20.811847Z"
    },
    "scrolled": false
   },
   "outputs": [
    {
     "name": "stdout",
     "output_type": "stream",
     "text": [
      "[nltk_data] Downloading package sentiwordnet to /home/b/nltk_data...\n",
      "[nltk_data]   Package sentiwordnet is already up-to-date!\n"
     ]
    },
    {
     "data": {
      "text/plain": [
       "True"
      ]
     },
     "execution_count": 14,
     "metadata": {},
     "output_type": "execute_result"
    }
   ],
   "source": [
    "nltk.download('sentiwordnet')"
   ]
  },
  {
   "cell_type": "markdown",
   "metadata": {},
   "source": [
    "On filtre uniquement les mots correspondant à des adjectifs, noms, adverbes et verbes"
   ]
  },
  {
   "cell_type": "code",
   "execution_count": 15,
   "metadata": {
    "ExecuteTime": {
     "end_time": "2019-06-21T15:57:21.445943Z",
     "start_time": "2019-06-21T15:57:21.442129Z"
    }
   },
   "outputs": [],
   "source": [
    "def f(taggedData):\n",
    "    return [x for x in taggedData if x[1][:2] in ['NN','JJ', 'RB','VB']]"
   ]
  },
  {
   "cell_type": "code",
   "execution_count": 16,
   "metadata": {
    "ExecuteTime": {
     "end_time": "2019-06-21T15:57:22.483628Z",
     "start_time": "2019-06-21T15:57:22.480725Z"
    }
   },
   "outputs": [],
   "source": [
    "def compute_sentiment(pos, neg):\n",
    "    if pos == neg:\n",
    "        return 2\n",
    "    elif pos>neg:\n",
    "        return 4\n",
    "    else:\n",
    "        return 0"
   ]
  },
  {
   "cell_type": "code",
   "execution_count": 17,
   "metadata": {
    "ExecuteTime": {
     "end_time": "2019-06-21T15:57:27.065037Z",
     "start_time": "2019-06-21T15:57:27.056778Z"
    }
   },
   "outputs": [],
   "source": [
    "def score1(taggedData):\n",
    "    synsets = [wn.synsets(tag[0]) for tag in taggedData]\n",
    "    neg = [swn.senti_synset(synset[0].name()).neg_score() if synset!=[] else 0 for synset in synsets]\n",
    "    pos = [swn.senti_synset(synset[0].name()).pos_score() if synset!=[] else 0 for synset in synsets]\n",
    "#     print(pos)\n",
    "    return sum(pos), sum(neg), compute_sentiment(sum(pos), sum(neg))"
   ]
  },
  {
   "cell_type": "code",
   "execution_count": 18,
   "metadata": {
    "ExecuteTime": {
     "end_time": "2019-06-21T15:57:28.209839Z",
     "start_time": "2019-06-21T15:57:28.205849Z"
    }
   },
   "outputs": [],
   "source": [
    "def v1(x):\n",
    "    return score1(f(algo2(algo1(x)[0])[0]))[2]"
   ]
  },
  {
   "cell_type": "code",
   "execution_count": 19,
   "metadata": {
    "ExecuteTime": {
     "end_time": "2019-06-21T15:57:41.890520Z",
     "start_time": "2019-06-21T15:57:30.063420Z"
    }
   },
   "outputs": [],
   "source": [
    "df['score1'] = df.text.apply(v1)"
   ]
  },
  {
   "cell_type": "code",
   "execution_count": 30,
   "metadata": {
    "ExecuteTime": {
     "end_time": "2019-06-21T16:01:45.844134Z",
     "start_time": "2019-06-21T16:01:45.836446Z"
    }
   },
   "outputs": [
    {
     "name": "stdout",
     "output_type": "stream",
     "text": [
      "Il y a 130 tweets postifs correctement détectés\n"
     ]
    }
   ],
   "source": [
    "print(\"Il y a {} tweets postifs correctement détectés\".format(np.sum(df[df.polarite==4].score1 == df[df.polarite==4].polarite)))"
   ]
  },
  {
   "cell_type": "code",
   "execution_count": 38,
   "metadata": {
    "ExecuteTime": {
     "end_time": "2019-06-19T20:12:45.102418Z",
     "start_time": "2019-06-19T20:12:45.097665Z"
    }
   },
   "outputs": [
    {
     "data": {
      "text/plain": [
       "0.5321285140562249"
      ]
     },
     "execution_count": 38,
     "metadata": {},
     "output_type": "execute_result"
    }
   ],
   "source": [
    "np.mean(df.score1 == df.polarite)"
   ]
  },
  {
   "cell_type": "markdown",
   "metadata": {},
   "source": [
    "# 3.5 v2 negation et modifieurs"
   ]
  },
  {
   "cell_type": "code",
   "execution_count": 23,
   "metadata": {
    "ExecuteTime": {
     "end_time": "2019-06-21T15:59:18.259524Z",
     "start_time": "2019-06-21T15:59:18.153737Z"
    }
   },
   "outputs": [],
   "source": [
    "neg_word_list = pd.read_csv('/home/b/gitMSBGD/web_data/Lexiques/NegatingWordList.txt', header=None)[0].values\n",
    "booster_word_list = pd.read_csv('/home/b/gitMSBGD/web_data/Lexiques/BoosterWordList.txt', header=None)"
   ]
  },
  {
   "cell_type": "code",
   "execution_count": 24,
   "metadata": {
    "ExecuteTime": {
     "end_time": "2019-06-21T15:59:19.266244Z",
     "start_time": "2019-06-21T15:59:19.262524Z"
    }
   },
   "outputs": [],
   "source": [
    "booster_dict = {x.split('\\t')[0]:x.split('\\t')[1] for x in booster_word_list[0].values}"
   ]
  },
  {
   "cell_type": "code",
   "execution_count": 25,
   "metadata": {
    "ExecuteTime": {
     "end_time": "2019-06-21T15:59:24.604404Z",
     "start_time": "2019-06-21T15:59:24.596615Z"
    }
   },
   "outputs": [],
   "source": [
    "neg_in_pos_tweet = 0\n",
    "def score2(taggedData):\n",
    "    global neg_in_pos_tweet\n",
    "    boost_idx = [idx+1 for idx, tag in enumerate(taggedData) if tag[0] in booster_dict.keys()]\n",
    "    neg_idx = [idx+1 for idx, tag in enumerate(taggedData) if tag[0] in neg_word_list]\n",
    "    synsets = [wn.synsets(tag[0]) for tag in taggedData]\n",
    "    neg = [swn.senti_synset(synset[0].name()).neg_score() if synset!=[] else 0 for synset in synsets]\n",
    "    pos = [swn.senti_synset(synset[0].name()).pos_score() if synset!=[] else 0 for synset in synsets]\n",
    "    neg = [neg[i]*2 if i in boost_idx else neg[i] for i in range(len(neg))]\n",
    "    pos = [pos[i]*2 if i in boost_idx else pos[i] for i in range(len(pos))]\n",
    "    neg = [pos[i] if i in neg_idx else neg[i] for i in range(len(neg))]\n",
    "    pos = [neg[i] if i in neg_idx else pos[i] for i in range(len(pos))]\n",
    "    sentiment = compute_sentiment(sum(pos), sum(neg))\n",
    "    if sentiment < 4:\n",
    "        neg_in_pos_tweet += len(neg_idx)\n",
    "    return sum(pos), sum(neg), sentiment"
   ]
  },
  {
   "cell_type": "code",
   "execution_count": 26,
   "metadata": {
    "ExecuteTime": {
     "end_time": "2019-06-21T15:59:27.265115Z",
     "start_time": "2019-06-21T15:59:27.261002Z"
    }
   },
   "outputs": [],
   "source": [
    "def v2(x):\n",
    "    return score2(f(algo2(algo1(x)[0])[0]))[2]"
   ]
  },
  {
   "cell_type": "code",
   "execution_count": 27,
   "metadata": {
    "ExecuteTime": {
     "end_time": "2019-06-21T15:59:29.887263Z",
     "start_time": "2019-06-21T15:59:29.325367Z"
    }
   },
   "outputs": [],
   "source": [
    "df['score2'] = df.text.apply(v2)"
   ]
  },
  {
   "cell_type": "code",
   "execution_count": 28,
   "metadata": {
    "ExecuteTime": {
     "end_time": "2019-06-21T16:01:45.844134Z",
     "start_time": "2019-06-21T16:01:45.836446Z"
    }
   },
   "outputs": [
    {
     "name": "stdout",
     "output_type": "stream",
     "text": [
      "Il y a 29 termes négatifs dans les tweets positifs\n"
     ]
    }
   ],
   "source": [
    "print(\"Il y a {} termes négatifs dans les tweets positifs\".format(neg_in_pos_tweet))"
   ]
  },
  {
   "cell_type": "code",
   "execution_count": 32,
   "metadata": {
    "ExecuteTime": {
     "end_time": "2019-06-21T16:05:09.803593Z",
     "start_time": "2019-06-21T16:05:09.788543Z"
    }
   },
   "outputs": [
    {
     "name": "stdout",
     "output_type": "stream",
     "text": [
      "Il y a 131 tweets positifs correctement détectés, 61 neutres et 77 négatifs\n"
     ]
    }
   ],
   "source": [
    "print('Il y a {} tweets positifs correctement détectés, {} neutres et {} négatifs'.format(np.sum(df[df.polarite==4].score2 == df[df.polarite==4].polarite),np.sum(df[df.polarite==2].score2 == df[df.polarite==2].polarite),np.sum(df[df.polarite==0].score2 == df[df.polarite==0].polarite)))"
   ]
  },
  {
   "cell_type": "code",
   "execution_count": 50,
   "metadata": {
    "ExecuteTime": {
     "end_time": "2019-06-19T20:15:17.215118Z",
     "start_time": "2019-06-19T20:15:17.210726Z"
    }
   },
   "outputs": [
    {
     "data": {
      "text/plain": [
       "269"
      ]
     },
     "execution_count": 50,
     "metadata": {},
     "output_type": "execute_result"
    }
   ],
   "source": [
    "np.sum(df.score2 == df.polarite)"
   ]
  },
  {
   "cell_type": "code",
   "execution_count": 51,
   "metadata": {
    "ExecuteTime": {
     "end_time": "2019-06-19T20:15:21.320231Z",
     "start_time": "2019-06-19T20:15:21.316640Z"
    }
   },
   "outputs": [
    {
     "data": {
      "text/plain": [
       "0.5401606425702812"
      ]
     },
     "execution_count": 51,
     "metadata": {},
     "output_type": "execute_result"
    }
   ],
   "source": [
    "np.mean(df.score2 == df.polarite)"
   ]
  },
  {
   "cell_type": "markdown",
   "metadata": {},
   "source": [
    "# 3.6 emoticons"
   ]
  },
  {
   "cell_type": "code",
   "execution_count": 33,
   "metadata": {
    "ExecuteTime": {
     "end_time": "2019-06-21T16:08:26.861252Z",
     "start_time": "2019-06-21T16:08:26.792991Z"
    }
   },
   "outputs": [],
   "source": [
    "emoticons = pd.read_csv('/home/b/gitMSBGD/web_data/Lexiques/EmoticonLookupTable.txt', sep='\\t', header=None, index_col=0).to_dict()[1]\n"
   ]
  },
  {
   "cell_type": "code",
   "execution_count": 34,
   "metadata": {
    "ExecuteTime": {
     "end_time": "2019-06-21T16:08:34.245644Z",
     "start_time": "2019-06-21T16:08:34.239574Z"
    }
   },
   "outputs": [],
   "source": [
    "from nltk.tokenize import TweetTokenizer\n",
    "tokenizer= TweetTokenizer()\n",
    "def algo1bis(text):\n",
    "    text = re.sub(r\"http\\S+\", '', text, flags=re.MULTILINE)\n",
    "    counts = text.count('@'),text.count('#')\n",
    "    text = text.replace('@','').replace('#','')\n",
    "    words = tokenizer.tokenize(text)\n",
    "    return [word if word not in d.keys() else d[word] for word in words], counts"
   ]
  },
  {
   "cell_type": "code",
   "execution_count": 35,
   "metadata": {
    "ExecuteTime": {
     "end_time": "2019-06-21T16:08:37.181834Z",
     "start_time": "2019-06-21T16:08:37.173029Z"
    }
   },
   "outputs": [],
   "source": [
    "emo_count = 0\n",
    "def score3(taggedData):\n",
    "    global emo_count\n",
    "    emo = [emoticons[tag[0]] for idx, tag in enumerate(taggedData) if tag[0] in emoticons.keys()]\n",
    "#     print(emo)\n",
    "    emo_count += len(emo)\n",
    "    boost_idx = [idx+1 for idx, tag in enumerate(taggedData) if tag[0] in booster_dict.keys()]\n",
    "    neg_idx = [idx+1 for idx, tag in enumerate(taggedData) if tag[0] in neg_word_list]\n",
    "    synsets = [wn.synsets(tag[0]) for tag in taggedData]\n",
    "    neg = [swn.senti_synset(synset[0].name()).neg_score() if synset!=[] else 0 for synset in synsets]\n",
    "    pos = [swn.senti_synset(synset[0].name()).pos_score() if synset!=[] else 0 for synset in synsets]\n",
    "#     print(pos)\n",
    "    neg = [neg[i]*2 if i in boost_idx else neg[i] for i in range(len(neg))]\n",
    "    pos = [pos[i]*2 if i in boost_idx else pos[i] for i in range(len(pos))]\n",
    "#     print(pos)\n",
    "    neg = [pos[i] if i in neg_idx else neg[i] for i in range(len(neg))]\n",
    "    pos = [neg[i] if i in neg_idx else pos[i] for i in range(len(pos))]\n",
    "    pos, neg = sum(pos)+sum([x>0 for x in emo]), sum(neg)+sum([x<0 for x in emo])\n",
    "    return pos, neg, compute_sentiment(pos, neg)"
   ]
  },
  {
   "cell_type": "code",
   "execution_count": 37,
   "metadata": {
    "ExecuteTime": {
     "end_time": "2019-06-21T16:13:50.918581Z",
     "start_time": "2019-06-21T16:13:50.913731Z"
    }
   },
   "outputs": [],
   "source": [
    "def v3(x):\n",
    "    return score3(f(algo2(algo1bis(x)[0])[0]))[2]"
   ]
  },
  {
   "cell_type": "code",
   "execution_count": 38,
   "metadata": {
    "ExecuteTime": {
     "end_time": "2019-06-21T16:13:53.993750Z",
     "start_time": "2019-06-21T16:13:53.445823Z"
    }
   },
   "outputs": [],
   "source": [
    "df['score3'] = df.text.apply(v3)"
   ]
  },
  {
   "cell_type": "code",
   "execution_count": 40,
   "metadata": {
    "ExecuteTime": {
     "end_time": "2019-06-21T16:14:37.651358Z",
     "start_time": "2019-06-21T16:14:37.648263Z"
    }
   },
   "outputs": [
    {
     "name": "stdout",
     "output_type": "stream",
     "text": [
      "Il y a 56 emoticons présents dans le corpus\n"
     ]
    }
   ],
   "source": [
    "print('Il y a {} emoticons présents dans le corpus'.format(emo_count))"
   ]
  },
  {
   "cell_type": "code",
   "execution_count": 41,
   "metadata": {
    "ExecuteTime": {
     "end_time": "2019-06-21T16:15:46.089097Z",
     "start_time": "2019-06-21T16:15:46.078577Z"
    }
   },
   "outputs": [
    {
     "name": "stdout",
     "output_type": "stream",
     "text": [
      "Il y a 138 tweets positifs correctement détectés, 62 neutres et 84 négatifs\n"
     ]
    }
   ],
   "source": [
    "print('Il y a {} tweets positifs correctement détectés, {} neutres et {} négatifs'.format(np.sum(df[df.polarite==4].score3 == df[df.polarite==4].polarite),np.sum(df[df.polarite==2].score3 == df[df.polarite==2].polarite),np.sum(df[df.polarite==0].score3 == df[df.polarite==0].polarite)))"
   ]
  },
  {
   "cell_type": "code",
   "execution_count": 59,
   "metadata": {
    "ExecuteTime": {
     "end_time": "2019-06-19T20:19:59.888844Z",
     "start_time": "2019-06-19T20:19:59.884460Z"
    }
   },
   "outputs": [
    {
     "data": {
      "text/plain": [
       "284"
      ]
     },
     "execution_count": 59,
     "metadata": {},
     "output_type": "execute_result"
    }
   ],
   "source": [
    "np.sum(df.score3 == df.polarite)"
   ]
  },
  {
   "cell_type": "code",
   "execution_count": 60,
   "metadata": {
    "ExecuteTime": {
     "end_time": "2019-06-19T20:20:49.811840Z",
     "start_time": "2019-06-19T20:20:49.807316Z"
    }
   },
   "outputs": [
    {
     "data": {
      "text/plain": [
       "0.570281124497992"
      ]
     },
     "execution_count": 60,
     "metadata": {},
     "output_type": "execute_result"
    }
   ],
   "source": [
    "np.mean(df.score3 == df.polarite)"
   ]
  },
  {
   "cell_type": "code",
   "execution_count": 42,
   "metadata": {
    "ExecuteTime": {
     "end_time": "2019-06-21T16:16:11.235458Z",
     "start_time": "2019-06-21T16:16:11.232797Z"
    }
   },
   "outputs": [],
   "source": [
    "from sklearn.metrics import confusion_matrix"
   ]
  },
  {
   "cell_type": "code",
   "execution_count": 44,
   "metadata": {
    "ExecuteTime": {
     "end_time": "2019-06-21T16:16:48.699896Z",
     "start_time": "2019-06-21T16:16:47.966322Z"
    }
   },
   "outputs": [
    {
     "data": {
      "text/plain": [
       "<matplotlib.axes._subplots.AxesSubplot at 0x7f5ad56f8710>"
      ]
     },
     "execution_count": 44,
     "metadata": {},
     "output_type": "execute_result"
    },
    {
     "data": {
      "image/png": "[encoded data removed]",
      "text/plain": [
       "<Figure size 720x504 with 2 Axes>"
      ]
     },
     "metadata": {
      "needs_background": "light"
     },
     "output_type": "display_data"
    }
   ],
   "source": [
    "import seaborn as sn\n",
    "import pandas as pd\n",
    "import matplotlib.pyplot as plt\n",
    "labels=['neg','neutre','pos']\n",
    "cm = confusion_matrix(df.polarite, df.score3)\n",
    "df_cm = pd.DataFrame(cm, labels,\n",
    "                  ['pred '+x for x in labels])\n",
    "plt.figure(figsize = (10,7))\n",
    "sn.set(font_scale=1.4)#for label size\n",
    "sn.heatmap(df_cm, annot=True,annot_kws={\"size\": 12}, fmt='.0f')# font size"
   ]
  },
  {
   "cell_type": "markdown",
   "metadata": {},
   "source": [
    "# V4"
   ]
  },
  {
   "cell_type": "markdown",
   "metadata": {},
   "source": [
    "J'ai d'abord commencé par traiter le cas des lettres répétées: je me suis rendu qu'un mot comme loooooovvvve n'etait pas reconnu par nltk. J'ai donc décidé de remplacer toutes répétitions de 3 lettres ou plus par une seule."
   ]
  },
  {
   "cell_type": "code",
   "execution_count": 45,
   "metadata": {
    "ExecuteTime": {
     "end_time": "2019-06-21T16:19:40.066574Z",
     "start_time": "2019-06-21T16:19:40.063428Z"
    }
   },
   "outputs": [],
   "source": [
    "def delete_cons_car(text):\n",
    "    found = re.findall(r'((\\w)\\2{2,})', text)\n",
    "#     print(found)\n",
    "    for x in found:\n",
    "        text = text.replace(x[0],x[1])\n",
    "    return text"
   ]
  },
  {
   "cell_type": "code",
   "execution_count": 46,
   "metadata": {
    "ExecuteTime": {
     "end_time": "2019-06-21T16:19:49.566426Z",
     "start_time": "2019-06-21T16:19:49.562509Z"
    }
   },
   "outputs": [],
   "source": [
    "def algo1ter(text):\n",
    "    text = re.sub(r\"http\\S+\", '', text, flags=re.MULTILINE)\n",
    "    counts = text.count('@'),text.count('#')\n",
    "    text = text.replace('@','').replace('#','')\n",
    "    text = delete_cons_car(text)\n",
    "    words = tokenizer.tokenize(text)\n",
    "    return [word if word not in d.keys() else d[word] for word in words], counts"
   ]
  },
  {
   "cell_type": "code",
   "execution_count": 47,
   "metadata": {
    "ExecuteTime": {
     "end_time": "2019-06-21T16:20:45.475730Z",
     "start_time": "2019-06-21T16:20:45.473087Z"
    }
   },
   "outputs": [],
   "source": [
    "def v4(text):\n",
    "    return score3(f(algo2(algo1ter(text)[0])[0]))[2]"
   ]
  },
  {
   "cell_type": "code",
   "execution_count": 48,
   "metadata": {
    "ExecuteTime": {
     "end_time": "2019-06-21T16:20:47.083969Z",
     "start_time": "2019-06-21T16:20:46.580834Z"
    }
   },
   "outputs": [],
   "source": [
    "df['score4'] = df.text.apply(v4)"
   ]
  },
  {
   "cell_type": "code",
   "execution_count": 49,
   "metadata": {
    "ExecuteTime": {
     "end_time": "2019-06-21T16:20:48.246303Z",
     "start_time": "2019-06-21T16:20:48.242146Z"
    }
   },
   "outputs": [
    {
     "data": {
      "text/plain": [
       "0.5742971887550201"
      ]
     },
     "execution_count": 49,
     "metadata": {},
     "output_type": "execute_result"
    }
   ],
   "source": [
    "np.mean(df.score4 == df.polarite)"
   ]
  },
  {
   "cell_type": "code",
   "execution_count": 50,
   "metadata": {
    "ExecuteTime": {
     "end_time": "2019-06-21T16:20:52.589146Z",
     "start_time": "2019-06-21T16:20:52.583671Z"
    }
   },
   "outputs": [
    {
     "data": {
      "text/plain": [
       "286"
      ]
     },
     "execution_count": 50,
     "metadata": {},
     "output_type": "execute_result"
    }
   ],
   "source": [
    "np.sum(df.score4 == df.polarite)"
   ]
  },
  {
   "cell_type": "markdown",
   "metadata": {},
   "source": [
    "Cela me permet de correctement détecté 2 tweets supplémentaires. J'ai essayé d'autres choses comme gardé uniquement le score de l'emoticon s'il y en a une dans le tweet, de comparer le nombre de mots avec un score négatifs avec le nombre de mots ayant un score positif mais cela n'a pas permis d'améliorer, tout comme l'ajout du stemming. J'ai ensuite essyé d'entrainer un modèle après avoir appliqué une TfidfVectorizer:"
   ]
  },
  {
   "cell_type": "code",
   "execution_count": 51,
   "metadata": {
    "ExecuteTime": {
     "end_time": "2019-06-21T16:25:59.262761Z",
     "start_time": "2019-06-21T16:25:59.259311Z"
    }
   },
   "outputs": [],
   "source": [
    "from sklearn.feature_extraction.text import TfidfVectorizer"
   ]
  },
  {
   "cell_type": "code",
   "execution_count": 52,
   "metadata": {
    "ExecuteTime": {
     "end_time": "2019-06-21T16:25:59.795612Z",
     "start_time": "2019-06-21T16:25:59.792222Z"
    }
   },
   "outputs": [],
   "source": [
    "from sklearn.model_selection import train_test_split"
   ]
  },
  {
   "cell_type": "code",
   "execution_count": 54,
   "metadata": {
    "ExecuteTime": {
     "end_time": "2019-06-21T16:27:45.640228Z",
     "start_time": "2019-06-21T16:27:45.590590Z"
    }
   },
   "outputs": [],
   "source": [
    "X_train, X_test, y_train, y_test = train_test_split(df.text.values, df.polarite.values, test_size=0.2)"
   ]
  },
  {
   "cell_type": "code",
   "execution_count": 67,
   "metadata": {
    "ExecuteTime": {
     "end_time": "2019-06-21T17:19:42.443511Z",
     "start_time": "2019-06-21T17:19:42.419899Z"
    }
   },
   "outputs": [],
   "source": [
    "vectorizer = TfidfVectorizer()\n",
    "tf_idf_train = vectorizer.fit_transform(X_train)\n",
    "tf_idf_test = vectorizer.transform(X_test)"
   ]
  },
  {
   "cell_type": "code",
   "execution_count": 68,
   "metadata": {
    "ExecuteTime": {
     "end_time": "2019-06-21T17:19:42.774255Z",
     "start_time": "2019-06-21T17:19:42.745090Z"
    }
   },
   "outputs": [],
   "source": [
    "tf_train = vectorizer.fit_transform(X_train)\n",
    "tf_test = vectorizer.transform(X_test)"
   ]
  },
  {
   "cell_type": "code",
   "execution_count": 57,
   "metadata": {
    "ExecuteTime": {
     "end_time": "2019-06-21T16:28:06.645037Z",
     "start_time": "2019-06-21T16:28:06.641575Z"
    }
   },
   "outputs": [],
   "source": [
    "from sklearn.linear_model import LogisticRegression"
   ]
  },
  {
   "cell_type": "code",
   "execution_count": 70,
   "metadata": {
    "ExecuteTime": {
     "end_time": "2019-06-21T17:20:11.670313Z",
     "start_time": "2019-06-21T17:20:11.659714Z"
    }
   },
   "outputs": [
    {
     "data": {
      "text/plain": [
       "0.7"
      ]
     },
     "execution_count": 70,
     "metadata": {},
     "output_type": "execute_result"
    }
   ],
   "source": [
    "model = LogisticRegression()\n",
    "model.fit(tf_idf_train, y_train)\n",
    "prediction = model.predict(tf_idf_test)\n",
    "np.mean(prediction==y_test)"
   ]
  },
  {
   "cell_type": "markdown",
   "metadata": {},
   "source": [
    "Ce qui permet d'ameliorer la prediction de plus de 10%."
   ]
  }
 ],
 "metadata": {
  "kernelspec": {
   "display_name": "Python 3",
   "language": "python",
   "name": "python3"
  },
  "language_info": {
   "codemirror_mode": {
    "name": "ipython",
    "version": 3
   },
   "file_extension": ".py",
   "mimetype": "text/x-python",
   "name": "python",
   "nbconvert_exporter": "python",
   "pygments_lexer": "ipython3",
   "version": "3.7.1"
  },
  "toc": {
   "base_numbering": 1,
   "nav_menu": {},
   "number_sections": true,
   "sideBar": true,
   "skip_h1_title": false,
   "title_cell": "Table of Contents",
   "title_sidebar": "Contents",
   "toc_cell": false,
   "toc_position": {
    "height": "calc(100% - 180px)",
    "left": "10px",
    "top": "150px",
    "width": "255px"
   },
   "toc_section_display": true,
   "toc_window_display": true
  },
  "varInspector": {
   "cols": {
    "lenName": 16,
    "lenType": 16,
    "lenVar": 40
   },
   "kernels_config": {
    "python": {
     "delete_cmd_postfix": "",
     "delete_cmd_prefix": "del ",
     "library": "var_list.py",
     "varRefreshCmd": "print(var_dic_list())"
    },
    "r": {
     "delete_cmd_postfix": ") ",
     "delete_cmd_prefix": "rm(",
     "library": "var_list.r",
     "varRefreshCmd": "cat(var_dic_list()) "
    }
   },
   "types_to_exclude": [
    "module",
    "function",
    "builtin_function_or_method",
    "instance",
    "_Feature"
   ],
   "window_display": false
  }
 },
 "nbformat": 4,
 "nbformat_minor": 2
}
